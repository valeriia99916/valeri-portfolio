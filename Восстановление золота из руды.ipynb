{
 "cells": [
  {
   "cell_type": "markdown",
   "metadata": {},
   "source": [
    "# Восстановление золота из руды"
   ]
  },
  {
   "cell_type": "markdown",
   "metadata": {},
   "source": [
    "Подготовьте прототип модели машинного обучения для компании, которая разрабатывает решения для эффективной работы промышленных предприятий.\n",
    "\n",
    "Модель должна предсказать коэффициент восстановления золота из золотосодержащей руды. Используйте данные с параметрами добычи и очистки. \n",
    "\n",
    "Модель поможет оптимизировать производство, чтобы не запускать предприятие с убыточными характеристиками.\n",
    "\n",
    "Вам нужно:\n",
    "\n",
    "1. Подготовить данные;\n",
    "2. Провести исследовательский анализ данных;\n",
    "3. Построить и обучить модель."
   ]
  },
  {
   "cell_type": "markdown",
   "metadata": {},
   "source": [
    "## Подготовка данных"
   ]
  },
  {
   "cell_type": "code",
   "execution_count": 1,
   "metadata": {},
   "outputs": [],
   "source": [
    "import pandas as pd\n",
    "import numpy as np\n",
    "import matplotlib.pyplot as plt\n",
    "import seaborn as sns\n",
    "\n",
    "from sklearn.metrics import mean_absolute_error\n",
    "from sklearn.metrics import make_scorer\n",
    "\n",
    "from sklearn.pipeline import  make_pipeline\n",
    "from sklearn.preprocessing import StandardScaler\n",
    "\n",
    "from sklearn.model_selection import GridSearchCV\n",
    "from sklearn.ensemble import RandomForestRegressor\n",
    "from sklearn.tree import DecisionTreeRegressor\n",
    "from sklearn.dummy import DummyRegressor\n",
    "\n",
    "import warnings\n",
    "warnings.simplefilter(action='ignore')"
   ]
  },
  {
   "cell_type": "code",
   "execution_count": 2,
   "metadata": {
    "scrolled": false
   },
   "outputs": [
    {
     "data": {
      "text/html": [
       "<div>\n",
       "<style scoped>\n",
       "    .dataframe tbody tr th:only-of-type {\n",
       "        vertical-align: middle;\n",
       "    }\n",
       "\n",
       "    .dataframe tbody tr th {\n",
       "        vertical-align: top;\n",
       "    }\n",
       "\n",
       "    .dataframe thead th {\n",
       "        text-align: right;\n",
       "    }\n",
       "</style>\n",
       "<table border=\"1\" class=\"dataframe\">\n",
       "  <thead>\n",
       "    <tr style=\"text-align: right;\">\n",
       "      <th></th>\n",
       "      <th>date</th>\n",
       "      <th>final.output.concentrate_ag</th>\n",
       "      <th>final.output.concentrate_pb</th>\n",
       "      <th>final.output.concentrate_sol</th>\n",
       "      <th>final.output.concentrate_au</th>\n",
       "      <th>final.output.recovery</th>\n",
       "      <th>final.output.tail_ag</th>\n",
       "      <th>final.output.tail_pb</th>\n",
       "      <th>final.output.tail_sol</th>\n",
       "      <th>final.output.tail_au</th>\n",
       "      <th>...</th>\n",
       "      <th>secondary_cleaner.state.floatbank4_a_air</th>\n",
       "      <th>secondary_cleaner.state.floatbank4_a_level</th>\n",
       "      <th>secondary_cleaner.state.floatbank4_b_air</th>\n",
       "      <th>secondary_cleaner.state.floatbank4_b_level</th>\n",
       "      <th>secondary_cleaner.state.floatbank5_a_air</th>\n",
       "      <th>secondary_cleaner.state.floatbank5_a_level</th>\n",
       "      <th>secondary_cleaner.state.floatbank5_b_air</th>\n",
       "      <th>secondary_cleaner.state.floatbank5_b_level</th>\n",
       "      <th>secondary_cleaner.state.floatbank6_a_air</th>\n",
       "      <th>secondary_cleaner.state.floatbank6_a_level</th>\n",
       "    </tr>\n",
       "  </thead>\n",
       "  <tbody>\n",
       "    <tr>\n",
       "      <th>0</th>\n",
       "      <td>2016-01-15 00:00:00</td>\n",
       "      <td>6.055403</td>\n",
       "      <td>9.889648</td>\n",
       "      <td>5.507324</td>\n",
       "      <td>42.192020</td>\n",
       "      <td>70.541216</td>\n",
       "      <td>10.411962</td>\n",
       "      <td>0.895447</td>\n",
       "      <td>16.904297</td>\n",
       "      <td>2.143149</td>\n",
       "      <td>...</td>\n",
       "      <td>14.016835</td>\n",
       "      <td>-502.488007</td>\n",
       "      <td>12.099931</td>\n",
       "      <td>-504.715942</td>\n",
       "      <td>9.925633</td>\n",
       "      <td>-498.310211</td>\n",
       "      <td>8.079666</td>\n",
       "      <td>-500.470978</td>\n",
       "      <td>14.151341</td>\n",
       "      <td>-605.841980</td>\n",
       "    </tr>\n",
       "    <tr>\n",
       "      <th>1</th>\n",
       "      <td>2016-01-15 01:00:00</td>\n",
       "      <td>6.029369</td>\n",
       "      <td>9.968944</td>\n",
       "      <td>5.257781</td>\n",
       "      <td>42.701629</td>\n",
       "      <td>69.266198</td>\n",
       "      <td>10.462676</td>\n",
       "      <td>0.927452</td>\n",
       "      <td>16.634514</td>\n",
       "      <td>2.224930</td>\n",
       "      <td>...</td>\n",
       "      <td>13.992281</td>\n",
       "      <td>-505.503262</td>\n",
       "      <td>11.950531</td>\n",
       "      <td>-501.331529</td>\n",
       "      <td>10.039245</td>\n",
       "      <td>-500.169983</td>\n",
       "      <td>7.984757</td>\n",
       "      <td>-500.582168</td>\n",
       "      <td>13.998353</td>\n",
       "      <td>-599.787184</td>\n",
       "    </tr>\n",
       "    <tr>\n",
       "      <th>2</th>\n",
       "      <td>2016-01-15 02:00:00</td>\n",
       "      <td>6.055926</td>\n",
       "      <td>10.213995</td>\n",
       "      <td>5.383759</td>\n",
       "      <td>42.657501</td>\n",
       "      <td>68.116445</td>\n",
       "      <td>10.507046</td>\n",
       "      <td>0.953716</td>\n",
       "      <td>16.208849</td>\n",
       "      <td>2.257889</td>\n",
       "      <td>...</td>\n",
       "      <td>14.015015</td>\n",
       "      <td>-502.520901</td>\n",
       "      <td>11.912783</td>\n",
       "      <td>-501.133383</td>\n",
       "      <td>10.070913</td>\n",
       "      <td>-500.129135</td>\n",
       "      <td>8.013877</td>\n",
       "      <td>-500.517572</td>\n",
       "      <td>14.028663</td>\n",
       "      <td>-601.427363</td>\n",
       "    </tr>\n",
       "    <tr>\n",
       "      <th>3</th>\n",
       "      <td>2016-01-15 03:00:00</td>\n",
       "      <td>6.047977</td>\n",
       "      <td>9.977019</td>\n",
       "      <td>4.858634</td>\n",
       "      <td>42.689819</td>\n",
       "      <td>68.347543</td>\n",
       "      <td>10.422762</td>\n",
       "      <td>0.883763</td>\n",
       "      <td>16.532835</td>\n",
       "      <td>2.146849</td>\n",
       "      <td>...</td>\n",
       "      <td>14.036510</td>\n",
       "      <td>-500.857308</td>\n",
       "      <td>11.999550</td>\n",
       "      <td>-501.193686</td>\n",
       "      <td>9.970366</td>\n",
       "      <td>-499.201640</td>\n",
       "      <td>7.977324</td>\n",
       "      <td>-500.255908</td>\n",
       "      <td>14.005551</td>\n",
       "      <td>-599.996129</td>\n",
       "    </tr>\n",
       "    <tr>\n",
       "      <th>4</th>\n",
       "      <td>2016-01-15 04:00:00</td>\n",
       "      <td>6.148599</td>\n",
       "      <td>10.142511</td>\n",
       "      <td>4.939416</td>\n",
       "      <td>42.774141</td>\n",
       "      <td>66.927016</td>\n",
       "      <td>10.360302</td>\n",
       "      <td>0.792826</td>\n",
       "      <td>16.525686</td>\n",
       "      <td>2.055292</td>\n",
       "      <td>...</td>\n",
       "      <td>14.027298</td>\n",
       "      <td>-499.838632</td>\n",
       "      <td>11.953070</td>\n",
       "      <td>-501.053894</td>\n",
       "      <td>9.925709</td>\n",
       "      <td>-501.686727</td>\n",
       "      <td>7.894242</td>\n",
       "      <td>-500.356035</td>\n",
       "      <td>13.996647</td>\n",
       "      <td>-601.496691</td>\n",
       "    </tr>\n",
       "  </tbody>\n",
       "</table>\n",
       "<p>5 rows × 87 columns</p>\n",
       "</div>"
      ],
      "text/plain": [
       "                  date  final.output.concentrate_ag  \\\n",
       "0  2016-01-15 00:00:00                     6.055403   \n",
       "1  2016-01-15 01:00:00                     6.029369   \n",
       "2  2016-01-15 02:00:00                     6.055926   \n",
       "3  2016-01-15 03:00:00                     6.047977   \n",
       "4  2016-01-15 04:00:00                     6.148599   \n",
       "\n",
       "   final.output.concentrate_pb  final.output.concentrate_sol  \\\n",
       "0                     9.889648                      5.507324   \n",
       "1                     9.968944                      5.257781   \n",
       "2                    10.213995                      5.383759   \n",
       "3                     9.977019                      4.858634   \n",
       "4                    10.142511                      4.939416   \n",
       "\n",
       "   final.output.concentrate_au  final.output.recovery  final.output.tail_ag  \\\n",
       "0                    42.192020              70.541216             10.411962   \n",
       "1                    42.701629              69.266198             10.462676   \n",
       "2                    42.657501              68.116445             10.507046   \n",
       "3                    42.689819              68.347543             10.422762   \n",
       "4                    42.774141              66.927016             10.360302   \n",
       "\n",
       "   final.output.tail_pb  final.output.tail_sol  final.output.tail_au  ...  \\\n",
       "0              0.895447              16.904297              2.143149  ...   \n",
       "1              0.927452              16.634514              2.224930  ...   \n",
       "2              0.953716              16.208849              2.257889  ...   \n",
       "3              0.883763              16.532835              2.146849  ...   \n",
       "4              0.792826              16.525686              2.055292  ...   \n",
       "\n",
       "   secondary_cleaner.state.floatbank4_a_air  \\\n",
       "0                                 14.016835   \n",
       "1                                 13.992281   \n",
       "2                                 14.015015   \n",
       "3                                 14.036510   \n",
       "4                                 14.027298   \n",
       "\n",
       "   secondary_cleaner.state.floatbank4_a_level  \\\n",
       "0                                 -502.488007   \n",
       "1                                 -505.503262   \n",
       "2                                 -502.520901   \n",
       "3                                 -500.857308   \n",
       "4                                 -499.838632   \n",
       "\n",
       "   secondary_cleaner.state.floatbank4_b_air  \\\n",
       "0                                 12.099931   \n",
       "1                                 11.950531   \n",
       "2                                 11.912783   \n",
       "3                                 11.999550   \n",
       "4                                 11.953070   \n",
       "\n",
       "   secondary_cleaner.state.floatbank4_b_level  \\\n",
       "0                                 -504.715942   \n",
       "1                                 -501.331529   \n",
       "2                                 -501.133383   \n",
       "3                                 -501.193686   \n",
       "4                                 -501.053894   \n",
       "\n",
       "   secondary_cleaner.state.floatbank5_a_air  \\\n",
       "0                                  9.925633   \n",
       "1                                 10.039245   \n",
       "2                                 10.070913   \n",
       "3                                  9.970366   \n",
       "4                                  9.925709   \n",
       "\n",
       "   secondary_cleaner.state.floatbank5_a_level  \\\n",
       "0                                 -498.310211   \n",
       "1                                 -500.169983   \n",
       "2                                 -500.129135   \n",
       "3                                 -499.201640   \n",
       "4                                 -501.686727   \n",
       "\n",
       "   secondary_cleaner.state.floatbank5_b_air  \\\n",
       "0                                  8.079666   \n",
       "1                                  7.984757   \n",
       "2                                  8.013877   \n",
       "3                                  7.977324   \n",
       "4                                  7.894242   \n",
       "\n",
       "   secondary_cleaner.state.floatbank5_b_level  \\\n",
       "0                                 -500.470978   \n",
       "1                                 -500.582168   \n",
       "2                                 -500.517572   \n",
       "3                                 -500.255908   \n",
       "4                                 -500.356035   \n",
       "\n",
       "   secondary_cleaner.state.floatbank6_a_air  \\\n",
       "0                                 14.151341   \n",
       "1                                 13.998353   \n",
       "2                                 14.028663   \n",
       "3                                 14.005551   \n",
       "4                                 13.996647   \n",
       "\n",
       "   secondary_cleaner.state.floatbank6_a_level  \n",
       "0                                 -605.841980  \n",
       "1                                 -599.787184  \n",
       "2                                 -601.427363  \n",
       "3                                 -599.996129  \n",
       "4                                 -601.496691  \n",
       "\n",
       "[5 rows x 87 columns]"
      ]
     },
     "metadata": {},
     "output_type": "display_data"
    },
    {
     "name": "stdout",
     "output_type": "stream",
     "text": [
      "<class 'pandas.core.frame.DataFrame'>\n",
      "RangeIndex: 14149 entries, 0 to 14148\n",
      "Data columns (total 87 columns):\n",
      " #   Column                                              Non-Null Count  Dtype  \n",
      "---  ------                                              --------------  -----  \n",
      " 0   date                                                14149 non-null  object \n",
      " 1   final.output.concentrate_ag                         14148 non-null  float64\n",
      " 2   final.output.concentrate_pb                         14148 non-null  float64\n",
      " 3   final.output.concentrate_sol                        13938 non-null  float64\n",
      " 4   final.output.concentrate_au                         14149 non-null  float64\n",
      " 5   final.output.recovery                               14149 non-null  float64\n",
      " 6   final.output.tail_ag                                14149 non-null  float64\n",
      " 7   final.output.tail_pb                                14049 non-null  float64\n",
      " 8   final.output.tail_sol                               14144 non-null  float64\n",
      " 9   final.output.tail_au                                14149 non-null  float64\n",
      " 10  primary_cleaner.input.sulfate                       14129 non-null  float64\n",
      " 11  primary_cleaner.input.depressant                    14117 non-null  float64\n",
      " 12  primary_cleaner.input.feed_size                     14149 non-null  float64\n",
      " 13  primary_cleaner.input.xanthate                      14049 non-null  float64\n",
      " 14  primary_cleaner.output.concentrate_ag               14149 non-null  float64\n",
      " 15  primary_cleaner.output.concentrate_pb               14063 non-null  float64\n",
      " 16  primary_cleaner.output.concentrate_sol              13863 non-null  float64\n",
      " 17  primary_cleaner.output.concentrate_au               14149 non-null  float64\n",
      " 18  primary_cleaner.output.tail_ag                      14148 non-null  float64\n",
      " 19  primary_cleaner.output.tail_pb                      14134 non-null  float64\n",
      " 20  primary_cleaner.output.tail_sol                     14103 non-null  float64\n",
      " 21  primary_cleaner.output.tail_au                      14149 non-null  float64\n",
      " 22  primary_cleaner.state.floatbank8_a_air              14145 non-null  float64\n",
      " 23  primary_cleaner.state.floatbank8_a_level            14148 non-null  float64\n",
      " 24  primary_cleaner.state.floatbank8_b_air              14145 non-null  float64\n",
      " 25  primary_cleaner.state.floatbank8_b_level            14148 non-null  float64\n",
      " 26  primary_cleaner.state.floatbank8_c_air              14147 non-null  float64\n",
      " 27  primary_cleaner.state.floatbank8_c_level            14148 non-null  float64\n",
      " 28  primary_cleaner.state.floatbank8_d_air              14146 non-null  float64\n",
      " 29  primary_cleaner.state.floatbank8_d_level            14148 non-null  float64\n",
      " 30  rougher.calculation.sulfate_to_au_concentrate       14148 non-null  float64\n",
      " 31  rougher.calculation.floatbank10_sulfate_to_au_feed  14148 non-null  float64\n",
      " 32  rougher.calculation.floatbank11_sulfate_to_au_feed  14148 non-null  float64\n",
      " 33  rougher.calculation.au_pb_ratio                     14149 non-null  float64\n",
      " 34  rougher.input.feed_ag                               14149 non-null  float64\n",
      " 35  rougher.input.feed_pb                               14049 non-null  float64\n",
      " 36  rougher.input.feed_rate                             14141 non-null  float64\n",
      " 37  rougher.input.feed_size                             14005 non-null  float64\n",
      " 38  rougher.input.feed_sol                              14071 non-null  float64\n",
      " 39  rougher.input.feed_au                               14149 non-null  float64\n",
      " 40  rougher.input.floatbank10_sulfate                   14120 non-null  float64\n",
      " 41  rougher.input.floatbank10_xanthate                  14141 non-null  float64\n",
      " 42  rougher.input.floatbank11_sulfate                   14113 non-null  float64\n",
      " 43  rougher.input.floatbank11_xanthate                  13721 non-null  float64\n",
      " 44  rougher.output.concentrate_ag                       14149 non-null  float64\n",
      " 45  rougher.output.concentrate_pb                       14149 non-null  float64\n",
      " 46  rougher.output.concentrate_sol                      14127 non-null  float64\n",
      " 47  rougher.output.concentrate_au                       14149 non-null  float64\n",
      " 48  rougher.output.recovery                             14149 non-null  float64\n",
      " 49  rougher.output.tail_ag                              14148 non-null  float64\n",
      " 50  rougher.output.tail_pb                              14149 non-null  float64\n",
      " 51  rougher.output.tail_sol                             14149 non-null  float64\n",
      " 52  rougher.output.tail_au                              14149 non-null  float64\n",
      " 53  rougher.state.floatbank10_a_air                     14148 non-null  float64\n",
      " 54  rougher.state.floatbank10_a_level                   14148 non-null  float64\n",
      " 55  rougher.state.floatbank10_b_air                     14148 non-null  float64\n",
      " 56  rougher.state.floatbank10_b_level                   14148 non-null  float64\n",
      " 57  rougher.state.floatbank10_c_air                     14148 non-null  float64\n",
      " 58  rougher.state.floatbank10_c_level                   14148 non-null  float64\n",
      " 59  rougher.state.floatbank10_d_air                     14149 non-null  float64\n",
      " 60  rougher.state.floatbank10_d_level                   14149 non-null  float64\n",
      " 61  rougher.state.floatbank10_e_air                     13713 non-null  float64\n",
      " 62  rougher.state.floatbank10_e_level                   14149 non-null  float64\n",
      " 63  rougher.state.floatbank10_f_air                     14149 non-null  float64\n",
      " 64  rougher.state.floatbank10_f_level                   14149 non-null  float64\n",
      " 65  secondary_cleaner.output.tail_ag                    14147 non-null  float64\n",
      " 66  secondary_cleaner.output.tail_pb                    14139 non-null  float64\n",
      " 67  secondary_cleaner.output.tail_sol                   12544 non-null  float64\n",
      " 68  secondary_cleaner.output.tail_au                    14149 non-null  float64\n",
      " 69  secondary_cleaner.state.floatbank2_a_air            13932 non-null  float64\n",
      " 70  secondary_cleaner.state.floatbank2_a_level          14148 non-null  float64\n",
      " 71  secondary_cleaner.state.floatbank2_b_air            14128 non-null  float64\n",
      " 72  secondary_cleaner.state.floatbank2_b_level          14148 non-null  float64\n",
      " 73  secondary_cleaner.state.floatbank3_a_air            14145 non-null  float64\n",
      " 74  secondary_cleaner.state.floatbank3_a_level          14148 non-null  float64\n",
      " 75  secondary_cleaner.state.floatbank3_b_air            14148 non-null  float64\n",
      " 76  secondary_cleaner.state.floatbank3_b_level          14148 non-null  float64\n",
      " 77  secondary_cleaner.state.floatbank4_a_air            14143 non-null  float64\n",
      " 78  secondary_cleaner.state.floatbank4_a_level          14148 non-null  float64\n",
      " 79  secondary_cleaner.state.floatbank4_b_air            14148 non-null  float64\n",
      " 80  secondary_cleaner.state.floatbank4_b_level          14148 non-null  float64\n",
      " 81  secondary_cleaner.state.floatbank5_a_air            14148 non-null  float64\n",
      " 82  secondary_cleaner.state.floatbank5_a_level          14148 non-null  float64\n",
      " 83  secondary_cleaner.state.floatbank5_b_air            14148 non-null  float64\n",
      " 84  secondary_cleaner.state.floatbank5_b_level          14148 non-null  float64\n",
      " 85  secondary_cleaner.state.floatbank6_a_air            14147 non-null  float64\n",
      " 86  secondary_cleaner.state.floatbank6_a_level          14148 non-null  float64\n",
      "dtypes: float64(86), object(1)\n",
      "memory usage: 9.4+ MB\n"
     ]
    },
    {
     "data": {
      "text/plain": [
       "(14149, 87)"
      ]
     },
     "execution_count": 2,
     "metadata": {},
     "output_type": "execute_result"
    }
   ],
   "source": [
    "df_train = pd.read_csv('https://code.s3.yandex.net/datasets/gold_recovery_train_new.csv')\n",
    "display(df_train.head())\n",
    "df_train.info()\n",
    "df_train.shape"
   ]
  },
  {
   "cell_type": "code",
   "execution_count": 3,
   "metadata": {
    "scrolled": false
   },
   "outputs": [
    {
     "data": {
      "text/html": [
       "<div>\n",
       "<style scoped>\n",
       "    .dataframe tbody tr th:only-of-type {\n",
       "        vertical-align: middle;\n",
       "    }\n",
       "\n",
       "    .dataframe tbody tr th {\n",
       "        vertical-align: top;\n",
       "    }\n",
       "\n",
       "    .dataframe thead th {\n",
       "        text-align: right;\n",
       "    }\n",
       "</style>\n",
       "<table border=\"1\" class=\"dataframe\">\n",
       "  <thead>\n",
       "    <tr style=\"text-align: right;\">\n",
       "      <th></th>\n",
       "      <th>date</th>\n",
       "      <th>primary_cleaner.input.sulfate</th>\n",
       "      <th>primary_cleaner.input.depressant</th>\n",
       "      <th>primary_cleaner.input.feed_size</th>\n",
       "      <th>primary_cleaner.input.xanthate</th>\n",
       "      <th>primary_cleaner.state.floatbank8_a_air</th>\n",
       "      <th>primary_cleaner.state.floatbank8_a_level</th>\n",
       "      <th>primary_cleaner.state.floatbank8_b_air</th>\n",
       "      <th>primary_cleaner.state.floatbank8_b_level</th>\n",
       "      <th>primary_cleaner.state.floatbank8_c_air</th>\n",
       "      <th>...</th>\n",
       "      <th>secondary_cleaner.state.floatbank4_a_air</th>\n",
       "      <th>secondary_cleaner.state.floatbank4_a_level</th>\n",
       "      <th>secondary_cleaner.state.floatbank4_b_air</th>\n",
       "      <th>secondary_cleaner.state.floatbank4_b_level</th>\n",
       "      <th>secondary_cleaner.state.floatbank5_a_air</th>\n",
       "      <th>secondary_cleaner.state.floatbank5_a_level</th>\n",
       "      <th>secondary_cleaner.state.floatbank5_b_air</th>\n",
       "      <th>secondary_cleaner.state.floatbank5_b_level</th>\n",
       "      <th>secondary_cleaner.state.floatbank6_a_air</th>\n",
       "      <th>secondary_cleaner.state.floatbank6_a_level</th>\n",
       "    </tr>\n",
       "  </thead>\n",
       "  <tbody>\n",
       "    <tr>\n",
       "      <th>0</th>\n",
       "      <td>2016-09-01 00:59:59</td>\n",
       "      <td>210.800909</td>\n",
       "      <td>14.993118</td>\n",
       "      <td>8.080000</td>\n",
       "      <td>1.005021</td>\n",
       "      <td>1398.981301</td>\n",
       "      <td>-500.225577</td>\n",
       "      <td>1399.144926</td>\n",
       "      <td>-499.919735</td>\n",
       "      <td>1400.102998</td>\n",
       "      <td>...</td>\n",
       "      <td>12.023554</td>\n",
       "      <td>-497.795834</td>\n",
       "      <td>8.016656</td>\n",
       "      <td>-501.289139</td>\n",
       "      <td>7.946562</td>\n",
       "      <td>-432.317850</td>\n",
       "      <td>4.872511</td>\n",
       "      <td>-500.037437</td>\n",
       "      <td>26.705889</td>\n",
       "      <td>-499.709414</td>\n",
       "    </tr>\n",
       "    <tr>\n",
       "      <th>1</th>\n",
       "      <td>2016-09-01 01:59:59</td>\n",
       "      <td>215.392455</td>\n",
       "      <td>14.987471</td>\n",
       "      <td>8.080000</td>\n",
       "      <td>0.990469</td>\n",
       "      <td>1398.777912</td>\n",
       "      <td>-500.057435</td>\n",
       "      <td>1398.055362</td>\n",
       "      <td>-499.778182</td>\n",
       "      <td>1396.151033</td>\n",
       "      <td>...</td>\n",
       "      <td>12.058140</td>\n",
       "      <td>-498.695773</td>\n",
       "      <td>8.130979</td>\n",
       "      <td>-499.634209</td>\n",
       "      <td>7.958270</td>\n",
       "      <td>-525.839648</td>\n",
       "      <td>4.878850</td>\n",
       "      <td>-500.162375</td>\n",
       "      <td>25.019940</td>\n",
       "      <td>-499.819438</td>\n",
       "    </tr>\n",
       "    <tr>\n",
       "      <th>2</th>\n",
       "      <td>2016-09-01 02:59:59</td>\n",
       "      <td>215.259946</td>\n",
       "      <td>12.884934</td>\n",
       "      <td>7.786667</td>\n",
       "      <td>0.996043</td>\n",
       "      <td>1398.493666</td>\n",
       "      <td>-500.868360</td>\n",
       "      <td>1398.860436</td>\n",
       "      <td>-499.764529</td>\n",
       "      <td>1398.075709</td>\n",
       "      <td>...</td>\n",
       "      <td>11.962366</td>\n",
       "      <td>-498.767484</td>\n",
       "      <td>8.096893</td>\n",
       "      <td>-500.827423</td>\n",
       "      <td>8.071056</td>\n",
       "      <td>-500.801673</td>\n",
       "      <td>4.905125</td>\n",
       "      <td>-499.828510</td>\n",
       "      <td>24.994862</td>\n",
       "      <td>-500.622559</td>\n",
       "    </tr>\n",
       "    <tr>\n",
       "      <th>3</th>\n",
       "      <td>2016-09-01 03:59:59</td>\n",
       "      <td>215.336236</td>\n",
       "      <td>12.006805</td>\n",
       "      <td>7.640000</td>\n",
       "      <td>0.863514</td>\n",
       "      <td>1399.618111</td>\n",
       "      <td>-498.863574</td>\n",
       "      <td>1397.440120</td>\n",
       "      <td>-499.211024</td>\n",
       "      <td>1400.129303</td>\n",
       "      <td>...</td>\n",
       "      <td>12.033091</td>\n",
       "      <td>-498.350935</td>\n",
       "      <td>8.074946</td>\n",
       "      <td>-499.474407</td>\n",
       "      <td>7.897085</td>\n",
       "      <td>-500.868509</td>\n",
       "      <td>4.931400</td>\n",
       "      <td>-499.963623</td>\n",
       "      <td>24.948919</td>\n",
       "      <td>-498.709987</td>\n",
       "    </tr>\n",
       "    <tr>\n",
       "      <th>4</th>\n",
       "      <td>2016-09-01 04:59:59</td>\n",
       "      <td>199.099327</td>\n",
       "      <td>10.682530</td>\n",
       "      <td>7.530000</td>\n",
       "      <td>0.805575</td>\n",
       "      <td>1401.268123</td>\n",
       "      <td>-500.808305</td>\n",
       "      <td>1398.128818</td>\n",
       "      <td>-499.504543</td>\n",
       "      <td>1402.172226</td>\n",
       "      <td>...</td>\n",
       "      <td>12.025367</td>\n",
       "      <td>-500.786497</td>\n",
       "      <td>8.054678</td>\n",
       "      <td>-500.397500</td>\n",
       "      <td>8.107890</td>\n",
       "      <td>-509.526725</td>\n",
       "      <td>4.957674</td>\n",
       "      <td>-500.360026</td>\n",
       "      <td>25.003331</td>\n",
       "      <td>-500.856333</td>\n",
       "    </tr>\n",
       "  </tbody>\n",
       "</table>\n",
       "<p>5 rows × 53 columns</p>\n",
       "</div>"
      ],
      "text/plain": [
       "                  date  primary_cleaner.input.sulfate  \\\n",
       "0  2016-09-01 00:59:59                     210.800909   \n",
       "1  2016-09-01 01:59:59                     215.392455   \n",
       "2  2016-09-01 02:59:59                     215.259946   \n",
       "3  2016-09-01 03:59:59                     215.336236   \n",
       "4  2016-09-01 04:59:59                     199.099327   \n",
       "\n",
       "   primary_cleaner.input.depressant  primary_cleaner.input.feed_size  \\\n",
       "0                         14.993118                         8.080000   \n",
       "1                         14.987471                         8.080000   \n",
       "2                         12.884934                         7.786667   \n",
       "3                         12.006805                         7.640000   \n",
       "4                         10.682530                         7.530000   \n",
       "\n",
       "   primary_cleaner.input.xanthate  primary_cleaner.state.floatbank8_a_air  \\\n",
       "0                        1.005021                             1398.981301   \n",
       "1                        0.990469                             1398.777912   \n",
       "2                        0.996043                             1398.493666   \n",
       "3                        0.863514                             1399.618111   \n",
       "4                        0.805575                             1401.268123   \n",
       "\n",
       "   primary_cleaner.state.floatbank8_a_level  \\\n",
       "0                               -500.225577   \n",
       "1                               -500.057435   \n",
       "2                               -500.868360   \n",
       "3                               -498.863574   \n",
       "4                               -500.808305   \n",
       "\n",
       "   primary_cleaner.state.floatbank8_b_air  \\\n",
       "0                             1399.144926   \n",
       "1                             1398.055362   \n",
       "2                             1398.860436   \n",
       "3                             1397.440120   \n",
       "4                             1398.128818   \n",
       "\n",
       "   primary_cleaner.state.floatbank8_b_level  \\\n",
       "0                               -499.919735   \n",
       "1                               -499.778182   \n",
       "2                               -499.764529   \n",
       "3                               -499.211024   \n",
       "4                               -499.504543   \n",
       "\n",
       "   primary_cleaner.state.floatbank8_c_air  ...  \\\n",
       "0                             1400.102998  ...   \n",
       "1                             1396.151033  ...   \n",
       "2                             1398.075709  ...   \n",
       "3                             1400.129303  ...   \n",
       "4                             1402.172226  ...   \n",
       "\n",
       "   secondary_cleaner.state.floatbank4_a_air  \\\n",
       "0                                 12.023554   \n",
       "1                                 12.058140   \n",
       "2                                 11.962366   \n",
       "3                                 12.033091   \n",
       "4                                 12.025367   \n",
       "\n",
       "   secondary_cleaner.state.floatbank4_a_level  \\\n",
       "0                                 -497.795834   \n",
       "1                                 -498.695773   \n",
       "2                                 -498.767484   \n",
       "3                                 -498.350935   \n",
       "4                                 -500.786497   \n",
       "\n",
       "   secondary_cleaner.state.floatbank4_b_air  \\\n",
       "0                                  8.016656   \n",
       "1                                  8.130979   \n",
       "2                                  8.096893   \n",
       "3                                  8.074946   \n",
       "4                                  8.054678   \n",
       "\n",
       "   secondary_cleaner.state.floatbank4_b_level  \\\n",
       "0                                 -501.289139   \n",
       "1                                 -499.634209   \n",
       "2                                 -500.827423   \n",
       "3                                 -499.474407   \n",
       "4                                 -500.397500   \n",
       "\n",
       "   secondary_cleaner.state.floatbank5_a_air  \\\n",
       "0                                  7.946562   \n",
       "1                                  7.958270   \n",
       "2                                  8.071056   \n",
       "3                                  7.897085   \n",
       "4                                  8.107890   \n",
       "\n",
       "   secondary_cleaner.state.floatbank5_a_level  \\\n",
       "0                                 -432.317850   \n",
       "1                                 -525.839648   \n",
       "2                                 -500.801673   \n",
       "3                                 -500.868509   \n",
       "4                                 -509.526725   \n",
       "\n",
       "   secondary_cleaner.state.floatbank5_b_air  \\\n",
       "0                                  4.872511   \n",
       "1                                  4.878850   \n",
       "2                                  4.905125   \n",
       "3                                  4.931400   \n",
       "4                                  4.957674   \n",
       "\n",
       "   secondary_cleaner.state.floatbank5_b_level  \\\n",
       "0                                 -500.037437   \n",
       "1                                 -500.162375   \n",
       "2                                 -499.828510   \n",
       "3                                 -499.963623   \n",
       "4                                 -500.360026   \n",
       "\n",
       "   secondary_cleaner.state.floatbank6_a_air  \\\n",
       "0                                 26.705889   \n",
       "1                                 25.019940   \n",
       "2                                 24.994862   \n",
       "3                                 24.948919   \n",
       "4                                 25.003331   \n",
       "\n",
       "   secondary_cleaner.state.floatbank6_a_level  \n",
       "0                                 -499.709414  \n",
       "1                                 -499.819438  \n",
       "2                                 -500.622559  \n",
       "3                                 -498.709987  \n",
       "4                                 -500.856333  \n",
       "\n",
       "[5 rows x 53 columns]"
      ]
     },
     "metadata": {},
     "output_type": "display_data"
    },
    {
     "name": "stdout",
     "output_type": "stream",
     "text": [
      "<class 'pandas.core.frame.DataFrame'>\n",
      "RangeIndex: 5290 entries, 0 to 5289\n",
      "Data columns (total 53 columns):\n",
      " #   Column                                      Non-Null Count  Dtype  \n",
      "---  ------                                      --------------  -----  \n",
      " 0   date                                        5290 non-null   object \n",
      " 1   primary_cleaner.input.sulfate               5286 non-null   float64\n",
      " 2   primary_cleaner.input.depressant            5285 non-null   float64\n",
      " 3   primary_cleaner.input.feed_size             5290 non-null   float64\n",
      " 4   primary_cleaner.input.xanthate              5286 non-null   float64\n",
      " 5   primary_cleaner.state.floatbank8_a_air      5290 non-null   float64\n",
      " 6   primary_cleaner.state.floatbank8_a_level    5290 non-null   float64\n",
      " 7   primary_cleaner.state.floatbank8_b_air      5290 non-null   float64\n",
      " 8   primary_cleaner.state.floatbank8_b_level    5290 non-null   float64\n",
      " 9   primary_cleaner.state.floatbank8_c_air      5290 non-null   float64\n",
      " 10  primary_cleaner.state.floatbank8_c_level    5290 non-null   float64\n",
      " 11  primary_cleaner.state.floatbank8_d_air      5290 non-null   float64\n",
      " 12  primary_cleaner.state.floatbank8_d_level    5290 non-null   float64\n",
      " 13  rougher.input.feed_ag                       5290 non-null   float64\n",
      " 14  rougher.input.feed_pb                       5290 non-null   float64\n",
      " 15  rougher.input.feed_rate                     5287 non-null   float64\n",
      " 16  rougher.input.feed_size                     5289 non-null   float64\n",
      " 17  rougher.input.feed_sol                      5269 non-null   float64\n",
      " 18  rougher.input.feed_au                       5290 non-null   float64\n",
      " 19  rougher.input.floatbank10_sulfate           5285 non-null   float64\n",
      " 20  rougher.input.floatbank10_xanthate          5290 non-null   float64\n",
      " 21  rougher.input.floatbank11_sulfate           5282 non-null   float64\n",
      " 22  rougher.input.floatbank11_xanthate          5265 non-null   float64\n",
      " 23  rougher.state.floatbank10_a_air             5290 non-null   float64\n",
      " 24  rougher.state.floatbank10_a_level           5290 non-null   float64\n",
      " 25  rougher.state.floatbank10_b_air             5290 non-null   float64\n",
      " 26  rougher.state.floatbank10_b_level           5290 non-null   float64\n",
      " 27  rougher.state.floatbank10_c_air             5290 non-null   float64\n",
      " 28  rougher.state.floatbank10_c_level           5290 non-null   float64\n",
      " 29  rougher.state.floatbank10_d_air             5290 non-null   float64\n",
      " 30  rougher.state.floatbank10_d_level           5290 non-null   float64\n",
      " 31  rougher.state.floatbank10_e_air             5290 non-null   float64\n",
      " 32  rougher.state.floatbank10_e_level           5290 non-null   float64\n",
      " 33  rougher.state.floatbank10_f_air             5290 non-null   float64\n",
      " 34  rougher.state.floatbank10_f_level           5290 non-null   float64\n",
      " 35  secondary_cleaner.state.floatbank2_a_air    5287 non-null   float64\n",
      " 36  secondary_cleaner.state.floatbank2_a_level  5290 non-null   float64\n",
      " 37  secondary_cleaner.state.floatbank2_b_air    5288 non-null   float64\n",
      " 38  secondary_cleaner.state.floatbank2_b_level  5290 non-null   float64\n",
      " 39  secondary_cleaner.state.floatbank3_a_air    5281 non-null   float64\n",
      " 40  secondary_cleaner.state.floatbank3_a_level  5290 non-null   float64\n",
      " 41  secondary_cleaner.state.floatbank3_b_air    5290 non-null   float64\n",
      " 42  secondary_cleaner.state.floatbank3_b_level  5290 non-null   float64\n",
      " 43  secondary_cleaner.state.floatbank4_a_air    5290 non-null   float64\n",
      " 44  secondary_cleaner.state.floatbank4_a_level  5290 non-null   float64\n",
      " 45  secondary_cleaner.state.floatbank4_b_air    5290 non-null   float64\n",
      " 46  secondary_cleaner.state.floatbank4_b_level  5290 non-null   float64\n",
      " 47  secondary_cleaner.state.floatbank5_a_air    5290 non-null   float64\n",
      " 48  secondary_cleaner.state.floatbank5_a_level  5290 non-null   float64\n",
      " 49  secondary_cleaner.state.floatbank5_b_air    5290 non-null   float64\n",
      " 50  secondary_cleaner.state.floatbank5_b_level  5290 non-null   float64\n",
      " 51  secondary_cleaner.state.floatbank6_a_air    5290 non-null   float64\n",
      " 52  secondary_cleaner.state.floatbank6_a_level  5290 non-null   float64\n",
      "dtypes: float64(52), object(1)\n",
      "memory usage: 2.1+ MB\n"
     ]
    },
    {
     "data": {
      "text/plain": [
       "(5290, 53)"
      ]
     },
     "execution_count": 3,
     "metadata": {},
     "output_type": "execute_result"
    }
   ],
   "source": [
    "df_test = pd.read_csv('https://code.s3.yandex.net/datasets/gold_recovery_test_new.csv')\n",
    "display(df_test.head())\n",
    "df_test.info()\n",
    "df_test.shape"
   ]
  },
  {
   "cell_type": "code",
   "execution_count": 4,
   "metadata": {
    "scrolled": false
   },
   "outputs": [
    {
     "data": {
      "text/html": [
       "<div>\n",
       "<style scoped>\n",
       "    .dataframe tbody tr th:only-of-type {\n",
       "        vertical-align: middle;\n",
       "    }\n",
       "\n",
       "    .dataframe tbody tr th {\n",
       "        vertical-align: top;\n",
       "    }\n",
       "\n",
       "    .dataframe thead th {\n",
       "        text-align: right;\n",
       "    }\n",
       "</style>\n",
       "<table border=\"1\" class=\"dataframe\">\n",
       "  <thead>\n",
       "    <tr style=\"text-align: right;\">\n",
       "      <th></th>\n",
       "      <th>date</th>\n",
       "      <th>final.output.concentrate_ag</th>\n",
       "      <th>final.output.concentrate_pb</th>\n",
       "      <th>final.output.concentrate_sol</th>\n",
       "      <th>final.output.concentrate_au</th>\n",
       "      <th>final.output.recovery</th>\n",
       "      <th>final.output.tail_ag</th>\n",
       "      <th>final.output.tail_pb</th>\n",
       "      <th>final.output.tail_sol</th>\n",
       "      <th>final.output.tail_au</th>\n",
       "      <th>...</th>\n",
       "      <th>secondary_cleaner.state.floatbank4_a_air</th>\n",
       "      <th>secondary_cleaner.state.floatbank4_a_level</th>\n",
       "      <th>secondary_cleaner.state.floatbank4_b_air</th>\n",
       "      <th>secondary_cleaner.state.floatbank4_b_level</th>\n",
       "      <th>secondary_cleaner.state.floatbank5_a_air</th>\n",
       "      <th>secondary_cleaner.state.floatbank5_a_level</th>\n",
       "      <th>secondary_cleaner.state.floatbank5_b_air</th>\n",
       "      <th>secondary_cleaner.state.floatbank5_b_level</th>\n",
       "      <th>secondary_cleaner.state.floatbank6_a_air</th>\n",
       "      <th>secondary_cleaner.state.floatbank6_a_level</th>\n",
       "    </tr>\n",
       "  </thead>\n",
       "  <tbody>\n",
       "    <tr>\n",
       "      <th>0</th>\n",
       "      <td>2016-01-15 00:00:00</td>\n",
       "      <td>6.055403</td>\n",
       "      <td>9.889648</td>\n",
       "      <td>5.507324</td>\n",
       "      <td>42.192020</td>\n",
       "      <td>70.541216</td>\n",
       "      <td>10.411962</td>\n",
       "      <td>0.895447</td>\n",
       "      <td>16.904297</td>\n",
       "      <td>2.143149</td>\n",
       "      <td>...</td>\n",
       "      <td>14.016835</td>\n",
       "      <td>-502.488007</td>\n",
       "      <td>12.099931</td>\n",
       "      <td>-504.715942</td>\n",
       "      <td>9.925633</td>\n",
       "      <td>-498.310211</td>\n",
       "      <td>8.079666</td>\n",
       "      <td>-500.470978</td>\n",
       "      <td>14.151341</td>\n",
       "      <td>-605.841980</td>\n",
       "    </tr>\n",
       "    <tr>\n",
       "      <th>1</th>\n",
       "      <td>2016-01-15 01:00:00</td>\n",
       "      <td>6.029369</td>\n",
       "      <td>9.968944</td>\n",
       "      <td>5.257781</td>\n",
       "      <td>42.701629</td>\n",
       "      <td>69.266198</td>\n",
       "      <td>10.462676</td>\n",
       "      <td>0.927452</td>\n",
       "      <td>16.634514</td>\n",
       "      <td>2.224930</td>\n",
       "      <td>...</td>\n",
       "      <td>13.992281</td>\n",
       "      <td>-505.503262</td>\n",
       "      <td>11.950531</td>\n",
       "      <td>-501.331529</td>\n",
       "      <td>10.039245</td>\n",
       "      <td>-500.169983</td>\n",
       "      <td>7.984757</td>\n",
       "      <td>-500.582168</td>\n",
       "      <td>13.998353</td>\n",
       "      <td>-599.787184</td>\n",
       "    </tr>\n",
       "    <tr>\n",
       "      <th>2</th>\n",
       "      <td>2016-01-15 02:00:00</td>\n",
       "      <td>6.055926</td>\n",
       "      <td>10.213995</td>\n",
       "      <td>5.383759</td>\n",
       "      <td>42.657501</td>\n",
       "      <td>68.116445</td>\n",
       "      <td>10.507046</td>\n",
       "      <td>0.953716</td>\n",
       "      <td>16.208849</td>\n",
       "      <td>2.257889</td>\n",
       "      <td>...</td>\n",
       "      <td>14.015015</td>\n",
       "      <td>-502.520901</td>\n",
       "      <td>11.912783</td>\n",
       "      <td>-501.133383</td>\n",
       "      <td>10.070913</td>\n",
       "      <td>-500.129135</td>\n",
       "      <td>8.013877</td>\n",
       "      <td>-500.517572</td>\n",
       "      <td>14.028663</td>\n",
       "      <td>-601.427363</td>\n",
       "    </tr>\n",
       "    <tr>\n",
       "      <th>3</th>\n",
       "      <td>2016-01-15 03:00:00</td>\n",
       "      <td>6.047977</td>\n",
       "      <td>9.977019</td>\n",
       "      <td>4.858634</td>\n",
       "      <td>42.689819</td>\n",
       "      <td>68.347543</td>\n",
       "      <td>10.422762</td>\n",
       "      <td>0.883763</td>\n",
       "      <td>16.532835</td>\n",
       "      <td>2.146849</td>\n",
       "      <td>...</td>\n",
       "      <td>14.036510</td>\n",
       "      <td>-500.857308</td>\n",
       "      <td>11.999550</td>\n",
       "      <td>-501.193686</td>\n",
       "      <td>9.970366</td>\n",
       "      <td>-499.201640</td>\n",
       "      <td>7.977324</td>\n",
       "      <td>-500.255908</td>\n",
       "      <td>14.005551</td>\n",
       "      <td>-599.996129</td>\n",
       "    </tr>\n",
       "    <tr>\n",
       "      <th>4</th>\n",
       "      <td>2016-01-15 04:00:00</td>\n",
       "      <td>6.148599</td>\n",
       "      <td>10.142511</td>\n",
       "      <td>4.939416</td>\n",
       "      <td>42.774141</td>\n",
       "      <td>66.927016</td>\n",
       "      <td>10.360302</td>\n",
       "      <td>0.792826</td>\n",
       "      <td>16.525686</td>\n",
       "      <td>2.055292</td>\n",
       "      <td>...</td>\n",
       "      <td>14.027298</td>\n",
       "      <td>-499.838632</td>\n",
       "      <td>11.953070</td>\n",
       "      <td>-501.053894</td>\n",
       "      <td>9.925709</td>\n",
       "      <td>-501.686727</td>\n",
       "      <td>7.894242</td>\n",
       "      <td>-500.356035</td>\n",
       "      <td>13.996647</td>\n",
       "      <td>-601.496691</td>\n",
       "    </tr>\n",
       "  </tbody>\n",
       "</table>\n",
       "<p>5 rows × 87 columns</p>\n",
       "</div>"
      ],
      "text/plain": [
       "                  date  final.output.concentrate_ag  \\\n",
       "0  2016-01-15 00:00:00                     6.055403   \n",
       "1  2016-01-15 01:00:00                     6.029369   \n",
       "2  2016-01-15 02:00:00                     6.055926   \n",
       "3  2016-01-15 03:00:00                     6.047977   \n",
       "4  2016-01-15 04:00:00                     6.148599   \n",
       "\n",
       "   final.output.concentrate_pb  final.output.concentrate_sol  \\\n",
       "0                     9.889648                      5.507324   \n",
       "1                     9.968944                      5.257781   \n",
       "2                    10.213995                      5.383759   \n",
       "3                     9.977019                      4.858634   \n",
       "4                    10.142511                      4.939416   \n",
       "\n",
       "   final.output.concentrate_au  final.output.recovery  final.output.tail_ag  \\\n",
       "0                    42.192020              70.541216             10.411962   \n",
       "1                    42.701629              69.266198             10.462676   \n",
       "2                    42.657501              68.116445             10.507046   \n",
       "3                    42.689819              68.347543             10.422762   \n",
       "4                    42.774141              66.927016             10.360302   \n",
       "\n",
       "   final.output.tail_pb  final.output.tail_sol  final.output.tail_au  ...  \\\n",
       "0              0.895447              16.904297              2.143149  ...   \n",
       "1              0.927452              16.634514              2.224930  ...   \n",
       "2              0.953716              16.208849              2.257889  ...   \n",
       "3              0.883763              16.532835              2.146849  ...   \n",
       "4              0.792826              16.525686              2.055292  ...   \n",
       "\n",
       "   secondary_cleaner.state.floatbank4_a_air  \\\n",
       "0                                 14.016835   \n",
       "1                                 13.992281   \n",
       "2                                 14.015015   \n",
       "3                                 14.036510   \n",
       "4                                 14.027298   \n",
       "\n",
       "   secondary_cleaner.state.floatbank4_a_level  \\\n",
       "0                                 -502.488007   \n",
       "1                                 -505.503262   \n",
       "2                                 -502.520901   \n",
       "3                                 -500.857308   \n",
       "4                                 -499.838632   \n",
       "\n",
       "   secondary_cleaner.state.floatbank4_b_air  \\\n",
       "0                                 12.099931   \n",
       "1                                 11.950531   \n",
       "2                                 11.912783   \n",
       "3                                 11.999550   \n",
       "4                                 11.953070   \n",
       "\n",
       "   secondary_cleaner.state.floatbank4_b_level  \\\n",
       "0                                 -504.715942   \n",
       "1                                 -501.331529   \n",
       "2                                 -501.133383   \n",
       "3                                 -501.193686   \n",
       "4                                 -501.053894   \n",
       "\n",
       "   secondary_cleaner.state.floatbank5_a_air  \\\n",
       "0                                  9.925633   \n",
       "1                                 10.039245   \n",
       "2                                 10.070913   \n",
       "3                                  9.970366   \n",
       "4                                  9.925709   \n",
       "\n",
       "   secondary_cleaner.state.floatbank5_a_level  \\\n",
       "0                                 -498.310211   \n",
       "1                                 -500.169983   \n",
       "2                                 -500.129135   \n",
       "3                                 -499.201640   \n",
       "4                                 -501.686727   \n",
       "\n",
       "   secondary_cleaner.state.floatbank5_b_air  \\\n",
       "0                                  8.079666   \n",
       "1                                  7.984757   \n",
       "2                                  8.013877   \n",
       "3                                  7.977324   \n",
       "4                                  7.894242   \n",
       "\n",
       "   secondary_cleaner.state.floatbank5_b_level  \\\n",
       "0                                 -500.470978   \n",
       "1                                 -500.582168   \n",
       "2                                 -500.517572   \n",
       "3                                 -500.255908   \n",
       "4                                 -500.356035   \n",
       "\n",
       "   secondary_cleaner.state.floatbank6_a_air  \\\n",
       "0                                 14.151341   \n",
       "1                                 13.998353   \n",
       "2                                 14.028663   \n",
       "3                                 14.005551   \n",
       "4                                 13.996647   \n",
       "\n",
       "   secondary_cleaner.state.floatbank6_a_level  \n",
       "0                                 -605.841980  \n",
       "1                                 -599.787184  \n",
       "2                                 -601.427363  \n",
       "3                                 -599.996129  \n",
       "4                                 -601.496691  \n",
       "\n",
       "[5 rows x 87 columns]"
      ]
     },
     "metadata": {},
     "output_type": "display_data"
    },
    {
     "name": "stdout",
     "output_type": "stream",
     "text": [
      "<class 'pandas.core.frame.DataFrame'>\n",
      "RangeIndex: 19439 entries, 0 to 19438\n",
      "Data columns (total 87 columns):\n",
      " #   Column                                              Non-Null Count  Dtype  \n",
      "---  ------                                              --------------  -----  \n",
      " 0   date                                                19439 non-null  object \n",
      " 1   final.output.concentrate_ag                         19438 non-null  float64\n",
      " 2   final.output.concentrate_pb                         19438 non-null  float64\n",
      " 3   final.output.concentrate_sol                        19228 non-null  float64\n",
      " 4   final.output.concentrate_au                         19439 non-null  float64\n",
      " 5   final.output.recovery                               19439 non-null  float64\n",
      " 6   final.output.tail_ag                                19438 non-null  float64\n",
      " 7   final.output.tail_pb                                19338 non-null  float64\n",
      " 8   final.output.tail_sol                               19433 non-null  float64\n",
      " 9   final.output.tail_au                                19439 non-null  float64\n",
      " 10  primary_cleaner.input.sulfate                       19415 non-null  float64\n",
      " 11  primary_cleaner.input.depressant                    19402 non-null  float64\n",
      " 12  primary_cleaner.input.feed_size                     19439 non-null  float64\n",
      " 13  primary_cleaner.input.xanthate                      19335 non-null  float64\n",
      " 14  primary_cleaner.output.concentrate_ag               19439 non-null  float64\n",
      " 15  primary_cleaner.output.concentrate_pb               19323 non-null  float64\n",
      " 16  primary_cleaner.output.concentrate_sol              19069 non-null  float64\n",
      " 17  primary_cleaner.output.concentrate_au               19439 non-null  float64\n",
      " 18  primary_cleaner.output.tail_ag                      19435 non-null  float64\n",
      " 19  primary_cleaner.output.tail_pb                      19418 non-null  float64\n",
      " 20  primary_cleaner.output.tail_sol                     19377 non-null  float64\n",
      " 21  primary_cleaner.output.tail_au                      19439 non-null  float64\n",
      " 22  primary_cleaner.state.floatbank8_a_air              19435 non-null  float64\n",
      " 23  primary_cleaner.state.floatbank8_a_level            19438 non-null  float64\n",
      " 24  primary_cleaner.state.floatbank8_b_air              19435 non-null  float64\n",
      " 25  primary_cleaner.state.floatbank8_b_level            19438 non-null  float64\n",
      " 26  primary_cleaner.state.floatbank8_c_air              19437 non-null  float64\n",
      " 27  primary_cleaner.state.floatbank8_c_level            19438 non-null  float64\n",
      " 28  primary_cleaner.state.floatbank8_d_air              19436 non-null  float64\n",
      " 29  primary_cleaner.state.floatbank8_d_level            19438 non-null  float64\n",
      " 30  rougher.calculation.sulfate_to_au_concentrate       19437 non-null  float64\n",
      " 31  rougher.calculation.floatbank10_sulfate_to_au_feed  19437 non-null  float64\n",
      " 32  rougher.calculation.floatbank11_sulfate_to_au_feed  19437 non-null  float64\n",
      " 33  rougher.calculation.au_pb_ratio                     19439 non-null  float64\n",
      " 34  rougher.input.feed_ag                               19439 non-null  float64\n",
      " 35  rougher.input.feed_pb                               19339 non-null  float64\n",
      " 36  rougher.input.feed_rate                             19428 non-null  float64\n",
      " 37  rougher.input.feed_size                             19294 non-null  float64\n",
      " 38  rougher.input.feed_sol                              19340 non-null  float64\n",
      " 39  rougher.input.feed_au                               19439 non-null  float64\n",
      " 40  rougher.input.floatbank10_sulfate                   19405 non-null  float64\n",
      " 41  rougher.input.floatbank10_xanthate                  19431 non-null  float64\n",
      " 42  rougher.input.floatbank11_sulfate                   19395 non-null  float64\n",
      " 43  rougher.input.floatbank11_xanthate                  18986 non-null  float64\n",
      " 44  rougher.output.concentrate_ag                       19439 non-null  float64\n",
      " 45  rougher.output.concentrate_pb                       19439 non-null  float64\n",
      " 46  rougher.output.concentrate_sol                      19416 non-null  float64\n",
      " 47  rougher.output.concentrate_au                       19439 non-null  float64\n",
      " 48  rougher.output.recovery                             19439 non-null  float64\n",
      " 49  rougher.output.tail_ag                              19438 non-null  float64\n",
      " 50  rougher.output.tail_pb                              19439 non-null  float64\n",
      " 51  rougher.output.tail_sol                             19439 non-null  float64\n",
      " 52  rougher.output.tail_au                              19439 non-null  float64\n",
      " 53  rougher.state.floatbank10_a_air                     19438 non-null  float64\n",
      " 54  rougher.state.floatbank10_a_level                   19438 non-null  float64\n",
      " 55  rougher.state.floatbank10_b_air                     19438 non-null  float64\n",
      " 56  rougher.state.floatbank10_b_level                   19438 non-null  float64\n",
      " 57  rougher.state.floatbank10_c_air                     19438 non-null  float64\n",
      " 58  rougher.state.floatbank10_c_level                   19438 non-null  float64\n",
      " 59  rougher.state.floatbank10_d_air                     19439 non-null  float64\n",
      " 60  rougher.state.floatbank10_d_level                   19439 non-null  float64\n",
      " 61  rougher.state.floatbank10_e_air                     19003 non-null  float64\n",
      " 62  rougher.state.floatbank10_e_level                   19439 non-null  float64\n",
      " 63  rougher.state.floatbank10_f_air                     19439 non-null  float64\n",
      " 64  rougher.state.floatbank10_f_level                   19439 non-null  float64\n",
      " 65  secondary_cleaner.output.tail_ag                    19437 non-null  float64\n",
      " 66  secondary_cleaner.output.tail_pb                    19427 non-null  float64\n",
      " 67  secondary_cleaner.output.tail_sol                   17691 non-null  float64\n",
      " 68  secondary_cleaner.output.tail_au                    19439 non-null  float64\n",
      " 69  secondary_cleaner.state.floatbank2_a_air            19219 non-null  float64\n",
      " 70  secondary_cleaner.state.floatbank2_a_level          19438 non-null  float64\n",
      " 71  secondary_cleaner.state.floatbank2_b_air            19416 non-null  float64\n",
      " 72  secondary_cleaner.state.floatbank2_b_level          19438 non-null  float64\n",
      " 73  secondary_cleaner.state.floatbank3_a_air            19426 non-null  float64\n",
      " 74  secondary_cleaner.state.floatbank3_a_level          19438 non-null  float64\n",
      " 75  secondary_cleaner.state.floatbank3_b_air            19438 non-null  float64\n",
      " 76  secondary_cleaner.state.floatbank3_b_level          19438 non-null  float64\n",
      " 77  secondary_cleaner.state.floatbank4_a_air            19433 non-null  float64\n",
      " 78  secondary_cleaner.state.floatbank4_a_level          19438 non-null  float64\n",
      " 79  secondary_cleaner.state.floatbank4_b_air            19438 non-null  float64\n",
      " 80  secondary_cleaner.state.floatbank4_b_level          19438 non-null  float64\n",
      " 81  secondary_cleaner.state.floatbank5_a_air            19438 non-null  float64\n",
      " 82  secondary_cleaner.state.floatbank5_a_level          19438 non-null  float64\n",
      " 83  secondary_cleaner.state.floatbank5_b_air            19438 non-null  float64\n",
      " 84  secondary_cleaner.state.floatbank5_b_level          19438 non-null  float64\n",
      " 85  secondary_cleaner.state.floatbank6_a_air            19437 non-null  float64\n",
      " 86  secondary_cleaner.state.floatbank6_a_level          19438 non-null  float64\n",
      "dtypes: float64(86), object(1)\n",
      "memory usage: 12.9+ MB\n"
     ]
    },
    {
     "data": {
      "text/plain": [
       "(19439, 87)"
      ]
     },
     "execution_count": 4,
     "metadata": {},
     "output_type": "execute_result"
    }
   ],
   "source": [
    "df_full = pd.read_csv('https://code.s3.yandex.net/datasets/gold_recovery_full_new.csv')\n",
    "display(df_full.head())\n",
    "df_full.info()\n",
    "df_full.shape"
   ]
  },
  {
   "cell_type": "markdown",
   "metadata": {},
   "source": [
    "# Описание данных\n",
    " Технологический процесс  \n",
    "\n",
    "- Rougher feed — исходное сырье  \n",
    "- Rougher additions (или reagent additions) — флотационные реагенты: Xanthate, Sulphate, Depressant  \n",
    "  - Xanthate **— ксантогенат (промотер, или активатор флотации);  \n",
    "  - Sulphate — сульфат (на данном производстве сульфид натрия);  \n",
    "  - Depressant — депрессант (силикат натрия).  \n",
    "- Rougher process (англ. «грубый процесс») — флотация  \n",
    "- Rougher tails — отвальные хвосты  \n",
    "- Float banks — флотационная установка  \n",
    "- Cleaner process — очистка  \n",
    "- Rougher Au — черновой концентрат золота  \n",
    "- Final Au — финальный концентрат золота\n",
    "\n",
    "Параметры этапов    \n",
    "\n",
    "- air amount — объём воздуха  \n",
    "- fluid levels — уровень жидкости  \n",
    "- feed size — размер гранул сырья  \n",
    "- feed rate — скорость подачи  \n"
   ]
  },
  {
   "cell_type": "markdown",
   "metadata": {},
   "source": [
    "### Наименование признаков\n",
    "\n",
    "[этап].[тип_параметра].[название_параметра]    \n",
    "\n",
    "Возможные значения для блока [этап]:  \n",
    "\n",
    "- rougher — флотация\n",
    "- primary_cleaner — первичная очистка\n",
    "- secondary_cleaner — вторичная очистка\n",
    "- final — финальные характеристики  \n",
    "\n",
    "Возможные значения для блока [тип_параметра]:  \n",
    "\n",
    "- input — параметры сырья\n",
    "- output — параметры продукта\n",
    "- state — параметры, характеризующие текущее состояние этапа\n",
    "- calculation — расчётные характеристики"
   ]
  },
  {
   "cell_type": "markdown",
   "metadata": {},
   "source": [
    "### Проверка правильности рассчетов эффективности обогащения \n"
   ]
  },
  {
   "cell_type": "code",
   "execution_count": 5,
   "metadata": {},
   "outputs": [
    {
     "name": "stdout",
     "output_type": "stream",
     "text": [
      "MAE: 1.0748911125799084e-14\n"
     ]
    }
   ],
   "source": [
    "concentrate_au = df_train['rougher.output.concentrate_au']\n",
    "input_au = df_train['rougher.input.feed_au']\n",
    "tail_au = df_train['rougher.output.tail_au']\n",
    "input_recovery = df_train['rougher.output.recovery']\n",
    "calculated_recovery = concentrate_au * (input_au - tail_au) / input_au / (concentrate_au - tail_au) * 100\n",
    "print('MAE:', mean_absolute_error(input_recovery, calculated_recovery))"
   ]
  },
  {
   "cell_type": "markdown",
   "metadata": {},
   "source": [
    " Параметр recovery в df_train указан верно "
   ]
  },
  {
   "cell_type": "markdown",
   "metadata": {},
   "source": [
    "### Анализ признаков, недоступных в тестовой выборке"
   ]
  },
  {
   "cell_type": "code",
   "execution_count": 6,
   "metadata": {
    "scrolled": false
   },
   "outputs": [
    {
     "data": {
      "text/plain": [
       "['final.output.concentrate_ag',\n",
       " 'final.output.concentrate_pb',\n",
       " 'final.output.concentrate_sol',\n",
       " 'final.output.concentrate_au',\n",
       " 'final.output.recovery',\n",
       " 'final.output.tail_ag',\n",
       " 'final.output.tail_pb',\n",
       " 'final.output.tail_sol',\n",
       " 'final.output.tail_au',\n",
       " 'primary_cleaner.output.concentrate_ag',\n",
       " 'primary_cleaner.output.concentrate_pb',\n",
       " 'primary_cleaner.output.concentrate_sol',\n",
       " 'primary_cleaner.output.concentrate_au',\n",
       " 'primary_cleaner.output.tail_ag',\n",
       " 'primary_cleaner.output.tail_pb',\n",
       " 'primary_cleaner.output.tail_sol',\n",
       " 'primary_cleaner.output.tail_au',\n",
       " 'rougher.calculation.sulfate_to_au_concentrate',\n",
       " 'rougher.calculation.floatbank10_sulfate_to_au_feed',\n",
       " 'rougher.calculation.floatbank11_sulfate_to_au_feed',\n",
       " 'rougher.calculation.au_pb_ratio',\n",
       " 'rougher.output.concentrate_ag',\n",
       " 'rougher.output.concentrate_pb',\n",
       " 'rougher.output.concentrate_sol',\n",
       " 'rougher.output.concentrate_au',\n",
       " 'rougher.output.recovery',\n",
       " 'rougher.output.tail_ag',\n",
       " 'rougher.output.tail_pb',\n",
       " 'rougher.output.tail_sol',\n",
       " 'rougher.output.tail_au',\n",
       " 'secondary_cleaner.output.tail_ag',\n",
       " 'secondary_cleaner.output.tail_pb',\n",
       " 'secondary_cleaner.output.tail_sol',\n",
       " 'secondary_cleaner.output.tail_au']"
      ]
     },
     "execution_count": 6,
     "metadata": {},
     "output_type": "execute_result"
    }
   ],
   "source": [
    "columns = [row for row in df_train.columns if row not in df_test.columns]\n",
    "columns"
   ]
  },
  {
   "cell_type": "markdown",
   "metadata": {},
   "source": [
    "В тестовой выборке недоступны 34 признака. 30 из них означают параметр продукта, а 4 рассчетные характеристики"
   ]
  },
  {
   "cell_type": "markdown",
   "metadata": {},
   "source": [
    "### Предобработка данных"
   ]
  },
  {
   "cell_type": "code",
   "execution_count": 7,
   "metadata": {},
   "outputs": [],
   "source": [
    "df_train = df_train.dropna()\n",
    "df_test = df_test.dropna()"
   ]
  },
  {
   "cell_type": "code",
   "execution_count": 8,
   "metadata": {},
   "outputs": [],
   "source": [
    "features_columns = df_test.columns[1:]\n",
    "test_features_rougher = set(features_columns[12:34])\n",
    "test_features_final = set(features_columns)"
   ]
  },
  {
   "cell_type": "code",
   "execution_count": 9,
   "metadata": {},
   "outputs": [],
   "source": [
    "df_train = df_train.drop(df_train[df_train['rougher.output.recovery'] == 0].index)"
   ]
  },
  {
   "cell_type": "code",
   "execution_count": 10,
   "metadata": {},
   "outputs": [],
   "source": [
    "df_test_target = df_test.merge(df_full.loc[:,['date',\"rougher.output.recovery\",\"final.output.recovery\"]],on = 'date')"
   ]
  },
  {
   "cell_type": "code",
   "execution_count": 11,
   "metadata": {},
   "outputs": [],
   "source": [
    "df_test = df_test_target.loc[:,df_test.columns]"
   ]
  },
  {
   "cell_type": "code",
   "execution_count": 12,
   "metadata": {},
   "outputs": [],
   "source": [
    "test_target_rougher = df_test_target['rougher.output.recovery']\n",
    "test_target_final = df_test_target['final.output.recovery']"
   ]
  },
  {
   "cell_type": "code",
   "execution_count": 13,
   "metadata": {},
   "outputs": [],
   "source": [
    "df_train = df_train.drop('date',axis=1)\n",
    "df_test = df_test.drop('date',axis=1)\n",
    "df_full = df_full.drop('date', axis=1)"
   ]
  },
  {
   "cell_type": "markdown",
   "metadata": {},
   "source": [
    "## Анализ данных"
   ]
  },
  {
   "cell_type": "markdown",
   "metadata": {},
   "source": [
    "### Оценка концентрация металлов (Au, Ag, Pb) на различных этапах очистки"
   ]
  },
  {
   "cell_type": "code",
   "execution_count": 14,
   "metadata": {
    "scrolled": true
   },
   "outputs": [
    {
     "name": "stdout",
     "output_type": "stream",
     "text": [
      "Концентрация до флотации:\n",
      "Серебра: 8.794927425814688 Свинца: 3.598084975395463 Золота: 8.266097326589103\n",
      "\n",
      "Концентрация после флотации:\n",
      "Серебра: 11.994759359873429 Свинца: 7.606272313195003 Золота: 19.772000139486316\n",
      "\n",
      "Концентрация после первичной очистки:\n",
      "Серебра: 8.44240807771906 Свинца: 9.829529774200518 Золота: 32.1194004078765\n",
      "\n",
      "Концентрация поле вторичной очистки:\n",
      "Серебра: 5.168470373676801 Свинца: 9.978894911181722 Золота: 44.0765129419528\n"
     ]
    }
   ],
   "source": [
    "print('Концентрация до флотации:')\n",
    "print('Серебра:', df_full['rougher.input.feed_ag'].mean(),\n",
    "      'Свинца:', df_full['rougher.input.feed_pb'].mean(),\n",
    "      'Золота:', df_full['rougher.input.feed_au'].mean())\n",
    "print()\n",
    "print('Концентрация после флотации:')\n",
    "print('Серебра:', df_full['rougher.output.concentrate_ag'].mean(),\n",
    "      'Свинца:', df_full['rougher.output.concentrate_pb'].mean(),\n",
    "      'Золота:', df_full['rougher.output.concentrate_au'].mean())\n",
    "print()\n",
    "print('Концентрация после первичной очистки:')\n",
    "print('Серебра:', df_full['primary_cleaner.output.concentrate_ag'].mean(),\n",
    "      'Свинца:', df_full['primary_cleaner.output.concentrate_pb'].mean(),\n",
    "      'Золота:', df_full['primary_cleaner.output.concentrate_au'].mean())\n",
    "print()\n",
    "print('Концентрация поле вторичной очистки:')\n",
    "print('Серебра:', df_full['final.output.concentrate_ag'].mean(),\n",
    "      'Свинца:', df_full['final.output.concentrate_pb'].mean(),\n",
    "      'Золота:', df_full['final.output.concentrate_au'].mean())"
   ]
  },
  {
   "cell_type": "markdown",
   "metadata": {},
   "source": [
    "После флотации концентрация металлов увеличилась.   \n",
    "С каждым этапом последующей очистки концетрация свинца и золота продолжала расти, а серебра наоборот, падала. "
   ]
  },
  {
   "cell_type": "markdown",
   "metadata": {},
   "source": [
    "### Сравнение распределения размеров гранул сырья на обучающей и тестовой выборках."
   ]
  },
  {
   "cell_type": "code",
   "execution_count": 15,
   "metadata": {
    "scrolled": false
   },
   "outputs": [
    {
     "data": {
      "image/png": "[encoded data removed]",
      "text/plain": [
       "<Figure size 720x360 with 1 Axes>"
      ]
     },
     "metadata": {
      "needs_background": "light"
     },
     "output_type": "display_data"
    }
   ],
   "source": [
    "plt.figure(figsize=[10,5])\n",
    "\n",
    "plt.hist(df_train['rougher.input.feed_size'], bins=300, label ='train', alpha=0.4)\n",
    "plt.hist(df_test['rougher.input.feed_size'], bins=300, label ='test', alpha=0.4)\n",
    "\n",
    "plt.xlim([0, 150])\n",
    "plt.ylim([0, 1200])\n",
    "\n",
    "\n",
    "plt.legend(loc='upper left', fontsize='x-large')\n",
    "\n",
    "plt.title(\"Гистограмма распределения размера гранул сырья\")\n",
    "plt.show()"
   ]
  },
  {
   "cell_type": "markdown",
   "metadata": {},
   "source": [
    "На графике видно нормальное распределение со смещением вправо на обеих выборках. "
   ]
  },
  {
   "cell_type": "markdown",
   "metadata": {},
   "source": [
    "Распределения похожи, делаем вывод что по данным выборкам возможно обучение. "
   ]
  },
  {
   "cell_type": "markdown",
   "metadata": {},
   "source": [
    "### Cуммарная концентрация всех веществ на разных стадиях: в сырье, в черновом и финальном концентратах."
   ]
  },
  {
   "cell_type": "code",
   "execution_count": 16,
   "metadata": {},
   "outputs": [],
   "source": [
    "primary_cleaner_output_concentrate_sum_train = (df_train['rougher.input.feed_au'] + \n",
    "                                                df_train['rougher.input.feed_ag'] + \n",
    "                                                df_train['rougher.input.feed_pb'] +\n",
    "                                                df_train['rougher.input.feed_sol'])\n",
    "rougher_output_concentrate_sum_train = (df_train['rougher.output.concentrate_au'] + \n",
    "                                        df_train['rougher.output.concentrate_ag'] + \n",
    "                                        df_train['rougher.output.concentrate_pb'] +\n",
    "                                        df_train['rougher.output.concentrate_sol'])\n",
    "final_output_concentrate_sum_train = (df_train['final.output.concentrate_au'] + \n",
    "                                      df_train['final.output.concentrate_ag'] + \n",
    "                                      df_train['final.output.concentrate_pb'] +\n",
    "                                      df_train['final.output.concentrate_sol'])"
   ]
  },
  {
   "cell_type": "code",
   "execution_count": 17,
   "metadata": {
    "scrolled": true
   },
   "outputs": [
    {
     "data": {
      "image/png": "[encoded data removed]",
      "text/plain": [
       "<Figure size 720x360 with 1 Axes>"
      ]
     },
     "metadata": {
      "needs_background": "light"
     },
     "output_type": "display_data"
    }
   ],
   "source": [
    "plt.figure(figsize=[10,5])\n",
    "\n",
    "plt.hist(primary_cleaner_output_concentrate_sum_train, bins=150, label = 'Концентрация в сырье', alpha=0.4)\n",
    "plt.hist(rougher_output_concentrate_sum_train, bins=150, label = 'Концентрация в черновом', alpha=0.4)\n",
    "plt.hist(final_output_concentrate_sum_train, bins=150, label = 'Концентрация в финальном', alpha=0.4)\n",
    "\n",
    "plt.xlim([0, 100])\n",
    "plt.ylim([0, 1200])\n",
    "\n",
    "plt.xlabel('Суммарная концентраця')\n",
    "plt.ylabel('Количество результатов')\n",
    "\n",
    "plt.legend(loc='upper left', fontsize='x-large')\n",
    "\n",
    "plt.title('Cуммарная концентрация всех веществ на разных стадиях.')\n",
    "plt.show()"
   ]
  },
  {
   "cell_type": "markdown",
   "metadata": {},
   "source": [
    "Удаление выбросов"
   ]
  },
  {
   "cell_type": "code",
   "execution_count": 18,
   "metadata": {},
   "outputs": [],
   "source": [
    "df_train = df_train.drop(df_train[df_train['final.output.concentrate_au'] == 0].index)\n",
    "df_train = df_train.drop(df_train[df_train['final.output.concentrate_ag'] == 0].index)\n",
    "df_train = df_train.drop(df_train[df_train['final.output.concentrate_pb'] == 0].index)\n",
    "df_train = df_train.drop(df_train[df_train['final.output.concentrate_sol'] == 0].index)"
   ]
  },
  {
   "cell_type": "markdown",
   "metadata": {},
   "source": [
    "## Модель"
   ]
  },
  {
   "cell_type": "markdown",
   "metadata": {},
   "source": [
    "### Функция для вычисления итоговой sMAPE"
   ]
  },
  {
   "cell_type": "code",
   "execution_count": 19,
   "metadata": {},
   "outputs": [],
   "source": [
    "def sMAPE(target,features):\n",
    "    error = np.mean(abs(target - features)/((abs(target)+abs(features))/2))*100\n",
    "    return error"
   ]
  },
  {
   "cell_type": "code",
   "execution_count": 20,
   "metadata": {},
   "outputs": [],
   "source": [
    "def final_sMAPE(sMAPE_rougher,sMAPE_final):\n",
    "    return (0.25*sMAPE_rougher + 0.75*sMAPE_final)"
   ]
  },
  {
   "cell_type": "code",
   "execution_count": 21,
   "metadata": {},
   "outputs": [],
   "source": [
    "custom_score = make_scorer(sMAPE,greater_is_better=False)"
   ]
  },
  {
   "cell_type": "markdown",
   "metadata": {},
   "source": [
    "### Работа с моделями\n"
   ]
  },
  {
   "cell_type": "code",
   "execution_count": 22,
   "metadata": {},
   "outputs": [],
   "source": [
    "train_target_rougher = df_train['rougher.output.recovery']\n",
    "train_target_final = df_train['final.output.recovery']"
   ]
  },
  {
   "cell_type": "code",
   "execution_count": 23,
   "metadata": {},
   "outputs": [],
   "source": [
    "columns_to_delete = set(df_train.columns) - test_features_final\n",
    "train_features_final = df_train.drop(columns_to_delete, axis=1)\n",
    "\n",
    "columns_to_delete = set(train_features_final.columns) - test_features_rougher\n",
    "train_features_rougher = train_features_final.drop(columns_to_delete, axis=1)"
   ]
  },
  {
   "cell_type": "code",
   "execution_count": 24,
   "metadata": {},
   "outputs": [],
   "source": [
    "test_features_final = df_test\n",
    "columns_to_delete = set(test_features_final.columns) - test_features_rougher\n",
    "test_features_rougher = test_features_final.drop(columns_to_delete, axis=1)"
   ]
  },
  {
   "cell_type": "code",
   "execution_count": 25,
   "metadata": {},
   "outputs": [
    {
     "data": {
      "text/plain": [
       "Pipeline(steps=[('standardscaler', StandardScaler()),\n",
       "                ('decisiontreeregressor', DecisionTreeRegressor())])"
      ]
     },
     "execution_count": 25,
     "metadata": {},
     "output_type": "execute_result"
    }
   ],
   "source": [
    "model_RFR = make_pipeline(StandardScaler(),RandomForestRegressor())\n",
    "model_DTR = make_pipeline(StandardScaler(),DecisionTreeRegressor())\n",
    "model_DTR"
   ]
  },
  {
   "cell_type": "code",
   "execution_count": 26,
   "metadata": {},
   "outputs": [],
   "source": [
    "parameters_RFR = {'randomforestregressor__n_estimators':[1,100],\n",
    "             'randomforestregressor__max_depth':[1,10]}\n",
    "parameters_DTR = {'decisiontreeregressor__max_depth':[1,10]}"
   ]
  },
  {
   "cell_type": "code",
   "execution_count": 27,
   "metadata": {
    "scrolled": true
   },
   "outputs": [],
   "source": [
    "grid_rougher_RFR = GridSearchCV(model_RFR, param_grid = parameters_RFR, scoring=custom_score)\n",
    "grid_final_RFR = GridSearchCV(model_RFR, param_grid = parameters_RFR, scoring=custom_score)\n",
    "grid_rougher_DTR = GridSearchCV(model_DTR, param_grid = parameters_DTR, scoring=custom_score)\n",
    "grid_final_DTR = GridSearchCV(model_DTR, param_grid = parameters_DTR,scoring=custom_score)"
   ]
  },
  {
   "cell_type": "code",
   "execution_count": 28,
   "metadata": {
    "scrolled": true
   },
   "outputs": [
    {
     "name": "stdout",
     "output_type": "stream",
     "text": [
      "CPU times: user 3min, sys: 167 ms, total: 3min\n",
      "Wall time: 3min 12s\n"
     ]
    },
    {
     "data": {
      "text/plain": [
       "GridSearchCV(estimator=Pipeline(steps=[('standardscaler', StandardScaler()),\n",
       "                                       ('decisiontreeregressor',\n",
       "                                        DecisionTreeRegressor())]),\n",
       "             param_grid={'decisiontreeregressor__max_depth': [1, 10]},\n",
       "             scoring=make_scorer(sMAPE, greater_is_better=False))"
      ]
     },
     "execution_count": 28,
     "metadata": {},
     "output_type": "execute_result"
    }
   ],
   "source": [
    "%%time\n",
    "\n",
    "\n",
    "grid_rougher_RFR.fit(train_features_rougher,train_target_rougher)\n",
    "grid_final_RFR.fit(train_features_final,train_target_final)\n",
    "grid_rougher_DTR.fit(train_features_rougher,train_target_rougher)\n",
    "grid_final_DTR.fit(train_features_final,train_target_final)"
   ]
  },
  {
   "cell_type": "code",
   "execution_count": 29,
   "metadata": {},
   "outputs": [],
   "source": [
    "best_rougher_RFR = grid_rougher_RFR.best_score_\n",
    "best_final_RFR = grid_final_RFR.best_score_\n",
    "best_rougher_DTR = grid_rougher_DTR.best_score_\n",
    "best_final_DTR = grid_final_DTR.best_score_"
   ]
  },
  {
   "cell_type": "code",
   "execution_count": 30,
   "metadata": {},
   "outputs": [
    {
     "name": "stdout",
     "output_type": "stream",
     "text": [
      "rougher\n",
      "RandomForest -6.3157857763781795 DecisionTree -6.965374373672408\n",
      "final\n",
      "RandomForest -8.182338450102694 DecisionTree -8.235563066250974\n"
     ]
    }
   ],
   "source": [
    "print('rougher')\n",
    "print('RandomForest',best_rougher_RFR,'DecisionTree',best_rougher_DTR)\n",
    "print('final')\n",
    "print('RandomForest',best_final_RFR,'DecisionTree',best_final_DTR)"
   ]
  },
  {
   "cell_type": "code",
   "execution_count": 31,
   "metadata": {},
   "outputs": [],
   "source": [
    "rogher_test_pred_DTR = grid_rougher_DTR.predict(test_features_rougher)\n",
    "final_test_pred_DTR = grid_final_DTR.predict(test_features_final)"
   ]
  },
  {
   "cell_type": "code",
   "execution_count": 32,
   "metadata": {
    "scrolled": false
   },
   "outputs": [
    {
     "data": {
      "text/plain": [
       "8.940166362192167"
      ]
     },
     "execution_count": 32,
     "metadata": {},
     "output_type": "execute_result"
    }
   ],
   "source": [
    "final_sMAPE(sMAPE(test_target_rougher,rogher_test_pred_DTR),sMAPE(test_target_final,final_test_pred_DTR))"
   ]
  },
  {
   "cell_type": "code",
   "execution_count": 33,
   "metadata": {},
   "outputs": [],
   "source": [
    "rogher_test_pred_RFR = grid_rougher_RFR.predict(test_features_rougher)\n",
    "final_test_pred_RFR = grid_final_RFR.predict(test_features_final)"
   ]
  },
  {
   "cell_type": "code",
   "execution_count": 34,
   "metadata": {
    "scrolled": false
   },
   "outputs": [
    {
     "data": {
      "text/plain": [
       "8.78414802128101"
      ]
     },
     "execution_count": 34,
     "metadata": {},
     "output_type": "execute_result"
    }
   ],
   "source": [
    "final_sMAPE(sMAPE(test_target_rougher,rogher_test_pred_RFR),sMAPE(test_target_final,final_test_pred_RFR))"
   ]
  },
  {
   "cell_type": "markdown",
   "metadata": {},
   "source": [
    "Лучшая модель RandomForestRegressor. ЕЕ значение sMAPE самое низкое. "
   ]
  },
  {
   "cell_type": "code",
   "execution_count": 35,
   "metadata": {},
   "outputs": [],
   "source": [
    "constant_rougher = DummyRegressor(strategy=\"median\")\n",
    "constant_final = DummyRegressor(strategy=\"median\")"
   ]
  },
  {
   "cell_type": "code",
   "execution_count": 36,
   "metadata": {},
   "outputs": [
    {
     "data": {
      "text/plain": [
       "DummyRegressor(strategy='median')"
      ]
     },
     "execution_count": 36,
     "metadata": {},
     "output_type": "execute_result"
    }
   ],
   "source": [
    "constant_rougher.fit(train_features_rougher,train_target_rougher)\n",
    "constant_final.fit(train_features_final,train_target_final)"
   ]
  },
  {
   "cell_type": "code",
   "execution_count": 37,
   "metadata": {},
   "outputs": [],
   "source": [
    "constant_rougher_prediction = constant_rougher.predict(test_features_rougher)\n",
    "constant_final_prediction = constant_final.predict(test_features_final)"
   ]
  },
  {
   "cell_type": "code",
   "execution_count": 38,
   "metadata": {
    "scrolled": true
   },
   "outputs": [
    {
     "data": {
      "text/plain": [
       "9.093810363368728"
      ]
     },
     "execution_count": 38,
     "metadata": {},
     "output_type": "execute_result"
    }
   ],
   "source": [
    "final_sMAPE(sMAPE(test_target_rougher,constant_rougher_prediction),sMAPE(test_target_final,constant_final_prediction))"
   ]
  },
  {
   "cell_type": "markdown",
   "metadata": {},
   "source": [
    "Предсказание модели адекватно, так как sMAPE (9.0) на константном алгоритме выше, чем sMAPE (8.7) лучшей модели RandomForestRegressor"
   ]
  },
  {
   "cell_type": "markdown",
   "metadata": {},
   "source": [
    "## Вывод"
   ]
  },
  {
   "cell_type": "markdown",
   "metadata": {},
   "source": [
    "В данной работе были изучены три датасета.  \n",
    "\n",
    "На этапе предобработки данных:\n",
    "- подтверждена правильности рассчета эффективности обогащенияж\n",
    "- проанализированы признаки, недоступные в тестовой выборке. Были определены их параметры и принадлежность к определенному типу;\n",
    "- удалены NAN;\n",
    "- восстановлены некоторые пропущенные стобцы в датасете с тестовой выборкой.\n",
    "\n",
    "На этапе анализа данных:\n",
    "- проанализирована изменчивость концентрации металлов Au, Ag, Pb на различных этапах очистки;\n",
    "- выполнено сравнение распределения размеров гранул сырья на обучающей и тестовых выборках; \n",
    "- исследована суммарная концентрация всех веществ на разных стадиях: в сырье, в черновом и финальном концентратах.\n",
    "\n",
    "На этапе работы с моделью:\n",
    "- написана функция для вычисления итоговой sMAPE;\n",
    "- обучены две модели и оценено их качество;\n",
    "- выбрана лучшая модель RandomForestRegressor и проверена на тестовой выборке."
   ]
  }
 ],
 "metadata": {
  "ExecuteTimeLog": [
   {
    "duration": 1680,
    "start_time": "2022-09-13T14:52:01.183Z"
   },
   {
    "duration": 1313,
    "start_time": "2022-09-13T15:00:04.044Z"
   },
   {
    "duration": 271,
    "start_time": "2022-09-13T15:00:30.628Z"
   },
   {
    "duration": 311,
    "start_time": "2022-09-13T15:01:35.982Z"
   },
   {
    "duration": 311,
    "start_time": "2022-09-13T15:02:00.923Z"
   },
   {
    "duration": 268,
    "start_time": "2022-09-13T15:02:57.562Z"
   },
   {
    "duration": 138,
    "start_time": "2022-09-13T15:03:27.763Z"
   },
   {
    "duration": 292,
    "start_time": "2022-09-13T15:03:48.657Z"
   },
   {
    "duration": 130,
    "start_time": "2022-09-13T15:04:42.286Z"
   },
   {
    "duration": 145,
    "start_time": "2022-09-13T15:05:36.945Z"
   },
   {
    "duration": 43,
    "start_time": "2022-09-13T15:05:46.729Z"
   },
   {
    "duration": 53,
    "start_time": "2022-09-13T15:05:54.868Z"
   },
   {
    "duration": 668,
    "start_time": "2022-09-13T15:06:05.627Z"
   },
   {
    "duration": 3,
    "start_time": "2022-09-13T15:25:26.766Z"
   },
   {
    "duration": 3,
    "start_time": "2022-09-13T15:31:02.451Z"
   },
   {
    "duration": 6,
    "start_time": "2022-09-13T15:31:39.028Z"
   },
   {
    "duration": 10,
    "start_time": "2022-09-13T15:32:23.197Z"
   },
   {
    "duration": 8,
    "start_time": "2022-09-13T15:32:40.532Z"
   },
   {
    "duration": 4,
    "start_time": "2022-09-13T15:36:15.100Z"
   },
   {
    "duration": 8,
    "start_time": "2022-09-13T15:36:15.452Z"
   },
   {
    "duration": 10,
    "start_time": "2022-09-13T15:37:45.486Z"
   },
   {
    "duration": 256,
    "start_time": "2022-09-13T15:37:49.460Z"
   },
   {
    "duration": 256,
    "start_time": "2022-09-13T15:37:51.758Z"
   },
   {
    "duration": 277,
    "start_time": "2022-09-13T15:37:57.162Z"
   },
   {
    "duration": 3,
    "start_time": "2022-09-13T15:38:20.153Z"
   },
   {
    "duration": 8,
    "start_time": "2022-09-13T15:38:20.600Z"
   },
   {
    "duration": 10,
    "start_time": "2022-09-13T15:39:04.352Z"
   },
   {
    "duration": 10,
    "start_time": "2022-09-13T15:43:11.034Z"
   },
   {
    "duration": 8,
    "start_time": "2022-09-13T15:43:13.184Z"
   },
   {
    "duration": 9,
    "start_time": "2022-09-13T15:43:13.653Z"
   },
   {
    "duration": 17,
    "start_time": "2022-09-13T15:43:19.901Z"
   },
   {
    "duration": 334,
    "start_time": "2022-09-13T15:43:19.920Z"
   },
   {
    "duration": 113,
    "start_time": "2022-09-13T15:43:20.255Z"
   },
   {
    "duration": 391,
    "start_time": "2022-09-13T15:43:20.371Z"
   },
   {
    "duration": 3,
    "start_time": "2022-09-13T15:43:20.764Z"
   },
   {
    "duration": 8,
    "start_time": "2022-09-13T15:43:20.768Z"
   },
   {
    "duration": 15,
    "start_time": "2022-09-13T15:43:20.777Z"
   },
   {
    "duration": 6,
    "start_time": "2022-09-13T15:44:27.927Z"
   },
   {
    "duration": 4,
    "start_time": "2022-09-13T15:44:31.793Z"
   },
   {
    "duration": 3,
    "start_time": "2022-09-13T15:44:32.151Z"
   },
   {
    "duration": 10,
    "start_time": "2022-09-13T15:44:35.312Z"
   },
   {
    "duration": 323,
    "start_time": "2022-09-13T15:44:35.324Z"
   },
   {
    "duration": 103,
    "start_time": "2022-09-13T15:44:35.648Z"
   },
   {
    "duration": 377,
    "start_time": "2022-09-13T15:44:35.753Z"
   },
   {
    "duration": 4,
    "start_time": "2022-09-13T15:44:36.136Z"
   },
   {
    "duration": 12,
    "start_time": "2022-09-13T15:44:36.141Z"
   },
   {
    "duration": 13,
    "start_time": "2022-09-13T15:44:36.154Z"
   },
   {
    "duration": 6,
    "start_time": "2022-09-13T15:44:44.332Z"
   },
   {
    "duration": 4,
    "start_time": "2022-09-13T15:46:56.354Z"
   },
   {
    "duration": 5,
    "start_time": "2022-09-13T15:50:03.941Z"
   },
   {
    "duration": 4,
    "start_time": "2022-09-13T15:50:08.641Z"
   },
   {
    "duration": 302,
    "start_time": "2022-09-13T15:50:08.647Z"
   },
   {
    "duration": 101,
    "start_time": "2022-09-13T15:50:08.951Z"
   },
   {
    "duration": 370,
    "start_time": "2022-09-13T15:50:09.053Z"
   },
   {
    "duration": 4,
    "start_time": "2022-09-13T15:50:09.425Z"
   },
   {
    "duration": 18,
    "start_time": "2022-09-13T15:50:09.430Z"
   },
   {
    "duration": 4,
    "start_time": "2022-09-13T15:50:09.449Z"
   },
   {
    "duration": 3,
    "start_time": "2022-09-13T15:50:51.993Z"
   },
   {
    "duration": 7,
    "start_time": "2022-09-13T15:50:52.645Z"
   },
   {
    "duration": 5,
    "start_time": "2022-09-13T15:50:53.349Z"
   },
   {
    "duration": 3,
    "start_time": "2022-09-13T15:51:39.584Z"
   },
   {
    "duration": 6,
    "start_time": "2022-09-13T15:51:39.971Z"
   },
   {
    "duration": 6,
    "start_time": "2022-09-13T15:51:40.432Z"
   },
   {
    "duration": 3,
    "start_time": "2022-09-13T15:52:30.546Z"
   },
   {
    "duration": 7,
    "start_time": "2022-09-13T15:52:30.869Z"
   },
   {
    "duration": 4,
    "start_time": "2022-09-13T15:52:31.267Z"
   },
   {
    "duration": 3,
    "start_time": "2022-09-13T15:53:39.351Z"
   },
   {
    "duration": 8,
    "start_time": "2022-09-13T15:53:39.742Z"
   },
   {
    "duration": 6,
    "start_time": "2022-09-13T15:53:40.154Z"
   },
   {
    "duration": 3,
    "start_time": "2022-09-13T15:54:03.662Z"
   },
   {
    "duration": 6,
    "start_time": "2022-09-13T16:01:03.007Z"
   },
   {
    "duration": 5,
    "start_time": "2022-09-13T16:01:07.556Z"
   },
   {
    "duration": 9,
    "start_time": "2022-09-13T16:01:17.250Z"
   },
   {
    "duration": 10,
    "start_time": "2022-09-13T16:01:23.153Z"
   },
   {
    "duration": 4,
    "start_time": "2022-09-13T16:01:26.761Z"
   },
   {
    "duration": 8,
    "start_time": "2022-09-13T16:01:42.181Z"
   },
   {
    "duration": 11,
    "start_time": "2022-09-13T16:01:47.897Z"
   },
   {
    "duration": 4,
    "start_time": "2022-09-13T16:01:51.360Z"
   },
   {
    "duration": 4,
    "start_time": "2022-09-13T16:03:20.940Z"
   },
   {
    "duration": 9,
    "start_time": "2022-09-13T16:11:23.324Z"
   },
   {
    "duration": 47,
    "start_time": "2022-09-13T16:11:27.892Z"
   },
   {
    "duration": 6,
    "start_time": "2022-09-13T16:12:59.171Z"
   },
   {
    "duration": 28,
    "start_time": "2022-09-13T16:13:42.201Z"
   },
   {
    "duration": 14,
    "start_time": "2022-09-13T16:13:53.557Z"
   },
   {
    "duration": 12,
    "start_time": "2022-09-13T16:13:58.061Z"
   },
   {
    "duration": 13,
    "start_time": "2022-09-13T16:14:01.957Z"
   },
   {
    "duration": 4,
    "start_time": "2022-09-13T16:14:20.880Z"
   },
   {
    "duration": 373,
    "start_time": "2022-09-13T16:14:20.886Z"
   },
   {
    "duration": 106,
    "start_time": "2022-09-13T16:14:21.261Z"
   },
   {
    "duration": 426,
    "start_time": "2022-09-13T16:14:21.369Z"
   },
   {
    "duration": 16,
    "start_time": "2022-09-13T16:14:21.798Z"
   },
   {
    "duration": 34,
    "start_time": "2022-09-13T16:14:21.818Z"
   },
   {
    "duration": 7,
    "start_time": "2022-09-13T16:14:21.854Z"
   },
   {
    "duration": 6,
    "start_time": "2022-09-13T16:14:21.862Z"
   },
   {
    "duration": 15,
    "start_time": "2022-09-13T16:14:21.870Z"
   },
   {
    "duration": 12,
    "start_time": "2022-09-13T16:14:55.446Z"
   },
   {
    "duration": 4,
    "start_time": "2022-09-13T16:14:59.880Z"
   },
   {
    "duration": 314,
    "start_time": "2022-09-13T16:14:59.885Z"
   },
   {
    "duration": 134,
    "start_time": "2022-09-13T16:15:00.200Z"
   },
   {
    "duration": 406,
    "start_time": "2022-09-13T16:15:00.336Z"
   },
   {
    "duration": 3,
    "start_time": "2022-09-13T16:15:00.744Z"
   },
   {
    "duration": 13,
    "start_time": "2022-09-13T16:15:00.748Z"
   },
   {
    "duration": 5,
    "start_time": "2022-09-13T16:15:00.762Z"
   },
   {
    "duration": 10,
    "start_time": "2022-09-13T16:15:00.769Z"
   },
   {
    "duration": 19,
    "start_time": "2022-09-13T16:15:00.780Z"
   },
   {
    "duration": 4,
    "start_time": "2022-09-13T16:16:54.360Z"
   },
   {
    "duration": 5,
    "start_time": "2022-09-13T16:17:02.959Z"
   },
   {
    "duration": 4,
    "start_time": "2022-09-13T16:17:09.796Z"
   },
   {
    "duration": 17,
    "start_time": "2022-09-13T16:23:37.344Z"
   },
   {
    "duration": 10,
    "start_time": "2022-09-13T16:23:53.667Z"
   },
   {
    "duration": 8,
    "start_time": "2022-09-13T16:24:15.131Z"
   },
   {
    "duration": 9,
    "start_time": "2022-09-13T16:24:28.052Z"
   },
   {
    "duration": 80,
    "start_time": "2022-09-13T16:26:46.051Z"
   },
   {
    "duration": 6,
    "start_time": "2022-09-13T16:35:03.212Z"
   },
   {
    "duration": 3,
    "start_time": "2022-09-13T16:35:17.279Z"
   },
   {
    "duration": 3,
    "start_time": "2022-09-13T16:35:25.194Z"
   },
   {
    "duration": 117,
    "start_time": "2022-09-13T16:37:45.783Z"
   },
   {
    "duration": 9,
    "start_time": "2022-09-13T16:37:54.455Z"
   },
   {
    "duration": 109,
    "start_time": "2022-09-13T16:38:25.844Z"
   },
   {
    "duration": 125,
    "start_time": "2022-09-13T16:43:59.935Z"
   },
   {
    "duration": 10,
    "start_time": "2022-09-13T16:44:04.972Z"
   },
   {
    "duration": 11,
    "start_time": "2022-09-13T16:45:55.638Z"
   },
   {
    "duration": 14,
    "start_time": "2022-09-13T16:46:43.018Z"
   },
   {
    "duration": 11,
    "start_time": "2022-09-13T16:47:20.559Z"
   },
   {
    "duration": 17,
    "start_time": "2022-09-13T16:47:23.019Z"
   },
   {
    "duration": 4,
    "start_time": "2022-09-13T16:51:58.948Z"
   },
   {
    "duration": 14,
    "start_time": "2022-09-13T16:53:42.686Z"
   },
   {
    "duration": 14,
    "start_time": "2022-09-13T16:55:04.389Z"
   },
   {
    "duration": 102,
    "start_time": "2022-09-13T16:55:25.889Z"
   },
   {
    "duration": 3050,
    "start_time": "2022-09-14T04:52:03.888Z"
   },
   {
    "duration": 131,
    "start_time": "2022-09-14T04:52:06.940Z"
   },
   {
    "duration": 0,
    "start_time": "2022-09-14T04:52:07.074Z"
   },
   {
    "duration": 0,
    "start_time": "2022-09-14T04:52:07.075Z"
   },
   {
    "duration": 0,
    "start_time": "2022-09-14T04:52:07.077Z"
   },
   {
    "duration": 0,
    "start_time": "2022-09-14T04:52:07.078Z"
   },
   {
    "duration": 0,
    "start_time": "2022-09-14T04:52:07.080Z"
   },
   {
    "duration": 0,
    "start_time": "2022-09-14T04:52:07.081Z"
   },
   {
    "duration": 0,
    "start_time": "2022-09-14T04:52:07.083Z"
   },
   {
    "duration": 0,
    "start_time": "2022-09-14T04:52:07.084Z"
   },
   {
    "duration": 0,
    "start_time": "2022-09-14T04:52:07.086Z"
   },
   {
    "duration": 0,
    "start_time": "2022-09-14T04:52:07.087Z"
   },
   {
    "duration": 0,
    "start_time": "2022-09-14T04:52:07.089Z"
   },
   {
    "duration": 5,
    "start_time": "2022-09-14T04:53:31.078Z"
   },
   {
    "duration": 633,
    "start_time": "2022-09-14T04:53:31.085Z"
   },
   {
    "duration": 282,
    "start_time": "2022-09-14T04:53:31.720Z"
   },
   {
    "duration": 976,
    "start_time": "2022-09-14T04:53:32.004Z"
   },
   {
    "duration": 9,
    "start_time": "2022-09-14T04:53:32.983Z"
   },
   {
    "duration": 16,
    "start_time": "2022-09-14T04:53:32.994Z"
   },
   {
    "duration": 34,
    "start_time": "2022-09-14T04:53:33.013Z"
   },
   {
    "duration": 4,
    "start_time": "2022-09-14T04:53:33.049Z"
   },
   {
    "duration": 14,
    "start_time": "2022-09-14T04:53:33.054Z"
   },
   {
    "duration": 13,
    "start_time": "2022-09-14T04:53:33.070Z"
   },
   {
    "duration": 7,
    "start_time": "2022-09-14T04:53:33.084Z"
   },
   {
    "duration": 19,
    "start_time": "2022-09-14T04:53:33.093Z"
   },
   {
    "duration": 0,
    "start_time": "2022-09-14T04:53:33.113Z"
   },
   {
    "duration": 9,
    "start_time": "2022-09-14T05:02:40.248Z"
   },
   {
    "duration": 10,
    "start_time": "2022-09-14T05:02:52.189Z"
   },
   {
    "duration": 3,
    "start_time": "2022-09-14T05:03:14.283Z"
   },
   {
    "duration": 13,
    "start_time": "2022-09-14T05:03:33.489Z"
   },
   {
    "duration": 13,
    "start_time": "2022-09-14T05:03:38.563Z"
   },
   {
    "duration": 895,
    "start_time": "2022-09-14T05:03:40.739Z"
   },
   {
    "duration": 6,
    "start_time": "2022-09-14T05:03:46.974Z"
   },
   {
    "duration": 659,
    "start_time": "2022-09-14T05:03:49.204Z"
   },
   {
    "duration": 4,
    "start_time": "2022-09-14T05:03:53.189Z"
   },
   {
    "duration": 4,
    "start_time": "2022-09-14T05:03:53.950Z"
   },
   {
    "duration": 4,
    "start_time": "2022-09-14T05:03:58.439Z"
   },
   {
    "duration": 8,
    "start_time": "2022-09-14T05:03:59.039Z"
   },
   {
    "duration": 14,
    "start_time": "2022-09-14T05:04:00.128Z"
   },
   {
    "duration": 3,
    "start_time": "2022-09-14T05:06:51.909Z"
   },
   {
    "duration": 3,
    "start_time": "2022-09-14T05:06:53.594Z"
   },
   {
    "duration": 3,
    "start_time": "2022-09-14T05:06:55.059Z"
   },
   {
    "duration": 10,
    "start_time": "2022-09-14T05:06:55.868Z"
   },
   {
    "duration": 1664,
    "start_time": "2022-09-14T05:07:33.501Z"
   },
   {
    "duration": 593,
    "start_time": "2022-09-14T05:07:35.167Z"
   },
   {
    "duration": 189,
    "start_time": "2022-09-14T05:07:35.762Z"
   },
   {
    "duration": 750,
    "start_time": "2022-09-14T05:07:35.954Z"
   },
   {
    "duration": 7,
    "start_time": "2022-09-14T05:07:36.706Z"
   },
   {
    "duration": 20,
    "start_time": "2022-09-14T05:07:36.714Z"
   },
   {
    "duration": 29,
    "start_time": "2022-09-14T05:07:36.735Z"
   },
   {
    "duration": 16,
    "start_time": "2022-09-14T05:07:36.766Z"
   },
   {
    "duration": 16,
    "start_time": "2022-09-14T05:07:36.784Z"
   },
   {
    "duration": 23,
    "start_time": "2022-09-14T05:07:36.802Z"
   },
   {
    "duration": 10,
    "start_time": "2022-09-14T05:07:36.826Z"
   },
   {
    "duration": 114,
    "start_time": "2022-09-14T05:07:36.838Z"
   },
   {
    "duration": 0,
    "start_time": "2022-09-14T05:07:36.954Z"
   },
   {
    "duration": 0,
    "start_time": "2022-09-14T05:07:36.955Z"
   },
   {
    "duration": 0,
    "start_time": "2022-09-14T05:07:36.956Z"
   },
   {
    "duration": 0,
    "start_time": "2022-09-14T05:07:36.958Z"
   },
   {
    "duration": 0,
    "start_time": "2022-09-14T05:07:36.959Z"
   },
   {
    "duration": 0,
    "start_time": "2022-09-14T05:07:36.961Z"
   },
   {
    "duration": 0,
    "start_time": "2022-09-14T05:07:36.962Z"
   },
   {
    "duration": 0,
    "start_time": "2022-09-14T05:07:36.963Z"
   },
   {
    "duration": 0,
    "start_time": "2022-09-14T05:07:36.965Z"
   },
   {
    "duration": 0,
    "start_time": "2022-09-14T05:07:36.966Z"
   },
   {
    "duration": 1840,
    "start_time": "2022-09-14T05:08:29.898Z"
   },
   {
    "duration": 469,
    "start_time": "2022-09-14T05:08:31.740Z"
   },
   {
    "duration": 192,
    "start_time": "2022-09-14T05:08:32.211Z"
   },
   {
    "duration": 1374,
    "start_time": "2022-09-14T05:08:32.404Z"
   },
   {
    "duration": 7,
    "start_time": "2022-09-14T05:08:33.781Z"
   },
   {
    "duration": 25,
    "start_time": "2022-09-14T05:08:33.790Z"
   },
   {
    "duration": 34,
    "start_time": "2022-09-14T05:08:33.817Z"
   },
   {
    "duration": 21,
    "start_time": "2022-09-14T05:08:33.853Z"
   },
   {
    "duration": 27,
    "start_time": "2022-09-14T05:08:33.876Z"
   },
   {
    "duration": 33,
    "start_time": "2022-09-14T05:08:33.904Z"
   },
   {
    "duration": 32,
    "start_time": "2022-09-14T05:08:33.938Z"
   },
   {
    "duration": 29,
    "start_time": "2022-09-14T05:08:33.972Z"
   },
   {
    "duration": 22,
    "start_time": "2022-09-14T05:08:34.002Z"
   },
   {
    "duration": 24,
    "start_time": "2022-09-14T05:08:34.027Z"
   },
   {
    "duration": 901,
    "start_time": "2022-09-14T05:08:34.053Z"
   },
   {
    "duration": 7,
    "start_time": "2022-09-14T05:08:34.955Z"
   },
   {
    "duration": 667,
    "start_time": "2022-09-14T05:08:34.963Z"
   },
   {
    "duration": 3,
    "start_time": "2022-09-14T05:08:35.632Z"
   },
   {
    "duration": 22,
    "start_time": "2022-09-14T05:08:35.636Z"
   },
   {
    "duration": 15,
    "start_time": "2022-09-14T05:08:35.659Z"
   },
   {
    "duration": 10,
    "start_time": "2022-09-14T05:08:35.676Z"
   },
   {
    "duration": 108,
    "start_time": "2022-09-14T05:08:35.687Z"
   },
   {
    "duration": 2009,
    "start_time": "2022-09-14T05:09:02.615Z"
   },
   {
    "duration": 516,
    "start_time": "2022-09-14T05:09:04.625Z"
   },
   {
    "duration": 181,
    "start_time": "2022-09-14T05:09:05.147Z"
   },
   {
    "duration": 586,
    "start_time": "2022-09-14T05:09:05.331Z"
   },
   {
    "duration": 7,
    "start_time": "2022-09-14T05:09:05.919Z"
   },
   {
    "duration": 21,
    "start_time": "2022-09-14T05:09:05.927Z"
   },
   {
    "duration": 18,
    "start_time": "2022-09-14T05:09:05.949Z"
   },
   {
    "duration": 3,
    "start_time": "2022-09-14T05:09:05.968Z"
   },
   {
    "duration": 20,
    "start_time": "2022-09-14T05:09:05.973Z"
   },
   {
    "duration": 14,
    "start_time": "2022-09-14T05:09:05.996Z"
   },
   {
    "duration": 5,
    "start_time": "2022-09-14T05:09:06.012Z"
   },
   {
    "duration": 128,
    "start_time": "2022-09-14T05:09:06.019Z"
   },
   {
    "duration": 70,
    "start_time": "2022-09-14T21:03:51.998Z"
   },
   {
    "duration": 72,
    "start_time": "2022-09-14T21:04:12.583Z"
   },
   {
    "duration": 46,
    "start_time": "2022-09-14T21:04:29.043Z"
   },
   {
    "duration": 57,
    "start_time": "2022-09-14T21:05:16.259Z"
   },
   {
    "duration": 77,
    "start_time": "2022-09-14T21:05:24.203Z"
   },
   {
    "duration": 56,
    "start_time": "2022-09-14T21:06:58.895Z"
   },
   {
    "duration": 1550,
    "start_time": "2022-09-14T21:07:02.604Z"
   },
   {
    "duration": 497,
    "start_time": "2022-09-14T21:07:04.156Z"
   },
   {
    "duration": 249,
    "start_time": "2022-09-14T21:07:04.655Z"
   },
   {
    "duration": 1066,
    "start_time": "2022-09-14T21:07:04.906Z"
   },
   {
    "duration": 8,
    "start_time": "2022-09-14T21:07:05.974Z"
   },
   {
    "duration": 4,
    "start_time": "2022-09-14T21:07:05.984Z"
   },
   {
    "duration": 40,
    "start_time": "2022-09-14T21:07:05.990Z"
   },
   {
    "duration": 3,
    "start_time": "2022-09-14T21:07:06.032Z"
   },
   {
    "duration": 10,
    "start_time": "2022-09-14T21:07:06.036Z"
   },
   {
    "duration": 12,
    "start_time": "2022-09-14T21:07:06.048Z"
   },
   {
    "duration": 4,
    "start_time": "2022-09-14T21:07:06.061Z"
   },
   {
    "duration": 87,
    "start_time": "2022-09-14T21:07:06.066Z"
   },
   {
    "duration": 0,
    "start_time": "2022-09-14T21:07:06.155Z"
   },
   {
    "duration": 0,
    "start_time": "2022-09-14T21:07:06.156Z"
   },
   {
    "duration": 0,
    "start_time": "2022-09-14T21:07:06.157Z"
   },
   {
    "duration": 0,
    "start_time": "2022-09-14T21:07:06.158Z"
   },
   {
    "duration": 0,
    "start_time": "2022-09-14T21:07:06.159Z"
   },
   {
    "duration": 0,
    "start_time": "2022-09-14T21:07:06.161Z"
   },
   {
    "duration": 0,
    "start_time": "2022-09-14T21:07:06.161Z"
   },
   {
    "duration": 0,
    "start_time": "2022-09-14T21:07:06.162Z"
   },
   {
    "duration": 0,
    "start_time": "2022-09-14T21:07:06.164Z"
   },
   {
    "duration": 0,
    "start_time": "2022-09-14T21:07:06.165Z"
   },
   {
    "duration": 0,
    "start_time": "2022-09-14T21:07:06.166Z"
   },
   {
    "duration": 0,
    "start_time": "2022-09-14T21:07:06.167Z"
   },
   {
    "duration": 0,
    "start_time": "2022-09-14T21:07:06.168Z"
   },
   {
    "duration": 0,
    "start_time": "2022-09-14T21:07:06.169Z"
   },
   {
    "duration": 0,
    "start_time": "2022-09-14T21:07:06.170Z"
   },
   {
    "duration": 0,
    "start_time": "2022-09-14T21:07:06.171Z"
   },
   {
    "duration": 0,
    "start_time": "2022-09-14T21:07:06.172Z"
   },
   {
    "duration": 0,
    "start_time": "2022-09-14T21:07:06.173Z"
   },
   {
    "duration": 0,
    "start_time": "2022-09-14T21:07:06.174Z"
   },
   {
    "duration": 0,
    "start_time": "2022-09-14T21:07:06.175Z"
   },
   {
    "duration": 3,
    "start_time": "2022-09-14T21:12:27.689Z"
   },
   {
    "duration": 3,
    "start_time": "2022-09-14T21:12:30.101Z"
   },
   {
    "duration": 11,
    "start_time": "2022-09-14T21:12:31.808Z"
   },
   {
    "duration": 16,
    "start_time": "2022-09-14T21:12:46.531Z"
   },
   {
    "duration": 3,
    "start_time": "2022-09-14T21:13:12.296Z"
   },
   {
    "duration": 633,
    "start_time": "2022-09-14T21:13:12.302Z"
   },
   {
    "duration": 180,
    "start_time": "2022-09-14T21:13:12.937Z"
   },
   {
    "duration": 755,
    "start_time": "2022-09-14T21:13:13.118Z"
   },
   {
    "duration": 7,
    "start_time": "2022-09-14T21:13:13.875Z"
   },
   {
    "duration": 15,
    "start_time": "2022-09-14T21:13:13.883Z"
   },
   {
    "duration": 23,
    "start_time": "2022-09-14T21:13:13.900Z"
   },
   {
    "duration": 3,
    "start_time": "2022-09-14T21:13:13.924Z"
   },
   {
    "duration": 13,
    "start_time": "2022-09-14T21:13:13.928Z"
   },
   {
    "duration": 17,
    "start_time": "2022-09-14T21:13:13.942Z"
   },
   {
    "duration": 4,
    "start_time": "2022-09-14T21:13:13.960Z"
   },
   {
    "duration": 5,
    "start_time": "2022-09-14T21:13:13.965Z"
   },
   {
    "duration": 24,
    "start_time": "2022-09-14T21:13:13.971Z"
   },
   {
    "duration": 27,
    "start_time": "2022-09-14T21:13:13.998Z"
   },
   {
    "duration": 846,
    "start_time": "2022-09-14T21:13:14.026Z"
   },
   {
    "duration": 7,
    "start_time": "2022-09-14T21:13:14.874Z"
   },
   {
    "duration": 652,
    "start_time": "2022-09-14T21:13:14.883Z"
   },
   {
    "duration": 3,
    "start_time": "2022-09-14T21:13:15.537Z"
   },
   {
    "duration": 36,
    "start_time": "2022-09-14T21:13:15.541Z"
   },
   {
    "duration": 21,
    "start_time": "2022-09-14T21:13:15.578Z"
   },
   {
    "duration": 37,
    "start_time": "2022-09-14T21:13:15.601Z"
   },
   {
    "duration": 47,
    "start_time": "2022-09-14T21:13:15.640Z"
   },
   {
    "duration": 0,
    "start_time": "2022-09-14T21:13:15.689Z"
   },
   {
    "duration": 0,
    "start_time": "2022-09-14T21:13:15.690Z"
   },
   {
    "duration": 0,
    "start_time": "2022-09-14T21:13:15.691Z"
   },
   {
    "duration": 0,
    "start_time": "2022-09-14T21:13:15.692Z"
   },
   {
    "duration": 0,
    "start_time": "2022-09-14T21:13:15.693Z"
   },
   {
    "duration": 0,
    "start_time": "2022-09-14T21:13:15.695Z"
   },
   {
    "duration": 0,
    "start_time": "2022-09-14T21:13:15.697Z"
   },
   {
    "duration": 0,
    "start_time": "2022-09-14T21:13:15.699Z"
   },
   {
    "duration": 0,
    "start_time": "2022-09-14T21:13:15.700Z"
   },
   {
    "duration": 0,
    "start_time": "2022-09-14T21:13:15.701Z"
   },
   {
    "duration": 109,
    "start_time": "2022-09-14T21:15:18.290Z"
   },
   {
    "duration": 843,
    "start_time": "2022-09-14T21:16:21.803Z"
   },
   {
    "duration": 725,
    "start_time": "2022-09-14T21:16:23.213Z"
   },
   {
    "duration": 877,
    "start_time": "2022-09-14T21:16:49.853Z"
   },
   {
    "duration": 6,
    "start_time": "2022-09-14T21:17:24.612Z"
   },
   {
    "duration": 775,
    "start_time": "2022-09-14T21:17:53.108Z"
   },
   {
    "duration": 737,
    "start_time": "2022-09-14T21:19:16.432Z"
   },
   {
    "duration": 944,
    "start_time": "2022-09-14T21:19:30.969Z"
   },
   {
    "duration": 743,
    "start_time": "2022-09-14T21:20:02.859Z"
   },
   {
    "duration": 51,
    "start_time": "2022-09-14T21:26:45.652Z"
   },
   {
    "duration": 584,
    "start_time": "2022-09-14T21:28:15.893Z"
   },
   {
    "duration": 463,
    "start_time": "2022-09-14T21:28:21.508Z"
   },
   {
    "duration": 309,
    "start_time": "2022-09-14T21:28:35.931Z"
   },
   {
    "duration": 1218,
    "start_time": "2022-09-14T21:28:51.953Z"
   },
   {
    "duration": 1239,
    "start_time": "2022-09-14T21:29:10.679Z"
   },
   {
    "duration": 821,
    "start_time": "2022-09-14T21:29:28.749Z"
   },
   {
    "duration": 1060,
    "start_time": "2022-09-14T21:29:44.758Z"
   },
   {
    "duration": 1183,
    "start_time": "2022-09-14T21:29:53.094Z"
   },
   {
    "duration": 983,
    "start_time": "2022-09-14T21:30:00.189Z"
   },
   {
    "duration": 152,
    "start_time": "2022-09-14T21:31:57.717Z"
   },
   {
    "duration": 7,
    "start_time": "2022-09-14T21:34:10.770Z"
   },
   {
    "duration": 774,
    "start_time": "2022-09-14T21:34:12.722Z"
   },
   {
    "duration": 12,
    "start_time": "2022-09-14T21:35:41.617Z"
   },
   {
    "duration": 7,
    "start_time": "2022-09-14T21:35:53.235Z"
   },
   {
    "duration": 18,
    "start_time": "2022-09-14T21:37:12.092Z"
   },
   {
    "duration": 15,
    "start_time": "2022-09-14T21:37:15.490Z"
   },
   {
    "duration": 3,
    "start_time": "2022-09-14T21:37:52.571Z"
   },
   {
    "duration": 1440,
    "start_time": "2022-09-14T21:37:52.576Z"
   },
   {
    "duration": 425,
    "start_time": "2022-09-14T21:37:54.022Z"
   },
   {
    "duration": 1010,
    "start_time": "2022-09-14T21:37:54.449Z"
   },
   {
    "duration": 6,
    "start_time": "2022-09-14T21:37:55.462Z"
   },
   {
    "duration": 6,
    "start_time": "2022-09-14T21:37:55.469Z"
   },
   {
    "duration": 14,
    "start_time": "2022-09-14T21:37:55.477Z"
   },
   {
    "duration": 3,
    "start_time": "2022-09-14T21:37:55.492Z"
   },
   {
    "duration": 7,
    "start_time": "2022-09-14T21:37:55.521Z"
   },
   {
    "duration": 13,
    "start_time": "2022-09-14T21:37:55.529Z"
   },
   {
    "duration": 5,
    "start_time": "2022-09-14T21:37:55.543Z"
   },
   {
    "duration": 7,
    "start_time": "2022-09-14T21:37:55.549Z"
   },
   {
    "duration": 12,
    "start_time": "2022-09-14T21:37:55.557Z"
   },
   {
    "duration": 13,
    "start_time": "2022-09-14T21:37:55.572Z"
   },
   {
    "duration": 890,
    "start_time": "2022-09-14T21:37:55.587Z"
   },
   {
    "duration": 8,
    "start_time": "2022-09-14T21:37:56.479Z"
   },
   {
    "duration": 654,
    "start_time": "2022-09-14T21:37:56.488Z"
   },
   {
    "duration": 15,
    "start_time": "2022-09-14T21:37:57.144Z"
   },
   {
    "duration": 3,
    "start_time": "2022-09-14T21:37:57.161Z"
   },
   {
    "duration": 4,
    "start_time": "2022-09-14T21:37:57.166Z"
   },
   {
    "duration": 7,
    "start_time": "2022-09-14T21:37:57.171Z"
   },
   {
    "duration": 8,
    "start_time": "2022-09-14T21:37:57.180Z"
   },
   {
    "duration": 15,
    "start_time": "2022-09-14T21:37:57.189Z"
   },
   {
    "duration": 0,
    "start_time": "2022-09-14T21:37:57.205Z"
   },
   {
    "duration": 0,
    "start_time": "2022-09-14T21:37:57.222Z"
   },
   {
    "duration": 0,
    "start_time": "2022-09-14T21:37:57.224Z"
   },
   {
    "duration": 0,
    "start_time": "2022-09-14T21:37:57.225Z"
   },
   {
    "duration": 0,
    "start_time": "2022-09-14T21:37:57.226Z"
   },
   {
    "duration": 0,
    "start_time": "2022-09-14T21:37:57.227Z"
   },
   {
    "duration": 0,
    "start_time": "2022-09-14T21:37:57.228Z"
   },
   {
    "duration": 0,
    "start_time": "2022-09-14T21:37:57.229Z"
   },
   {
    "duration": 0,
    "start_time": "2022-09-14T21:37:57.230Z"
   },
   {
    "duration": 0,
    "start_time": "2022-09-14T21:37:57.231Z"
   },
   {
    "duration": 4,
    "start_time": "2022-09-14T21:41:13.517Z"
   },
   {
    "duration": 13,
    "start_time": "2022-09-14T21:41:15.241Z"
   },
   {
    "duration": 13,
    "start_time": "2022-09-14T21:41:15.552Z"
   },
   {
    "duration": 4,
    "start_time": "2022-09-14T21:41:23.048Z"
   },
   {
    "duration": 681,
    "start_time": "2022-09-14T21:41:23.054Z"
   },
   {
    "duration": 171,
    "start_time": "2022-09-14T21:41:23.737Z"
   },
   {
    "duration": 579,
    "start_time": "2022-09-14T21:41:23.910Z"
   },
   {
    "duration": 7,
    "start_time": "2022-09-14T21:41:24.491Z"
   },
   {
    "duration": 24,
    "start_time": "2022-09-14T21:41:24.499Z"
   },
   {
    "duration": 14,
    "start_time": "2022-09-14T21:41:24.524Z"
   },
   {
    "duration": 3,
    "start_time": "2022-09-14T21:41:24.540Z"
   },
   {
    "duration": 11,
    "start_time": "2022-09-14T21:41:24.545Z"
   },
   {
    "duration": 15,
    "start_time": "2022-09-14T21:41:24.558Z"
   },
   {
    "duration": 9,
    "start_time": "2022-09-14T21:41:24.574Z"
   },
   {
    "duration": 8,
    "start_time": "2022-09-14T21:41:24.584Z"
   },
   {
    "duration": 32,
    "start_time": "2022-09-14T21:41:24.594Z"
   },
   {
    "duration": 22,
    "start_time": "2022-09-14T21:41:24.628Z"
   },
   {
    "duration": 912,
    "start_time": "2022-09-14T21:41:24.651Z"
   },
   {
    "duration": 7,
    "start_time": "2022-09-14T21:41:25.565Z"
   },
   {
    "duration": 761,
    "start_time": "2022-09-14T21:41:25.573Z"
   },
   {
    "duration": 15,
    "start_time": "2022-09-14T21:41:26.335Z"
   },
   {
    "duration": 11,
    "start_time": "2022-09-14T21:41:26.352Z"
   },
   {
    "duration": 6,
    "start_time": "2022-09-14T21:41:26.364Z"
   },
   {
    "duration": 13,
    "start_time": "2022-09-14T21:41:26.372Z"
   },
   {
    "duration": 10,
    "start_time": "2022-09-14T21:41:26.386Z"
   },
   {
    "duration": 11,
    "start_time": "2022-09-14T21:41:26.398Z"
   },
   {
    "duration": 10,
    "start_time": "2022-09-14T21:41:26.410Z"
   },
   {
    "duration": 8,
    "start_time": "2022-09-14T21:41:26.422Z"
   },
   {
    "duration": 11,
    "start_time": "2022-09-14T21:41:26.431Z"
   },
   {
    "duration": 0,
    "start_time": "2022-09-14T21:41:26.444Z"
   },
   {
    "duration": 0,
    "start_time": "2022-09-14T21:41:26.445Z"
   },
   {
    "duration": 0,
    "start_time": "2022-09-14T21:41:26.446Z"
   },
   {
    "duration": 0,
    "start_time": "2022-09-14T21:41:26.447Z"
   },
   {
    "duration": 0,
    "start_time": "2022-09-14T21:41:26.448Z"
   },
   {
    "duration": 0,
    "start_time": "2022-09-14T21:41:26.450Z"
   },
   {
    "duration": 0,
    "start_time": "2022-09-14T21:41:26.451Z"
   },
   {
    "duration": 9,
    "start_time": "2022-09-14T21:42:48.468Z"
   },
   {
    "duration": 3,
    "start_time": "2022-09-14T21:43:40.424Z"
   },
   {
    "duration": 3,
    "start_time": "2022-09-14T21:43:43.169Z"
   },
   {
    "duration": 428,
    "start_time": "2022-09-14T21:43:43.174Z"
   },
   {
    "duration": 208,
    "start_time": "2022-09-14T21:43:43.603Z"
   },
   {
    "duration": 575,
    "start_time": "2022-09-14T21:43:43.812Z"
   },
   {
    "duration": 6,
    "start_time": "2022-09-14T21:43:44.389Z"
   },
   {
    "duration": 5,
    "start_time": "2022-09-14T21:43:44.396Z"
   },
   {
    "duration": 28,
    "start_time": "2022-09-14T21:43:44.403Z"
   },
   {
    "duration": 3,
    "start_time": "2022-09-14T21:43:44.432Z"
   },
   {
    "duration": 10,
    "start_time": "2022-09-14T21:43:44.437Z"
   },
   {
    "duration": 13,
    "start_time": "2022-09-14T21:43:44.448Z"
   },
   {
    "duration": 4,
    "start_time": "2022-09-14T21:43:44.463Z"
   },
   {
    "duration": 3,
    "start_time": "2022-09-14T21:43:44.468Z"
   },
   {
    "duration": 11,
    "start_time": "2022-09-14T21:43:44.473Z"
   },
   {
    "duration": 38,
    "start_time": "2022-09-14T21:43:44.487Z"
   },
   {
    "duration": 784,
    "start_time": "2022-09-14T21:43:44.526Z"
   },
   {
    "duration": 11,
    "start_time": "2022-09-14T21:43:45.312Z"
   },
   {
    "duration": 766,
    "start_time": "2022-09-14T21:43:45.324Z"
   },
   {
    "duration": 15,
    "start_time": "2022-09-14T21:43:46.091Z"
   },
   {
    "duration": 4,
    "start_time": "2022-09-14T21:43:46.107Z"
   },
   {
    "duration": 13,
    "start_time": "2022-09-14T21:43:46.112Z"
   },
   {
    "duration": 6,
    "start_time": "2022-09-14T21:43:46.126Z"
   },
   {
    "duration": 6,
    "start_time": "2022-09-14T21:43:46.133Z"
   },
   {
    "duration": 9,
    "start_time": "2022-09-14T21:43:46.140Z"
   },
   {
    "duration": 7,
    "start_time": "2022-09-14T21:43:46.151Z"
   },
   {
    "duration": 6,
    "start_time": "2022-09-14T21:43:46.160Z"
   },
   {
    "duration": 11,
    "start_time": "2022-09-14T21:43:46.168Z"
   },
   {
    "duration": 8,
    "start_time": "2022-09-14T21:43:46.181Z"
   },
   {
    "duration": 185846,
    "start_time": "2022-09-14T21:43:46.190Z"
   },
   {
    "duration": 2,
    "start_time": "2022-09-14T21:46:52.038Z"
   },
   {
    "duration": 11,
    "start_time": "2022-09-14T21:46:52.042Z"
   },
   {
    "duration": 14,
    "start_time": "2022-09-14T21:46:52.054Z"
   },
   {
    "duration": 7,
    "start_time": "2022-09-14T21:46:52.069Z"
   },
   {
    "duration": 66,
    "start_time": "2022-09-14T21:46:52.077Z"
   },
   {
    "duration": 6,
    "start_time": "2022-09-14T21:46:52.145Z"
   },
   {
    "duration": 42,
    "start_time": "2022-09-14T21:46:52.154Z"
   },
   {
    "duration": 0,
    "start_time": "2022-09-14T21:46:52.197Z"
   },
   {
    "duration": 9,
    "start_time": "2022-09-14T21:48:48.760Z"
   },
   {
    "duration": 4,
    "start_time": "2022-09-14T21:48:57.080Z"
   },
   {
    "duration": 2,
    "start_time": "2022-09-14T21:49:04.873Z"
   },
   {
    "duration": 6,
    "start_time": "2022-09-14T21:51:06.428Z"
   },
   {
    "duration": 3,
    "start_time": "2022-09-14T21:52:40.999Z"
   },
   {
    "duration": 6,
    "start_time": "2022-09-14T21:53:59.349Z"
   },
   {
    "duration": 130,
    "start_time": "2022-09-14T21:57:39.500Z"
   },
   {
    "duration": 52,
    "start_time": "2022-09-14T22:01:52.767Z"
   },
   {
    "duration": 1368,
    "start_time": "2022-09-14T22:12:35.525Z"
   },
   {
    "duration": 622,
    "start_time": "2022-09-14T22:12:36.895Z"
   },
   {
    "duration": 247,
    "start_time": "2022-09-14T22:12:37.522Z"
   },
   {
    "duration": 943,
    "start_time": "2022-09-14T22:12:37.770Z"
   },
   {
    "duration": 15,
    "start_time": "2022-09-14T22:12:38.715Z"
   },
   {
    "duration": 10,
    "start_time": "2022-09-14T22:12:38.732Z"
   },
   {
    "duration": 17,
    "start_time": "2022-09-14T22:12:38.744Z"
   },
   {
    "duration": 3,
    "start_time": "2022-09-14T22:12:38.762Z"
   },
   {
    "duration": 19,
    "start_time": "2022-09-14T22:12:38.766Z"
   },
   {
    "duration": 18,
    "start_time": "2022-09-14T22:12:38.786Z"
   },
   {
    "duration": 20,
    "start_time": "2022-09-14T22:12:38.806Z"
   },
   {
    "duration": 7,
    "start_time": "2022-09-14T22:12:38.827Z"
   },
   {
    "duration": 29,
    "start_time": "2022-09-14T22:12:38.836Z"
   },
   {
    "duration": 20,
    "start_time": "2022-09-14T22:12:38.869Z"
   },
   {
    "duration": 940,
    "start_time": "2022-09-14T22:12:38.891Z"
   },
   {
    "duration": 7,
    "start_time": "2022-09-14T22:12:39.832Z"
   },
   {
    "duration": 659,
    "start_time": "2022-09-14T22:12:39.841Z"
   },
   {
    "duration": 23,
    "start_time": "2022-09-14T22:12:40.501Z"
   },
   {
    "duration": 4,
    "start_time": "2022-09-14T22:12:40.526Z"
   },
   {
    "duration": 10,
    "start_time": "2022-09-14T22:12:40.533Z"
   },
   {
    "duration": 19,
    "start_time": "2022-09-14T22:12:40.546Z"
   },
   {
    "duration": 11,
    "start_time": "2022-09-14T22:12:40.566Z"
   },
   {
    "duration": 23,
    "start_time": "2022-09-14T22:12:40.578Z"
   },
   {
    "duration": 23,
    "start_time": "2022-09-14T22:12:40.603Z"
   },
   {
    "duration": 13,
    "start_time": "2022-09-14T22:12:40.628Z"
   },
   {
    "duration": 16,
    "start_time": "2022-09-14T22:12:40.642Z"
   },
   {
    "duration": 14,
    "start_time": "2022-09-14T22:12:40.659Z"
   },
   {
    "duration": 193795,
    "start_time": "2022-09-14T22:12:40.674Z"
   },
   {
    "duration": 2,
    "start_time": "2022-09-14T22:15:54.471Z"
   },
   {
    "duration": 9,
    "start_time": "2022-09-14T22:15:54.475Z"
   },
   {
    "duration": 11,
    "start_time": "2022-09-14T22:15:54.486Z"
   },
   {
    "duration": 7,
    "start_time": "2022-09-14T22:15:54.499Z"
   },
   {
    "duration": 75,
    "start_time": "2022-09-14T22:15:54.507Z"
   },
   {
    "duration": 8,
    "start_time": "2022-09-14T22:15:54.583Z"
   },
   {
    "duration": 5,
    "start_time": "2022-09-14T22:15:54.592Z"
   },
   {
    "duration": 8,
    "start_time": "2022-09-14T22:15:54.598Z"
   },
   {
    "duration": 7,
    "start_time": "2022-09-14T22:15:54.622Z"
   },
   {
    "duration": 21,
    "start_time": "2022-09-14T22:15:54.631Z"
   },
   {
    "duration": 4,
    "start_time": "2022-09-15T10:01:48.156Z"
   },
   {
    "duration": 597,
    "start_time": "2022-09-15T10:01:48.167Z"
   },
   {
    "duration": 198,
    "start_time": "2022-09-15T10:01:48.766Z"
   },
   {
    "duration": 942,
    "start_time": "2022-09-15T10:01:48.966Z"
   },
   {
    "duration": 6,
    "start_time": "2022-09-15T10:01:49.910Z"
   },
   {
    "duration": 9,
    "start_time": "2022-09-15T10:01:49.918Z"
   },
   {
    "duration": 25,
    "start_time": "2022-09-15T10:01:49.929Z"
   },
   {
    "duration": 3,
    "start_time": "2022-09-15T10:01:49.955Z"
   },
   {
    "duration": 12,
    "start_time": "2022-09-15T10:01:49.960Z"
   },
   {
    "duration": 18,
    "start_time": "2022-09-15T10:01:49.974Z"
   },
   {
    "duration": 4,
    "start_time": "2022-09-15T10:01:49.995Z"
   },
   {
    "duration": 4,
    "start_time": "2022-09-15T10:01:50.001Z"
   },
   {
    "duration": 18,
    "start_time": "2022-09-15T10:01:50.006Z"
   },
   {
    "duration": 14,
    "start_time": "2022-09-15T10:01:50.046Z"
   },
   {
    "duration": 902,
    "start_time": "2022-09-15T10:01:50.062Z"
   },
   {
    "duration": 8,
    "start_time": "2022-09-15T10:01:50.965Z"
   },
   {
    "duration": 691,
    "start_time": "2022-09-15T10:01:50.974Z"
   },
   {
    "duration": 16,
    "start_time": "2022-09-15T10:01:51.667Z"
   },
   {
    "duration": 3,
    "start_time": "2022-09-15T10:01:51.685Z"
   },
   {
    "duration": 8,
    "start_time": "2022-09-15T10:01:51.689Z"
   },
   {
    "duration": 6,
    "start_time": "2022-09-15T10:01:51.699Z"
   },
   {
    "duration": 10,
    "start_time": "2022-09-15T10:01:51.706Z"
   },
   {
    "duration": 30,
    "start_time": "2022-09-15T10:01:51.718Z"
   },
   {
    "duration": 13,
    "start_time": "2022-09-15T10:01:51.750Z"
   },
   {
    "duration": 6,
    "start_time": "2022-09-15T10:01:51.765Z"
   },
   {
    "duration": 19,
    "start_time": "2022-09-15T10:01:51.773Z"
   },
   {
    "duration": 20,
    "start_time": "2022-09-15T10:01:51.794Z"
   },
   {
    "duration": 1499,
    "start_time": "2022-10-31T07:50:35.128Z"
   },
   {
    "duration": 687,
    "start_time": "2022-10-31T07:50:36.629Z"
   },
   {
    "duration": 326,
    "start_time": "2022-10-31T07:50:37.318Z"
   },
   {
    "duration": 999,
    "start_time": "2022-10-31T07:50:37.645Z"
   },
   {
    "duration": 7,
    "start_time": "2022-10-31T07:50:38.646Z"
   },
   {
    "duration": 7,
    "start_time": "2022-10-31T07:50:38.654Z"
   },
   {
    "duration": 16,
    "start_time": "2022-10-31T07:50:38.662Z"
   },
   {
    "duration": 3,
    "start_time": "2022-10-31T07:50:38.679Z"
   },
   {
    "duration": 37,
    "start_time": "2022-10-31T07:50:38.683Z"
   },
   {
    "duration": 15,
    "start_time": "2022-10-31T07:50:38.722Z"
   },
   {
    "duration": 4,
    "start_time": "2022-10-31T07:50:38.739Z"
   },
   {
    "duration": 5,
    "start_time": "2022-10-31T07:50:38.745Z"
   },
   {
    "duration": 14,
    "start_time": "2022-10-31T07:50:38.751Z"
   },
   {
    "duration": 13,
    "start_time": "2022-10-31T07:50:38.768Z"
   },
   {
    "duration": 932,
    "start_time": "2022-10-31T07:50:38.783Z"
   },
   {
    "duration": 6,
    "start_time": "2022-10-31T07:50:39.717Z"
   },
   {
    "duration": 677,
    "start_time": "2022-10-31T07:50:39.724Z"
   },
   {
    "duration": 18,
    "start_time": "2022-10-31T07:50:40.403Z"
   },
   {
    "duration": 8,
    "start_time": "2022-10-31T07:50:40.422Z"
   },
   {
    "duration": 5,
    "start_time": "2022-10-31T07:50:40.431Z"
   },
   {
    "duration": 6,
    "start_time": "2022-10-31T07:50:40.437Z"
   },
   {
    "duration": 9,
    "start_time": "2022-10-31T07:50:40.445Z"
   },
   {
    "duration": 10,
    "start_time": "2022-10-31T07:50:40.455Z"
   },
   {
    "duration": 7,
    "start_time": "2022-10-31T07:50:40.467Z"
   },
   {
    "duration": 10,
    "start_time": "2022-10-31T07:50:40.475Z"
   },
   {
    "duration": 3,
    "start_time": "2022-10-31T07:50:40.486Z"
   },
   {
    "duration": 17,
    "start_time": "2022-10-31T07:50:40.490Z"
   },
   {
    "duration": 192834,
    "start_time": "2022-10-31T07:50:40.509Z"
   },
   {
    "duration": 3,
    "start_time": "2022-10-31T07:53:53.345Z"
   },
   {
    "duration": 14,
    "start_time": "2022-10-31T07:53:53.350Z"
   },
   {
    "duration": 22,
    "start_time": "2022-10-31T07:53:53.366Z"
   },
   {
    "duration": 27,
    "start_time": "2022-10-31T07:53:53.389Z"
   },
   {
    "duration": 77,
    "start_time": "2022-10-31T07:53:53.420Z"
   },
   {
    "duration": 9,
    "start_time": "2022-10-31T07:53:53.499Z"
   },
   {
    "duration": 14,
    "start_time": "2022-10-31T07:53:53.515Z"
   },
   {
    "duration": 20,
    "start_time": "2022-10-31T07:53:53.530Z"
   },
   {
    "duration": 13,
    "start_time": "2022-10-31T07:53:53.551Z"
   },
   {
    "duration": 32,
    "start_time": "2022-10-31T07:53:53.565Z"
   }
  ],
  "kernelspec": {
   "display_name": "Python 3 (ipykernel)",
   "language": "python",
   "name": "python3"
  },
  "language_info": {
   "codemirror_mode": {
    "name": "ipython",
    "version": 3
   },
   "file_extension": ".py",
   "mimetype": "text/x-python",
   "name": "python",
   "nbconvert_exporter": "python",
   "pygments_lexer": "ipython3",
   "version": "3.9.12"
  },
  "toc": {
   "base_numbering": 1,
   "nav_menu": {},
   "number_sections": true,
   "sideBar": true,
   "skip_h1_title": true,
   "title_cell": "Содержание",
   "title_sidebar": "Contents",
   "toc_cell": true,
   "toc_position": {
    "height": "calc(100% - 180px)",
    "left": "10px",
    "top": "150px",
    "width": "181.188px"
   },
   "toc_section_display": true,
   "toc_window_display": true
  }
 },
 "nbformat": 4,
 "nbformat_minor": 2
}
