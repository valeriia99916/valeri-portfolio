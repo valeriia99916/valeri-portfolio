{
 "cells": [
  {
   "cell_type": "markdown",
   "metadata": {},
   "source": [
    "# Выбор локации для скважины"
   ]
  },
  {
   "cell_type": "markdown",
   "metadata": {},
   "source": [
    "Нужно решить, где бурить новую скважину.\n",
    "\n",
    "Предоставлены пробы нефти в трёх регионах: в каждом 10 000 месторождений, где измерили качество нефти и объём её запасов. Постройте модель машинного обучения, которая поможет определить регион, где добыча принесёт наибольшую прибыль. Проанализируйте возможную прибыль и риски.\n",
    "\n",
    "Шаги для выбора локации:\n",
    "\n",
    "- В избранном регионе ищут месторождения, для каждого определяют значения признаков;\n",
    "- Строят модель и оценивают объём запасов;\n",
    "- Выбирают месторождения с самым высокими оценками значений. Количество месторождений зависит от бюджета компании и стоимости разработки одной скважины;\n",
    "- Прибыль равна суммарной прибыли отобранных месторождений."
   ]
  },
  {
   "cell_type": "markdown",
   "metadata": {},
   "source": [
    "## Загрузка и подготовка данных"
   ]
  },
  {
   "cell_type": "code",
   "execution_count": 651,
   "metadata": {},
   "outputs": [],
   "source": [
    "import matplotlib.pyplot as plt\n",
    "import numpy as np\n",
    "import pandas as pd\n",
    "from sklearn.model_selection import train_test_split\n",
    "from sklearn.linear_model import LinearRegression\n",
    "from sklearn.metrics import mean_squared_error\n",
    "from sklearn.preprocessing import StandardScaler\n",
    "from sklearn.utils import shuffle\n",
    "import warnings\n",
    "warnings.filterwarnings('ignore')"
   ]
  },
  {
   "cell_type": "code",
   "execution_count": 652,
   "metadata": {},
   "outputs": [
    {
     "name": "stdout",
     "output_type": "stream",
     "text": [
      "<class 'pandas.core.frame.DataFrame'>\n",
      "RangeIndex: 100000 entries, 0 to 99999\n",
      "Data columns (total 5 columns):\n",
      " #   Column   Non-Null Count   Dtype  \n",
      "---  ------   --------------   -----  \n",
      " 0   id       100000 non-null  object \n",
      " 1   f0       100000 non-null  float64\n",
      " 2   f1       100000 non-null  float64\n",
      " 3   f2       100000 non-null  float64\n",
      " 4   product  100000 non-null  float64\n",
      "dtypes: float64(4), object(1)\n",
      "memory usage: 3.8+ MB\n"
     ]
    },
    {
     "data": {
      "text/html": [
       "<div>\n",
       "<style scoped>\n",
       "    .dataframe tbody tr th:only-of-type {\n",
       "        vertical-align: middle;\n",
       "    }\n",
       "\n",
       "    .dataframe tbody tr th {\n",
       "        vertical-align: top;\n",
       "    }\n",
       "\n",
       "    .dataframe thead th {\n",
       "        text-align: right;\n",
       "    }\n",
       "</style>\n",
       "<table border=\"1\" class=\"dataframe\">\n",
       "  <thead>\n",
       "    <tr style=\"text-align: right;\">\n",
       "      <th></th>\n",
       "      <th>id</th>\n",
       "      <th>f0</th>\n",
       "      <th>f1</th>\n",
       "      <th>f2</th>\n",
       "      <th>product</th>\n",
       "    </tr>\n",
       "  </thead>\n",
       "  <tbody>\n",
       "    <tr>\n",
       "      <th>0</th>\n",
       "      <td>txEyH</td>\n",
       "      <td>0.705745</td>\n",
       "      <td>-0.497823</td>\n",
       "      <td>1.221170</td>\n",
       "      <td>105.280062</td>\n",
       "    </tr>\n",
       "    <tr>\n",
       "      <th>1</th>\n",
       "      <td>2acmU</td>\n",
       "      <td>1.334711</td>\n",
       "      <td>-0.340164</td>\n",
       "      <td>4.365080</td>\n",
       "      <td>73.037750</td>\n",
       "    </tr>\n",
       "    <tr>\n",
       "      <th>2</th>\n",
       "      <td>409Wp</td>\n",
       "      <td>1.022732</td>\n",
       "      <td>0.151990</td>\n",
       "      <td>1.419926</td>\n",
       "      <td>85.265647</td>\n",
       "    </tr>\n",
       "    <tr>\n",
       "      <th>3</th>\n",
       "      <td>iJLyR</td>\n",
       "      <td>-0.032172</td>\n",
       "      <td>0.139033</td>\n",
       "      <td>2.978566</td>\n",
       "      <td>168.620776</td>\n",
       "    </tr>\n",
       "    <tr>\n",
       "      <th>4</th>\n",
       "      <td>Xdl7t</td>\n",
       "      <td>1.988431</td>\n",
       "      <td>0.155413</td>\n",
       "      <td>4.751769</td>\n",
       "      <td>154.036647</td>\n",
       "    </tr>\n",
       "  </tbody>\n",
       "</table>\n",
       "</div>"
      ],
      "text/plain": [
       "      id        f0        f1        f2     product\n",
       "0  txEyH  0.705745 -0.497823  1.221170  105.280062\n",
       "1  2acmU  1.334711 -0.340164  4.365080   73.037750\n",
       "2  409Wp  1.022732  0.151990  1.419926   85.265647\n",
       "3  iJLyR -0.032172  0.139033  2.978566  168.620776\n",
       "4  Xdl7t  1.988431  0.155413  4.751769  154.036647"
      ]
     },
     "execution_count": 652,
     "metadata": {},
     "output_type": "execute_result"
    }
   ],
   "source": [
    "geo_data_0 = pd.read_csv('/datasets/geo_data_0.csv')\n",
    "geo_data_0.info()\n",
    "geo_data_0.head()"
   ]
  },
  {
   "cell_type": "code",
   "execution_count": 653,
   "metadata": {},
   "outputs": [
    {
     "name": "stdout",
     "output_type": "stream",
     "text": [
      "<class 'pandas.core.frame.DataFrame'>\n",
      "RangeIndex: 100000 entries, 0 to 99999\n",
      "Data columns (total 5 columns):\n",
      " #   Column   Non-Null Count   Dtype  \n",
      "---  ------   --------------   -----  \n",
      " 0   id       100000 non-null  object \n",
      " 1   f0       100000 non-null  float64\n",
      " 2   f1       100000 non-null  float64\n",
      " 3   f2       100000 non-null  float64\n",
      " 4   product  100000 non-null  float64\n",
      "dtypes: float64(4), object(1)\n",
      "memory usage: 3.8+ MB\n"
     ]
    },
    {
     "data": {
      "text/html": [
       "<div>\n",
       "<style scoped>\n",
       "    .dataframe tbody tr th:only-of-type {\n",
       "        vertical-align: middle;\n",
       "    }\n",
       "\n",
       "    .dataframe tbody tr th {\n",
       "        vertical-align: top;\n",
       "    }\n",
       "\n",
       "    .dataframe thead th {\n",
       "        text-align: right;\n",
       "    }\n",
       "</style>\n",
       "<table border=\"1\" class=\"dataframe\">\n",
       "  <thead>\n",
       "    <tr style=\"text-align: right;\">\n",
       "      <th></th>\n",
       "      <th>id</th>\n",
       "      <th>f0</th>\n",
       "      <th>f1</th>\n",
       "      <th>f2</th>\n",
       "      <th>product</th>\n",
       "    </tr>\n",
       "  </thead>\n",
       "  <tbody>\n",
       "    <tr>\n",
       "      <th>0</th>\n",
       "      <td>kBEdx</td>\n",
       "      <td>-15.001348</td>\n",
       "      <td>-8.276000</td>\n",
       "      <td>-0.005876</td>\n",
       "      <td>3.179103</td>\n",
       "    </tr>\n",
       "    <tr>\n",
       "      <th>1</th>\n",
       "      <td>62mP7</td>\n",
       "      <td>14.272088</td>\n",
       "      <td>-3.475083</td>\n",
       "      <td>0.999183</td>\n",
       "      <td>26.953261</td>\n",
       "    </tr>\n",
       "    <tr>\n",
       "      <th>2</th>\n",
       "      <td>vyE1P</td>\n",
       "      <td>6.263187</td>\n",
       "      <td>-5.948386</td>\n",
       "      <td>5.001160</td>\n",
       "      <td>134.766305</td>\n",
       "    </tr>\n",
       "    <tr>\n",
       "      <th>3</th>\n",
       "      <td>KcrkZ</td>\n",
       "      <td>-13.081196</td>\n",
       "      <td>-11.506057</td>\n",
       "      <td>4.999415</td>\n",
       "      <td>137.945408</td>\n",
       "    </tr>\n",
       "    <tr>\n",
       "      <th>4</th>\n",
       "      <td>AHL4O</td>\n",
       "      <td>12.702195</td>\n",
       "      <td>-8.147433</td>\n",
       "      <td>5.004363</td>\n",
       "      <td>134.766305</td>\n",
       "    </tr>\n",
       "  </tbody>\n",
       "</table>\n",
       "</div>"
      ],
      "text/plain": [
       "      id         f0         f1        f2     product\n",
       "0  kBEdx -15.001348  -8.276000 -0.005876    3.179103\n",
       "1  62mP7  14.272088  -3.475083  0.999183   26.953261\n",
       "2  vyE1P   6.263187  -5.948386  5.001160  134.766305\n",
       "3  KcrkZ -13.081196 -11.506057  4.999415  137.945408\n",
       "4  AHL4O  12.702195  -8.147433  5.004363  134.766305"
      ]
     },
     "execution_count": 653,
     "metadata": {},
     "output_type": "execute_result"
    }
   ],
   "source": [
    "geo_data_1 = pd.read_csv('/datasets/geo_data_1.csv')\n",
    "geo_data_1.info()\n",
    "geo_data_1.head()"
   ]
  },
  {
   "cell_type": "code",
   "execution_count": 654,
   "metadata": {
    "scrolled": false
   },
   "outputs": [
    {
     "name": "stdout",
     "output_type": "stream",
     "text": [
      "<class 'pandas.core.frame.DataFrame'>\n",
      "RangeIndex: 100000 entries, 0 to 99999\n",
      "Data columns (total 5 columns):\n",
      " #   Column   Non-Null Count   Dtype  \n",
      "---  ------   --------------   -----  \n",
      " 0   id       100000 non-null  object \n",
      " 1   f0       100000 non-null  float64\n",
      " 2   f1       100000 non-null  float64\n",
      " 3   f2       100000 non-null  float64\n",
      " 4   product  100000 non-null  float64\n",
      "dtypes: float64(4), object(1)\n",
      "memory usage: 3.8+ MB\n"
     ]
    },
    {
     "data": {
      "text/html": [
       "<div>\n",
       "<style scoped>\n",
       "    .dataframe tbody tr th:only-of-type {\n",
       "        vertical-align: middle;\n",
       "    }\n",
       "\n",
       "    .dataframe tbody tr th {\n",
       "        vertical-align: top;\n",
       "    }\n",
       "\n",
       "    .dataframe thead th {\n",
       "        text-align: right;\n",
       "    }\n",
       "</style>\n",
       "<table border=\"1\" class=\"dataframe\">\n",
       "  <thead>\n",
       "    <tr style=\"text-align: right;\">\n",
       "      <th></th>\n",
       "      <th>id</th>\n",
       "      <th>f0</th>\n",
       "      <th>f1</th>\n",
       "      <th>f2</th>\n",
       "      <th>product</th>\n",
       "    </tr>\n",
       "  </thead>\n",
       "  <tbody>\n",
       "    <tr>\n",
       "      <th>0</th>\n",
       "      <td>fwXo0</td>\n",
       "      <td>-1.146987</td>\n",
       "      <td>0.963328</td>\n",
       "      <td>-0.828965</td>\n",
       "      <td>27.758673</td>\n",
       "    </tr>\n",
       "    <tr>\n",
       "      <th>1</th>\n",
       "      <td>WJtFt</td>\n",
       "      <td>0.262778</td>\n",
       "      <td>0.269839</td>\n",
       "      <td>-2.530187</td>\n",
       "      <td>56.069697</td>\n",
       "    </tr>\n",
       "    <tr>\n",
       "      <th>2</th>\n",
       "      <td>ovLUW</td>\n",
       "      <td>0.194587</td>\n",
       "      <td>0.289035</td>\n",
       "      <td>-5.586433</td>\n",
       "      <td>62.871910</td>\n",
       "    </tr>\n",
       "    <tr>\n",
       "      <th>3</th>\n",
       "      <td>q6cA6</td>\n",
       "      <td>2.236060</td>\n",
       "      <td>-0.553760</td>\n",
       "      <td>0.930038</td>\n",
       "      <td>114.572842</td>\n",
       "    </tr>\n",
       "    <tr>\n",
       "      <th>4</th>\n",
       "      <td>WPMUX</td>\n",
       "      <td>-0.515993</td>\n",
       "      <td>1.716266</td>\n",
       "      <td>5.899011</td>\n",
       "      <td>149.600746</td>\n",
       "    </tr>\n",
       "  </tbody>\n",
       "</table>\n",
       "</div>"
      ],
      "text/plain": [
       "      id        f0        f1        f2     product\n",
       "0  fwXo0 -1.146987  0.963328 -0.828965   27.758673\n",
       "1  WJtFt  0.262778  0.269839 -2.530187   56.069697\n",
       "2  ovLUW  0.194587  0.289035 -5.586433   62.871910\n",
       "3  q6cA6  2.236060 -0.553760  0.930038  114.572842\n",
       "4  WPMUX -0.515993  1.716266  5.899011  149.600746"
      ]
     },
     "execution_count": 654,
     "metadata": {},
     "output_type": "execute_result"
    }
   ],
   "source": [
    "geo_data_2 = pd.read_csv('/datasets/geo_data_2.csv')\n",
    "geo_data_2.info()\n",
    "geo_data_2.head()"
   ]
  },
  {
   "cell_type": "markdown",
   "metadata": {},
   "source": [
    "В данных отсутствуют пропуски"
   ]
  },
  {
   "cell_type": "code",
   "execution_count": 655,
   "metadata": {},
   "outputs": [],
   "source": [
    "#Удаляю из всех датафреймов столбцы id, они не являются значимыми для модели.\n",
    "geo_data_0 = geo_data_0.drop(['id'], axis=1)\n",
    "geo_data_1 = geo_data_1.drop(['id'], axis=1)\n",
    "geo_data_2 = geo_data_2.drop(['id'], axis=1)"
   ]
  },
  {
   "cell_type": "code",
   "execution_count": 656,
   "metadata": {},
   "outputs": [],
   "source": [
    "#Количество нулевых значений\n",
    "def zeroes_check(geo_data, product):\n",
    "    zeros = geo_data[geo_data[product] == 0][product].count()\n",
    "    percent = zeros / geo_data.shape[0]\n",
    "    print('Количество нулевых значений -', zeros)\n",
    "    print('Процент нулевых значений -', percent)"
   ]
  },
  {
   "cell_type": "code",
   "execution_count": 657,
   "metadata": {},
   "outputs": [
    {
     "name": "stdout",
     "output_type": "stream",
     "text": [
      "Количество нулевых значений - 1\n",
      "Процент нулевых значений - 1e-05\n"
     ]
    }
   ],
   "source": [
    "zeroes_check(geo_data_0, 'product')"
   ]
  },
  {
   "cell_type": "code",
   "execution_count": 658,
   "metadata": {},
   "outputs": [
    {
     "name": "stdout",
     "output_type": "stream",
     "text": [
      "Количество нулевых значений - 8235\n",
      "Процент нулевых значений - 0.08235\n"
     ]
    }
   ],
   "source": [
    "zeroes_check(geo_data_1, 'product')"
   ]
  },
  {
   "cell_type": "code",
   "execution_count": 659,
   "metadata": {
    "scrolled": true
   },
   "outputs": [
    {
     "name": "stdout",
     "output_type": "stream",
     "text": [
      "Количество нулевых значений - 1\n",
      "Процент нулевых значений - 1e-05\n"
     ]
    }
   ],
   "source": [
    "zeroes_check(geo_data_2, 'product')"
   ]
  },
  {
   "cell_type": "code",
   "execution_count": 660,
   "metadata": {},
   "outputs": [],
   "source": [
    "def zeroes_show(geo_data, product):\n",
    "    print(geo_data[geo_data[product] == 0])"
   ]
  },
  {
   "cell_type": "code",
   "execution_count": 661,
   "metadata": {
    "scrolled": true
   },
   "outputs": [
    {
     "name": "stdout",
     "output_type": "stream",
     "text": [
      "             f0        f1        f2  product\n",
      "57263 -0.702064  0.375992  0.236572      0.0\n"
     ]
    }
   ],
   "source": [
    "zeroes_show(geo_data_0, 'product')"
   ]
  },
  {
   "cell_type": "code",
   "execution_count": 662,
   "metadata": {
    "scrolled": true
   },
   "outputs": [
    {
     "name": "stdout",
     "output_type": "stream",
     "text": [
      "              f0         f1        f2  product\n",
      "11     16.320755  -0.562946 -0.001783      0.0\n",
      "13      6.695604  -0.749449 -0.007630      0.0\n",
      "62     21.418478  -5.134490 -0.002836      0.0\n",
      "63      6.822701   3.104979 -0.000723      0.0\n",
      "77      6.750150 -11.893512 -0.001601      0.0\n",
      "...          ...        ...       ...      ...\n",
      "99936   5.085749  -3.980305  0.005063      0.0\n",
      "99948   8.277805  -9.178818  0.003275      0.0\n",
      "99956  13.343983  -1.290200  0.005980      0.0\n",
      "99961  13.854163 -11.528089 -0.005556      0.0\n",
      "99973  12.698645  -4.384673 -0.002600      0.0\n",
      "\n",
      "[8235 rows x 4 columns]\n"
     ]
    }
   ],
   "source": [
    "zeroes_show(geo_data_1, 'product')"
   ]
  },
  {
   "cell_type": "code",
   "execution_count": 663,
   "metadata": {
    "scrolled": true
   },
   "outputs": [
    {
     "name": "stdout",
     "output_type": "stream",
     "text": [
      "             f0        f1        f2  product\n",
      "68149 -0.865596 -1.615247 -4.126441      0.0\n"
     ]
    }
   ],
   "source": [
    "zeroes_show(geo_data_2, 'product')"
   ]
  },
  {
   "cell_type": "code",
   "execution_count": 664,
   "metadata": {},
   "outputs": [],
   "source": [
    "#Гистограммы по столбцам product\n",
    "def plot_product(seria, bins, xlim_max, ylim_max):\n",
    "    plt.figure(figsize=[12,9])\n",
    "\n",
    "    plt.hist(seria, bins=bins)\n",
    "\n",
    "    plt.xlim([0,xlim_max])\n",
    "    plt.ylim([0,ylim_max])\n",
    "\n",
    "    plt.xlabel('Объем нефти на скважину, тыс. барелей')\n",
    "    plt.ylabel('Количество скважин')\n",
    "\n",
    "    plt.title('Гистограмма распределения по объему скважин')\n",
    "    plt.show()"
   ]
  },
  {
   "cell_type": "code",
   "execution_count": 665,
   "metadata": {
    "scrolled": false
   },
   "outputs": [
    {
     "data": {
      "image/png": "[encoded data removed]",
      "text/plain": [
       "<Figure size 864x648 with 1 Axes>"
      ]
     },
     "metadata": {
      "needs_background": "light"
     },
     "output_type": "display_data"
    }
   ],
   "source": [
    "plot_product(geo_data_0['product'], 200, 190, 900)"
   ]
  },
  {
   "cell_type": "code",
   "execution_count": 666,
   "metadata": {
    "scrolled": false
   },
   "outputs": [
    {
     "data": {
      "image/png": "[encoded data removed]",
      "text/plain": [
       "<Figure size 864x648 with 1 Axes>"
      ]
     },
     "metadata": {
      "needs_background": "light"
     },
     "output_type": "display_data"
    }
   ],
   "source": [
    "plot_product(geo_data_1['product'], 100, 150, 10000)"
   ]
  },
  {
   "cell_type": "code",
   "execution_count": 667,
   "metadata": {},
   "outputs": [
    {
     "data": {
      "image/png": "[encoded data removed]",
      "text/plain": [
       "<Figure size 864x648 with 1 Axes>"
      ]
     },
     "metadata": {
      "needs_background": "light"
     },
     "output_type": "display_data"
    }
   ],
   "source": [
    "plot_product(geo_data_2['product'], 200, 190, 900)"
   ]
  },
  {
   "cell_type": "markdown",
   "metadata": {},
   "source": [
    "Признаки: f0,f1,f2  \n",
    "Целевой признак: product\n"
   ]
  },
  {
   "cell_type": "markdown",
   "metadata": {},
   "source": [
    "## Обучение и проверка модели"
   ]
  },
  {
   "cell_type": "markdown",
   "metadata": {},
   "source": [
    "### Разбивка данныx на обучающую и валидационную выборки."
   ]
  },
  {
   "cell_type": "code",
   "execution_count": 668,
   "metadata": {},
   "outputs": [],
   "source": [
    "def test_split(geo_data, target):\n",
    "    features = geo_data.drop([target] , axis=1)\n",
    "    target = geo_data[target]\n",
    "\n",
    "    features_train, features_valid, target_train, target_valid = train_test_split(\n",
    "    features, target, test_size=0.25, random_state=12345)\n",
    "    \n",
    "    return features_train, features_valid, target_train, target_valid"
   ]
  },
  {
   "cell_type": "code",
   "execution_count": 669,
   "metadata": {},
   "outputs": [
    {
     "data": {
      "text/plain": [
       "(75000, 3)"
      ]
     },
     "metadata": {},
     "output_type": "display_data"
    },
    {
     "data": {
      "text/plain": [
       "(25000, 3)"
      ]
     },
     "metadata": {},
     "output_type": "display_data"
    }
   ],
   "source": [
    "features_train_0, features_valid_0, target_train_0, target_valid_0 = test_split(geo_data_0, 'product')\n",
    "display(features_train_0.shape)\n",
    "display(features_valid_0.shape)"
   ]
  },
  {
   "cell_type": "code",
   "execution_count": 670,
   "metadata": {},
   "outputs": [
    {
     "data": {
      "text/plain": [
       "(75000, 3)"
      ]
     },
     "metadata": {},
     "output_type": "display_data"
    },
    {
     "data": {
      "text/plain": [
       "(25000, 3)"
      ]
     },
     "metadata": {},
     "output_type": "display_data"
    }
   ],
   "source": [
    "features_train_1, features_valid_1, target_train_1, target_valid_1 = test_split(geo_data_1, 'product')\n",
    "display(features_train_1.shape)\n",
    "display(features_valid_1.shape)"
   ]
  },
  {
   "cell_type": "code",
   "execution_count": 671,
   "metadata": {
    "scrolled": false
   },
   "outputs": [
    {
     "data": {
      "text/plain": [
       "(75000, 3)"
      ]
     },
     "metadata": {},
     "output_type": "display_data"
    },
    {
     "data": {
      "text/plain": [
       "(25000, 3)"
      ]
     },
     "metadata": {},
     "output_type": "display_data"
    }
   ],
   "source": [
    "features_train_2, features_valid_2, target_train_2, target_valid_2 = test_split(geo_data_2, 'product')\n",
    "display(features_train_2.shape)\n",
    "display(features_valid_2.shape)"
   ]
  },
  {
   "cell_type": "markdown",
   "metadata": {},
   "source": [
    "### Обучение модели"
   ]
  },
  {
   "cell_type": "code",
   "execution_count": 672,
   "metadata": {},
   "outputs": [
    {
     "name": "stdout",
     "output_type": "stream",
     "text": [
      "RMSE: 37.5794217150813\n"
     ]
    }
   ],
   "source": [
    "model = LinearRegression()\n",
    "\n",
    "model.fit(features_train_0, target_train_0)\n",
    "predicted_target_0 = model.predict(features_valid_0)\n",
    "print('RMSE:', mean_squared_error(target_valid_0, predicted_target_0)**0.5)"
   ]
  },
  {
   "cell_type": "code",
   "execution_count": 673,
   "metadata": {},
   "outputs": [
    {
     "name": "stdout",
     "output_type": "stream",
     "text": [
      "RMSE: 0.893099286775617\n"
     ]
    }
   ],
   "source": [
    "model = LinearRegression()\n",
    "\n",
    "model.fit(features_train_1, target_train_1)\n",
    "predicted_target_1 = model.predict(features_valid_1)\n",
    "print('RMSE:', mean_squared_error(target_valid_1, predicted_target_1)**0.5)"
   ]
  },
  {
   "cell_type": "code",
   "execution_count": 674,
   "metadata": {},
   "outputs": [
    {
     "name": "stdout",
     "output_type": "stream",
     "text": [
      "RMSE: 40.02970873393434\n"
     ]
    }
   ],
   "source": [
    "model = LinearRegression()\n",
    "\n",
    "model.fit(features_train_2, target_train_2)\n",
    "predicted_target_2 = model.predict(features_valid_2)\n",
    "print('RMSE:', mean_squared_error(target_valid_2, predicted_target_2)**0.5)"
   ]
  },
  {
   "cell_type": "markdown",
   "metadata": {},
   "source": [
    "### Предсказания и правильные ответы на валидационной выборке. Средний запас предсказанного сырья и RMSE модели."
   ]
  },
  {
   "cell_type": "code",
   "execution_count": 675,
   "metadata": {},
   "outputs": [],
   "source": [
    "model = LinearRegression()\n",
    "\n",
    "def geo_predict(df, target_name):\n",
    "    features = df.drop([target_name] , axis=1)\n",
    "    target = df[target_name]\n",
    "    \n",
    "    features_train, features_valid, target_train, target_valid = train_test_split(\n",
    "    features, target, test_size=0.25, random_state=12345)\n",
    "    \n",
    "    model.fit(features_train, target_train)\n",
    "    predicted_target = model.predict(features_valid)\n",
    "    data = {'real_product' : target_valid,\n",
    "            'predicted_product' : predicted_target         \n",
    "    }\n",
    "    data_frame = pd.DataFrame(data, columns = ['real_product', 'predicted_product'])\n",
    "    rmse = mean_squared_error(target_valid, predicted_target)**0.5\n",
    "    mean = data_frame['predicted_product'].mean()\n",
    "    oil_sum = data_frame['predicted_product'].sum()\n",
    "    return data_frame, rmse, mean, oil_sum"
   ]
  },
  {
   "cell_type": "code",
   "execution_count": 676,
   "metadata": {
    "scrolled": true
   },
   "outputs": [
    {
     "name": "stdout",
     "output_type": "stream",
     "text": [
      "RMSE: 37.5794217150813\n",
      "Средний запас предсказанного  сырья: 92.59256778438035\n",
      "Суммарный предсказанный запас регионе 0: 2314814.194609509\n",
      "Суммарный реальный запас в регионе 0: 2301964.918520732\n"
     ]
    }
   ],
   "source": [
    "geo_data_0_predicted, geo_data_0_rmse, geo_data_0_predicted_mean, geo_data_0_predicted_sum = geo_predict(geo_data_0, 'product')\n",
    "print('RMSE:', geo_data_0_rmse)\n",
    "print('Средний запас предсказанного  сырья:', geo_data_0_predicted_mean)\n",
    "print('Суммарный предсказанный запас регионе 0:', geo_data_0_predicted_sum)\n",
    "print('Суммарный реальный запас в регионе 0:', geo_data_0_predicted['real_product'].sum())"
   ]
  },
  {
   "cell_type": "code",
   "execution_count": 677,
   "metadata": {
    "scrolled": true
   },
   "outputs": [
    {
     "name": "stdout",
     "output_type": "stream",
     "text": [
      "RMSE: 0.893099286775617\n",
      "Средний запас предсказанного  сырья: 68.728546895446\n",
      "Суммарный предсказанный запас в регионе 1: 1718213.67238615\n",
      "Суммарный реальный запас в регионе 1: 1718078.4006089992\n"
     ]
    }
   ],
   "source": [
    "geo_data_1_predicted, geo_data_1_rmse, geo_data_1_predicted_mean, geo_data_1_predicted_sum = geo_predict(geo_data_1, 'product')\n",
    "print('RMSE:', geo_data_1_rmse)\n",
    "print('Средний запас предсказанного  сырья:', geo_data_1_predicted_mean)\n",
    "print('Суммарный предсказанный запас в регионе 1:', geo_data_1_predicted_sum)\n",
    "print('Суммарный реальный запас в регионе 1:', geo_data_1_predicted['real_product'].sum())"
   ]
  },
  {
   "cell_type": "code",
   "execution_count": 678,
   "metadata": {
    "scrolled": false
   },
   "outputs": [
    {
     "name": "stdout",
     "output_type": "stream",
     "text": [
      "RMSE: 40.02970873393434\n",
      "Средний запас предсказанного  сырья: 94.96504596800489\n",
      "Суммарный предсказанный запас в регионе 2: 2374126.1492001223\n",
      "Суммарный реальный запас в регионе 2: 2372105.8202213594\n"
     ]
    }
   ],
   "source": [
    "geo_data_2_predicted, geo_data_2_rmse, geo_data_2_predicted_mean, geo_data_2_predicted_sum = geo_predict(geo_data_2, 'product')\n",
    "print('RMSE:', geo_data_2_rmse)\n",
    "print('Средний запас предсказанного  сырья:', geo_data_2_predicted_mean)\n",
    "print('Суммарный предсказанный запас в регионе 2:', geo_data_2_predicted_sum)\n",
    "print('Суммарный реальный запас в регионе 2:', geo_data_2_predicted['real_product'].sum())"
   ]
  },
  {
   "cell_type": "markdown",
   "metadata": {},
   "source": [
    "Лучше всего модель предсказала запасы в регионе под номером 1 (RMSE - 0.89). Но возможно модель переобучилась из-за отсутствующих данных в этом датасете (0,08% нулевых значений). Думаю что из-за утери данных мы не можем назвать это местоположение самым прибыльным."
   ]
  },
  {
   "cell_type": "markdown",
   "metadata": {},
   "source": [
    "## Подготовка к расчёту прибыли"
   ]
  },
  {
   "cell_type": "markdown",
   "metadata": {},
   "source": [
    "### Ключевые значения для расчётов "
   ]
  },
  {
   "cell_type": "code",
   "execution_count": 688,
   "metadata": {},
   "outputs": [],
   "source": [
    "selected_points = 500 #кол-во точек для исследования\n",
    "budget = 1e+07 #бюджет\n",
    "price_per_barrel = 450 #цена за один баррель\n",
    "best_points = 200 #нужно выбрать лучших точек для разработки"
   ]
  },
  {
   "cell_type": "markdown",
   "metadata": {},
   "source": [
    "### Достаточный объём сырья для безубыточной разработки новой скважины. Средний запас в каждом регионе."
   ]
  },
  {
   "cell_type": "code",
   "execution_count": 689,
   "metadata": {},
   "outputs": [
    {
     "name": "stdout",
     "output_type": "stream",
     "text": [
      "Средняя прибыль на точку: 50000.0\n",
      "Средний объем нефти на точку: 111.11111111111111\n",
      "Средний объем нефти на регион: 22222.222222222223\n"
     ]
    }
   ],
   "source": [
    "#безубыточная разработка сырья на 200 месторождениях\n",
    "average_profit_per_point = budget / best_points\n",
    "print('Средняя прибыль на точку:', average_profit_per_point)\n",
    "\n",
    "average_barrels_per_point = average_profit_per_point  / price_per_barrel\n",
    "print('Средний объем нефти на точку:',average_barrels_per_point)\n",
    "\n",
    "average_barrels = budget / price_per_barrel\n",
    "print('Средний объем нефти на регион:',average_barrels)"
   ]
  },
  {
   "cell_type": "code",
   "execution_count": 690,
   "metadata": {
    "scrolled": false
   },
   "outputs": [
    {
     "name": "stdout",
     "output_type": "stream",
     "text": [
      "Средний запас на скважину в регионе 0: 92.50000000000001\n",
      "Средний запас на скважину в регионе 1: 68.82500000000002\n",
      "Средний запас на скважину в регионе 2: 95.00000000000004\n"
     ]
    }
   ],
   "source": [
    "print('Средний запас на скважину в регионе 0:', geo_data_0['product'].mean())\n",
    "print('Средний запас на скважину в регионе 1:', geo_data_1['product'].mean())\n",
    "print('Средний запас на скважину в регионе 2:', geo_data_2['product'].mean())"
   ]
  },
  {
   "cell_type": "markdown",
   "metadata": {},
   "source": [
    "Запас сырья в скважинах меньше, чем точка безубыточности."
   ]
  },
  {
   "cell_type": "markdown",
   "metadata": {},
   "source": [
    "## Расчёт прибыли и рисков "
   ]
  },
  {
   "cell_type": "code",
   "execution_count": 691,
   "metadata": {},
   "outputs": [],
   "source": [
    "#ф-я для рассчета прибыли \n",
    "def profit_calculation(target, probabilities, count):\n",
    "    probs_sorted = probabilities.sort_values(ascending=False)\n",
    "    selected = target[probs_sorted.index][:count]\n",
    "    return price_per_barrel * selected.sum() - budget"
   ]
  },
  {
   "cell_type": "code",
   "execution_count": 692,
   "metadata": {},
   "outputs": [],
   "source": [
    "state = np.random.RandomState(1234567)\n",
    "def bootstrap(target, probs):\n",
    "    values=[]\n",
    "    lost = 0\n",
    "    for i in range(1000):\n",
    "        target_sample = target.sample(replace=False, random_state=state, n=selected_points)\n",
    "        probs_sample = probs[target_sample.index]\n",
    "        profit = profit_calculation(target, probs_sample, best_points)\n",
    "        if profit < 0:\n",
    "            lost +=1\n",
    "        values.append(profit)\n",
    "    \n",
    "    values = pd.Series(values)\n",
    "    lower = values.quantile(0.025)\n",
    "    upper = values.quantile(0.975)\n",
    "    average = values.mean()\n",
    "    risk = lost / 1000\n",
    "    return average, lower, upper, risk"
   ]
  },
  {
   "cell_type": "code",
   "execution_count": 693,
   "metadata": {},
   "outputs": [
    {
     "name": "stdout",
     "output_type": "stream",
     "text": [
      "Данные по региону 0:\n",
      "Средняя прибыль по региону = 386164.63 тыс.руб.\n",
      "95% доверительный интервал от -155651.27 до 882466.63 тыс.руб.\n",
      "Процент риска 8.20%\n"
     ]
    }
   ],
   "source": [
    "average_0, lower_0, upper_0, risk_0 = bootstrap(geo_data_0_predicted['real_product'], \n",
    "                                                     geo_data_0_predicted['predicted_product'])\n",
    "print('Данные по региону 0:')\n",
    "print('Средняя прибыль по региону = {:.2f} тыс.руб.'.format(average_0))\n",
    "print('95% доверительный интервал от {:.2f} до {:.2f} тыс.руб.'.format(lower_0, upper_0))\n",
    "print('Процент риска {:.2%}'.format(risk_0))"
   ]
  },
  {
   "cell_type": "code",
   "execution_count": 694,
   "metadata": {},
   "outputs": [
    {
     "name": "stdout",
     "output_type": "stream",
     "text": [
      "Данные по региону 1:\n",
      "Средняя прибыль по региону = 444770.64 тыс.руб.\n",
      "95% доверительный интервал от 49448.22 до 867298.27 тыс.руб.\n",
      "Процент риска 1.30%\n"
     ]
    }
   ],
   "source": [
    "average_1, lower_1, upper_1, risk_1 = bootstrap(geo_data_1_predicted['real_product'], \n",
    "                                                     geo_data_1_predicted['predicted_product'])\n",
    "print('Данные по региону 1:')\n",
    "print('Средняя прибыль по региону = {:.2f} тыс.руб.'.format(average_1))\n",
    "print('95% доверительный интервал от {:.2f} до {:.2f} тыс.руб.'.format(lower_1, upper_1))\n",
    "print('Процент риска {:.2%}'.format(risk_1))"
   ]
  },
  {
   "cell_type": "code",
   "execution_count": 695,
   "metadata": {},
   "outputs": [
    {
     "name": "stdout",
     "output_type": "stream",
     "text": [
      "Данные по региону 2:\n",
      "Средняя прибыль по региону = 403643.00 тыс.руб.\n",
      "95% доверительный интервал от -148706.81 до 899324.59 тыс.руб.\n",
      "Процент риска 6.20%\n"
     ]
    }
   ],
   "source": [
    "average_2, lower_2, upper_2, risk_2 = bootstrap(geo_data_2_predicted['real_product'], \n",
    "                                                     geo_data_2_predicted['predicted_product'])\n",
    "print('Данные по региону 2:')\n",
    "print('Средняя прибыль по региону = {:.2f} тыс.руб.'.format(average_2))\n",
    "print('95% доверительный интервал от {:.2f} до {:.2f} тыс.руб.'.format(lower_2, upper_2))\n",
    "print('Процент риска {:.2%}'.format(risk_2))"
   ]
  },
  {
   "cell_type": "markdown",
   "metadata": {},
   "source": [
    "# Вывод"
   ]
  },
  {
   "cell_type": "markdown",
   "metadata": {},
   "source": [
    "Применена техника Bootstrap с 1000 выборок, чтобы найти распределение прибыли. Найдена средняя прибыль, 95%-й доверительный интервал и риск убытков.  \n",
    "Мы вынуждены отсеить регион0 и регион2, так как у них высокий процент риска.   \n",
    "Лучшие показатели у региона под номером 1. Минимальный процентр риска 1.3% и нижняя граница доверительного интервала в плюсе."
   ]
  }
 ],
 "metadata": {
  "ExecuteTimeLog": [
   {
    "duration": 51,
    "start_time": "2022-09-11T14:13:18.097Z"
   },
   {
    "duration": 1438,
    "start_time": "2022-09-11T14:13:20.203Z"
   },
   {
    "duration": 344,
    "start_time": "2022-09-11T14:13:21.643Z"
   },
   {
    "duration": 189,
    "start_time": "2022-09-11T14:13:21.988Z"
   },
   {
    "duration": 105,
    "start_time": "2022-09-11T14:13:22.178Z"
   },
   {
    "duration": 138,
    "start_time": "2022-09-11T14:13:45.761Z"
   },
   {
    "duration": 145,
    "start_time": "2022-09-11T14:14:05.358Z"
   },
   {
    "duration": 135,
    "start_time": "2022-09-11T14:14:13.112Z"
   },
   {
    "duration": 133,
    "start_time": "2022-09-11T14:14:16.681Z"
   },
   {
    "duration": 11,
    "start_time": "2022-09-11T14:19:03.494Z"
   },
   {
    "duration": 16,
    "start_time": "2022-09-11T14:21:45.872Z"
   },
   {
    "duration": 103,
    "start_time": "2022-09-11T14:22:24.796Z"
   },
   {
    "duration": 13,
    "start_time": "2022-09-11T14:22:32.710Z"
   },
   {
    "duration": 3,
    "start_time": "2022-09-11T14:25:15.115Z"
   },
   {
    "duration": 9,
    "start_time": "2022-09-11T14:25:16.433Z"
   },
   {
    "duration": 7,
    "start_time": "2022-09-11T14:25:27.781Z"
   },
   {
    "duration": 4,
    "start_time": "2022-09-11T14:25:30.757Z"
   },
   {
    "duration": 8,
    "start_time": "2022-09-11T14:25:31.393Z"
   },
   {
    "duration": 5,
    "start_time": "2022-09-11T14:25:36.450Z"
   },
   {
    "duration": 6,
    "start_time": "2022-09-11T14:25:55.240Z"
   },
   {
    "duration": 5,
    "start_time": "2022-09-11T14:26:03.777Z"
   },
   {
    "duration": 3,
    "start_time": "2022-09-11T14:28:14.195Z"
   },
   {
    "duration": 5,
    "start_time": "2022-09-11T14:28:37.891Z"
   },
   {
    "duration": 16,
    "start_time": "2022-09-11T14:29:31.410Z"
   },
   {
    "duration": 12,
    "start_time": "2022-09-11T14:29:38.640Z"
   },
   {
    "duration": 3,
    "start_time": "2022-09-11T14:30:06.059Z"
   },
   {
    "duration": 3,
    "start_time": "2022-09-11T14:30:22.853Z"
   },
   {
    "duration": 4,
    "start_time": "2022-09-11T14:30:23.251Z"
   },
   {
    "duration": 4,
    "start_time": "2022-09-11T14:30:23.665Z"
   },
   {
    "duration": 5,
    "start_time": "2022-09-11T14:30:24.005Z"
   },
   {
    "duration": 7,
    "start_time": "2022-09-11T14:31:19.685Z"
   },
   {
    "duration": 6,
    "start_time": "2022-09-11T14:31:26.817Z"
   },
   {
    "duration": 9,
    "start_time": "2022-09-11T14:35:26.116Z"
   },
   {
    "duration": 7,
    "start_time": "2022-09-11T14:35:32.891Z"
   },
   {
    "duration": 4,
    "start_time": "2022-09-11T14:35:34.643Z"
   },
   {
    "duration": 359,
    "start_time": "2022-09-11T14:35:35.146Z"
   },
   {
    "duration": 4,
    "start_time": "2022-09-11T14:35:45.049Z"
   },
   {
    "duration": 338,
    "start_time": "2022-09-11T14:35:46.181Z"
   },
   {
    "duration": 385,
    "start_time": "2022-09-11T14:36:37.148Z"
   },
   {
    "duration": 326,
    "start_time": "2022-09-11T14:36:44.507Z"
   },
   {
    "duration": 344,
    "start_time": "2022-09-11T14:36:50.992Z"
   },
   {
    "duration": 443,
    "start_time": "2022-09-11T14:37:02.255Z"
   },
   {
    "duration": 334,
    "start_time": "2022-09-11T14:37:08.898Z"
   },
   {
    "duration": 247,
    "start_time": "2022-09-11T14:37:16.802Z"
   },
   {
    "duration": 429,
    "start_time": "2022-09-11T14:37:22.068Z"
   },
   {
    "duration": 420,
    "start_time": "2022-09-11T14:37:29.227Z"
   },
   {
    "duration": 340,
    "start_time": "2022-09-11T14:37:47.299Z"
   },
   {
    "duration": 341,
    "start_time": "2022-09-11T14:37:57.922Z"
   },
   {
    "duration": 248,
    "start_time": "2022-09-11T14:38:01.602Z"
   },
   {
    "duration": 155,
    "start_time": "2022-09-11T14:38:05.103Z"
   },
   {
    "duration": 335,
    "start_time": "2022-09-11T14:38:09.479Z"
   },
   {
    "duration": 229,
    "start_time": "2022-09-11T14:38:15.690Z"
   },
   {
    "duration": 231,
    "start_time": "2022-09-11T14:38:22.157Z"
   },
   {
    "duration": 3,
    "start_time": "2022-09-11T14:38:35.596Z"
   },
   {
    "duration": 349,
    "start_time": "2022-09-11T14:38:36.135Z"
   },
   {
    "duration": 251,
    "start_time": "2022-09-11T14:38:39.071Z"
   },
   {
    "duration": 416,
    "start_time": "2022-09-11T14:38:48.734Z"
   },
   {
    "duration": 351,
    "start_time": "2022-09-11T14:39:01.592Z"
   },
   {
    "duration": 240,
    "start_time": "2022-09-11T14:39:02.111Z"
   },
   {
    "duration": 333,
    "start_time": "2022-09-11T14:39:03.047Z"
   },
   {
    "duration": 253,
    "start_time": "2022-09-11T14:39:25.694Z"
   },
   {
    "duration": 192,
    "start_time": "2022-09-11T14:39:30.752Z"
   },
   {
    "duration": 336,
    "start_time": "2022-09-11T14:39:55.815Z"
   },
   {
    "duration": 368,
    "start_time": "2022-09-11T14:40:03.625Z"
   },
   {
    "duration": 344,
    "start_time": "2022-09-11T14:40:09.186Z"
   },
   {
    "duration": 282,
    "start_time": "2022-09-11T14:40:19.934Z"
   },
   {
    "duration": 198,
    "start_time": "2022-09-11T14:40:25.330Z"
   },
   {
    "duration": 204,
    "start_time": "2022-09-11T14:40:31.712Z"
   },
   {
    "duration": 239,
    "start_time": "2022-09-11T14:40:42.428Z"
   },
   {
    "duration": 205,
    "start_time": "2022-09-11T14:40:49.979Z"
   },
   {
    "duration": 193,
    "start_time": "2022-09-11T14:40:55.707Z"
   },
   {
    "duration": 155,
    "start_time": "2022-09-11T14:41:04.579Z"
   },
   {
    "duration": 173,
    "start_time": "2022-09-11T14:41:08.616Z"
   },
   {
    "duration": 172,
    "start_time": "2022-09-11T14:41:13.465Z"
   },
   {
    "duration": 153,
    "start_time": "2022-09-11T14:41:18.123Z"
   },
   {
    "duration": 327,
    "start_time": "2022-09-11T14:41:22.019Z"
   },
   {
    "duration": 5,
    "start_time": "2022-09-11T14:49:35.502Z"
   },
   {
    "duration": 152,
    "start_time": "2022-09-11T14:49:35.509Z"
   },
   {
    "duration": 124,
    "start_time": "2022-09-11T14:49:35.662Z"
   },
   {
    "duration": 117,
    "start_time": "2022-09-11T14:49:35.787Z"
   },
   {
    "duration": 8,
    "start_time": "2022-09-11T14:49:35.908Z"
   },
   {
    "duration": 7,
    "start_time": "2022-09-11T14:49:35.917Z"
   },
   {
    "duration": 10,
    "start_time": "2022-09-11T14:49:35.925Z"
   },
   {
    "duration": 7,
    "start_time": "2022-09-11T14:49:35.937Z"
   },
   {
    "duration": 6,
    "start_time": "2022-09-11T14:49:35.945Z"
   },
   {
    "duration": 4,
    "start_time": "2022-09-11T14:49:35.953Z"
   },
   {
    "duration": 10,
    "start_time": "2022-09-11T14:49:35.958Z"
   },
   {
    "duration": 9,
    "start_time": "2022-09-11T14:49:35.969Z"
   },
   {
    "duration": 27,
    "start_time": "2022-09-11T14:49:35.979Z"
   },
   {
    "duration": 3,
    "start_time": "2022-09-11T14:49:36.009Z"
   },
   {
    "duration": 374,
    "start_time": "2022-09-11T14:49:36.013Z"
   },
   {
    "duration": 246,
    "start_time": "2022-09-11T14:49:36.390Z"
   },
   {
    "duration": 356,
    "start_time": "2022-09-11T14:49:36.637Z"
   },
   {
    "duration": 3,
    "start_time": "2022-09-11T14:59:40.668Z"
   },
   {
    "duration": 3,
    "start_time": "2022-09-11T14:59:45.519Z"
   },
   {
    "duration": 19,
    "start_time": "2022-09-11T15:00:06.922Z"
   },
   {
    "duration": 12,
    "start_time": "2022-09-11T15:00:32.910Z"
   },
   {
    "duration": 14,
    "start_time": "2022-09-11T15:01:00.119Z"
   },
   {
    "duration": 12,
    "start_time": "2022-09-11T15:01:03.723Z"
   },
   {
    "duration": 12,
    "start_time": "2022-09-11T15:01:06.425Z"
   },
   {
    "duration": 11,
    "start_time": "2022-09-11T15:01:17.955Z"
   },
   {
    "duration": 77,
    "start_time": "2022-09-11T15:01:22.072Z"
   },
   {
    "duration": 15,
    "start_time": "2022-09-11T15:01:23.891Z"
   },
   {
    "duration": 3,
    "start_time": "2022-09-11T15:01:41.165Z"
   },
   {
    "duration": 3,
    "start_time": "2022-09-11T15:01:52.877Z"
   },
   {
    "duration": 12,
    "start_time": "2022-09-11T15:03:00.666Z"
   },
   {
    "duration": 12,
    "start_time": "2022-09-11T15:03:21.384Z"
   },
   {
    "duration": 14,
    "start_time": "2022-09-11T15:03:42.293Z"
   },
   {
    "duration": 16,
    "start_time": "2022-09-11T15:03:43.915Z"
   },
   {
    "duration": 15,
    "start_time": "2022-09-11T15:03:44.430Z"
   },
   {
    "duration": 14,
    "start_time": "2022-09-11T15:04:23.972Z"
   },
   {
    "duration": 11,
    "start_time": "2022-09-11T15:05:43.844Z"
   },
   {
    "duration": 13,
    "start_time": "2022-09-11T15:07:22.597Z"
   },
   {
    "duration": 12,
    "start_time": "2022-09-11T15:07:48.044Z"
   },
   {
    "duration": 13,
    "start_time": "2022-09-11T15:08:04.618Z"
   },
   {
    "duration": 12,
    "start_time": "2022-09-11T15:08:06.589Z"
   },
   {
    "duration": 11,
    "start_time": "2022-09-11T15:08:08.238Z"
   },
   {
    "duration": 11,
    "start_time": "2022-09-11T15:09:32.391Z"
   },
   {
    "duration": 12,
    "start_time": "2022-09-11T15:09:32.827Z"
   },
   {
    "duration": 11,
    "start_time": "2022-09-11T15:09:39.767Z"
   },
   {
    "duration": 12,
    "start_time": "2022-09-11T15:09:40.189Z"
   },
   {
    "duration": 12,
    "start_time": "2022-09-11T15:09:40.639Z"
   },
   {
    "duration": 4,
    "start_time": "2022-09-11T15:09:47.912Z"
   },
   {
    "duration": 143,
    "start_time": "2022-09-11T15:09:47.918Z"
   },
   {
    "duration": 125,
    "start_time": "2022-09-11T15:09:48.062Z"
   },
   {
    "duration": 117,
    "start_time": "2022-09-11T15:09:48.189Z"
   },
   {
    "duration": 9,
    "start_time": "2022-09-11T15:09:48.309Z"
   },
   {
    "duration": 13,
    "start_time": "2022-09-11T15:09:48.319Z"
   },
   {
    "duration": 12,
    "start_time": "2022-09-11T15:09:48.333Z"
   },
   {
    "duration": 12,
    "start_time": "2022-09-11T15:09:48.346Z"
   },
   {
    "duration": 11,
    "start_time": "2022-09-11T15:09:48.359Z"
   },
   {
    "duration": 6,
    "start_time": "2022-09-11T15:09:48.372Z"
   },
   {
    "duration": 9,
    "start_time": "2022-09-11T15:09:48.379Z"
   },
   {
    "duration": 14,
    "start_time": "2022-09-11T15:09:48.390Z"
   },
   {
    "duration": 8,
    "start_time": "2022-09-11T15:09:48.405Z"
   },
   {
    "duration": 5,
    "start_time": "2022-09-11T15:09:48.415Z"
   },
   {
    "duration": 447,
    "start_time": "2022-09-11T15:09:48.421Z"
   },
   {
    "duration": 260,
    "start_time": "2022-09-11T15:09:48.869Z"
   },
   {
    "duration": 351,
    "start_time": "2022-09-11T15:09:49.131Z"
   },
   {
    "duration": 3,
    "start_time": "2022-09-11T15:09:49.484Z"
   },
   {
    "duration": 24,
    "start_time": "2022-09-11T15:09:49.489Z"
   },
   {
    "duration": 11,
    "start_time": "2022-09-11T15:09:49.515Z"
   },
   {
    "duration": 11,
    "start_time": "2022-09-11T15:09:49.528Z"
   },
   {
    "duration": 71,
    "start_time": "2022-09-11T15:09:49.540Z"
   },
   {
    "duration": 101,
    "start_time": "2022-09-11T15:09:49.612Z"
   },
   {
    "duration": 195,
    "start_time": "2022-09-11T15:09:49.717Z"
   },
   {
    "duration": 5,
    "start_time": "2022-09-11T15:12:56.487Z"
   },
   {
    "duration": 4,
    "start_time": "2022-09-11T15:13:05.154Z"
   },
   {
    "duration": 24,
    "start_time": "2022-09-11T15:13:39.547Z"
   },
   {
    "duration": 22,
    "start_time": "2022-09-11T15:13:50.228Z"
   },
   {
    "duration": 23,
    "start_time": "2022-09-11T15:14:37.421Z"
   },
   {
    "duration": 24,
    "start_time": "2022-09-11T15:15:31.292Z"
   },
   {
    "duration": 23,
    "start_time": "2022-09-11T15:15:34.709Z"
   },
   {
    "duration": 22,
    "start_time": "2022-09-11T15:16:11.133Z"
   },
   {
    "duration": 3,
    "start_time": "2022-09-11T15:16:39.761Z"
   },
   {
    "duration": 139,
    "start_time": "2022-09-11T15:16:39.766Z"
   },
   {
    "duration": 122,
    "start_time": "2022-09-11T15:16:39.906Z"
   },
   {
    "duration": 199,
    "start_time": "2022-09-11T15:16:40.029Z"
   },
   {
    "duration": 9,
    "start_time": "2022-09-11T15:16:40.231Z"
   },
   {
    "duration": 6,
    "start_time": "2022-09-11T15:16:40.241Z"
   },
   {
    "duration": 6,
    "start_time": "2022-09-11T15:16:40.249Z"
   },
   {
    "duration": 6,
    "start_time": "2022-09-11T15:16:40.256Z"
   },
   {
    "duration": 4,
    "start_time": "2022-09-11T15:16:40.264Z"
   },
   {
    "duration": 4,
    "start_time": "2022-09-11T15:16:40.270Z"
   },
   {
    "duration": 34,
    "start_time": "2022-09-11T15:16:40.276Z"
   },
   {
    "duration": 14,
    "start_time": "2022-09-11T15:16:40.312Z"
   },
   {
    "duration": 6,
    "start_time": "2022-09-11T15:16:40.328Z"
   },
   {
    "duration": 4,
    "start_time": "2022-09-11T15:16:40.336Z"
   },
   {
    "duration": 384,
    "start_time": "2022-09-11T15:16:40.342Z"
   },
   {
    "duration": 255,
    "start_time": "2022-09-11T15:16:40.727Z"
   },
   {
    "duration": 428,
    "start_time": "2022-09-11T15:16:40.984Z"
   },
   {
    "duration": 3,
    "start_time": "2022-09-11T15:16:41.413Z"
   },
   {
    "duration": 17,
    "start_time": "2022-09-11T15:16:41.417Z"
   },
   {
    "duration": 10,
    "start_time": "2022-09-11T15:16:41.435Z"
   },
   {
    "duration": 11,
    "start_time": "2022-09-11T15:16:41.447Z"
   },
   {
    "duration": 52,
    "start_time": "2022-09-11T15:16:41.459Z"
   },
   {
    "duration": 105,
    "start_time": "2022-09-11T15:16:41.513Z"
   },
   {
    "duration": 94,
    "start_time": "2022-09-11T15:16:41.620Z"
   },
   {
    "duration": 193,
    "start_time": "2022-09-11T15:16:41.716Z"
   },
   {
    "duration": 100,
    "start_time": "2022-09-11T15:16:41.911Z"
   },
   {
    "duration": 114,
    "start_time": "2022-09-11T15:16:42.016Z"
   },
   {
    "duration": 196,
    "start_time": "2022-09-11T15:16:42.214Z"
   },
   {
    "duration": 6,
    "start_time": "2022-09-11T15:18:12.068Z"
   },
   {
    "duration": 6,
    "start_time": "2022-09-11T15:18:24.192Z"
   },
   {
    "duration": 25,
    "start_time": "2022-09-11T15:19:12.085Z"
   },
   {
    "duration": 39,
    "start_time": "2022-09-11T15:19:53.570Z"
   },
   {
    "duration": 23,
    "start_time": "2022-09-11T15:20:26.727Z"
   },
   {
    "duration": 9,
    "start_time": "2022-09-11T15:21:29.899Z"
   },
   {
    "duration": 3,
    "start_time": "2022-09-11T15:21:34.200Z"
   },
   {
    "duration": 135,
    "start_time": "2022-09-11T15:21:34.205Z"
   },
   {
    "duration": 130,
    "start_time": "2022-09-11T15:21:34.342Z"
   },
   {
    "duration": 138,
    "start_time": "2022-09-11T15:21:34.474Z"
   },
   {
    "duration": 9,
    "start_time": "2022-09-11T15:21:34.614Z"
   },
   {
    "duration": 6,
    "start_time": "2022-09-11T15:21:34.625Z"
   },
   {
    "duration": 10,
    "start_time": "2022-09-11T15:21:34.632Z"
   },
   {
    "duration": 6,
    "start_time": "2022-09-11T15:21:34.643Z"
   },
   {
    "duration": 7,
    "start_time": "2022-09-11T15:21:34.650Z"
   },
   {
    "duration": 2,
    "start_time": "2022-09-11T15:21:34.660Z"
   },
   {
    "duration": 7,
    "start_time": "2022-09-11T15:21:34.664Z"
   },
   {
    "duration": 6,
    "start_time": "2022-09-11T15:21:34.673Z"
   },
   {
    "duration": 30,
    "start_time": "2022-09-11T15:21:34.681Z"
   },
   {
    "duration": 6,
    "start_time": "2022-09-11T15:21:34.712Z"
   },
   {
    "duration": 362,
    "start_time": "2022-09-11T15:21:34.719Z"
   },
   {
    "duration": 245,
    "start_time": "2022-09-11T15:21:35.083Z"
   },
   {
    "duration": 356,
    "start_time": "2022-09-11T15:21:35.330Z"
   },
   {
    "duration": 3,
    "start_time": "2022-09-11T15:21:35.688Z"
   },
   {
    "duration": 25,
    "start_time": "2022-09-11T15:21:35.693Z"
   },
   {
    "duration": 12,
    "start_time": "2022-09-11T15:21:35.720Z"
   },
   {
    "duration": 12,
    "start_time": "2022-09-11T15:21:35.734Z"
   },
   {
    "duration": 66,
    "start_time": "2022-09-11T15:21:35.747Z"
   },
   {
    "duration": 105,
    "start_time": "2022-09-11T15:21:35.815Z"
   },
   {
    "duration": 190,
    "start_time": "2022-09-11T15:21:35.921Z"
   },
   {
    "duration": 252,
    "start_time": "2022-09-11T15:21:36.113Z"
   },
   {
    "duration": 50,
    "start_time": "2022-09-11T15:21:36.366Z"
   },
   {
    "duration": 196,
    "start_time": "2022-09-11T15:21:36.418Z"
   },
   {
    "duration": 108,
    "start_time": "2022-09-11T15:21:36.618Z"
   },
   {
    "duration": 21,
    "start_time": "2022-09-11T15:27:27.157Z"
   },
   {
    "duration": 24,
    "start_time": "2022-09-11T15:27:29.182Z"
   },
   {
    "duration": 21,
    "start_time": "2022-09-11T15:27:31.760Z"
   },
   {
    "duration": 3,
    "start_time": "2022-09-11T15:27:45.755Z"
   },
   {
    "duration": 138,
    "start_time": "2022-09-11T15:27:45.760Z"
   },
   {
    "duration": 116,
    "start_time": "2022-09-11T15:27:45.900Z"
   },
   {
    "duration": 123,
    "start_time": "2022-09-11T15:27:46.017Z"
   },
   {
    "duration": 6,
    "start_time": "2022-09-11T15:27:46.142Z"
   },
   {
    "duration": 23,
    "start_time": "2022-09-11T15:27:46.150Z"
   },
   {
    "duration": 17,
    "start_time": "2022-09-11T15:27:46.174Z"
   },
   {
    "duration": 29,
    "start_time": "2022-09-11T15:27:46.193Z"
   },
   {
    "duration": 16,
    "start_time": "2022-09-11T15:27:46.223Z"
   },
   {
    "duration": 21,
    "start_time": "2022-09-11T15:27:46.240Z"
   },
   {
    "duration": 16,
    "start_time": "2022-09-11T15:27:46.263Z"
   },
   {
    "duration": 15,
    "start_time": "2022-09-11T15:27:46.281Z"
   },
   {
    "duration": 34,
    "start_time": "2022-09-11T15:27:46.298Z"
   },
   {
    "duration": 40,
    "start_time": "2022-09-11T15:27:46.336Z"
   },
   {
    "duration": 362,
    "start_time": "2022-09-11T15:27:46.378Z"
   },
   {
    "duration": 243,
    "start_time": "2022-09-11T15:27:46.742Z"
   },
   {
    "duration": 351,
    "start_time": "2022-09-11T15:27:46.987Z"
   },
   {
    "duration": 4,
    "start_time": "2022-09-11T15:27:47.340Z"
   },
   {
    "duration": 20,
    "start_time": "2022-09-11T15:27:47.345Z"
   },
   {
    "duration": 32,
    "start_time": "2022-09-11T15:27:47.366Z"
   },
   {
    "duration": 26,
    "start_time": "2022-09-11T15:27:47.399Z"
   },
   {
    "duration": 12,
    "start_time": "2022-09-11T15:27:47.426Z"
   },
   {
    "duration": 169,
    "start_time": "2022-09-11T15:27:47.440Z"
   },
   {
    "duration": 114,
    "start_time": "2022-09-11T15:27:47.613Z"
   },
   {
    "duration": 178,
    "start_time": "2022-09-11T15:27:47.732Z"
   },
   {
    "duration": 98,
    "start_time": "2022-09-11T15:27:47.912Z"
   },
   {
    "duration": 121,
    "start_time": "2022-09-11T15:27:48.015Z"
   },
   {
    "duration": 119,
    "start_time": "2022-09-11T15:27:48.212Z"
   },
   {
    "duration": 3,
    "start_time": "2022-09-11T15:47:02.641Z"
   },
   {
    "duration": 10,
    "start_time": "2022-09-11T15:55:44.214Z"
   },
   {
    "duration": 3,
    "start_time": "2022-09-11T15:55:54.963Z"
   },
   {
    "duration": 5,
    "start_time": "2022-09-11T15:55:55.904Z"
   },
   {
    "duration": 4,
    "start_time": "2022-09-11T15:56:42.537Z"
   },
   {
    "duration": 4,
    "start_time": "2022-09-11T15:56:43.599Z"
   },
   {
    "duration": 4,
    "start_time": "2022-09-11T15:56:59.746Z"
   },
   {
    "duration": 6,
    "start_time": "2022-09-11T15:57:40.149Z"
   },
   {
    "duration": 7,
    "start_time": "2022-09-11T15:57:58.447Z"
   },
   {
    "duration": 5,
    "start_time": "2022-09-11T15:58:41.616Z"
   },
   {
    "duration": 7,
    "start_time": "2022-09-11T15:58:54.630Z"
   },
   {
    "duration": 3,
    "start_time": "2022-09-11T16:00:05.417Z"
   },
   {
    "duration": 4,
    "start_time": "2022-09-11T16:00:06.652Z"
   },
   {
    "duration": 4,
    "start_time": "2022-09-11T16:00:22.936Z"
   },
   {
    "duration": 6,
    "start_time": "2022-09-11T16:00:25.838Z"
   },
   {
    "duration": 5,
    "start_time": "2022-09-11T16:03:00.460Z"
   },
   {
    "duration": 4,
    "start_time": "2022-09-11T16:04:16.996Z"
   },
   {
    "duration": 3,
    "start_time": "2022-09-11T16:05:18.073Z"
   },
   {
    "duration": 5,
    "start_time": "2022-09-11T16:10:22.769Z"
   },
   {
    "duration": 12,
    "start_time": "2022-09-11T16:10:36.985Z"
   },
   {
    "duration": 5,
    "start_time": "2022-09-11T16:11:57.778Z"
   },
   {
    "duration": 12,
    "start_time": "2022-09-11T16:11:58.161Z"
   },
   {
    "duration": 3,
    "start_time": "2022-09-11T16:12:52.810Z"
   },
   {
    "duration": 5,
    "start_time": "2022-09-11T16:12:53.353Z"
   },
   {
    "duration": 4,
    "start_time": "2022-09-11T16:13:24.555Z"
   },
   {
    "duration": 5,
    "start_time": "2022-09-11T16:13:25.018Z"
   },
   {
    "duration": 12,
    "start_time": "2022-09-11T16:13:26.364Z"
   },
   {
    "duration": 6,
    "start_time": "2022-09-11T16:14:20.877Z"
   },
   {
    "duration": 708,
    "start_time": "2022-09-11T16:14:21.425Z"
   },
   {
    "duration": 2,
    "start_time": "2022-09-11T16:15:08.309Z"
   },
   {
    "duration": 4,
    "start_time": "2022-09-11T16:15:09.314Z"
   },
   {
    "duration": 5,
    "start_time": "2022-09-11T16:15:09.683Z"
   },
   {
    "duration": 3,
    "start_time": "2022-09-11T16:15:10.457Z"
   },
   {
    "duration": 4,
    "start_time": "2022-09-11T16:15:10.813Z"
   },
   {
    "duration": 695,
    "start_time": "2022-09-11T16:15:11.244Z"
   },
   {
    "duration": 690,
    "start_time": "2022-09-11T16:15:42.884Z"
   },
   {
    "duration": 719,
    "start_time": "2022-09-11T16:16:08.710Z"
   },
   {
    "duration": 8,
    "start_time": "2022-09-11T16:16:34.180Z"
   },
   {
    "duration": 7,
    "start_time": "2022-09-11T16:16:37.221Z"
   },
   {
    "duration": 714,
    "start_time": "2022-09-11T16:16:37.586Z"
   },
   {
    "duration": 738,
    "start_time": "2022-09-11T16:16:38.302Z"
   },
   {
    "duration": 706,
    "start_time": "2022-09-11T16:16:39.042Z"
   },
   {
    "duration": 688,
    "start_time": "2022-09-11T16:16:58.187Z"
   },
   {
    "duration": 715,
    "start_time": "2022-09-11T16:17:10.476Z"
   },
   {
    "duration": 696,
    "start_time": "2022-09-11T16:17:21.822Z"
   },
   {
    "duration": 695,
    "start_time": "2022-09-11T16:17:25.404Z"
   },
   {
    "duration": 4,
    "start_time": "2022-09-11T16:17:44.697Z"
   },
   {
    "duration": 691,
    "start_time": "2022-09-11T16:17:44.992Z"
   },
   {
    "duration": 702,
    "start_time": "2022-09-11T16:17:45.796Z"
   },
   {
    "duration": 685,
    "start_time": "2022-09-11T16:17:46.500Z"
   },
   {
    "duration": 3,
    "start_time": "2022-09-11T16:18:00.216Z"
   },
   {
    "duration": 5,
    "start_time": "2022-09-11T16:18:00.573Z"
   },
   {
    "duration": 736,
    "start_time": "2022-09-11T16:18:01.040Z"
   },
   {
    "duration": 713,
    "start_time": "2022-09-11T16:18:01.778Z"
   },
   {
    "duration": 822,
    "start_time": "2022-09-11T16:18:02.494Z"
   },
   {
    "duration": 2,
    "start_time": "2022-09-11T16:23:45.817Z"
   },
   {
    "duration": 2,
    "start_time": "2022-09-11T16:23:48.795Z"
   },
   {
    "duration": 4,
    "start_time": "2022-09-11T16:23:49.780Z"
   },
   {
    "duration": 5,
    "start_time": "2022-09-11T16:23:50.295Z"
   },
   {
    "duration": 3,
    "start_time": "2022-09-11T16:23:51.428Z"
   },
   {
    "duration": 6,
    "start_time": "2022-09-11T16:23:52.021Z"
   },
   {
    "duration": 744,
    "start_time": "2022-09-11T16:23:52.582Z"
   },
   {
    "duration": 707,
    "start_time": "2022-09-11T16:23:53.470Z"
   },
   {
    "duration": 683,
    "start_time": "2022-09-11T16:23:54.544Z"
   },
   {
    "duration": 3,
    "start_time": "2022-09-11T16:24:25.805Z"
   },
   {
    "duration": 4,
    "start_time": "2022-09-11T16:24:26.640Z"
   },
   {
    "duration": 5,
    "start_time": "2022-09-11T16:24:27.012Z"
   },
   {
    "duration": 3,
    "start_time": "2022-09-11T16:24:27.789Z"
   },
   {
    "duration": 4,
    "start_time": "2022-09-11T16:24:28.225Z"
   },
   {
    "duration": 699,
    "start_time": "2022-09-11T16:24:28.721Z"
   },
   {
    "duration": 673,
    "start_time": "2022-09-11T16:24:29.422Z"
   },
   {
    "duration": 692,
    "start_time": "2022-09-11T16:24:30.097Z"
   },
   {
    "duration": 3,
    "start_time": "2022-09-11T16:28:27.137Z"
   },
   {
    "duration": 142,
    "start_time": "2022-09-11T16:28:27.142Z"
   },
   {
    "duration": 122,
    "start_time": "2022-09-11T16:28:27.286Z"
   },
   {
    "duration": 124,
    "start_time": "2022-09-11T16:28:27.410Z"
   },
   {
    "duration": 9,
    "start_time": "2022-09-11T16:28:27.535Z"
   },
   {
    "duration": 7,
    "start_time": "2022-09-11T16:28:27.545Z"
   },
   {
    "duration": 8,
    "start_time": "2022-09-11T16:28:27.554Z"
   },
   {
    "duration": 4,
    "start_time": "2022-09-11T16:28:27.564Z"
   },
   {
    "duration": 4,
    "start_time": "2022-09-11T16:28:27.570Z"
   },
   {
    "duration": 3,
    "start_time": "2022-09-11T16:28:27.576Z"
   },
   {
    "duration": 30,
    "start_time": "2022-09-11T16:28:27.580Z"
   },
   {
    "duration": 7,
    "start_time": "2022-09-11T16:28:27.612Z"
   },
   {
    "duration": 5,
    "start_time": "2022-09-11T16:28:27.620Z"
   },
   {
    "duration": 4,
    "start_time": "2022-09-11T16:28:27.626Z"
   },
   {
    "duration": 379,
    "start_time": "2022-09-11T16:28:27.631Z"
   },
   {
    "duration": 321,
    "start_time": "2022-09-11T16:28:28.011Z"
   },
   {
    "duration": 361,
    "start_time": "2022-09-11T16:28:28.334Z"
   },
   {
    "duration": 3,
    "start_time": "2022-09-11T16:28:28.696Z"
   },
   {
    "duration": 31,
    "start_time": "2022-09-11T16:28:28.700Z"
   },
   {
    "duration": 22,
    "start_time": "2022-09-11T16:28:28.733Z"
   },
   {
    "duration": 12,
    "start_time": "2022-09-11T16:28:28.756Z"
   },
   {
    "duration": 39,
    "start_time": "2022-09-11T16:28:28.769Z"
   },
   {
    "duration": 105,
    "start_time": "2022-09-11T16:28:28.809Z"
   },
   {
    "duration": 193,
    "start_time": "2022-09-11T16:28:28.917Z"
   },
   {
    "duration": 6,
    "start_time": "2022-09-11T16:28:29.112Z"
   },
   {
    "duration": 99,
    "start_time": "2022-09-11T16:28:29.209Z"
   },
   {
    "duration": 113,
    "start_time": "2022-09-11T16:28:29.310Z"
   },
   {
    "duration": 195,
    "start_time": "2022-09-11T16:28:29.426Z"
   },
   {
    "duration": 87,
    "start_time": "2022-09-11T16:28:29.623Z"
   },
   {
    "duration": 102,
    "start_time": "2022-09-11T16:28:29.712Z"
   },
   {
    "duration": 38,
    "start_time": "2022-09-11T16:28:29.816Z"
   },
   {
    "duration": 9,
    "start_time": "2022-09-11T16:28:29.856Z"
   },
   {
    "duration": 19,
    "start_time": "2022-09-11T16:28:29.866Z"
   },
   {
    "duration": 711,
    "start_time": "2022-09-11T16:28:29.887Z"
   },
   {
    "duration": 713,
    "start_time": "2022-09-11T16:28:30.599Z"
   },
   {
    "duration": 679,
    "start_time": "2022-09-11T16:28:31.313Z"
   },
   {
    "duration": 7,
    "start_time": "2022-09-11T16:30:30.752Z"
   },
   {
    "duration": 763,
    "start_time": "2022-09-11T16:30:32.728Z"
   },
   {
    "duration": 821,
    "start_time": "2022-09-11T16:30:33.810Z"
   },
   {
    "duration": 780,
    "start_time": "2022-09-11T16:30:35.262Z"
   },
   {
    "duration": 540,
    "start_time": "2022-09-11T16:31:57.467Z"
   },
   {
    "duration": 745,
    "start_time": "2022-09-11T16:31:58.147Z"
   },
   {
    "duration": 5,
    "start_time": "2022-09-11T16:32:04.796Z"
   },
   {
    "duration": 782,
    "start_time": "2022-09-11T16:32:06.244Z"
   },
   {
    "duration": 750,
    "start_time": "2022-09-11T16:32:08.768Z"
   },
   {
    "duration": 728,
    "start_time": "2022-09-11T16:32:09.520Z"
   },
   {
    "duration": 6,
    "start_time": "2022-09-11T16:32:19.331Z"
   },
   {
    "duration": 782,
    "start_time": "2022-09-11T16:32:20.768Z"
   },
   {
    "duration": 759,
    "start_time": "2022-09-11T16:32:21.603Z"
   },
   {
    "duration": 822,
    "start_time": "2022-09-11T16:32:22.364Z"
   },
   {
    "duration": 5,
    "start_time": "2022-09-11T16:32:46.685Z"
   },
   {
    "duration": 697,
    "start_time": "2022-09-11T16:32:47.268Z"
   },
   {
    "duration": 719,
    "start_time": "2022-09-11T16:32:47.966Z"
   },
   {
    "duration": 781,
    "start_time": "2022-09-11T16:32:48.687Z"
   },
   {
    "duration": 3,
    "start_time": "2022-09-11T16:32:55.704Z"
   },
   {
    "duration": 147,
    "start_time": "2022-09-11T16:32:55.709Z"
   },
   {
    "duration": 127,
    "start_time": "2022-09-11T16:32:55.858Z"
   },
   {
    "duration": 126,
    "start_time": "2022-09-11T16:32:55.986Z"
   },
   {
    "duration": 9,
    "start_time": "2022-09-11T16:32:56.114Z"
   },
   {
    "duration": 7,
    "start_time": "2022-09-11T16:32:56.125Z"
   },
   {
    "duration": 10,
    "start_time": "2022-09-11T16:32:56.133Z"
   },
   {
    "duration": 7,
    "start_time": "2022-09-11T16:32:56.144Z"
   },
   {
    "duration": 6,
    "start_time": "2022-09-11T16:32:56.152Z"
   },
   {
    "duration": 3,
    "start_time": "2022-09-11T16:32:56.161Z"
   },
   {
    "duration": 9,
    "start_time": "2022-09-11T16:32:56.165Z"
   },
   {
    "duration": 35,
    "start_time": "2022-09-11T16:32:56.176Z"
   },
   {
    "duration": 5,
    "start_time": "2022-09-11T16:32:56.213Z"
   },
   {
    "duration": 5,
    "start_time": "2022-09-11T16:32:56.220Z"
   },
   {
    "duration": 374,
    "start_time": "2022-09-11T16:32:56.226Z"
   },
   {
    "duration": 250,
    "start_time": "2022-09-11T16:32:56.602Z"
   },
   {
    "duration": 437,
    "start_time": "2022-09-11T16:32:56.854Z"
   },
   {
    "duration": 4,
    "start_time": "2022-09-11T16:32:57.293Z"
   },
   {
    "duration": 27,
    "start_time": "2022-09-11T16:32:57.298Z"
   },
   {
    "duration": 15,
    "start_time": "2022-09-11T16:32:57.327Z"
   },
   {
    "duration": 12,
    "start_time": "2022-09-11T16:32:57.343Z"
   },
   {
    "duration": 55,
    "start_time": "2022-09-11T16:32:57.356Z"
   },
   {
    "duration": 99,
    "start_time": "2022-09-11T16:32:57.412Z"
   },
   {
    "duration": 196,
    "start_time": "2022-09-11T16:32:57.512Z"
   },
   {
    "duration": 6,
    "start_time": "2022-09-11T16:32:57.710Z"
   },
   {
    "duration": 120,
    "start_time": "2022-09-11T16:32:57.718Z"
   },
   {
    "duration": 175,
    "start_time": "2022-09-11T16:32:57.840Z"
   },
   {
    "duration": 190,
    "start_time": "2022-09-11T16:32:58.019Z"
   },
   {
    "duration": 5,
    "start_time": "2022-09-11T16:32:58.214Z"
   },
   {
    "duration": 93,
    "start_time": "2022-09-11T16:32:58.223Z"
   },
   {
    "duration": 9,
    "start_time": "2022-09-11T16:32:58.319Z"
   },
   {
    "duration": 3,
    "start_time": "2022-09-11T16:32:58.329Z"
   },
   {
    "duration": 7,
    "start_time": "2022-09-11T16:32:58.333Z"
   },
   {
    "duration": 743,
    "start_time": "2022-09-11T16:32:58.342Z"
   },
   {
    "duration": 790,
    "start_time": "2022-09-11T16:32:59.086Z"
   },
   {
    "duration": 753,
    "start_time": "2022-09-11T16:32:59.877Z"
   },
   {
    "duration": 7,
    "start_time": "2022-09-11T16:33:11.822Z"
   },
   {
    "duration": 843,
    "start_time": "2022-09-11T16:33:12.308Z"
   },
   {
    "duration": 774,
    "start_time": "2022-09-11T16:33:14.140Z"
   },
   {
    "duration": 714,
    "start_time": "2022-09-11T16:33:15.755Z"
   },
   {
    "duration": 5,
    "start_time": "2022-09-11T16:33:24.421Z"
   },
   {
    "duration": 701,
    "start_time": "2022-09-11T16:33:24.949Z"
   },
   {
    "duration": 730,
    "start_time": "2022-09-11T16:33:26.282Z"
   },
   {
    "duration": 804,
    "start_time": "2022-09-11T16:33:27.501Z"
   },
   {
    "duration": 3,
    "start_time": "2022-09-11T16:36:06.064Z"
   },
   {
    "duration": 5,
    "start_time": "2022-09-11T16:36:15.348Z"
   },
   {
    "duration": 18,
    "start_time": "2022-09-11T16:36:16.067Z"
   },
   {
    "duration": 3,
    "start_time": "2022-09-11T16:36:18.983Z"
   },
   {
    "duration": 5,
    "start_time": "2022-09-11T16:36:19.382Z"
   },
   {
    "duration": 14,
    "start_time": "2022-09-11T16:36:21.277Z"
   },
   {
    "duration": 3,
    "start_time": "2022-09-11T16:37:21.531Z"
   },
   {
    "duration": 5,
    "start_time": "2022-09-11T16:37:21.921Z"
   },
   {
    "duration": 806,
    "start_time": "2022-09-11T16:37:22.420Z"
   },
   {
    "duration": 730,
    "start_time": "2022-09-11T16:37:24.571Z"
   },
   {
    "duration": 763,
    "start_time": "2022-09-11T16:37:26.358Z"
   },
   {
    "duration": 3,
    "start_time": "2022-09-11T16:38:11.464Z"
   },
   {
    "duration": 3,
    "start_time": "2022-09-11T16:38:42.284Z"
   },
   {
    "duration": 135,
    "start_time": "2022-09-11T16:38:42.288Z"
   },
   {
    "duration": 140,
    "start_time": "2022-09-11T16:38:42.424Z"
   },
   {
    "duration": 150,
    "start_time": "2022-09-11T16:38:42.566Z"
   },
   {
    "duration": 12,
    "start_time": "2022-09-11T16:38:42.718Z"
   },
   {
    "duration": 15,
    "start_time": "2022-09-11T16:38:42.731Z"
   },
   {
    "duration": 7,
    "start_time": "2022-09-11T16:38:42.747Z"
   },
   {
    "duration": 7,
    "start_time": "2022-09-11T16:38:42.755Z"
   },
   {
    "duration": 5,
    "start_time": "2022-09-11T16:38:42.763Z"
   },
   {
    "duration": 3,
    "start_time": "2022-09-11T16:38:42.770Z"
   },
   {
    "duration": 13,
    "start_time": "2022-09-11T16:38:42.774Z"
   },
   {
    "duration": 28,
    "start_time": "2022-09-11T16:38:42.788Z"
   },
   {
    "duration": 5,
    "start_time": "2022-09-11T16:38:42.818Z"
   },
   {
    "duration": 9,
    "start_time": "2022-09-11T16:38:42.826Z"
   },
   {
    "duration": 403,
    "start_time": "2022-09-11T16:38:42.837Z"
   },
   {
    "duration": 248,
    "start_time": "2022-09-11T16:38:43.242Z"
   },
   {
    "duration": 386,
    "start_time": "2022-09-11T16:38:43.492Z"
   },
   {
    "duration": 4,
    "start_time": "2022-09-11T16:38:43.881Z"
   },
   {
    "duration": 33,
    "start_time": "2022-09-11T16:38:43.886Z"
   },
   {
    "duration": 12,
    "start_time": "2022-09-11T16:38:43.921Z"
   },
   {
    "duration": 11,
    "start_time": "2022-09-11T16:38:43.935Z"
   },
   {
    "duration": 63,
    "start_time": "2022-09-11T16:38:43.947Z"
   },
   {
    "duration": 108,
    "start_time": "2022-09-11T16:38:44.012Z"
   },
   {
    "duration": 98,
    "start_time": "2022-09-11T16:38:44.122Z"
   },
   {
    "duration": 98,
    "start_time": "2022-09-11T16:38:44.222Z"
   },
   {
    "duration": 114,
    "start_time": "2022-09-11T16:38:44.322Z"
   },
   {
    "duration": 178,
    "start_time": "2022-09-11T16:38:44.437Z"
   },
   {
    "duration": 202,
    "start_time": "2022-09-11T16:38:44.617Z"
   },
   {
    "duration": 7,
    "start_time": "2022-09-11T16:38:44.827Z"
   },
   {
    "duration": 108,
    "start_time": "2022-09-11T16:38:44.908Z"
   },
   {
    "duration": 19,
    "start_time": "2022-09-11T16:38:45.018Z"
   },
   {
    "duration": 6,
    "start_time": "2022-09-11T16:38:45.038Z"
   },
   {
    "duration": 7,
    "start_time": "2022-09-11T16:38:45.045Z"
   },
   {
    "duration": 738,
    "start_time": "2022-09-11T16:38:45.053Z"
   },
   {
    "duration": 717,
    "start_time": "2022-09-11T16:38:45.792Z"
   },
   {
    "duration": 719,
    "start_time": "2022-09-11T16:38:46.511Z"
   },
   {
    "duration": 3,
    "start_time": "2022-09-11T16:39:08.032Z"
   },
   {
    "duration": 143,
    "start_time": "2022-09-11T16:39:08.037Z"
   },
   {
    "duration": 124,
    "start_time": "2022-09-11T16:39:08.181Z"
   },
   {
    "duration": 125,
    "start_time": "2022-09-11T16:39:08.306Z"
   },
   {
    "duration": 10,
    "start_time": "2022-09-11T16:39:08.433Z"
   },
   {
    "duration": 7,
    "start_time": "2022-09-11T16:39:08.444Z"
   },
   {
    "duration": 7,
    "start_time": "2022-09-11T16:39:08.453Z"
   },
   {
    "duration": 6,
    "start_time": "2022-09-11T16:39:08.461Z"
   },
   {
    "duration": 6,
    "start_time": "2022-09-11T16:39:08.468Z"
   },
   {
    "duration": 7,
    "start_time": "2022-09-11T16:39:08.476Z"
   },
   {
    "duration": 25,
    "start_time": "2022-09-11T16:39:08.484Z"
   },
   {
    "duration": 14,
    "start_time": "2022-09-11T16:39:08.511Z"
   },
   {
    "duration": 11,
    "start_time": "2022-09-11T16:39:08.527Z"
   },
   {
    "duration": 5,
    "start_time": "2022-09-11T16:39:08.541Z"
   },
   {
    "duration": 543,
    "start_time": "2022-09-11T16:39:08.547Z"
   },
   {
    "duration": 255,
    "start_time": "2022-09-11T16:39:09.092Z"
   },
   {
    "duration": 365,
    "start_time": "2022-09-11T16:39:09.348Z"
   },
   {
    "duration": 4,
    "start_time": "2022-09-11T16:39:09.715Z"
   },
   {
    "duration": 17,
    "start_time": "2022-09-11T16:39:09.720Z"
   },
   {
    "duration": 16,
    "start_time": "2022-09-11T16:39:09.739Z"
   },
   {
    "duration": 11,
    "start_time": "2022-09-11T16:39:09.756Z"
   },
   {
    "duration": 45,
    "start_time": "2022-09-11T16:39:09.769Z"
   },
   {
    "duration": 100,
    "start_time": "2022-09-11T16:39:09.815Z"
   },
   {
    "duration": 199,
    "start_time": "2022-09-11T16:39:09.917Z"
   },
   {
    "duration": 100,
    "start_time": "2022-09-11T16:39:10.118Z"
   },
   {
    "duration": 123,
    "start_time": "2022-09-11T16:39:10.221Z"
   },
   {
    "duration": 263,
    "start_time": "2022-09-11T16:39:10.347Z"
   },
   {
    "duration": 111,
    "start_time": "2022-09-11T16:39:10.612Z"
   },
   {
    "duration": 82,
    "start_time": "2022-09-11T16:39:10.728Z"
   },
   {
    "duration": 106,
    "start_time": "2022-09-11T16:39:10.811Z"
   },
   {
    "duration": 7,
    "start_time": "2022-09-11T16:39:10.919Z"
   },
   {
    "duration": 4,
    "start_time": "2022-09-11T16:39:10.927Z"
   },
   {
    "duration": 6,
    "start_time": "2022-09-11T16:39:10.932Z"
   },
   {
    "duration": 753,
    "start_time": "2022-09-11T16:39:10.939Z"
   },
   {
    "duration": 779,
    "start_time": "2022-09-11T16:39:11.693Z"
   },
   {
    "duration": 822,
    "start_time": "2022-09-11T16:39:12.474Z"
   },
   {
    "duration": 4,
    "start_time": "2022-09-11T16:39:43.582Z"
   },
   {
    "duration": 142,
    "start_time": "2022-09-11T16:39:43.588Z"
   },
   {
    "duration": 141,
    "start_time": "2022-09-11T16:39:43.732Z"
   },
   {
    "duration": 149,
    "start_time": "2022-09-11T16:39:43.875Z"
   },
   {
    "duration": 10,
    "start_time": "2022-09-11T16:39:44.027Z"
   },
   {
    "duration": 11,
    "start_time": "2022-09-11T16:39:44.038Z"
   },
   {
    "duration": 12,
    "start_time": "2022-09-11T16:39:44.051Z"
   },
   {
    "duration": 16,
    "start_time": "2022-09-11T16:39:44.064Z"
   },
   {
    "duration": 9,
    "start_time": "2022-09-11T16:39:44.082Z"
   },
   {
    "duration": 13,
    "start_time": "2022-09-11T16:39:44.093Z"
   },
   {
    "duration": 12,
    "start_time": "2022-09-11T16:39:44.107Z"
   },
   {
    "duration": 10,
    "start_time": "2022-09-11T16:39:44.121Z"
   },
   {
    "duration": 7,
    "start_time": "2022-09-11T16:39:44.133Z"
   },
   {
    "duration": 3,
    "start_time": "2022-09-11T16:39:44.143Z"
   },
   {
    "duration": 426,
    "start_time": "2022-09-11T16:39:44.148Z"
   },
   {
    "duration": 339,
    "start_time": "2022-09-11T16:39:44.576Z"
   },
   {
    "duration": 377,
    "start_time": "2022-09-11T16:39:44.916Z"
   },
   {
    "duration": 3,
    "start_time": "2022-09-11T16:39:45.294Z"
   },
   {
    "duration": 24,
    "start_time": "2022-09-11T16:39:45.299Z"
   },
   {
    "duration": 13,
    "start_time": "2022-09-11T16:39:45.324Z"
   },
   {
    "duration": 13,
    "start_time": "2022-09-11T16:39:45.339Z"
   },
   {
    "duration": 57,
    "start_time": "2022-09-11T16:39:45.353Z"
   },
   {
    "duration": 99,
    "start_time": "2022-09-11T16:39:45.412Z"
   },
   {
    "duration": 99,
    "start_time": "2022-09-11T16:39:45.513Z"
   },
   {
    "duration": 95,
    "start_time": "2022-09-11T16:39:45.614Z"
   },
   {
    "duration": 105,
    "start_time": "2022-09-11T16:39:45.712Z"
   },
   {
    "duration": 202,
    "start_time": "2022-09-11T16:39:45.819Z"
   },
   {
    "duration": 198,
    "start_time": "2022-09-11T16:39:46.023Z"
   },
   {
    "duration": 87,
    "start_time": "2022-09-11T16:39:46.225Z"
   },
   {
    "duration": 98,
    "start_time": "2022-09-11T16:39:46.317Z"
   },
   {
    "duration": 10,
    "start_time": "2022-09-11T16:39:46.417Z"
   },
   {
    "duration": 5,
    "start_time": "2022-09-11T16:39:46.429Z"
   },
   {
    "duration": 11,
    "start_time": "2022-09-11T16:39:46.436Z"
   },
   {
    "duration": 731,
    "start_time": "2022-09-11T16:39:46.448Z"
   },
   {
    "duration": 715,
    "start_time": "2022-09-11T16:39:47.181Z"
   },
   {
    "duration": 758,
    "start_time": "2022-09-11T16:39:47.898Z"
   },
   {
    "duration": 4,
    "start_time": "2022-09-11T16:40:02.148Z"
   },
   {
    "duration": 162,
    "start_time": "2022-09-11T16:40:02.154Z"
   },
   {
    "duration": 144,
    "start_time": "2022-09-11T16:40:02.318Z"
   },
   {
    "duration": 145,
    "start_time": "2022-09-11T16:40:02.464Z"
   },
   {
    "duration": 10,
    "start_time": "2022-09-11T16:40:02.612Z"
   },
   {
    "duration": 10,
    "start_time": "2022-09-11T16:40:02.624Z"
   },
   {
    "duration": 13,
    "start_time": "2022-09-11T16:40:02.636Z"
   },
   {
    "duration": 11,
    "start_time": "2022-09-11T16:40:02.651Z"
   },
   {
    "duration": 13,
    "start_time": "2022-09-11T16:40:02.663Z"
   },
   {
    "duration": 14,
    "start_time": "2022-09-11T16:40:02.677Z"
   },
   {
    "duration": 26,
    "start_time": "2022-09-11T16:40:02.693Z"
   },
   {
    "duration": 15,
    "start_time": "2022-09-11T16:40:02.721Z"
   },
   {
    "duration": 24,
    "start_time": "2022-09-11T16:40:02.738Z"
   },
   {
    "duration": 19,
    "start_time": "2022-09-11T16:40:02.766Z"
   },
   {
    "duration": 419,
    "start_time": "2022-09-11T16:40:02.787Z"
   },
   {
    "duration": 284,
    "start_time": "2022-09-11T16:40:03.209Z"
   },
   {
    "duration": 477,
    "start_time": "2022-09-11T16:40:03.495Z"
   },
   {
    "duration": 4,
    "start_time": "2022-09-11T16:40:03.974Z"
   },
   {
    "duration": 16,
    "start_time": "2022-09-11T16:40:03.980Z"
   },
   {
    "duration": 17,
    "start_time": "2022-09-11T16:40:04.009Z"
   },
   {
    "duration": 13,
    "start_time": "2022-09-11T16:40:04.029Z"
   },
   {
    "duration": 67,
    "start_time": "2022-09-11T16:40:04.044Z"
   },
   {
    "duration": 100,
    "start_time": "2022-09-11T16:40:04.112Z"
   },
   {
    "duration": 97,
    "start_time": "2022-09-11T16:40:04.214Z"
   },
   {
    "duration": 105,
    "start_time": "2022-09-11T16:40:04.313Z"
   },
   {
    "duration": 109,
    "start_time": "2022-09-11T16:40:04.423Z"
   },
   {
    "duration": 180,
    "start_time": "2022-09-11T16:40:04.536Z"
   },
   {
    "duration": 195,
    "start_time": "2022-09-11T16:40:04.717Z"
   },
   {
    "duration": 4,
    "start_time": "2022-09-11T16:40:04.914Z"
   },
   {
    "duration": 96,
    "start_time": "2022-09-11T16:40:04.920Z"
   },
   {
    "duration": 6,
    "start_time": "2022-09-11T16:40:05.018Z"
   },
   {
    "duration": 4,
    "start_time": "2022-09-11T16:40:05.026Z"
   },
   {
    "duration": 8,
    "start_time": "2022-09-11T16:40:05.031Z"
   },
   {
    "duration": 743,
    "start_time": "2022-09-11T16:40:05.041Z"
   },
   {
    "duration": 747,
    "start_time": "2022-09-11T16:40:05.786Z"
   },
   {
    "duration": 762,
    "start_time": "2022-09-11T16:40:06.535Z"
   },
   {
    "duration": 6,
    "start_time": "2022-09-11T16:42:52.698Z"
   },
   {
    "duration": 1218,
    "start_time": "2022-09-11T16:42:53.134Z"
   },
   {
    "duration": 1260,
    "start_time": "2022-09-11T16:42:54.354Z"
   },
   {
    "duration": 1213,
    "start_time": "2022-09-11T16:42:55.616Z"
   },
   {
    "duration": 25,
    "start_time": "2022-09-11T16:44:54.150Z"
   },
   {
    "duration": 12,
    "start_time": "2022-09-11T16:45:04.025Z"
   },
   {
    "duration": 13,
    "start_time": "2022-09-11T16:45:09.060Z"
   },
   {
    "duration": 10,
    "start_time": "2022-09-11T16:45:31.641Z"
   },
   {
    "duration": 11,
    "start_time": "2022-09-11T16:45:37.711Z"
   },
   {
    "duration": 13,
    "start_time": "2022-09-11T16:45:42.180Z"
   },
   {
    "duration": 10,
    "start_time": "2022-09-11T16:45:46.441Z"
   },
   {
    "duration": 14,
    "start_time": "2022-09-11T16:45:49.822Z"
   },
   {
    "duration": 12,
    "start_time": "2022-09-11T16:45:58.426Z"
   },
   {
    "duration": 16,
    "start_time": "2022-09-11T16:46:17.133Z"
   },
   {
    "duration": 13,
    "start_time": "2022-09-11T16:46:18.938Z"
   },
   {
    "duration": 12,
    "start_time": "2022-09-11T16:46:19.397Z"
   },
   {
    "duration": 11,
    "start_time": "2022-09-11T16:46:19.907Z"
   },
   {
    "duration": 7,
    "start_time": "2022-09-11T16:46:25.849Z"
   },
   {
    "duration": 105,
    "start_time": "2022-09-11T16:46:26.213Z"
   },
   {
    "duration": 3,
    "start_time": "2022-09-11T16:47:14.325Z"
   },
   {
    "duration": 5,
    "start_time": "2022-09-11T16:47:15.554Z"
   },
   {
    "duration": 6,
    "start_time": "2022-09-11T16:47:18.415Z"
   },
   {
    "duration": 3,
    "start_time": "2022-09-11T16:47:27.913Z"
   },
   {
    "duration": 5,
    "start_time": "2022-09-11T16:47:31.481Z"
   },
   {
    "duration": 1230,
    "start_time": "2022-09-11T16:47:32.964Z"
   },
   {
    "duration": 1289,
    "start_time": "2022-09-11T16:47:35.614Z"
   },
   {
    "duration": 1244,
    "start_time": "2022-09-11T16:47:37.684Z"
   },
   {
    "duration": 4,
    "start_time": "2022-09-11T16:48:41.352Z"
   },
   {
    "duration": 1228,
    "start_time": "2022-09-11T16:48:41.701Z"
   },
   {
    "duration": 1255,
    "start_time": "2022-09-11T16:48:43.997Z"
   },
   {
    "duration": 1141,
    "start_time": "2022-09-11T16:48:45.900Z"
   },
   {
    "duration": 5,
    "start_time": "2022-09-11T16:49:31.775Z"
   },
   {
    "duration": 1262,
    "start_time": "2022-09-11T16:49:32.278Z"
   },
   {
    "duration": 1213,
    "start_time": "2022-09-11T16:49:33.541Z"
   },
   {
    "duration": 1238,
    "start_time": "2022-09-11T16:49:34.756Z"
   },
   {
    "duration": 5,
    "start_time": "2022-09-11T16:49:42.061Z"
   },
   {
    "duration": 1238,
    "start_time": "2022-09-11T16:49:42.415Z"
   },
   {
    "duration": 1299,
    "start_time": "2022-09-11T16:49:43.655Z"
   },
   {
    "duration": 1177,
    "start_time": "2022-09-11T16:49:44.955Z"
   },
   {
    "duration": 1190,
    "start_time": "2022-09-11T16:49:53.213Z"
   },
   {
    "duration": 4,
    "start_time": "2022-09-11T16:50:16.185Z"
   },
   {
    "duration": 136,
    "start_time": "2022-09-11T16:50:16.191Z"
   },
   {
    "duration": 120,
    "start_time": "2022-09-11T16:50:16.328Z"
   },
   {
    "duration": 129,
    "start_time": "2022-09-11T16:50:16.450Z"
   },
   {
    "duration": 10,
    "start_time": "2022-09-11T16:50:16.581Z"
   },
   {
    "duration": 6,
    "start_time": "2022-09-11T16:50:16.592Z"
   },
   {
    "duration": 11,
    "start_time": "2022-09-11T16:50:16.599Z"
   },
   {
    "duration": 5,
    "start_time": "2022-09-11T16:50:16.612Z"
   },
   {
    "duration": 7,
    "start_time": "2022-09-11T16:50:16.618Z"
   },
   {
    "duration": 3,
    "start_time": "2022-09-11T16:50:16.627Z"
   },
   {
    "duration": 12,
    "start_time": "2022-09-11T16:50:16.631Z"
   },
   {
    "duration": 10,
    "start_time": "2022-09-11T16:50:16.644Z"
   },
   {
    "duration": 7,
    "start_time": "2022-09-11T16:50:16.656Z"
   },
   {
    "duration": 8,
    "start_time": "2022-09-11T16:50:16.667Z"
   },
   {
    "duration": 432,
    "start_time": "2022-09-11T16:50:16.677Z"
   },
   {
    "duration": 270,
    "start_time": "2022-09-11T16:50:17.111Z"
   },
   {
    "duration": 377,
    "start_time": "2022-09-11T16:50:17.383Z"
   },
   {
    "duration": 5,
    "start_time": "2022-09-11T16:50:17.761Z"
   },
   {
    "duration": 15,
    "start_time": "2022-09-11T16:50:17.768Z"
   },
   {
    "duration": 28,
    "start_time": "2022-09-11T16:50:17.785Z"
   },
   {
    "duration": 11,
    "start_time": "2022-09-11T16:50:17.815Z"
   },
   {
    "duration": 80,
    "start_time": "2022-09-11T16:50:17.828Z"
   },
   {
    "duration": 101,
    "start_time": "2022-09-11T16:50:17.911Z"
   },
   {
    "duration": 105,
    "start_time": "2022-09-11T16:50:18.014Z"
   },
   {
    "duration": 189,
    "start_time": "2022-09-11T16:50:18.120Z"
   },
   {
    "duration": 99,
    "start_time": "2022-09-11T16:50:18.310Z"
   },
   {
    "duration": 116,
    "start_time": "2022-09-11T16:50:18.411Z"
   },
   {
    "duration": 190,
    "start_time": "2022-09-11T16:50:18.529Z"
   },
   {
    "duration": 87,
    "start_time": "2022-09-11T16:50:18.723Z"
   },
   {
    "duration": 103,
    "start_time": "2022-09-11T16:50:18.812Z"
   },
   {
    "duration": 6,
    "start_time": "2022-09-11T16:50:18.917Z"
   },
   {
    "duration": 3,
    "start_time": "2022-09-11T16:50:18.925Z"
   },
   {
    "duration": 6,
    "start_time": "2022-09-11T16:50:18.930Z"
   },
   {
    "duration": 1209,
    "start_time": "2022-09-11T16:50:18.938Z"
   },
   {
    "duration": 1172,
    "start_time": "2022-09-11T16:50:20.148Z"
   },
   {
    "duration": 1264,
    "start_time": "2022-09-11T16:50:21.322Z"
   },
   {
    "duration": 3,
    "start_time": "2022-09-11T16:54:08.195Z"
   },
   {
    "duration": 4,
    "start_time": "2022-09-11T16:54:14.442Z"
   },
   {
    "duration": 174,
    "start_time": "2022-09-11T16:54:14.457Z"
   },
   {
    "duration": 124,
    "start_time": "2022-09-11T16:54:14.632Z"
   },
   {
    "duration": 140,
    "start_time": "2022-09-11T16:54:14.758Z"
   },
   {
    "duration": 14,
    "start_time": "2022-09-11T16:54:14.901Z"
   },
   {
    "duration": 9,
    "start_time": "2022-09-11T16:54:14.917Z"
   },
   {
    "duration": 13,
    "start_time": "2022-09-11T16:54:14.927Z"
   },
   {
    "duration": 10,
    "start_time": "2022-09-11T16:54:14.941Z"
   },
   {
    "duration": 8,
    "start_time": "2022-09-11T16:54:14.952Z"
   },
   {
    "duration": 4,
    "start_time": "2022-09-11T16:54:14.962Z"
   },
   {
    "duration": 11,
    "start_time": "2022-09-11T16:54:14.967Z"
   },
   {
    "duration": 7,
    "start_time": "2022-09-11T16:54:14.979Z"
   },
   {
    "duration": 27,
    "start_time": "2022-09-11T16:54:14.988Z"
   },
   {
    "duration": 14,
    "start_time": "2022-09-11T16:54:15.018Z"
   },
   {
    "duration": 470,
    "start_time": "2022-09-11T16:54:15.034Z"
   },
   {
    "duration": 251,
    "start_time": "2022-09-11T16:54:15.508Z"
   },
   {
    "duration": 396,
    "start_time": "2022-09-11T16:54:15.760Z"
   },
   {
    "duration": 4,
    "start_time": "2022-09-11T16:54:16.157Z"
   },
   {
    "duration": 16,
    "start_time": "2022-09-11T16:54:16.162Z"
   },
   {
    "duration": 31,
    "start_time": "2022-09-11T16:54:16.179Z"
   },
   {
    "duration": 12,
    "start_time": "2022-09-11T16:54:16.212Z"
   },
   {
    "duration": 87,
    "start_time": "2022-09-11T16:54:16.225Z"
   },
   {
    "duration": 109,
    "start_time": "2022-09-11T16:54:16.314Z"
   },
   {
    "duration": 105,
    "start_time": "2022-09-11T16:54:16.509Z"
   },
   {
    "duration": 100,
    "start_time": "2022-09-11T16:54:16.616Z"
   },
   {
    "duration": 93,
    "start_time": "2022-09-11T16:54:16.718Z"
   },
   {
    "duration": 113,
    "start_time": "2022-09-11T16:54:16.813Z"
   },
   {
    "duration": 183,
    "start_time": "2022-09-11T16:54:16.928Z"
   },
   {
    "duration": 102,
    "start_time": "2022-09-11T16:54:17.113Z"
   },
   {
    "duration": 22,
    "start_time": "2022-09-11T16:54:17.216Z"
   },
   {
    "duration": 8,
    "start_time": "2022-09-11T16:54:17.239Z"
   },
   {
    "duration": 4,
    "start_time": "2022-09-11T16:54:17.249Z"
   },
   {
    "duration": 6,
    "start_time": "2022-09-11T16:54:17.255Z"
   },
   {
    "duration": 1163,
    "start_time": "2022-09-11T16:54:17.263Z"
   },
   {
    "duration": 1316,
    "start_time": "2022-09-11T16:54:18.428Z"
   },
   {
    "duration": 1212,
    "start_time": "2022-09-11T16:54:19.746Z"
   },
   {
    "duration": 40,
    "start_time": "2022-09-11T16:54:33.134Z"
   },
   {
    "duration": 3,
    "start_time": "2022-09-11T16:54:36.632Z"
   },
   {
    "duration": 5,
    "start_time": "2022-09-11T16:54:37.366Z"
   },
   {
    "duration": 5,
    "start_time": "2022-09-11T16:54:37.719Z"
   },
   {
    "duration": 3,
    "start_time": "2022-09-11T16:54:38.816Z"
   },
   {
    "duration": 5,
    "start_time": "2022-09-11T16:54:39.225Z"
   },
   {
    "duration": 1326,
    "start_time": "2022-09-11T16:54:39.691Z"
   },
   {
    "duration": 1186,
    "start_time": "2022-09-11T16:54:41.019Z"
   },
   {
    "duration": 1239,
    "start_time": "2022-09-11T16:54:42.207Z"
   }
  ],
  "kernelspec": {
   "display_name": "Python 3 (ipykernel)",
   "language": "python",
   "name": "python3"
  },
  "language_info": {
   "codemirror_mode": {
    "name": "ipython",
    "version": 3
   },
   "file_extension": ".py",
   "mimetype": "text/x-python",
   "name": "python",
   "nbconvert_exporter": "python",
   "pygments_lexer": "ipython3",
   "version": "3.9.12"
  },
  "toc": {
   "base_numbering": 1,
   "nav_menu": {},
   "number_sections": true,
   "sideBar": true,
   "skip_h1_title": true,
   "title_cell": "Table of Contents",
   "title_sidebar": "Contents",
   "toc_cell": false,
   "toc_position": {},
   "toc_section_display": true,
   "toc_window_display": false
  }
 },
 "nbformat": 4,
 "nbformat_minor": 2
}
