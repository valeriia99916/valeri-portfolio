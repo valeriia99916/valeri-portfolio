{
 "cells": [
  {
   "cell_type": "markdown",
   "metadata": {},
   "source": [
    "# Отток клиентов"
   ]
  },
  {
   "cell_type": "markdown",
   "metadata": {},
   "source": [
    "Из банка стали уходить клиенты. Каждый месяц. Немного, но заметно. Банковские маркетологи посчитали: сохранять текущих клиентов дешевле, чем привлекать новых.\n",
    "\n",
    "Нужно спрогнозировать, уйдёт клиент из банка в ближайшее время или нет. Предоставлены исторические данные о поведении клиентов и расторжении договоров с банком. \n",
    "\n",
    "Источник данных: [https://www.kaggle.com/barelydedicated/bank-customer-churn-modeling](https://www.kaggle.com/barelydedicated/bank-customer-churn-modeling)"
   ]
  },
  {
   "cell_type": "markdown",
   "metadata": {},
   "source": [
    "## Подготовка данных"
   ]
  },
  {
   "cell_type": "code",
   "execution_count": 1,
   "metadata": {},
   "outputs": [],
   "source": [
    "import pandas as pd\n",
    "\n",
    "from sklearn.utils import shuffle\n",
    "from sklearn.model_selection import train_test_split\n",
    "from sklearn.metrics import accuracy_score, f1_score\n",
    "from sklearn.preprocessing import StandardScaler\n",
    "\n",
    "from sklearn.metrics import roc_auc_score\n",
    "from sklearn.metrics import roc_curve\n",
    "from matplotlib import pyplot as plt\n",
    "\n",
    "from sklearn.linear_model import LogisticRegression\n",
    "from sklearn.ensemble import RandomForestClassifier\n",
    "from sklearn.tree import DecisionTreeClassifier\n",
    "\n",
    "from sklearn.metrics import recall_score\n",
    "from sklearn.metrics import precision_score\n",
    "\n",
    "import warnings\n",
    "warnings.filterwarnings(\"ignore\")"
   ]
  },
  {
   "cell_type": "code",
   "execution_count": 2,
   "metadata": {},
   "outputs": [],
   "source": [
    "df = pd.read_csv('/datasets/Churn.csv')"
   ]
  },
  {
   "cell_type": "code",
   "execution_count": 3,
   "metadata": {
    "scrolled": false
   },
   "outputs": [
    {
     "data": {
      "text/html": [
       "<div>\n",
       "<style scoped>\n",
       "    .dataframe tbody tr th:only-of-type {\n",
       "        vertical-align: middle;\n",
       "    }\n",
       "\n",
       "    .dataframe tbody tr th {\n",
       "        vertical-align: top;\n",
       "    }\n",
       "\n",
       "    .dataframe thead th {\n",
       "        text-align: right;\n",
       "    }\n",
       "</style>\n",
       "<table border=\"1\" class=\"dataframe\">\n",
       "  <thead>\n",
       "    <tr style=\"text-align: right;\">\n",
       "      <th></th>\n",
       "      <th>RowNumber</th>\n",
       "      <th>CustomerId</th>\n",
       "      <th>Surname</th>\n",
       "      <th>CreditScore</th>\n",
       "      <th>Geography</th>\n",
       "      <th>Gender</th>\n",
       "      <th>Age</th>\n",
       "      <th>Tenure</th>\n",
       "      <th>Balance</th>\n",
       "      <th>NumOfProducts</th>\n",
       "      <th>HasCrCard</th>\n",
       "      <th>IsActiveMember</th>\n",
       "      <th>EstimatedSalary</th>\n",
       "      <th>Exited</th>\n",
       "    </tr>\n",
       "  </thead>\n",
       "  <tbody>\n",
       "    <tr>\n",
       "      <th>0</th>\n",
       "      <td>1</td>\n",
       "      <td>15634602</td>\n",
       "      <td>Hargrave</td>\n",
       "      <td>619</td>\n",
       "      <td>France</td>\n",
       "      <td>Female</td>\n",
       "      <td>42</td>\n",
       "      <td>2.0</td>\n",
       "      <td>0.00</td>\n",
       "      <td>1</td>\n",
       "      <td>1</td>\n",
       "      <td>1</td>\n",
       "      <td>101348.88</td>\n",
       "      <td>1</td>\n",
       "    </tr>\n",
       "    <tr>\n",
       "      <th>1</th>\n",
       "      <td>2</td>\n",
       "      <td>15647311</td>\n",
       "      <td>Hill</td>\n",
       "      <td>608</td>\n",
       "      <td>Spain</td>\n",
       "      <td>Female</td>\n",
       "      <td>41</td>\n",
       "      <td>1.0</td>\n",
       "      <td>83807.86</td>\n",
       "      <td>1</td>\n",
       "      <td>0</td>\n",
       "      <td>1</td>\n",
       "      <td>112542.58</td>\n",
       "      <td>0</td>\n",
       "    </tr>\n",
       "    <tr>\n",
       "      <th>2</th>\n",
       "      <td>3</td>\n",
       "      <td>15619304</td>\n",
       "      <td>Onio</td>\n",
       "      <td>502</td>\n",
       "      <td>France</td>\n",
       "      <td>Female</td>\n",
       "      <td>42</td>\n",
       "      <td>8.0</td>\n",
       "      <td>159660.80</td>\n",
       "      <td>3</td>\n",
       "      <td>1</td>\n",
       "      <td>0</td>\n",
       "      <td>113931.57</td>\n",
       "      <td>1</td>\n",
       "    </tr>\n",
       "    <tr>\n",
       "      <th>3</th>\n",
       "      <td>4</td>\n",
       "      <td>15701354</td>\n",
       "      <td>Boni</td>\n",
       "      <td>699</td>\n",
       "      <td>France</td>\n",
       "      <td>Female</td>\n",
       "      <td>39</td>\n",
       "      <td>1.0</td>\n",
       "      <td>0.00</td>\n",
       "      <td>2</td>\n",
       "      <td>0</td>\n",
       "      <td>0</td>\n",
       "      <td>93826.63</td>\n",
       "      <td>0</td>\n",
       "    </tr>\n",
       "    <tr>\n",
       "      <th>4</th>\n",
       "      <td>5</td>\n",
       "      <td>15737888</td>\n",
       "      <td>Mitchell</td>\n",
       "      <td>850</td>\n",
       "      <td>Spain</td>\n",
       "      <td>Female</td>\n",
       "      <td>43</td>\n",
       "      <td>2.0</td>\n",
       "      <td>125510.82</td>\n",
       "      <td>1</td>\n",
       "      <td>1</td>\n",
       "      <td>1</td>\n",
       "      <td>79084.10</td>\n",
       "      <td>0</td>\n",
       "    </tr>\n",
       "    <tr>\n",
       "      <th>5</th>\n",
       "      <td>6</td>\n",
       "      <td>15574012</td>\n",
       "      <td>Chu</td>\n",
       "      <td>645</td>\n",
       "      <td>Spain</td>\n",
       "      <td>Male</td>\n",
       "      <td>44</td>\n",
       "      <td>8.0</td>\n",
       "      <td>113755.78</td>\n",
       "      <td>2</td>\n",
       "      <td>1</td>\n",
       "      <td>0</td>\n",
       "      <td>149756.71</td>\n",
       "      <td>1</td>\n",
       "    </tr>\n",
       "    <tr>\n",
       "      <th>6</th>\n",
       "      <td>7</td>\n",
       "      <td>15592531</td>\n",
       "      <td>Bartlett</td>\n",
       "      <td>822</td>\n",
       "      <td>France</td>\n",
       "      <td>Male</td>\n",
       "      <td>50</td>\n",
       "      <td>7.0</td>\n",
       "      <td>0.00</td>\n",
       "      <td>2</td>\n",
       "      <td>1</td>\n",
       "      <td>1</td>\n",
       "      <td>10062.80</td>\n",
       "      <td>0</td>\n",
       "    </tr>\n",
       "    <tr>\n",
       "      <th>7</th>\n",
       "      <td>8</td>\n",
       "      <td>15656148</td>\n",
       "      <td>Obinna</td>\n",
       "      <td>376</td>\n",
       "      <td>Germany</td>\n",
       "      <td>Female</td>\n",
       "      <td>29</td>\n",
       "      <td>4.0</td>\n",
       "      <td>115046.74</td>\n",
       "      <td>4</td>\n",
       "      <td>1</td>\n",
       "      <td>0</td>\n",
       "      <td>119346.88</td>\n",
       "      <td>1</td>\n",
       "    </tr>\n",
       "    <tr>\n",
       "      <th>8</th>\n",
       "      <td>9</td>\n",
       "      <td>15792365</td>\n",
       "      <td>He</td>\n",
       "      <td>501</td>\n",
       "      <td>France</td>\n",
       "      <td>Male</td>\n",
       "      <td>44</td>\n",
       "      <td>4.0</td>\n",
       "      <td>142051.07</td>\n",
       "      <td>2</td>\n",
       "      <td>0</td>\n",
       "      <td>1</td>\n",
       "      <td>74940.50</td>\n",
       "      <td>0</td>\n",
       "    </tr>\n",
       "    <tr>\n",
       "      <th>9</th>\n",
       "      <td>10</td>\n",
       "      <td>15592389</td>\n",
       "      <td>H?</td>\n",
       "      <td>684</td>\n",
       "      <td>France</td>\n",
       "      <td>Male</td>\n",
       "      <td>27</td>\n",
       "      <td>2.0</td>\n",
       "      <td>134603.88</td>\n",
       "      <td>1</td>\n",
       "      <td>1</td>\n",
       "      <td>1</td>\n",
       "      <td>71725.73</td>\n",
       "      <td>0</td>\n",
       "    </tr>\n",
       "  </tbody>\n",
       "</table>\n",
       "</div>"
      ],
      "text/plain": [
       "   RowNumber  CustomerId   Surname  CreditScore Geography  Gender  Age  \\\n",
       "0          1    15634602  Hargrave          619    France  Female   42   \n",
       "1          2    15647311      Hill          608     Spain  Female   41   \n",
       "2          3    15619304      Onio          502    France  Female   42   \n",
       "3          4    15701354      Boni          699    France  Female   39   \n",
       "4          5    15737888  Mitchell          850     Spain  Female   43   \n",
       "5          6    15574012       Chu          645     Spain    Male   44   \n",
       "6          7    15592531  Bartlett          822    France    Male   50   \n",
       "7          8    15656148    Obinna          376   Germany  Female   29   \n",
       "8          9    15792365        He          501    France    Male   44   \n",
       "9         10    15592389        H?          684    France    Male   27   \n",
       "\n",
       "   Tenure    Balance  NumOfProducts  HasCrCard  IsActiveMember  \\\n",
       "0     2.0       0.00              1          1               1   \n",
       "1     1.0   83807.86              1          0               1   \n",
       "2     8.0  159660.80              3          1               0   \n",
       "3     1.0       0.00              2          0               0   \n",
       "4     2.0  125510.82              1          1               1   \n",
       "5     8.0  113755.78              2          1               0   \n",
       "6     7.0       0.00              2          1               1   \n",
       "7     4.0  115046.74              4          1               0   \n",
       "8     4.0  142051.07              2          0               1   \n",
       "9     2.0  134603.88              1          1               1   \n",
       "\n",
       "   EstimatedSalary  Exited  \n",
       "0        101348.88       1  \n",
       "1        112542.58       0  \n",
       "2        113931.57       1  \n",
       "3         93826.63       0  \n",
       "4         79084.10       0  \n",
       "5        149756.71       1  \n",
       "6         10062.80       0  \n",
       "7        119346.88       1  \n",
       "8         74940.50       0  \n",
       "9         71725.73       0  "
      ]
     },
     "execution_count": 3,
     "metadata": {},
     "output_type": "execute_result"
    }
   ],
   "source": [
    "df.head(10)"
   ]
  },
  {
   "cell_type": "markdown",
   "metadata": {},
   "source": [
    "  Признаки\n",
    "  \n",
    "- RowNumber — индекс строки в данных\n",
    "- CustomerId — уникальный идентификатор клиента\n",
    "- Surname — фамилия\n",
    "- CreditScore — кредитный рейтинг\n",
    "- Geography — страна проживания\n",
    "- Gender — пол\n",
    "- Age — возраст\n",
    "- Tenure — сколько лет человек является клиентом банка\n",
    "- Balance — баланс на счёте\n",
    "- NumOfProducts — количество продуктов банка, используемых клиентом\n",
    "- HasCrCard — наличие кредитной карты\n",
    "- IsActiveMember — активность клиента\n",
    "- EstimatedSalary — предполагаемая зарплата\n",
    "\n",
    "\n",
    "  Целевой признак\n",
    "  \n",
    "- Exited — факт ухода клиента"
   ]
  },
  {
   "cell_type": "code",
   "execution_count": 4,
   "metadata": {
    "scrolled": false
   },
   "outputs": [
    {
     "name": "stdout",
     "output_type": "stream",
     "text": [
      "<class 'pandas.core.frame.DataFrame'>\n",
      "RangeIndex: 10000 entries, 0 to 9999\n",
      "Data columns (total 14 columns):\n",
      " #   Column           Non-Null Count  Dtype  \n",
      "---  ------           --------------  -----  \n",
      " 0   RowNumber        10000 non-null  int64  \n",
      " 1   CustomerId       10000 non-null  int64  \n",
      " 2   Surname          10000 non-null  object \n",
      " 3   CreditScore      10000 non-null  int64  \n",
      " 4   Geography        10000 non-null  object \n",
      " 5   Gender           10000 non-null  object \n",
      " 6   Age              10000 non-null  int64  \n",
      " 7   Tenure           9091 non-null   float64\n",
      " 8   Balance          10000 non-null  float64\n",
      " 9   NumOfProducts    10000 non-null  int64  \n",
      " 10  HasCrCard        10000 non-null  int64  \n",
      " 11  IsActiveMember   10000 non-null  int64  \n",
      " 12  EstimatedSalary  10000 non-null  float64\n",
      " 13  Exited           10000 non-null  int64  \n",
      "dtypes: float64(3), int64(8), object(3)\n",
      "memory usage: 1.1+ MB\n"
     ]
    }
   ],
   "source": [
    "df.info()"
   ]
  },
  {
   "cell_type": "code",
   "execution_count": 5,
   "metadata": {},
   "outputs": [
    {
     "data": {
      "text/plain": [
       "array([1, 0])"
      ]
     },
     "execution_count": 5,
     "metadata": {},
     "output_type": "execute_result"
    }
   ],
   "source": [
    "df['Exited'].unique()"
   ]
  },
  {
   "cell_type": "code",
   "execution_count": 6,
   "metadata": {},
   "outputs": [],
   "source": [
    "df.drop(['Surname'], axis=1, inplace=True)"
   ]
  },
  {
   "cell_type": "code",
   "execution_count": 7,
   "metadata": {},
   "outputs": [
    {
     "data": {
      "text/plain": [
       "0.20369999999999389"
      ]
     },
     "execution_count": 7,
     "metadata": {},
     "output_type": "execute_result"
    }
   ],
   "source": [
    "sum(df['Exited']/len(df)) \n",
    "#доля объектов положительного класса"
   ]
  },
  {
   "cell_type": "code",
   "execution_count": 8,
   "metadata": {},
   "outputs": [
    {
     "data": {
      "text/plain": [
       "0.7963000000000061"
      ]
     },
     "execution_count": 8,
     "metadata": {},
     "output_type": "execute_result"
    }
   ],
   "source": [
    "1-sum(df['Exited']/len(df))\n",
    "#доля объектов отрицательного класса"
   ]
  },
  {
   "cell_type": "code",
   "execution_count": 9,
   "metadata": {},
   "outputs": [
    {
     "data": {
      "text/plain": [
       "0    0.7963\n",
       "1    0.2037\n",
       "Name: Exited, dtype: float64"
      ]
     },
     "execution_count": 9,
     "metadata": {},
     "output_type": "execute_result"
    }
   ],
   "source": [
    "df['Exited'].value_counts(normalize = True)"
   ]
  },
  {
   "cell_type": "markdown",
   "metadata": {},
   "source": [
    "Доля объектов положительного класса 0.2,а отрицательного 0.8. \n",
    "\n",
    "Объектов отрицательного класса больше в 4 раза"
   ]
  },
  {
   "cell_type": "code",
   "execution_count": 10,
   "metadata": {},
   "outputs": [],
   "source": [
    "#One-Hot Encoding\n",
    "gender_ohe = pd.get_dummies(df['Gender'], drop_first=True)\n",
    "country_ohe= pd.get_dummies(df['Geography'], drop_first=True)\n",
    "df_ohe = pd.concat([df, gender_ohe, country_ohe], axis=1)"
   ]
  },
  {
   "cell_type": "code",
   "execution_count": 11,
   "metadata": {},
   "outputs": [
    {
     "data": {
      "text/html": [
       "<div>\n",
       "<style scoped>\n",
       "    .dataframe tbody tr th:only-of-type {\n",
       "        vertical-align: middle;\n",
       "    }\n",
       "\n",
       "    .dataframe tbody tr th {\n",
       "        vertical-align: top;\n",
       "    }\n",
       "\n",
       "    .dataframe thead th {\n",
       "        text-align: right;\n",
       "    }\n",
       "</style>\n",
       "<table border=\"1\" class=\"dataframe\">\n",
       "  <thead>\n",
       "    <tr style=\"text-align: right;\">\n",
       "      <th></th>\n",
       "      <th>RowNumber</th>\n",
       "      <th>CustomerId</th>\n",
       "      <th>CreditScore</th>\n",
       "      <th>Geography</th>\n",
       "      <th>Gender</th>\n",
       "      <th>Age</th>\n",
       "      <th>Tenure</th>\n",
       "      <th>Balance</th>\n",
       "      <th>NumOfProducts</th>\n",
       "      <th>HasCrCard</th>\n",
       "      <th>IsActiveMember</th>\n",
       "      <th>EstimatedSalary</th>\n",
       "      <th>Exited</th>\n",
       "      <th>Male</th>\n",
       "      <th>Germany</th>\n",
       "      <th>Spain</th>\n",
       "    </tr>\n",
       "  </thead>\n",
       "  <tbody>\n",
       "    <tr>\n",
       "      <th>0</th>\n",
       "      <td>1</td>\n",
       "      <td>15634602</td>\n",
       "      <td>619</td>\n",
       "      <td>France</td>\n",
       "      <td>Female</td>\n",
       "      <td>42</td>\n",
       "      <td>2.0</td>\n",
       "      <td>0.00</td>\n",
       "      <td>1</td>\n",
       "      <td>1</td>\n",
       "      <td>1</td>\n",
       "      <td>101348.88</td>\n",
       "      <td>1</td>\n",
       "      <td>0</td>\n",
       "      <td>0</td>\n",
       "      <td>0</td>\n",
       "    </tr>\n",
       "    <tr>\n",
       "      <th>1</th>\n",
       "      <td>2</td>\n",
       "      <td>15647311</td>\n",
       "      <td>608</td>\n",
       "      <td>Spain</td>\n",
       "      <td>Female</td>\n",
       "      <td>41</td>\n",
       "      <td>1.0</td>\n",
       "      <td>83807.86</td>\n",
       "      <td>1</td>\n",
       "      <td>0</td>\n",
       "      <td>1</td>\n",
       "      <td>112542.58</td>\n",
       "      <td>0</td>\n",
       "      <td>0</td>\n",
       "      <td>0</td>\n",
       "      <td>1</td>\n",
       "    </tr>\n",
       "    <tr>\n",
       "      <th>2</th>\n",
       "      <td>3</td>\n",
       "      <td>15619304</td>\n",
       "      <td>502</td>\n",
       "      <td>France</td>\n",
       "      <td>Female</td>\n",
       "      <td>42</td>\n",
       "      <td>8.0</td>\n",
       "      <td>159660.80</td>\n",
       "      <td>3</td>\n",
       "      <td>1</td>\n",
       "      <td>0</td>\n",
       "      <td>113931.57</td>\n",
       "      <td>1</td>\n",
       "      <td>0</td>\n",
       "      <td>0</td>\n",
       "      <td>0</td>\n",
       "    </tr>\n",
       "    <tr>\n",
       "      <th>3</th>\n",
       "      <td>4</td>\n",
       "      <td>15701354</td>\n",
       "      <td>699</td>\n",
       "      <td>France</td>\n",
       "      <td>Female</td>\n",
       "      <td>39</td>\n",
       "      <td>1.0</td>\n",
       "      <td>0.00</td>\n",
       "      <td>2</td>\n",
       "      <td>0</td>\n",
       "      <td>0</td>\n",
       "      <td>93826.63</td>\n",
       "      <td>0</td>\n",
       "      <td>0</td>\n",
       "      <td>0</td>\n",
       "      <td>0</td>\n",
       "    </tr>\n",
       "    <tr>\n",
       "      <th>4</th>\n",
       "      <td>5</td>\n",
       "      <td>15737888</td>\n",
       "      <td>850</td>\n",
       "      <td>Spain</td>\n",
       "      <td>Female</td>\n",
       "      <td>43</td>\n",
       "      <td>2.0</td>\n",
       "      <td>125510.82</td>\n",
       "      <td>1</td>\n",
       "      <td>1</td>\n",
       "      <td>1</td>\n",
       "      <td>79084.10</td>\n",
       "      <td>0</td>\n",
       "      <td>0</td>\n",
       "      <td>0</td>\n",
       "      <td>1</td>\n",
       "    </tr>\n",
       "  </tbody>\n",
       "</table>\n",
       "</div>"
      ],
      "text/plain": [
       "   RowNumber  CustomerId  CreditScore Geography  Gender  Age  Tenure  \\\n",
       "0          1    15634602          619    France  Female   42     2.0   \n",
       "1          2    15647311          608     Spain  Female   41     1.0   \n",
       "2          3    15619304          502    France  Female   42     8.0   \n",
       "3          4    15701354          699    France  Female   39     1.0   \n",
       "4          5    15737888          850     Spain  Female   43     2.0   \n",
       "\n",
       "     Balance  NumOfProducts  HasCrCard  IsActiveMember  EstimatedSalary  \\\n",
       "0       0.00              1          1               1        101348.88   \n",
       "1   83807.86              1          0               1        112542.58   \n",
       "2  159660.80              3          1               0        113931.57   \n",
       "3       0.00              2          0               0         93826.63   \n",
       "4  125510.82              1          1               1         79084.10   \n",
       "\n",
       "   Exited  Male  Germany  Spain  \n",
       "0       1     0        0      0  \n",
       "1       0     0        0      1  \n",
       "2       1     0        0      0  \n",
       "3       0     0        0      0  \n",
       "4       0     0        0      1  "
      ]
     },
     "execution_count": 11,
     "metadata": {},
     "output_type": "execute_result"
    }
   ],
   "source": [
    "df_ohe.head()"
   ]
  },
  {
   "cell_type": "code",
   "execution_count": 12,
   "metadata": {},
   "outputs": [],
   "source": [
    "df_ohe.drop(['Gender', 'Geography', 'RowNumber'], axis=1, inplace=True)"
   ]
  },
  {
   "cell_type": "code",
   "execution_count": 13,
   "metadata": {},
   "outputs": [],
   "source": [
    "features = df_ohe.drop(\"Exited\", axis=1)\n",
    "target = df_ohe[\"Exited\"]"
   ]
  },
  {
   "cell_type": "code",
   "execution_count": 14,
   "metadata": {},
   "outputs": [],
   "source": [
    "features.fillna(1, inplace=True)"
   ]
  },
  {
   "cell_type": "markdown",
   "metadata": {},
   "source": [
    "- Еще можно заполнить пропуски нулями и предположить, что это новые клиенты.    \n",
    "- Распределение по `Tenure` ровномерное, если сейчас заменить почти 900 пропусков (9% данных) средним или медианой, то мы значительно исказим распределение. В таком случае можно заполнить пропуски случайными значениями в интервале от минимального до максимального значения по данному столбцу.\n",
    "\n",
    "- Так как значений в этом признаке ограниченное количество, можно сделать его категориальным признаком. Пропуски можно считать как за отдельную категорию (заполнить значением -1). Затем заменить тип данных `Tenure` на `object` и применить технику [OHE]"
   ]
  },
  {
   "cell_type": "markdown",
   "metadata": {},
   "source": [
    "## Исследование задачи"
   ]
  },
  {
   "cell_type": "markdown",
   "metadata": {},
   "source": [
    "### Деление на обучающую, валидационную и тестовую выборки"
   ]
  },
  {
   "cell_type": "code",
   "execution_count": 15,
   "metadata": {},
   "outputs": [],
   "source": [
    "features_train, features_test1, target_train, target_test1 = train_test_split(features, target, \n",
    "                                                                              test_size=0.4, \n",
    "                                                                              random_state=1,\n",
    "                                                                              stratify = target)"
   ]
  },
  {
   "cell_type": "code",
   "execution_count": 16,
   "metadata": {},
   "outputs": [],
   "source": [
    "features_valid, features_test, target_valid, target_test = train_test_split(features_test1, target_test1, \n",
    "                                                                              test_size=0.5, \n",
    "                                                                              random_state=1,\n",
    "                                                                              stratify = target_test1)"
   ]
  },
  {
   "cell_type": "markdown",
   "metadata": {},
   "source": [
    "features_train, target_train - обучающая выборка  \n",
    "features_valid, target_valid - валидационная выборка  \n",
    "features_test, target_test - тестовая выборка  "
   ]
  },
  {
   "cell_type": "code",
   "execution_count": 17,
   "metadata": {
    "scrolled": true
   },
   "outputs": [
    {
     "name": "stdout",
     "output_type": "stream",
     "text": [
      "6000\n",
      "2000\n",
      "2000\n"
     ]
    }
   ],
   "source": [
    "print(features_train.shape[0])\n",
    "print(features_valid.shape[0])\n",
    "print(features_test.shape[0])"
   ]
  },
  {
   "cell_type": "markdown",
   "metadata": {},
   "source": [
    "### Масштабирование признаков"
   ]
  },
  {
   "cell_type": "code",
   "execution_count": 18,
   "metadata": {},
   "outputs": [],
   "source": [
    "numeric = ['CreditScore', 'Age', 'Tenure', 'Balance', 'NumOfProducts', 'EstimatedSalary']"
   ]
  },
  {
   "cell_type": "code",
   "execution_count": 19,
   "metadata": {
    "scrolled": true
   },
   "outputs": [
    {
     "data": {
      "text/plain": [
       "StandardScaler()"
      ]
     },
     "execution_count": 19,
     "metadata": {},
     "output_type": "execute_result"
    }
   ],
   "source": [
    "scaler = StandardScaler()\n",
    "scaler.fit(features_train[numeric])"
   ]
  },
  {
   "cell_type": "code",
   "execution_count": 20,
   "metadata": {},
   "outputs": [],
   "source": [
    "features_train[numeric] = scaler.transform(features_train[numeric])\n",
    "features_valid[numeric] = scaler.transform(features_valid[numeric])\n",
    "features_test[numeric] = scaler.transform(features_test[numeric])"
   ]
  },
  {
   "cell_type": "markdown",
   "metadata": {},
   "source": [
    "### Обучение моделей"
   ]
  },
  {
   "cell_type": "code",
   "execution_count": 21,
   "metadata": {},
   "outputs": [
    {
     "name": "stdout",
     "output_type": "stream",
     "text": [
      "Качество 0.7965\n",
      "F1: 0.0\n",
      "AUC-ROC: 0.5\n"
     ]
    }
   ],
   "source": [
    "#LogisticRegression\n",
    "model = LogisticRegression()\n",
    "model.fit(features_train, target_train)\n",
    "predict = model.predict(features_valid)\n",
    "print('Качество', accuracy_score(target_valid, predict))\n",
    "print('F1:', f1_score(predict, target_valid))\n",
    "print('AUC-ROC:', roc_auc_score(target_valid, predict))"
   ]
  },
  {
   "cell_type": "code",
   "execution_count": 22,
   "metadata": {},
   "outputs": [
    {
     "name": "stdout",
     "output_type": "stream",
     "text": [
      "Глубина дерева: 12 Количество деревьев: 20 Качество: 0.862\n",
      "F1: 0.5612403100775194\n",
      "AUC-ROC: 0.704467950230662\n",
      "CPU times: user 19.8 s, sys: 29.2 ms, total: 19.8 s\n",
      "Wall time: 20 s\n"
     ]
    }
   ],
   "source": [
    "%%time\n",
    "#RandomForestClassifier\n",
    "best_accuracy = 0\n",
    "best_depth = 0\n",
    "for depth in range(1,15):\n",
    "    for est in range(1,25):\n",
    "        model = RandomForestClassifier(max_depth=depth, n_estimators=est, random_state=12345)\n",
    "        model.fit(features_train, target_train)\n",
    "        predict = model.predict(features_valid)\n",
    "        accuracy = accuracy_score(target_valid, predict)\n",
    "        if accuracy > best_accuracy:\n",
    "            best_accuracy = accuracy\n",
    "            best_depth = depth\n",
    "            best_est = est\n",
    "            \n",
    "print('Глубина дерева:', best_depth, 'Количество деревьев:', best_est, 'Качество:', best_accuracy)\n",
    "print('F1:', f1_score(predict, target_valid))\n",
    "print('AUC-ROC:', roc_auc_score(target_valid, predict))"
   ]
  },
  {
   "cell_type": "code",
   "execution_count": 23,
   "metadata": {},
   "outputs": [
    {
     "name": "stdout",
     "output_type": "stream",
     "text": [
      "Глубина дерева: 6 Качество: 0.857\n",
      "F1: 0.5148771021992238\n",
      "AUC-ROC: 0.6920549208684802\n"
     ]
    }
   ],
   "source": [
    "#DecisionTreeClassifier\n",
    "best_accuracy = 0\n",
    "best_depth = 0\n",
    "for depth in range(1,15):\n",
    "    model = DecisionTreeClassifier(max_depth=depth, random_state=12345)\n",
    "    model.fit(features_train, target_train)\n",
    "    predict = model.predict(features_valid)\n",
    "    accuracy = accuracy_score(target_valid, predict)\n",
    "    if accuracy > best_accuracy:\n",
    "        best_accuracy = accuracy\n",
    "        best_depth = depth\n",
    "print('Глубина дерева:', best_depth, 'Качество:', best_accuracy)\n",
    "print('F1:', f1_score(predict, target_valid))\n",
    "print('AUC-ROC:', roc_auc_score(target_valid, predict))"
   ]
  },
  {
   "cell_type": "markdown",
   "metadata": {},
   "source": [
    "Наилучшие показатели у модели RandomForestClassifier с параметрами max_depth=12, n_estimators=20"
   ]
  },
  {
   "cell_type": "markdown",
   "metadata": {},
   "source": [
    "## Борьба с дисбалансом"
   ]
  },
  {
   "cell_type": "markdown",
   "metadata": {},
   "source": [
    "### Upsample"
   ]
  },
  {
   "cell_type": "code",
   "execution_count": 24,
   "metadata": {},
   "outputs": [],
   "source": [
    "def upsample(features, target, repeat):\n",
    "    features_zeros = features[target == 0]\n",
    "    features_ones = features[target == 1]\n",
    "    target_zeros = target[target == 0]\n",
    "    target_ones = target[target == 1]\n",
    "\n",
    "    features_upsampled = pd.concat([features_zeros] + [features_ones] * repeat)\n",
    "    target_upsampled = pd.concat([target_zeros] + [target_ones] * repeat)\n",
    "    \n",
    "    features_upsampled, target_upsampled = shuffle(\n",
    "        features_upsampled, target_upsampled, random_state=12345)\n",
    "    \n",
    "    return features_upsampled, target_upsampled"
   ]
  },
  {
   "cell_type": "code",
   "execution_count": 25,
   "metadata": {},
   "outputs": [],
   "source": [
    "features_upsampled_train, target_upsampled_train = upsample(features_train, target_train, repeat=4)"
   ]
  },
  {
   "cell_type": "code",
   "execution_count": 26,
   "metadata": {
    "scrolled": true
   },
   "outputs": [
    {
     "name": "stdout",
     "output_type": "stream",
     "text": [
      "1    0.50569\n",
      "0    0.49431\n",
      "Name: Exited, dtype: float64\n"
     ]
    }
   ],
   "source": [
    "print(target_upsampled_train.value_counts(normalize = 1))"
   ]
  },
  {
   "cell_type": "code",
   "execution_count": 27,
   "metadata": {
    "scrolled": true
   },
   "outputs": [
    {
     "name": "stdout",
     "output_type": "stream",
     "text": [
      "Глубина дерева: 10 Количество деревьев: 7 Качество: 0.809\n",
      "F1: 0.5770065075921907\n",
      "AUC-ROC: 0.7486269011692741\n"
     ]
    }
   ],
   "source": [
    "best_accuracy = 0\n",
    "best_depth = 0\n",
    "for depth in range(1,11):\n",
    "    for est in range(1, 11):\n",
    "        model = RandomForestClassifier(max_depth=depth, n_estimators=est, random_state=12345)\n",
    "        model.fit(features_upsampled_train, target_upsampled_train)\n",
    "        predict = model.predict(features_valid)\n",
    "        accuracy = model.score(features_valid, target_valid)\n",
    "        if accuracy > best_accuracy:\n",
    "            best_accuracy = accuracy\n",
    "            best_depth = depth\n",
    "            best_est = est\n",
    "            \n",
    "print('Глубина дерева:', best_depth, 'Количество деревьев:', best_est, 'Качество:', best_accuracy)\n",
    "print('F1:', f1_score(predict, target_valid))\n",
    "print('AUC-ROC:', roc_auc_score(target_valid, predict))"
   ]
  },
  {
   "cell_type": "markdown",
   "metadata": {},
   "source": [
    "### Downsample"
   ]
  },
  {
   "cell_type": "code",
   "execution_count": 28,
   "metadata": {},
   "outputs": [],
   "source": [
    "def downsample(features, target, fraction):\n",
    "    features_zeros = features[target == 0]\n",
    "    features_ones = features[target == 1]\n",
    "    target_zeros = target[target == 0]\n",
    "    target_ones = target[target == 1]\n",
    "\n",
    "    features_downsampled = pd.concat(\n",
    "        [features_zeros.sample(frac=fraction, random_state=12345)] + [features_ones])\n",
    "    target_downsampled = pd.concat(\n",
    "        [target_zeros.sample(frac=fraction, random_state=12345)] + [target_ones])\n",
    "    \n",
    "    features_downsampled, target_downsampled = shuffle(\n",
    "        features_downsampled, target_downsampled, random_state=12345)\n",
    "    \n",
    "    return features_downsampled, target_downsampled"
   ]
  },
  {
   "cell_type": "code",
   "execution_count": 29,
   "metadata": {},
   "outputs": [],
   "source": [
    "features_downsampled_train, target_downsampled_train = downsample(features_train, target_train, fraction=0.5)"
   ]
  },
  {
   "cell_type": "code",
   "execution_count": 30,
   "metadata": {},
   "outputs": [
    {
     "name": "stdout",
     "output_type": "stream",
     "text": [
      "0    0.66159\n",
      "1    0.33841\n",
      "Name: Exited, dtype: float64\n"
     ]
    }
   ],
   "source": [
    "print(target_downsampled_train.value_counts(normalize = 1))"
   ]
  },
  {
   "cell_type": "code",
   "execution_count": 31,
   "metadata": {
    "scrolled": true
   },
   "outputs": [
    {
     "name": "stdout",
     "output_type": "stream",
     "text": [
      "Глубина дерева: 3 Количество деревьев: 8 Качество: 0.8525\n",
      "F1: 0.6038709677419355\n",
      "AUC-ROC: 0.7454102793085844\n"
     ]
    }
   ],
   "source": [
    "best_accuracy = 0\n",
    "best_depth = 0\n",
    "for depth in range(1,11):\n",
    "    for est in range(1, 11):\n",
    "        model = RandomForestClassifier(max_depth=depth, n_estimators=est, random_state=12345)\n",
    "        model.fit(features_downsampled_train, target_downsampled_train)\n",
    "        predict = model.predict(features_valid)\n",
    "        accuracy = model.score(features_valid, target_valid)\n",
    "        if accuracy > best_accuracy:\n",
    "            best_accuracy = accuracy\n",
    "            best_depth = depth\n",
    "            best_est = est\n",
    "            \n",
    "print('Глубина дерева:', best_depth, 'Количество деревьев:', best_est, 'Качество:', best_accuracy)\n",
    "print('F1:', f1_score(predict, target_valid))\n",
    "print('AUC-ROC:', roc_auc_score(target_valid, predict))"
   ]
  },
  {
   "cell_type": "code",
   "execution_count": 32,
   "metadata": {},
   "outputs": [
    {
     "name": "stdout",
     "output_type": "stream",
     "text": [
      "accuracy_score константой модели: 0.7965\n",
      "AUC-ROC константой модели: 0.5\n"
     ]
    }
   ],
   "source": [
    "#Создаем константную модель\n",
    "target_predict_constant = pd.Series([0]*len(target_valid))\n",
    "target_predict_constant.value_counts()\n",
    "print('accuracy_score константой модели:', accuracy_score(target_valid, target_predict_constant))\n",
    "print('AUC-ROC константой модели:', roc_auc_score(target_valid, target_predict_constant))"
   ]
  },
  {
   "cell_type": "markdown",
   "metadata": {},
   "source": [
    "В первоначальные данных наблюдался значительный дисбаланс (80% ответов целевого признака были негативными и только 20% позитивными)\n",
    "\n",
    "Устранен дисбаланс классов в обучающей выборки. Количество значений позитивного класса увеличено в 4 раза. Достигнут баланс классов обучеющей выборки: 1 = 0.50569, 0 = 0.49431.\n",
    "\n",
    "На новых данных модель RandomForest показала результат выше, чем на несбалансированной выборке:  \n",
    "F1: 0.592274678111588  \n",
    "AUC-ROC: 0.7609119134542863\n",
    "\n",
    "\n",
    "Финальная модель прошла проверку на адекватность в сравнении с контантной моделью:   \n",
    "accuracy_score константой модели: 0.796  \n",
    "accuracy_score финальной модели: 0.813  \n",
    "AUC-ROC константой модели: 0.5  \n",
    "AUC-ROC финальной модели: 0.761  "
   ]
  },
  {
   "cell_type": "markdown",
   "metadata": {},
   "source": [
    "## Тестирование модели"
   ]
  },
  {
   "cell_type": "code",
   "execution_count": 33,
   "metadata": {},
   "outputs": [
    {
     "name": "stdout",
     "output_type": "stream",
     "text": [
      "Качество: 0.8515\n",
      "F1: 0.5308056872037914\n",
      "AUC-ROC: 0.6879803428909251\n",
      "Точность:  0.7466666666666667\n",
      "Полнота: 0.4117647058823529\n"
     ]
    }
   ],
   "source": [
    "model = RandomForestClassifier(max_depth=3, \n",
    "                               n_estimators=8, \n",
    "                               random_state=12345)\n",
    "model.fit(features_downsampled_train, target_downsampled_train)\n",
    "accuracy = model.score(features_test, target_test)\n",
    "predict = model.predict(features_test)\n",
    "print('Качество:', accuracy)\n",
    "print('F1:', f1_score(target_test, predict))\n",
    "print('AUC-ROC:', roc_auc_score(target_test, predict))\n",
    "print('Точность: ', precision_score(target_test, predict))\n",
    "print('Полнота:', recall_score(target_test, predict))"
   ]
  },
  {
   "cell_type": "markdown",
   "metadata": {},
   "source": [
    "# Вывод\n",
    "\n",
    "Финальная модель достигла метрики F1 = 0.59  и показывает адекватные результаты.\n",
    "\n",
    "Удалось достигнуть показателя точности - 0.63. Модель верно предсказывает 63% ухода клиентов.\n",
    "\n",
    "С точки зрения бизнеса полученная модель поможет маркетологам лучше определять килентов, которые могут уйти в ближайшее время."
   ]
  }
 ],
 "metadata": {
  "ExecuteTimeLog": [
   {
    "duration": 48,
    "start_time": "2022-09-07T16:51:38.287Z"
   },
   {
    "duration": 1168,
    "start_time": "2022-09-07T16:51:40.681Z"
   },
   {
    "duration": 84,
    "start_time": "2022-09-07T16:51:41.851Z"
   },
   {
    "duration": 20,
    "start_time": "2022-09-07T16:51:41.937Z"
   },
   {
    "duration": 46,
    "start_time": "2022-09-08T14:32:44.173Z"
   },
   {
    "duration": 1185,
    "start_time": "2022-09-08T14:32:48.820Z"
   },
   {
    "duration": 84,
    "start_time": "2022-09-08T14:32:50.006Z"
   },
   {
    "duration": 20,
    "start_time": "2022-09-08T14:32:50.092Z"
   },
   {
    "duration": 6,
    "start_time": "2022-09-08T14:32:50.479Z"
   },
   {
    "duration": 6,
    "start_time": "2022-09-08T14:32:51.133Z"
   },
   {
    "duration": 5,
    "start_time": "2022-09-08T14:32:56.584Z"
   },
   {
    "duration": 5,
    "start_time": "2022-09-08T14:32:56.930Z"
   },
   {
    "duration": 10,
    "start_time": "2022-09-08T14:36:18.160Z"
   },
   {
    "duration": 1006,
    "start_time": "2022-09-08T14:36:20.439Z"
   },
   {
    "duration": 6,
    "start_time": "2022-09-08T14:36:58.539Z"
   },
   {
    "duration": 6,
    "start_time": "2022-09-08T14:37:17.714Z"
   },
   {
    "duration": 6,
    "start_time": "2022-09-08T14:37:18.280Z"
   },
   {
    "duration": 5,
    "start_time": "2022-09-08T14:37:19.021Z"
   },
   {
    "duration": 831,
    "start_time": "2022-09-08T14:37:23.960Z"
   },
   {
    "duration": 924,
    "start_time": "2022-09-08T14:38:48.791Z"
   },
   {
    "duration": 7438,
    "start_time": "2022-09-08T14:39:10.381Z"
   },
   {
    "duration": 41,
    "start_time": "2022-09-08T14:39:35.252Z"
   },
   {
    "duration": 23,
    "start_time": "2022-09-08T14:39:35.754Z"
   },
   {
    "duration": 7,
    "start_time": "2022-09-08T14:39:37.430Z"
   },
   {
    "duration": 5,
    "start_time": "2022-09-08T14:39:37.954Z"
   },
   {
    "duration": 5,
    "start_time": "2022-09-08T14:39:38.579Z"
   },
   {
    "duration": 9,
    "start_time": "2022-09-08T14:39:39.745Z"
   },
   {
    "duration": 2098,
    "start_time": "2022-09-08T14:40:21.913Z"
   },
   {
    "duration": 1938,
    "start_time": "2022-09-08T14:40:30.844Z"
   },
   {
    "duration": 4,
    "start_time": "2022-09-08T14:41:06.389Z"
   },
   {
    "duration": 41,
    "start_time": "2022-09-08T14:41:06.699Z"
   },
   {
    "duration": 14,
    "start_time": "2022-09-08T14:41:07.096Z"
   },
   {
    "duration": 8,
    "start_time": "2022-09-08T14:41:07.929Z"
   },
   {
    "duration": 6,
    "start_time": "2022-09-08T14:41:08.342Z"
   },
   {
    "duration": 5,
    "start_time": "2022-09-08T14:41:08.734Z"
   },
   {
    "duration": 10,
    "start_time": "2022-09-08T14:41:09.773Z"
   },
   {
    "duration": 1354,
    "start_time": "2022-09-08T14:41:26.625Z"
   },
   {
    "duration": 3,
    "start_time": "2022-09-08T14:41:37.072Z"
   },
   {
    "duration": 40,
    "start_time": "2022-09-08T14:41:37.313Z"
   },
   {
    "duration": 13,
    "start_time": "2022-09-08T14:41:37.618Z"
   },
   {
    "duration": 7,
    "start_time": "2022-09-08T14:41:38.393Z"
   },
   {
    "duration": 5,
    "start_time": "2022-09-08T14:41:38.864Z"
   },
   {
    "duration": 4,
    "start_time": "2022-09-08T14:41:39.298Z"
   },
   {
    "duration": 9,
    "start_time": "2022-09-08T14:41:40.393Z"
   },
   {
    "duration": 10,
    "start_time": "2022-09-08T14:42:17.029Z"
   },
   {
    "duration": 1541,
    "start_time": "2022-09-08T14:42:19.364Z"
   },
   {
    "duration": 0,
    "start_time": "2022-09-08T14:42:20.907Z"
   },
   {
    "duration": 8,
    "start_time": "2022-09-08T14:42:24.949Z"
   },
   {
    "duration": 969,
    "start_time": "2022-09-08T14:43:02.115Z"
   },
   {
    "duration": 896,
    "start_time": "2022-09-08T14:43:44.067Z"
   },
   {
    "duration": 1228,
    "start_time": "2022-09-08T14:43:50.080Z"
   },
   {
    "duration": 0,
    "start_time": "2022-09-08T14:43:51.309Z"
   },
   {
    "duration": 5,
    "start_time": "2022-09-08T15:17:55.763Z"
   },
   {
    "duration": 7,
    "start_time": "2022-09-08T15:17:56.302Z"
   },
   {
    "duration": 1050,
    "start_time": "2022-09-08T15:22:31.767Z"
   },
   {
    "duration": 79,
    "start_time": "2022-09-08T15:22:32.818Z"
   },
   {
    "duration": 38,
    "start_time": "2022-09-08T15:22:32.899Z"
   },
   {
    "duration": 7,
    "start_time": "2022-09-08T15:22:34.060Z"
   },
   {
    "duration": 7,
    "start_time": "2022-09-08T15:22:34.612Z"
   },
   {
    "duration": 6,
    "start_time": "2022-09-08T15:22:35.127Z"
   },
   {
    "duration": 95,
    "start_time": "2022-09-08T15:22:36.129Z"
   },
   {
    "duration": 1361,
    "start_time": "2022-09-08T15:22:50.911Z"
   },
   {
    "duration": 14,
    "start_time": "2022-09-08T15:23:30.323Z"
   },
   {
    "duration": 770,
    "start_time": "2022-09-08T15:23:39.243Z"
   },
   {
    "duration": 14,
    "start_time": "2022-09-08T15:23:51.464Z"
   },
   {
    "duration": 41,
    "start_time": "2022-09-08T15:24:11.377Z"
   },
   {
    "duration": 14,
    "start_time": "2022-09-08T15:24:11.809Z"
   },
   {
    "duration": 42,
    "start_time": "2022-09-08T15:24:16.253Z"
   },
   {
    "duration": 19,
    "start_time": "2022-09-08T15:24:16.571Z"
   },
   {
    "duration": 6,
    "start_time": "2022-09-08T15:24:26.634Z"
   },
   {
    "duration": 10,
    "start_time": "2022-09-08T15:24:30.978Z"
   },
   {
    "duration": 1042,
    "start_time": "2022-09-08T15:24:33.510Z"
   },
   {
    "duration": 0,
    "start_time": "2022-09-08T15:24:34.554Z"
   },
   {
    "duration": 12,
    "start_time": "2022-09-08T15:24:46.538Z"
   },
   {
    "duration": 3,
    "start_time": "2022-09-08T15:24:52.515Z"
   },
   {
    "duration": 39,
    "start_time": "2022-09-08T15:24:52.904Z"
   },
   {
    "duration": 15,
    "start_time": "2022-09-08T15:24:53.505Z"
   },
   {
    "duration": 7,
    "start_time": "2022-09-08T15:24:55.019Z"
   },
   {
    "duration": 5,
    "start_time": "2022-09-08T15:24:55.491Z"
   },
   {
    "duration": 5,
    "start_time": "2022-09-08T15:24:55.918Z"
   },
   {
    "duration": 9,
    "start_time": "2022-09-08T15:24:56.934Z"
   },
   {
    "duration": 2131,
    "start_time": "2022-09-08T15:25:03.189Z"
   },
   {
    "duration": 3,
    "start_time": "2022-09-08T15:25:52.658Z"
   },
   {
    "duration": 47,
    "start_time": "2022-09-08T15:25:53.013Z"
   },
   {
    "duration": 26,
    "start_time": "2022-09-08T15:25:53.484Z"
   },
   {
    "duration": 7,
    "start_time": "2022-09-08T15:25:54.614Z"
   },
   {
    "duration": 6,
    "start_time": "2022-09-08T15:25:55.003Z"
   },
   {
    "duration": 5,
    "start_time": "2022-09-08T15:25:55.470Z"
   },
   {
    "duration": 10,
    "start_time": "2022-09-08T15:25:56.395Z"
   },
   {
    "duration": 5,
    "start_time": "2022-09-08T15:26:24.709Z"
   },
   {
    "duration": 6640,
    "start_time": "2022-09-08T15:26:33.745Z"
   },
   {
    "duration": 0,
    "start_time": "2022-09-08T15:26:40.386Z"
   },
   {
    "duration": 13,
    "start_time": "2022-09-08T15:26:46.184Z"
   },
   {
    "duration": 4013,
    "start_time": "2022-09-08T15:26:54.571Z"
   },
   {
    "duration": 14,
    "start_time": "2022-09-08T15:27:04.287Z"
   },
   {
    "duration": 45,
    "start_time": "2022-09-08T15:27:06.989Z"
   },
   {
    "duration": 17,
    "start_time": "2022-09-08T15:27:07.377Z"
   },
   {
    "duration": 44,
    "start_time": "2022-09-08T15:27:38.807Z"
   },
   {
    "duration": 20,
    "start_time": "2022-09-08T15:27:39.176Z"
   },
   {
    "duration": 7,
    "start_time": "2022-09-08T15:27:45.832Z"
   },
   {
    "duration": 8,
    "start_time": "2022-09-08T15:27:49.243Z"
   },
   {
    "duration": 6,
    "start_time": "2022-09-08T15:28:01.251Z"
   },
   {
    "duration": 6,
    "start_time": "2022-09-08T15:28:01.649Z"
   },
   {
    "duration": 9,
    "start_time": "2022-09-08T15:28:02.704Z"
   },
   {
    "duration": 13,
    "start_time": "2022-09-08T15:28:03.164Z"
   },
   {
    "duration": 21,
    "start_time": "2022-09-08T15:28:41.044Z"
   },
   {
    "duration": 8,
    "start_time": "2022-09-08T15:29:24.728Z"
   },
   {
    "duration": 13,
    "start_time": "2022-09-08T15:29:27.042Z"
   },
   {
    "duration": 11,
    "start_time": "2022-09-08T15:29:34.385Z"
   },
   {
    "duration": 1720,
    "start_time": "2022-09-08T15:29:36.555Z"
   },
   {
    "duration": 0,
    "start_time": "2022-09-08T15:29:38.277Z"
   },
   {
    "duration": 1455,
    "start_time": "2022-09-08T15:29:50.026Z"
   },
   {
    "duration": 4,
    "start_time": "2022-09-08T15:29:53.750Z"
   },
   {
    "duration": 38,
    "start_time": "2022-09-08T15:29:54.003Z"
   },
   {
    "duration": 14,
    "start_time": "2022-09-08T15:29:54.393Z"
   },
   {
    "duration": 7,
    "start_time": "2022-09-08T15:29:55.338Z"
   },
   {
    "duration": 5,
    "start_time": "2022-09-08T15:29:55.757Z"
   },
   {
    "duration": 5,
    "start_time": "2022-09-08T15:29:56.161Z"
   },
   {
    "duration": 10,
    "start_time": "2022-09-08T15:29:57.160Z"
   },
   {
    "duration": 13,
    "start_time": "2022-09-08T15:29:57.896Z"
   },
   {
    "duration": 11,
    "start_time": "2022-09-08T15:30:44.844Z"
   },
   {
    "duration": 9,
    "start_time": "2022-09-08T15:30:47.868Z"
   },
   {
    "duration": 13,
    "start_time": "2022-09-08T15:30:48.359Z"
   },
   {
    "duration": 5,
    "start_time": "2022-09-08T15:31:05.399Z"
   },
   {
    "duration": 1590,
    "start_time": "2022-09-08T15:31:29.666Z"
   },
   {
    "duration": 0,
    "start_time": "2022-09-08T15:31:31.258Z"
   },
   {
    "duration": 1421,
    "start_time": "2022-09-08T15:31:47.416Z"
   },
   {
    "duration": 1854,
    "start_time": "2022-09-08T15:31:52.896Z"
   },
   {
    "duration": 0,
    "start_time": "2022-09-08T15:31:54.752Z"
   },
   {
    "duration": 4,
    "start_time": "2022-09-08T15:31:59.243Z"
   },
   {
    "duration": 46,
    "start_time": "2022-09-08T15:31:59.567Z"
   },
   {
    "duration": 16,
    "start_time": "2022-09-08T15:31:59.945Z"
   },
   {
    "duration": 9,
    "start_time": "2022-09-08T15:32:01.395Z"
   },
   {
    "duration": 6,
    "start_time": "2022-09-08T15:32:01.804Z"
   },
   {
    "duration": 6,
    "start_time": "2022-09-08T15:32:02.162Z"
   },
   {
    "duration": 10,
    "start_time": "2022-09-08T15:32:03.059Z"
   },
   {
    "duration": 18,
    "start_time": "2022-09-08T15:32:03.730Z"
   },
   {
    "duration": 15,
    "start_time": "2022-09-08T15:33:32.528Z"
   },
   {
    "duration": 12,
    "start_time": "2022-09-08T15:33:50.782Z"
   },
   {
    "duration": 8,
    "start_time": "2022-09-08T15:34:36.738Z"
   },
   {
    "duration": 9,
    "start_time": "2022-09-08T15:37:49.505Z"
   },
   {
    "duration": 8,
    "start_time": "2022-09-08T15:38:30.931Z"
   },
   {
    "duration": 6,
    "start_time": "2022-09-08T15:38:46.299Z"
   },
   {
    "duration": 5,
    "start_time": "2022-09-08T15:38:57.744Z"
   },
   {
    "duration": 6,
    "start_time": "2022-09-08T15:38:59.096Z"
   },
   {
    "duration": 8,
    "start_time": "2022-09-08T15:39:14.493Z"
   },
   {
    "duration": 6,
    "start_time": "2022-09-08T15:39:26.804Z"
   },
   {
    "duration": 5,
    "start_time": "2022-09-08T15:39:27.282Z"
   },
   {
    "duration": 8,
    "start_time": "2022-09-08T15:39:50.412Z"
   },
   {
    "duration": 6,
    "start_time": "2022-09-08T15:39:52.222Z"
   },
   {
    "duration": 6,
    "start_time": "2022-09-08T15:39:52.637Z"
   },
   {
    "duration": 3,
    "start_time": "2022-09-08T15:40:13.380Z"
   },
   {
    "duration": 7,
    "start_time": "2022-09-08T15:40:55.552Z"
   },
   {
    "duration": 5,
    "start_time": "2022-09-08T15:40:55.929Z"
   },
   {
    "duration": 3,
    "start_time": "2022-09-08T15:40:56.395Z"
   },
   {
    "duration": 3,
    "start_time": "2022-09-08T15:42:08.686Z"
   },
   {
    "duration": 52,
    "start_time": "2022-09-08T15:42:24.375Z"
   },
   {
    "duration": 20,
    "start_time": "2022-09-08T15:43:56.423Z"
   },
   {
    "duration": 3,
    "start_time": "2022-09-08T15:44:03.073Z"
   },
   {
    "duration": 18,
    "start_time": "2022-09-08T15:44:04.025Z"
   },
   {
    "duration": 18,
    "start_time": "2022-09-08T15:44:28.275Z"
   },
   {
    "duration": 5,
    "start_time": "2022-09-08T15:44:31.561Z"
   },
   {
    "duration": 3,
    "start_time": "2022-09-08T15:44:31.898Z"
   },
   {
    "duration": 19,
    "start_time": "2022-09-08T15:44:32.874Z"
   },
   {
    "duration": 53,
    "start_time": "2022-09-08T15:45:41.961Z"
   },
   {
    "duration": 18,
    "start_time": "2022-09-08T15:45:59.801Z"
   },
   {
    "duration": 4,
    "start_time": "2022-09-08T15:46:22.953Z"
   },
   {
    "duration": 7,
    "start_time": "2022-09-08T15:46:24.007Z"
   },
   {
    "duration": 5,
    "start_time": "2022-09-08T15:46:24.396Z"
   },
   {
    "duration": 3,
    "start_time": "2022-09-08T15:46:24.793Z"
   },
   {
    "duration": 19,
    "start_time": "2022-09-08T15:46:25.622Z"
   },
   {
    "duration": 21,
    "start_time": "2022-09-08T15:46:47.523Z"
   },
   {
    "duration": 19,
    "start_time": "2022-09-08T15:46:57.096Z"
   },
   {
    "duration": 3,
    "start_time": "2022-09-08T15:47:15.765Z"
   },
   {
    "duration": 5,
    "start_time": "2022-09-08T15:47:24.875Z"
   },
   {
    "duration": 23,
    "start_time": "2022-09-08T15:47:25.686Z"
   },
   {
    "duration": 3,
    "start_time": "2022-09-08T15:47:40.802Z"
   },
   {
    "duration": 38,
    "start_time": "2022-09-08T15:47:41.128Z"
   },
   {
    "duration": 13,
    "start_time": "2022-09-08T15:47:41.552Z"
   },
   {
    "duration": 6,
    "start_time": "2022-09-08T15:47:42.426Z"
   },
   {
    "duration": 5,
    "start_time": "2022-09-08T15:47:42.816Z"
   },
   {
    "duration": 9,
    "start_time": "2022-09-08T15:47:43.618Z"
   },
   {
    "duration": 13,
    "start_time": "2022-09-08T15:47:44.016Z"
   },
   {
    "duration": 8,
    "start_time": "2022-09-08T15:47:44.520Z"
   },
   {
    "duration": 7,
    "start_time": "2022-09-08T15:47:45.344Z"
   },
   {
    "duration": 6,
    "start_time": "2022-09-08T15:47:46.227Z"
   },
   {
    "duration": 5,
    "start_time": "2022-09-08T15:47:46.614Z"
   },
   {
    "duration": 21,
    "start_time": "2022-09-08T15:47:47.728Z"
   },
   {
    "duration": 4,
    "start_time": "2022-09-08T15:48:45.811Z"
   },
   {
    "duration": 6,
    "start_time": "2022-09-08T15:48:46.965Z"
   },
   {
    "duration": 5,
    "start_time": "2022-09-08T15:48:47.321Z"
   },
   {
    "duration": 18,
    "start_time": "2022-09-08T15:48:48.093Z"
   },
   {
    "duration": 3,
    "start_time": "2022-09-08T15:49:14.525Z"
   },
   {
    "duration": 5,
    "start_time": "2022-09-08T15:49:22.554Z"
   },
   {
    "duration": 7,
    "start_time": "2022-09-08T15:49:23.528Z"
   },
   {
    "duration": 5,
    "start_time": "2022-09-08T15:49:24.554Z"
   },
   {
    "duration": 18,
    "start_time": "2022-09-08T15:49:25.433Z"
   },
   {
    "duration": 17,
    "start_time": "2022-09-08T15:49:46.636Z"
   },
   {
    "duration": 3,
    "start_time": "2022-09-08T15:50:40.019Z"
   },
   {
    "duration": 38,
    "start_time": "2022-09-08T15:50:40.621Z"
   },
   {
    "duration": 15,
    "start_time": "2022-09-08T15:50:40.925Z"
   },
   {
    "duration": 6,
    "start_time": "2022-09-08T15:50:41.300Z"
   },
   {
    "duration": 5,
    "start_time": "2022-09-08T15:50:41.436Z"
   },
   {
    "duration": 8,
    "start_time": "2022-09-08T15:50:41.712Z"
   },
   {
    "duration": 14,
    "start_time": "2022-09-08T15:50:41.844Z"
   },
   {
    "duration": 8,
    "start_time": "2022-09-08T15:50:42.012Z"
   },
   {
    "duration": 4,
    "start_time": "2022-09-08T15:50:42.376Z"
   },
   {
    "duration": 6,
    "start_time": "2022-09-08T15:50:43.088Z"
   },
   {
    "duration": 6,
    "start_time": "2022-09-08T15:50:43.791Z"
   },
   {
    "duration": 5,
    "start_time": "2022-09-08T15:50:44.118Z"
   },
   {
    "duration": 19,
    "start_time": "2022-09-08T15:50:44.889Z"
   },
   {
    "duration": 3,
    "start_time": "2022-09-08T15:50:54.536Z"
   },
   {
    "duration": 37,
    "start_time": "2022-09-08T15:50:54.948Z"
   },
   {
    "duration": 12,
    "start_time": "2022-09-08T15:50:55.188Z"
   },
   {
    "duration": 6,
    "start_time": "2022-09-08T15:50:55.624Z"
   },
   {
    "duration": 5,
    "start_time": "2022-09-08T15:50:55.819Z"
   },
   {
    "duration": 8,
    "start_time": "2022-09-08T15:50:56.195Z"
   },
   {
    "duration": 13,
    "start_time": "2022-09-08T15:50:56.388Z"
   },
   {
    "duration": 7,
    "start_time": "2022-09-08T15:50:56.580Z"
   },
   {
    "duration": 5,
    "start_time": "2022-09-08T15:50:56.791Z"
   },
   {
    "duration": 8,
    "start_time": "2022-09-08T15:50:57.476Z"
   },
   {
    "duration": 6,
    "start_time": "2022-09-08T15:50:58.268Z"
   },
   {
    "duration": 4,
    "start_time": "2022-09-08T15:50:58.586Z"
   },
   {
    "duration": 18,
    "start_time": "2022-09-08T15:50:59.337Z"
   },
   {
    "duration": 12,
    "start_time": "2022-09-08T15:51:37.479Z"
   },
   {
    "duration": 11,
    "start_time": "2022-09-08T15:52:25.625Z"
   },
   {
    "duration": 4,
    "start_time": "2022-09-08T15:52:49.708Z"
   },
   {
    "duration": 4,
    "start_time": "2022-09-08T15:53:16.921Z"
   },
   {
    "duration": 4,
    "start_time": "2022-09-08T15:53:17.743Z"
   },
   {
    "duration": 5,
    "start_time": "2022-09-08T15:53:18.227Z"
   },
   {
    "duration": 7,
    "start_time": "2022-09-08T15:53:22.780Z"
   },
   {
    "duration": 7,
    "start_time": "2022-09-08T15:53:36.456Z"
   },
   {
    "duration": 11,
    "start_time": "2022-09-08T15:53:37.599Z"
   },
   {
    "duration": 9,
    "start_time": "2022-09-08T15:53:38.975Z"
   },
   {
    "duration": 8,
    "start_time": "2022-09-08T15:53:46.314Z"
   },
   {
    "duration": 6,
    "start_time": "2022-09-08T15:53:48.530Z"
   },
   {
    "duration": 6,
    "start_time": "2022-09-08T15:53:49.529Z"
   },
   {
    "duration": 5,
    "start_time": "2022-09-08T15:53:49.941Z"
   },
   {
    "duration": 22,
    "start_time": "2022-09-08T15:53:50.912Z"
   },
   {
    "duration": 7,
    "start_time": "2022-09-08T15:54:09.392Z"
   },
   {
    "duration": 12,
    "start_time": "2022-09-08T15:54:09.818Z"
   },
   {
    "duration": 8,
    "start_time": "2022-09-08T15:54:10.236Z"
   },
   {
    "duration": 6,
    "start_time": "2022-09-08T15:54:11.155Z"
   },
   {
    "duration": 6,
    "start_time": "2022-09-08T15:54:12.170Z"
   },
   {
    "duration": 6,
    "start_time": "2022-09-08T15:54:12.576Z"
   },
   {
    "duration": 22,
    "start_time": "2022-09-08T15:54:13.585Z"
   },
   {
    "duration": 4,
    "start_time": "2022-09-08T15:55:12.108Z"
   },
   {
    "duration": 4,
    "start_time": "2022-09-08T15:55:13.024Z"
   },
   {
    "duration": 6,
    "start_time": "2022-09-08T15:55:13.808Z"
   },
   {
    "duration": 5,
    "start_time": "2022-09-08T15:55:14.150Z"
   },
   {
    "duration": 17,
    "start_time": "2022-09-08T15:55:15.028Z"
   },
   {
    "duration": 11,
    "start_time": "2022-09-08T15:56:12.323Z"
   },
   {
    "duration": 3,
    "start_time": "2022-09-08T15:56:20.234Z"
   },
   {
    "duration": 38,
    "start_time": "2022-09-08T15:56:20.460Z"
   },
   {
    "duration": 14,
    "start_time": "2022-09-08T15:56:20.788Z"
   },
   {
    "duration": 12,
    "start_time": "2022-09-08T15:56:21.722Z"
   },
   {
    "duration": 5,
    "start_time": "2022-09-08T15:56:22.124Z"
   },
   {
    "duration": 5,
    "start_time": "2022-09-08T15:56:22.519Z"
   },
   {
    "duration": 11,
    "start_time": "2022-09-08T15:56:27.628Z"
   },
   {
    "duration": 5,
    "start_time": "2022-09-08T15:56:28.052Z"
   },
   {
    "duration": 12,
    "start_time": "2022-09-08T15:56:37.868Z"
   },
   {
    "duration": 5,
    "start_time": "2022-09-08T15:56:38.320Z"
   },
   {
    "duration": 4,
    "start_time": "2022-09-08T15:57:18.967Z"
   },
   {
    "duration": 38,
    "start_time": "2022-09-08T15:57:19.267Z"
   },
   {
    "duration": 13,
    "start_time": "2022-09-08T15:57:19.626Z"
   },
   {
    "duration": 13,
    "start_time": "2022-09-08T15:57:20.435Z"
   },
   {
    "duration": 4,
    "start_time": "2022-09-08T15:57:20.853Z"
   },
   {
    "duration": 4,
    "start_time": "2022-09-08T15:57:21.286Z"
   },
   {
    "duration": 5,
    "start_time": "2022-09-08T15:57:21.707Z"
   },
   {
    "duration": 5,
    "start_time": "2022-09-08T15:57:22.129Z"
   },
   {
    "duration": 8,
    "start_time": "2022-09-08T15:57:22.958Z"
   },
   {
    "duration": 12,
    "start_time": "2022-09-08T15:57:23.374Z"
   },
   {
    "duration": 8,
    "start_time": "2022-09-08T15:57:23.910Z"
   },
   {
    "duration": 6,
    "start_time": "2022-09-08T15:57:24.600Z"
   },
   {
    "duration": 4,
    "start_time": "2022-09-08T15:57:26.045Z"
   },
   {
    "duration": 6,
    "start_time": "2022-09-08T15:57:27.135Z"
   },
   {
    "duration": 4,
    "start_time": "2022-09-08T15:57:27.530Z"
   },
   {
    "duration": 17,
    "start_time": "2022-09-08T15:57:28.548Z"
   },
   {
    "duration": 12,
    "start_time": "2022-09-08T15:58:40.675Z"
   },
   {
    "duration": 3,
    "start_time": "2022-09-08T15:59:33.268Z"
   },
   {
    "duration": 45,
    "start_time": "2022-09-08T15:59:33.273Z"
   },
   {
    "duration": 13,
    "start_time": "2022-09-08T15:59:33.320Z"
   },
   {
    "duration": 18,
    "start_time": "2022-09-08T15:59:33.334Z"
   },
   {
    "duration": 20,
    "start_time": "2022-09-08T15:59:33.354Z"
   },
   {
    "duration": 6,
    "start_time": "2022-09-08T15:59:33.376Z"
   },
   {
    "duration": 6,
    "start_time": "2022-09-08T15:59:33.383Z"
   },
   {
    "duration": 7,
    "start_time": "2022-09-08T15:59:33.390Z"
   },
   {
    "duration": 7,
    "start_time": "2022-09-08T15:59:33.398Z"
   },
   {
    "duration": 17,
    "start_time": "2022-09-08T15:59:33.406Z"
   },
   {
    "duration": 11,
    "start_time": "2022-09-08T15:59:33.424Z"
   },
   {
    "duration": 8,
    "start_time": "2022-09-08T15:59:33.437Z"
   },
   {
    "duration": 4,
    "start_time": "2022-09-08T15:59:33.446Z"
   },
   {
    "duration": 6,
    "start_time": "2022-09-08T15:59:33.452Z"
   },
   {
    "duration": 8,
    "start_time": "2022-09-08T15:59:33.459Z"
   },
   {
    "duration": 7,
    "start_time": "2022-09-08T15:59:33.468Z"
   },
   {
    "duration": 15,
    "start_time": "2022-09-08T15:59:33.477Z"
   },
   {
    "duration": 11,
    "start_time": "2022-09-08T16:01:37.505Z"
   },
   {
    "duration": 3,
    "start_time": "2022-09-08T16:01:41.142Z"
   },
   {
    "duration": 41,
    "start_time": "2022-09-08T16:01:41.147Z"
   },
   {
    "duration": 11,
    "start_time": "2022-09-08T16:01:41.190Z"
   },
   {
    "duration": 20,
    "start_time": "2022-09-08T16:01:41.203Z"
   },
   {
    "duration": 10,
    "start_time": "2022-09-08T16:01:41.229Z"
   },
   {
    "duration": 12,
    "start_time": "2022-09-08T16:01:41.241Z"
   },
   {
    "duration": 7,
    "start_time": "2022-09-08T16:01:41.255Z"
   },
   {
    "duration": 5,
    "start_time": "2022-09-08T16:01:41.264Z"
   },
   {
    "duration": 8,
    "start_time": "2022-09-08T16:01:41.271Z"
   },
   {
    "duration": 12,
    "start_time": "2022-09-08T16:01:41.280Z"
   },
   {
    "duration": 7,
    "start_time": "2022-09-08T16:01:41.293Z"
   },
   {
    "duration": 9,
    "start_time": "2022-09-08T16:01:41.302Z"
   },
   {
    "duration": 0,
    "start_time": "2022-09-08T16:01:41.312Z"
   },
   {
    "duration": 1,
    "start_time": "2022-09-08T16:01:41.313Z"
   },
   {
    "duration": 0,
    "start_time": "2022-09-08T16:01:41.322Z"
   },
   {
    "duration": 0,
    "start_time": "2022-09-08T16:01:41.322Z"
   },
   {
    "duration": 0,
    "start_time": "2022-09-08T16:01:41.323Z"
   },
   {
    "duration": 18,
    "start_time": "2022-09-08T16:01:49.098Z"
   },
   {
    "duration": 3,
    "start_time": "2022-09-08T16:02:13.598Z"
   },
   {
    "duration": 3,
    "start_time": "2022-09-08T16:02:16.191Z"
   },
   {
    "duration": 52,
    "start_time": "2022-09-08T16:02:16.196Z"
   },
   {
    "duration": 12,
    "start_time": "2022-09-08T16:02:16.250Z"
   },
   {
    "duration": 14,
    "start_time": "2022-09-08T16:02:16.263Z"
   },
   {
    "duration": 3,
    "start_time": "2022-09-08T16:02:16.279Z"
   },
   {
    "duration": 8,
    "start_time": "2022-09-08T16:02:16.283Z"
   },
   {
    "duration": 20,
    "start_time": "2022-09-08T16:02:16.292Z"
   },
   {
    "duration": 7,
    "start_time": "2022-09-08T16:02:16.313Z"
   },
   {
    "duration": 23,
    "start_time": "2022-09-08T16:02:16.321Z"
   },
   {
    "duration": 14,
    "start_time": "2022-09-08T16:02:16.345Z"
   },
   {
    "duration": 11,
    "start_time": "2022-09-08T16:02:16.360Z"
   },
   {
    "duration": 8,
    "start_time": "2022-09-08T16:02:16.372Z"
   },
   {
    "duration": 3,
    "start_time": "2022-09-08T16:02:16.382Z"
   },
   {
    "duration": 6,
    "start_time": "2022-09-08T16:02:16.387Z"
   },
   {
    "duration": 8,
    "start_time": "2022-09-08T16:02:16.394Z"
   },
   {
    "duration": 4,
    "start_time": "2022-09-08T16:02:16.403Z"
   },
   {
    "duration": 932,
    "start_time": "2022-09-08T16:02:16.408Z"
   },
   {
    "duration": 625,
    "start_time": "2022-09-08T16:03:26.202Z"
   },
   {
    "duration": 773,
    "start_time": "2022-09-08T16:05:27.251Z"
   },
   {
    "duration": 10,
    "start_time": "2022-09-08T16:08:30.256Z"
   },
   {
    "duration": 4,
    "start_time": "2022-09-08T16:08:36.122Z"
   },
   {
    "duration": 6,
    "start_time": "2022-09-08T16:09:04.795Z"
   },
   {
    "duration": 6,
    "start_time": "2022-09-08T16:09:05.289Z"
   },
   {
    "duration": 4,
    "start_time": "2022-09-08T16:09:06.135Z"
   },
   {
    "duration": 10,
    "start_time": "2022-09-08T16:11:15.643Z"
   },
   {
    "duration": 17,
    "start_time": "2022-09-08T16:11:29.326Z"
   },
   {
    "duration": 6,
    "start_time": "2022-09-08T16:11:35.747Z"
   },
   {
    "duration": 3,
    "start_time": "2022-09-08T16:11:37.099Z"
   },
   {
    "duration": 8,
    "start_time": "2022-09-08T16:11:41.978Z"
   },
   {
    "duration": 7,
    "start_time": "2022-09-08T16:11:42.330Z"
   },
   {
    "duration": 4,
    "start_time": "2022-09-08T16:11:43.076Z"
   },
   {
    "duration": 845,
    "start_time": "2022-09-08T16:12:31.081Z"
   },
   {
    "duration": 242,
    "start_time": "2022-09-08T16:12:40.885Z"
   },
   {
    "duration": 15,
    "start_time": "2022-09-08T16:13:07.650Z"
   },
   {
    "duration": 2800,
    "start_time": "2022-09-08T16:13:19.385Z"
   },
   {
    "duration": 9,
    "start_time": "2022-09-08T16:14:23.501Z"
   },
   {
    "duration": 4,
    "start_time": "2022-09-08T16:14:31.423Z"
   },
   {
    "duration": 43,
    "start_time": "2022-09-08T16:14:31.429Z"
   },
   {
    "duration": 13,
    "start_time": "2022-09-08T16:14:31.473Z"
   },
   {
    "duration": 13,
    "start_time": "2022-09-08T16:14:31.487Z"
   },
   {
    "duration": 4,
    "start_time": "2022-09-08T16:14:31.502Z"
   },
   {
    "duration": 7,
    "start_time": "2022-09-08T16:14:31.508Z"
   },
   {
    "duration": 9,
    "start_time": "2022-09-08T16:14:31.516Z"
   },
   {
    "duration": 11,
    "start_time": "2022-09-08T16:14:31.526Z"
   },
   {
    "duration": 10,
    "start_time": "2022-09-08T16:14:31.539Z"
   },
   {
    "duration": 11,
    "start_time": "2022-09-08T16:14:31.550Z"
   },
   {
    "duration": 10,
    "start_time": "2022-09-08T16:14:31.563Z"
   },
   {
    "duration": 13,
    "start_time": "2022-09-08T16:14:31.575Z"
   },
   {
    "duration": 7,
    "start_time": "2022-09-08T16:14:31.589Z"
   },
   {
    "duration": 10,
    "start_time": "2022-09-08T16:14:31.598Z"
   },
   {
    "duration": 5,
    "start_time": "2022-09-08T16:14:31.609Z"
   },
   {
    "duration": 7,
    "start_time": "2022-09-08T16:14:31.615Z"
   },
   {
    "duration": 403,
    "start_time": "2022-09-08T16:14:31.624Z"
   },
   {
    "duration": 2799,
    "start_time": "2022-09-08T16:14:32.030Z"
   },
   {
    "duration": 15,
    "start_time": "2022-09-08T16:14:34.830Z"
   },
   {
    "duration": 237,
    "start_time": "2022-09-08T16:14:48.940Z"
   },
   {
    "duration": 330,
    "start_time": "2022-09-08T16:16:41.100Z"
   },
   {
    "duration": 2700,
    "start_time": "2022-09-08T16:17:21.008Z"
   },
   {
    "duration": 220,
    "start_time": "2022-09-08T16:17:37.375Z"
   },
   {
    "duration": 441,
    "start_time": "2022-09-08T16:17:46.087Z"
   },
   {
    "duration": 221,
    "start_time": "2022-09-08T16:17:54.409Z"
   },
   {
    "duration": 377,
    "start_time": "2022-09-08T16:17:58.246Z"
   },
   {
    "duration": 2730,
    "start_time": "2022-09-08T16:17:59.535Z"
   },
   {
    "duration": 214,
    "start_time": "2022-09-08T16:18:03.734Z"
   },
   {
    "duration": 3,
    "start_time": "2022-09-08T16:48:56.992Z"
   },
   {
    "duration": 8,
    "start_time": "2022-09-08T16:49:23.936Z"
   },
   {
    "duration": 3,
    "start_time": "2022-09-08T16:49:32.002Z"
   },
   {
    "duration": 8,
    "start_time": "2022-09-08T16:49:35.814Z"
   },
   {
    "duration": 21,
    "start_time": "2022-09-08T16:50:35.194Z"
   },
   {
    "duration": 20,
    "start_time": "2022-09-08T16:50:51.459Z"
   },
   {
    "duration": 3,
    "start_time": "2022-09-08T16:50:58.460Z"
   },
   {
    "duration": 49,
    "start_time": "2022-09-08T16:50:58.464Z"
   },
   {
    "duration": 13,
    "start_time": "2022-09-08T16:50:58.514Z"
   },
   {
    "duration": 13,
    "start_time": "2022-09-08T16:50:58.528Z"
   },
   {
    "duration": 4,
    "start_time": "2022-09-08T16:50:58.544Z"
   },
   {
    "duration": 6,
    "start_time": "2022-09-08T16:50:58.549Z"
   },
   {
    "duration": 9,
    "start_time": "2022-09-08T16:50:58.556Z"
   },
   {
    "duration": 4,
    "start_time": "2022-09-08T16:50:58.567Z"
   },
   {
    "duration": 9,
    "start_time": "2022-09-08T16:50:58.572Z"
   },
   {
    "duration": 11,
    "start_time": "2022-09-08T16:50:58.583Z"
   },
   {
    "duration": 27,
    "start_time": "2022-09-08T16:50:58.596Z"
   },
   {
    "duration": 4,
    "start_time": "2022-09-08T16:50:58.625Z"
   },
   {
    "duration": 9,
    "start_time": "2022-09-08T16:50:58.630Z"
   },
   {
    "duration": 10,
    "start_time": "2022-09-08T16:50:58.641Z"
   },
   {
    "duration": 20,
    "start_time": "2022-09-08T16:50:58.652Z"
   },
   {
    "duration": 3,
    "start_time": "2022-09-08T16:50:58.673Z"
   },
   {
    "duration": 10,
    "start_time": "2022-09-08T16:50:58.677Z"
   },
   {
    "duration": 5,
    "start_time": "2022-09-08T16:50:58.688Z"
   },
   {
    "duration": 3,
    "start_time": "2022-09-08T16:50:58.694Z"
   },
   {
    "duration": 427,
    "start_time": "2022-09-08T16:50:58.699Z"
   },
   {
    "duration": 2901,
    "start_time": "2022-09-08T16:50:59.128Z"
   },
   {
    "duration": 222,
    "start_time": "2022-09-08T16:51:02.031Z"
   },
   {
    "duration": 21,
    "start_time": "2022-09-08T16:53:47.881Z"
   },
   {
    "duration": 29,
    "start_time": "2022-09-08T16:54:02.960Z"
   },
   {
    "duration": 20,
    "start_time": "2022-09-08T16:54:10.548Z"
   },
   {
    "duration": 5,
    "start_time": "2022-09-08T16:54:33.076Z"
   },
   {
    "duration": 4,
    "start_time": "2022-09-08T16:54:33.313Z"
   },
   {
    "duration": 7,
    "start_time": "2022-09-08T16:54:34.501Z"
   },
   {
    "duration": 6,
    "start_time": "2022-09-08T16:54:34.865Z"
   },
   {
    "duration": 449,
    "start_time": "2022-09-08T16:55:02.378Z"
   },
   {
    "duration": 2718,
    "start_time": "2022-09-08T16:55:04.528Z"
   },
   {
    "duration": 218,
    "start_time": "2022-09-08T16:55:10.204Z"
   },
   {
    "duration": 11,
    "start_time": "2022-09-08T17:01:54.591Z"
   },
   {
    "duration": 6,
    "start_time": "2022-09-08T17:02:51.448Z"
   },
   {
    "duration": 8,
    "start_time": "2022-09-08T17:03:04.481Z"
   },
   {
    "duration": 4,
    "start_time": "2022-09-08T17:03:07.039Z"
   },
   {
    "duration": 11,
    "start_time": "2022-09-08T17:03:13.102Z"
   },
   {
    "duration": 6,
    "start_time": "2022-09-08T17:03:28.366Z"
   },
   {
    "duration": 10,
    "start_time": "2022-09-08T17:03:31.038Z"
   },
   {
    "duration": 4,
    "start_time": "2022-09-08T17:03:33.117Z"
   },
   {
    "duration": 10,
    "start_time": "2022-09-08T17:03:33.597Z"
   },
   {
    "duration": 3,
    "start_time": "2022-09-08T17:04:08.537Z"
   },
   {
    "duration": 42,
    "start_time": "2022-09-08T17:04:08.542Z"
   },
   {
    "duration": 13,
    "start_time": "2022-09-08T17:04:08.585Z"
   },
   {
    "duration": 12,
    "start_time": "2022-09-08T17:04:08.599Z"
   },
   {
    "duration": 4,
    "start_time": "2022-09-08T17:04:08.613Z"
   },
   {
    "duration": 5,
    "start_time": "2022-09-08T17:04:08.618Z"
   },
   {
    "duration": 8,
    "start_time": "2022-09-08T17:04:08.624Z"
   },
   {
    "duration": 6,
    "start_time": "2022-09-08T17:04:08.633Z"
   },
   {
    "duration": 9,
    "start_time": "2022-09-08T17:04:08.640Z"
   },
   {
    "duration": 11,
    "start_time": "2022-09-08T17:04:08.650Z"
   },
   {
    "duration": 6,
    "start_time": "2022-09-08T17:04:08.663Z"
   },
   {
    "duration": 3,
    "start_time": "2022-09-08T17:04:08.670Z"
   },
   {
    "duration": 4,
    "start_time": "2022-09-08T17:04:08.675Z"
   },
   {
    "duration": 9,
    "start_time": "2022-09-08T17:04:08.681Z"
   },
   {
    "duration": 31,
    "start_time": "2022-09-08T17:04:08.691Z"
   },
   {
    "duration": 3,
    "start_time": "2022-09-08T17:04:08.724Z"
   },
   {
    "duration": 5,
    "start_time": "2022-09-08T17:04:08.728Z"
   },
   {
    "duration": 14,
    "start_time": "2022-09-08T17:04:08.734Z"
   },
   {
    "duration": 21,
    "start_time": "2022-09-08T17:04:08.749Z"
   },
   {
    "duration": 156,
    "start_time": "2022-09-08T17:04:08.771Z"
   },
   {
    "duration": 2823,
    "start_time": "2022-09-08T17:04:08.929Z"
   },
   {
    "duration": 215,
    "start_time": "2022-09-08T17:04:11.754Z"
   },
   {
    "duration": 4,
    "start_time": "2022-09-08T17:04:57.388Z"
   },
   {
    "duration": 10,
    "start_time": "2022-09-08T17:05:28.036Z"
   },
   {
    "duration": 6,
    "start_time": "2022-09-08T17:50:22.386Z"
   },
   {
    "duration": 4,
    "start_time": "2022-09-08T17:50:38.847Z"
   },
   {
    "duration": 8,
    "start_time": "2022-09-08T17:52:27.642Z"
   },
   {
    "duration": 4,
    "start_time": "2022-09-08T17:52:34.800Z"
   },
   {
    "duration": 17,
    "start_time": "2022-09-08T17:52:35.207Z"
   },
   {
    "duration": 3,
    "start_time": "2022-09-08T17:52:45.233Z"
   },
   {
    "duration": 42,
    "start_time": "2022-09-08T17:52:45.238Z"
   },
   {
    "duration": 12,
    "start_time": "2022-09-08T17:52:45.281Z"
   },
   {
    "duration": 18,
    "start_time": "2022-09-08T17:52:45.294Z"
   },
   {
    "duration": 4,
    "start_time": "2022-09-08T17:52:45.315Z"
   },
   {
    "duration": 6,
    "start_time": "2022-09-08T17:52:45.320Z"
   },
   {
    "duration": 10,
    "start_time": "2022-09-08T17:52:45.328Z"
   },
   {
    "duration": 10,
    "start_time": "2022-09-08T17:52:45.340Z"
   },
   {
    "duration": 20,
    "start_time": "2022-09-08T17:52:45.352Z"
   },
   {
    "duration": 13,
    "start_time": "2022-09-08T17:52:45.374Z"
   },
   {
    "duration": 10,
    "start_time": "2022-09-08T17:52:45.389Z"
   },
   {
    "duration": 5,
    "start_time": "2022-09-08T17:52:45.401Z"
   },
   {
    "duration": 6,
    "start_time": "2022-09-08T17:52:45.407Z"
   },
   {
    "duration": 7,
    "start_time": "2022-09-08T17:52:45.423Z"
   },
   {
    "duration": 6,
    "start_time": "2022-09-08T17:52:45.432Z"
   },
   {
    "duration": 5,
    "start_time": "2022-09-08T17:52:45.439Z"
   },
   {
    "duration": 5,
    "start_time": "2022-09-08T17:52:45.446Z"
   },
   {
    "duration": 11,
    "start_time": "2022-09-08T17:52:45.452Z"
   },
   {
    "duration": 23,
    "start_time": "2022-09-08T17:52:45.464Z"
   },
   {
    "duration": 238,
    "start_time": "2022-09-08T17:52:45.489Z"
   },
   {
    "duration": 2850,
    "start_time": "2022-09-08T17:52:45.729Z"
   },
   {
    "duration": 218,
    "start_time": "2022-09-08T17:52:48.581Z"
   },
   {
    "duration": 5,
    "start_time": "2022-09-08T17:52:48.800Z"
   },
   {
    "duration": 16,
    "start_time": "2022-09-08T17:52:48.807Z"
   },
   {
    "duration": 7,
    "start_time": "2022-09-08T17:52:48.824Z"
   },
   {
    "duration": 28,
    "start_time": "2022-09-08T17:52:48.832Z"
   },
   {
    "duration": 16,
    "start_time": "2022-09-08T17:53:39.803Z"
   },
   {
    "duration": 4,
    "start_time": "2022-09-08T17:53:41.289Z"
   },
   {
    "duration": 16,
    "start_time": "2022-09-08T17:53:41.651Z"
   },
   {
    "duration": 5,
    "start_time": "2022-09-08T17:55:06.025Z"
   },
   {
    "duration": 15,
    "start_time": "2022-09-08T17:55:06.170Z"
   },
   {
    "duration": 6,
    "start_time": "2022-09-08T17:55:09.422Z"
   },
   {
    "duration": 3,
    "start_time": "2022-09-08T17:55:09.786Z"
   },
   {
    "duration": 5,
    "start_time": "2022-09-08T17:55:10.202Z"
   },
   {
    "duration": 17,
    "start_time": "2022-09-08T17:55:10.727Z"
   },
   {
    "duration": 5,
    "start_time": "2022-09-08T17:56:08.864Z"
   },
   {
    "duration": 15,
    "start_time": "2022-09-08T17:56:09.144Z"
   },
   {
    "duration": 8,
    "start_time": "2022-09-08T17:56:41.561Z"
   },
   {
    "duration": 7,
    "start_time": "2022-09-08T17:56:43.051Z"
   },
   {
    "duration": 9,
    "start_time": "2022-09-08T17:56:43.484Z"
   },
   {
    "duration": 2070,
    "start_time": "2022-09-08T17:57:35.865Z"
   },
   {
    "duration": 9,
    "start_time": "2022-09-08T17:58:59.616Z"
   },
   {
    "duration": 4,
    "start_time": "2022-09-08T17:59:01.623Z"
   },
   {
    "duration": 10,
    "start_time": "2022-09-08T17:59:01.912Z"
   },
   {
    "duration": 3464,
    "start_time": "2022-09-08T17:59:21.566Z"
   },
   {
    "duration": 4,
    "start_time": "2022-09-08T18:00:05.105Z"
   },
   {
    "duration": 9,
    "start_time": "2022-09-08T18:00:05.485Z"
   },
   {
    "duration": 2044,
    "start_time": "2022-09-08T18:00:05.869Z"
   },
   {
    "duration": 4,
    "start_time": "2022-09-08T18:00:20.613Z"
   },
   {
    "duration": 10,
    "start_time": "2022-09-08T18:00:20.986Z"
   },
   {
    "duration": 3439,
    "start_time": "2022-09-08T18:00:21.436Z"
   },
   {
    "duration": 4,
    "start_time": "2022-09-08T18:00:24.877Z"
   },
   {
    "duration": 3,
    "start_time": "2022-09-08T18:02:02.024Z"
   },
   {
    "duration": 46,
    "start_time": "2022-09-08T18:02:02.029Z"
   },
   {
    "duration": 13,
    "start_time": "2022-09-08T18:02:02.077Z"
   },
   {
    "duration": 14,
    "start_time": "2022-09-08T18:02:02.092Z"
   },
   {
    "duration": 4,
    "start_time": "2022-09-08T18:02:02.108Z"
   },
   {
    "duration": 8,
    "start_time": "2022-09-08T18:02:02.113Z"
   },
   {
    "duration": 12,
    "start_time": "2022-09-08T18:02:02.123Z"
   },
   {
    "duration": 7,
    "start_time": "2022-09-08T18:02:02.136Z"
   },
   {
    "duration": 11,
    "start_time": "2022-09-08T18:02:02.145Z"
   },
   {
    "duration": 16,
    "start_time": "2022-09-08T18:02:02.158Z"
   },
   {
    "duration": 10,
    "start_time": "2022-09-08T18:02:02.177Z"
   },
   {
    "duration": 6,
    "start_time": "2022-09-08T18:02:02.189Z"
   },
   {
    "duration": 8,
    "start_time": "2022-09-08T18:02:02.197Z"
   },
   {
    "duration": 9,
    "start_time": "2022-09-08T18:02:02.222Z"
   },
   {
    "duration": 6,
    "start_time": "2022-09-08T18:02:02.232Z"
   },
   {
    "duration": 12,
    "start_time": "2022-09-08T18:02:02.240Z"
   },
   {
    "duration": 6,
    "start_time": "2022-09-08T18:02:02.253Z"
   },
   {
    "duration": 10,
    "start_time": "2022-09-08T18:02:02.260Z"
   },
   {
    "duration": 22,
    "start_time": "2022-09-08T18:02:02.271Z"
   },
   {
    "duration": 228,
    "start_time": "2022-09-08T18:02:02.295Z"
   },
   {
    "duration": 2782,
    "start_time": "2022-09-08T18:02:02.525Z"
   },
   {
    "duration": 216,
    "start_time": "2022-09-08T18:02:05.309Z"
   },
   {
    "duration": 3,
    "start_time": "2022-09-08T18:02:05.527Z"
   },
   {
    "duration": 13,
    "start_time": "2022-09-08T18:02:05.532Z"
   },
   {
    "duration": 3555,
    "start_time": "2022-09-08T18:02:05.547Z"
   },
   {
    "duration": 4,
    "start_time": "2022-09-08T18:02:09.109Z"
   },
   {
    "duration": 17,
    "start_time": "2022-09-08T18:02:09.115Z"
   },
   {
    "duration": 2033,
    "start_time": "2022-09-08T18:02:09.134Z"
   },
   {
    "duration": 74,
    "start_time": "2022-09-08T18:03:32.067Z"
   },
   {
    "duration": 43,
    "start_time": "2022-09-08T18:05:02.637Z"
   },
   {
    "duration": 43,
    "start_time": "2022-09-08T18:05:11.410Z"
   },
   {
    "duration": 44,
    "start_time": "2022-09-08T18:05:46.208Z"
   },
   {
    "duration": 4,
    "start_time": "2022-09-08T18:05:53.186Z"
   },
   {
    "duration": 40,
    "start_time": "2022-09-08T18:05:53.193Z"
   },
   {
    "duration": 14,
    "start_time": "2022-09-08T18:05:53.234Z"
   },
   {
    "duration": 17,
    "start_time": "2022-09-08T18:05:53.249Z"
   },
   {
    "duration": 5,
    "start_time": "2022-09-08T18:05:53.268Z"
   },
   {
    "duration": 6,
    "start_time": "2022-09-08T18:05:53.275Z"
   },
   {
    "duration": 8,
    "start_time": "2022-09-08T18:05:53.282Z"
   },
   {
    "duration": 6,
    "start_time": "2022-09-08T18:05:53.292Z"
   },
   {
    "duration": 28,
    "start_time": "2022-09-08T18:05:53.299Z"
   },
   {
    "duration": 16,
    "start_time": "2022-09-08T18:05:53.329Z"
   },
   {
    "duration": 22,
    "start_time": "2022-09-08T18:05:53.346Z"
   },
   {
    "duration": 6,
    "start_time": "2022-09-08T18:05:53.370Z"
   },
   {
    "duration": 5,
    "start_time": "2022-09-08T18:05:53.378Z"
   },
   {
    "duration": 9,
    "start_time": "2022-09-08T18:05:53.385Z"
   },
   {
    "duration": 6,
    "start_time": "2022-09-08T18:05:53.396Z"
   },
   {
    "duration": 8,
    "start_time": "2022-09-08T18:05:53.403Z"
   },
   {
    "duration": 9,
    "start_time": "2022-09-08T18:05:53.413Z"
   },
   {
    "duration": 8,
    "start_time": "2022-09-08T18:05:53.423Z"
   },
   {
    "duration": 31,
    "start_time": "2022-09-08T18:05:53.433Z"
   },
   {
    "duration": 260,
    "start_time": "2022-09-08T18:05:53.466Z"
   },
   {
    "duration": 2898,
    "start_time": "2022-09-08T18:05:53.729Z"
   },
   {
    "duration": 215,
    "start_time": "2022-09-08T18:05:56.628Z"
   },
   {
    "duration": 4,
    "start_time": "2022-09-08T18:05:56.844Z"
   },
   {
    "duration": 20,
    "start_time": "2022-09-08T18:05:56.850Z"
   },
   {
    "duration": 3526,
    "start_time": "2022-09-08T18:05:56.871Z"
   },
   {
    "duration": 4,
    "start_time": "2022-09-08T18:06:00.399Z"
   },
   {
    "duration": 26,
    "start_time": "2022-09-08T18:06:00.404Z"
   },
   {
    "duration": 2089,
    "start_time": "2022-09-08T18:06:00.431Z"
   },
   {
    "duration": 48,
    "start_time": "2022-09-08T18:06:02.522Z"
   },
   {
    "duration": 4,
    "start_time": "2022-09-08T18:08:37.996Z"
   },
   {
    "duration": 42,
    "start_time": "2022-09-08T18:08:38.002Z"
   },
   {
    "duration": 13,
    "start_time": "2022-09-08T18:08:38.046Z"
   },
   {
    "duration": 14,
    "start_time": "2022-09-08T18:08:38.060Z"
   },
   {
    "duration": 4,
    "start_time": "2022-09-08T18:08:38.075Z"
   },
   {
    "duration": 7,
    "start_time": "2022-09-08T18:08:38.081Z"
   },
   {
    "duration": 8,
    "start_time": "2022-09-08T18:08:38.090Z"
   },
   {
    "duration": 7,
    "start_time": "2022-09-08T18:08:38.100Z"
   },
   {
    "duration": 16,
    "start_time": "2022-09-08T18:08:38.108Z"
   },
   {
    "duration": 12,
    "start_time": "2022-09-08T18:08:38.125Z"
   },
   {
    "duration": 7,
    "start_time": "2022-09-08T18:08:38.139Z"
   },
   {
    "duration": 4,
    "start_time": "2022-09-08T18:08:38.148Z"
   },
   {
    "duration": 4,
    "start_time": "2022-09-08T18:08:38.154Z"
   },
   {
    "duration": 9,
    "start_time": "2022-09-08T18:08:38.161Z"
   },
   {
    "duration": 7,
    "start_time": "2022-09-08T18:08:38.171Z"
   },
   {
    "duration": 4,
    "start_time": "2022-09-08T18:08:38.179Z"
   },
   {
    "duration": 3,
    "start_time": "2022-09-08T18:08:38.221Z"
   },
   {
    "duration": 12,
    "start_time": "2022-09-08T18:08:38.226Z"
   },
   {
    "duration": 28,
    "start_time": "2022-09-08T18:08:38.239Z"
   },
   {
    "duration": 158,
    "start_time": "2022-09-08T18:08:38.269Z"
   },
   {
    "duration": 2909,
    "start_time": "2022-09-08T18:08:38.432Z"
   },
   {
    "duration": 222,
    "start_time": "2022-09-08T18:08:41.343Z"
   },
   {
    "duration": 4,
    "start_time": "2022-09-08T18:08:41.567Z"
   },
   {
    "duration": 15,
    "start_time": "2022-09-08T18:08:41.573Z"
   },
   {
    "duration": 3484,
    "start_time": "2022-09-08T18:08:41.589Z"
   },
   {
    "duration": 4,
    "start_time": "2022-09-08T18:08:45.075Z"
   },
   {
    "duration": 21,
    "start_time": "2022-09-08T18:08:45.081Z"
   },
   {
    "duration": 2059,
    "start_time": "2022-09-08T18:08:45.104Z"
   },
   {
    "duration": 46,
    "start_time": "2022-09-08T18:08:47.164Z"
   },
   {
    "duration": 46,
    "start_time": "2022-09-08T18:09:55.219Z"
   },
   {
    "duration": 5,
    "start_time": "2022-09-08T18:09:58.086Z"
   },
   {
    "duration": 42,
    "start_time": "2022-09-08T18:09:58.093Z"
   },
   {
    "duration": 12,
    "start_time": "2022-09-08T18:09:58.137Z"
   },
   {
    "duration": 15,
    "start_time": "2022-09-08T18:09:58.151Z"
   },
   {
    "duration": 4,
    "start_time": "2022-09-08T18:09:58.168Z"
   },
   {
    "duration": 10,
    "start_time": "2022-09-08T18:09:58.173Z"
   },
   {
    "duration": 8,
    "start_time": "2022-09-08T18:09:58.184Z"
   },
   {
    "duration": 10,
    "start_time": "2022-09-08T18:09:58.193Z"
   },
   {
    "duration": 22,
    "start_time": "2022-09-08T18:09:58.205Z"
   },
   {
    "duration": 12,
    "start_time": "2022-09-08T18:09:58.228Z"
   },
   {
    "duration": 12,
    "start_time": "2022-09-08T18:09:58.241Z"
   },
   {
    "duration": 5,
    "start_time": "2022-09-08T18:09:58.255Z"
   },
   {
    "duration": 6,
    "start_time": "2022-09-08T18:09:58.261Z"
   },
   {
    "duration": 8,
    "start_time": "2022-09-08T18:09:58.270Z"
   },
   {
    "duration": 6,
    "start_time": "2022-09-08T18:09:58.279Z"
   },
   {
    "duration": 4,
    "start_time": "2022-09-08T18:09:58.286Z"
   },
   {
    "duration": 5,
    "start_time": "2022-09-08T18:09:58.291Z"
   },
   {
    "duration": 7,
    "start_time": "2022-09-08T18:09:58.321Z"
   },
   {
    "duration": 21,
    "start_time": "2022-09-08T18:09:58.329Z"
   },
   {
    "duration": 181,
    "start_time": "2022-09-08T18:09:58.351Z"
   },
   {
    "duration": 2862,
    "start_time": "2022-09-08T18:09:58.623Z"
   },
   {
    "duration": 224,
    "start_time": "2022-09-08T18:10:01.487Z"
   },
   {
    "duration": 4,
    "start_time": "2022-09-08T18:10:01.713Z"
   },
   {
    "duration": 19,
    "start_time": "2022-09-08T18:10:01.721Z"
   },
   {
    "duration": 3603,
    "start_time": "2022-09-08T18:10:01.742Z"
   },
   {
    "duration": 4,
    "start_time": "2022-09-08T18:10:05.347Z"
   },
   {
    "duration": 14,
    "start_time": "2022-09-08T18:10:05.352Z"
   },
   {
    "duration": 2071,
    "start_time": "2022-09-08T18:10:05.367Z"
   },
   {
    "duration": 62,
    "start_time": "2022-09-08T18:10:07.440Z"
   },
   {
    "duration": 4,
    "start_time": "2022-09-08T18:11:00.817Z"
   },
   {
    "duration": 7,
    "start_time": "2022-09-09T08:19:16.442Z"
   },
   {
    "duration": 40,
    "start_time": "2022-09-09T08:19:23.309Z"
   },
   {
    "duration": 1021,
    "start_time": "2022-09-09T08:19:27.879Z"
   },
   {
    "duration": 362,
    "start_time": "2022-09-09T08:19:28.902Z"
   },
   {
    "duration": 17,
    "start_time": "2022-09-09T08:19:29.266Z"
   },
   {
    "duration": 13,
    "start_time": "2022-09-09T08:19:29.285Z"
   },
   {
    "duration": 4,
    "start_time": "2022-09-09T08:19:29.299Z"
   },
   {
    "duration": 5,
    "start_time": "2022-09-09T08:19:29.304Z"
   },
   {
    "duration": 6,
    "start_time": "2022-09-09T08:19:29.310Z"
   },
   {
    "duration": 4,
    "start_time": "2022-09-09T08:19:29.317Z"
   },
   {
    "duration": 9,
    "start_time": "2022-09-09T08:19:29.322Z"
   },
   {
    "duration": 25,
    "start_time": "2022-09-09T08:19:29.333Z"
   },
   {
    "duration": 6,
    "start_time": "2022-09-09T08:19:29.359Z"
   },
   {
    "duration": 3,
    "start_time": "2022-09-09T08:19:29.367Z"
   },
   {
    "duration": 6,
    "start_time": "2022-09-09T08:19:29.371Z"
   },
   {
    "duration": 9,
    "start_time": "2022-09-09T08:19:29.379Z"
   },
   {
    "duration": 6,
    "start_time": "2022-09-09T08:19:29.390Z"
   },
   {
    "duration": 3,
    "start_time": "2022-09-09T08:19:29.397Z"
   },
   {
    "duration": 5,
    "start_time": "2022-09-09T08:19:29.401Z"
   },
   {
    "duration": 10,
    "start_time": "2022-09-09T08:19:29.407Z"
   },
   {
    "duration": 50,
    "start_time": "2022-09-09T08:19:29.418Z"
   },
   {
    "duration": 316,
    "start_time": "2022-09-09T08:19:29.470Z"
   },
   {
    "duration": 0,
    "start_time": "2022-09-09T08:19:29.787Z"
   },
   {
    "duration": 0,
    "start_time": "2022-09-09T08:19:29.788Z"
   },
   {
    "duration": 0,
    "start_time": "2022-09-09T08:19:29.789Z"
   },
   {
    "duration": 0,
    "start_time": "2022-09-09T08:19:29.790Z"
   },
   {
    "duration": 0,
    "start_time": "2022-09-09T08:19:29.791Z"
   },
   {
    "duration": 0,
    "start_time": "2022-09-09T08:19:29.792Z"
   },
   {
    "duration": 0,
    "start_time": "2022-09-09T08:19:29.792Z"
   },
   {
    "duration": 0,
    "start_time": "2022-09-09T08:19:29.793Z"
   },
   {
    "duration": 0,
    "start_time": "2022-09-09T08:19:29.794Z"
   },
   {
    "duration": 3,
    "start_time": "2022-09-09T08:19:35.865Z"
   },
   {
    "duration": 41,
    "start_time": "2022-09-09T08:19:35.869Z"
   },
   {
    "duration": 12,
    "start_time": "2022-09-09T08:19:35.912Z"
   },
   {
    "duration": 12,
    "start_time": "2022-09-09T08:19:35.926Z"
   },
   {
    "duration": 4,
    "start_time": "2022-09-09T08:19:35.940Z"
   },
   {
    "duration": 8,
    "start_time": "2022-09-09T08:19:35.945Z"
   },
   {
    "duration": 9,
    "start_time": "2022-09-09T08:19:35.955Z"
   },
   {
    "duration": 7,
    "start_time": "2022-09-09T08:19:35.965Z"
   },
   {
    "duration": 8,
    "start_time": "2022-09-09T08:19:35.973Z"
   },
   {
    "duration": 15,
    "start_time": "2022-09-09T08:19:35.982Z"
   },
   {
    "duration": 9,
    "start_time": "2022-09-09T08:19:35.998Z"
   },
   {
    "duration": 4,
    "start_time": "2022-09-09T08:19:36.008Z"
   },
   {
    "duration": 6,
    "start_time": "2022-09-09T08:19:36.014Z"
   },
   {
    "duration": 9,
    "start_time": "2022-09-09T08:19:36.022Z"
   },
   {
    "duration": 25,
    "start_time": "2022-09-09T08:19:36.032Z"
   },
   {
    "duration": 3,
    "start_time": "2022-09-09T08:19:36.058Z"
   },
   {
    "duration": 4,
    "start_time": "2022-09-09T08:19:36.062Z"
   },
   {
    "duration": 11,
    "start_time": "2022-09-09T08:19:36.068Z"
   },
   {
    "duration": 25,
    "start_time": "2022-09-09T08:19:36.081Z"
   },
   {
    "duration": 153,
    "start_time": "2022-09-09T08:19:36.107Z"
   },
   {
    "duration": 0,
    "start_time": "2022-09-09T08:19:36.262Z"
   },
   {
    "duration": 0,
    "start_time": "2022-09-09T08:19:36.263Z"
   },
   {
    "duration": 0,
    "start_time": "2022-09-09T08:19:36.354Z"
   },
   {
    "duration": 0,
    "start_time": "2022-09-09T08:19:36.355Z"
   },
   {
    "duration": 0,
    "start_time": "2022-09-09T08:19:36.356Z"
   },
   {
    "duration": 0,
    "start_time": "2022-09-09T08:19:36.358Z"
   },
   {
    "duration": 0,
    "start_time": "2022-09-09T08:19:36.358Z"
   },
   {
    "duration": 0,
    "start_time": "2022-09-09T08:19:36.359Z"
   },
   {
    "duration": 0,
    "start_time": "2022-09-09T08:19:36.360Z"
   },
   {
    "duration": 50,
    "start_time": "2022-09-09T08:19:45.913Z"
   },
   {
    "duration": 41,
    "start_time": "2022-09-09T08:19:57.720Z"
   },
   {
    "duration": 46,
    "start_time": "2022-09-09T08:21:48.473Z"
   },
   {
    "duration": 3,
    "start_time": "2022-09-09T08:22:07.655Z"
   },
   {
    "duration": 37,
    "start_time": "2022-09-09T08:22:08.137Z"
   },
   {
    "duration": 4,
    "start_time": "2022-09-09T08:22:11.340Z"
   },
   {
    "duration": 43,
    "start_time": "2022-09-09T08:22:11.345Z"
   },
   {
    "duration": 13,
    "start_time": "2022-09-09T08:22:11.390Z"
   },
   {
    "duration": 13,
    "start_time": "2022-09-09T08:22:11.404Z"
   },
   {
    "duration": 4,
    "start_time": "2022-09-09T08:22:11.419Z"
   },
   {
    "duration": 4,
    "start_time": "2022-09-09T08:22:11.425Z"
   },
   {
    "duration": 7,
    "start_time": "2022-09-09T08:22:11.431Z"
   },
   {
    "duration": 6,
    "start_time": "2022-09-09T08:22:11.439Z"
   },
   {
    "duration": 9,
    "start_time": "2022-09-09T08:22:11.446Z"
   },
   {
    "duration": 11,
    "start_time": "2022-09-09T08:22:11.457Z"
   },
   {
    "duration": 6,
    "start_time": "2022-09-09T08:22:11.469Z"
   },
   {
    "duration": 4,
    "start_time": "2022-09-09T08:22:11.477Z"
   },
   {
    "duration": 10,
    "start_time": "2022-09-09T08:22:11.483Z"
   },
   {
    "duration": 8,
    "start_time": "2022-09-09T08:22:11.495Z"
   },
   {
    "duration": 5,
    "start_time": "2022-09-09T08:22:11.504Z"
   },
   {
    "duration": 3,
    "start_time": "2022-09-09T08:22:11.511Z"
   },
   {
    "duration": 3,
    "start_time": "2022-09-09T08:22:11.516Z"
   },
   {
    "duration": 10,
    "start_time": "2022-09-09T08:22:11.521Z"
   },
   {
    "duration": 43,
    "start_time": "2022-09-09T08:22:11.533Z"
   },
   {
    "duration": 177,
    "start_time": "2022-09-09T08:22:11.578Z"
   },
   {
    "duration": 0,
    "start_time": "2022-09-09T08:22:11.757Z"
   },
   {
    "duration": 0,
    "start_time": "2022-09-09T08:22:11.758Z"
   },
   {
    "duration": 0,
    "start_time": "2022-09-09T08:22:11.759Z"
   },
   {
    "duration": 0,
    "start_time": "2022-09-09T08:22:11.759Z"
   },
   {
    "duration": 0,
    "start_time": "2022-09-09T08:22:11.760Z"
   },
   {
    "duration": 0,
    "start_time": "2022-09-09T08:22:11.760Z"
   },
   {
    "duration": 0,
    "start_time": "2022-09-09T08:22:11.761Z"
   },
   {
    "duration": 0,
    "start_time": "2022-09-09T08:22:11.762Z"
   },
   {
    "duration": 0,
    "start_time": "2022-09-09T08:22:11.762Z"
   },
   {
    "duration": 46,
    "start_time": "2022-09-09T08:22:16.140Z"
   },
   {
    "duration": 41,
    "start_time": "2022-09-09T08:23:29.176Z"
   },
   {
    "duration": 43,
    "start_time": "2022-09-09T08:24:25.762Z"
   },
   {
    "duration": 8,
    "start_time": "2022-09-09T08:25:46.417Z"
   },
   {
    "duration": 4,
    "start_time": "2022-09-09T08:26:13.743Z"
   },
   {
    "duration": 10,
    "start_time": "2022-09-09T08:26:18.449Z"
   },
   {
    "duration": 478,
    "start_time": "2022-09-09T08:26:42.891Z"
   },
   {
    "duration": 146,
    "start_time": "2022-09-09T08:26:47.456Z"
   },
   {
    "duration": 103,
    "start_time": "2022-09-09T08:27:31.322Z"
   },
   {
    "duration": 25,
    "start_time": "2022-09-09T08:28:17.359Z"
   },
   {
    "duration": 10,
    "start_time": "2022-09-09T08:29:04.538Z"
   },
   {
    "duration": 9,
    "start_time": "2022-09-09T08:29:09.741Z"
   },
   {
    "duration": 15,
    "start_time": "2022-09-09T08:29:14.620Z"
   },
   {
    "duration": 109,
    "start_time": "2022-09-09T08:29:20.747Z"
   },
   {
    "duration": 45,
    "start_time": "2022-09-09T08:32:30.939Z"
   },
   {
    "duration": 113,
    "start_time": "2022-09-09T08:32:31.254Z"
   },
   {
    "duration": 11,
    "start_time": "2022-09-09T08:34:09.655Z"
   },
   {
    "duration": 4,
    "start_time": "2022-09-09T08:34:15.297Z"
   },
   {
    "duration": 11,
    "start_time": "2022-09-09T08:34:15.668Z"
   },
   {
    "duration": 2338,
    "start_time": "2022-09-09T08:34:16.111Z"
   },
   {
    "duration": 11,
    "start_time": "2022-09-09T08:35:01.063Z"
   },
   {
    "duration": 4,
    "start_time": "2022-09-09T08:35:05.022Z"
   },
   {
    "duration": 11,
    "start_time": "2022-09-09T08:35:05.304Z"
   },
   {
    "duration": 3669,
    "start_time": "2022-09-09T08:35:05.694Z"
   },
   {
    "duration": 233,
    "start_time": "2022-09-09T08:36:10.067Z"
   },
   {
    "duration": 226,
    "start_time": "2022-09-09T08:36:22.442Z"
   },
   {
    "duration": 4,
    "start_time": "2022-09-09T08:36:30.306Z"
   },
   {
    "duration": 51,
    "start_time": "2022-09-09T08:36:30.312Z"
   },
   {
    "duration": 14,
    "start_time": "2022-09-09T08:36:30.364Z"
   },
   {
    "duration": 19,
    "start_time": "2022-09-09T08:36:30.380Z"
   },
   {
    "duration": 15,
    "start_time": "2022-09-09T08:36:30.401Z"
   },
   {
    "duration": 18,
    "start_time": "2022-09-09T08:36:30.418Z"
   },
   {
    "duration": 17,
    "start_time": "2022-09-09T08:36:30.437Z"
   },
   {
    "duration": 19,
    "start_time": "2022-09-09T08:36:30.456Z"
   },
   {
    "duration": 12,
    "start_time": "2022-09-09T08:36:30.477Z"
   },
   {
    "duration": 12,
    "start_time": "2022-09-09T08:36:30.491Z"
   },
   {
    "duration": 10,
    "start_time": "2022-09-09T08:36:30.505Z"
   },
   {
    "duration": 8,
    "start_time": "2022-09-09T08:36:30.516Z"
   },
   {
    "duration": 11,
    "start_time": "2022-09-09T08:36:30.525Z"
   },
   {
    "duration": 8,
    "start_time": "2022-09-09T08:36:30.538Z"
   },
   {
    "duration": 28,
    "start_time": "2022-09-09T08:36:30.548Z"
   },
   {
    "duration": 11,
    "start_time": "2022-09-09T08:36:30.578Z"
   },
   {
    "duration": 20,
    "start_time": "2022-09-09T08:36:30.590Z"
   },
   {
    "duration": 20,
    "start_time": "2022-09-09T08:36:30.611Z"
   },
   {
    "duration": 31,
    "start_time": "2022-09-09T08:36:30.633Z"
   },
   {
    "duration": 94,
    "start_time": "2022-09-09T08:36:30.666Z"
   },
   {
    "duration": 0,
    "start_time": "2022-09-09T08:36:30.762Z"
   },
   {
    "duration": 0,
    "start_time": "2022-09-09T08:36:30.763Z"
   },
   {
    "duration": 0,
    "start_time": "2022-09-09T08:36:30.764Z"
   },
   {
    "duration": 0,
    "start_time": "2022-09-09T08:36:30.855Z"
   },
   {
    "duration": 0,
    "start_time": "2022-09-09T08:36:30.856Z"
   },
   {
    "duration": 0,
    "start_time": "2022-09-09T08:36:30.857Z"
   },
   {
    "duration": 0,
    "start_time": "2022-09-09T08:36:30.858Z"
   },
   {
    "duration": 0,
    "start_time": "2022-09-09T08:36:30.860Z"
   },
   {
    "duration": 0,
    "start_time": "2022-09-09T08:36:30.860Z"
   },
   {
    "duration": 73,
    "start_time": "2022-09-09T08:40:54.254Z"
   },
   {
    "duration": 152,
    "start_time": "2022-09-09T08:41:05.427Z"
   },
   {
    "duration": 80,
    "start_time": "2022-09-09T08:41:14.984Z"
   },
   {
    "duration": 83,
    "start_time": "2022-09-09T08:41:34.975Z"
   },
   {
    "duration": 17,
    "start_time": "2022-09-09T08:43:32.759Z"
   },
   {
    "duration": 20,
    "start_time": "2022-09-09T08:43:46.741Z"
   },
   {
    "duration": 2584,
    "start_time": "2022-09-09T08:44:03.638Z"
   },
   {
    "duration": 2690,
    "start_time": "2022-09-09T08:44:20.872Z"
   },
   {
    "duration": 22,
    "start_time": "2022-09-09T08:44:51.746Z"
   },
   {
    "duration": 19,
    "start_time": "2022-09-09T08:44:59.840Z"
   },
   {
    "duration": 2795,
    "start_time": "2022-09-09T08:45:06.457Z"
   },
   {
    "duration": 29,
    "start_time": "2022-09-09T08:45:40.903Z"
   },
   {
    "duration": 228,
    "start_time": "2022-09-09T08:46:30.351Z"
   },
   {
    "duration": 2680,
    "start_time": "2022-09-09T08:46:56.044Z"
   },
   {
    "duration": 2568,
    "start_time": "2022-09-09T08:47:05.038Z"
   },
   {
    "duration": 198,
    "start_time": "2022-09-09T08:47:22.737Z"
   },
   {
    "duration": 2488,
    "start_time": "2022-09-09T08:47:32.640Z"
   },
   {
    "duration": 202,
    "start_time": "2022-09-09T08:47:35.130Z"
   },
   {
    "duration": 2188,
    "start_time": "2022-09-09T08:47:49.755Z"
   },
   {
    "duration": 42,
    "start_time": "2022-09-09T08:47:54.342Z"
   },
   {
    "duration": 4,
    "start_time": "2022-09-09T08:49:34.591Z"
   },
   {
    "duration": 18,
    "start_time": "2022-09-09T08:49:39.600Z"
   },
   {
    "duration": 4,
    "start_time": "2022-09-09T08:49:43.221Z"
   },
   {
    "duration": 44,
    "start_time": "2022-09-09T08:49:43.226Z"
   },
   {
    "duration": 13,
    "start_time": "2022-09-09T08:49:43.271Z"
   },
   {
    "duration": 12,
    "start_time": "2022-09-09T08:49:43.285Z"
   },
   {
    "duration": 3,
    "start_time": "2022-09-09T08:49:43.299Z"
   },
   {
    "duration": 7,
    "start_time": "2022-09-09T08:49:43.304Z"
   },
   {
    "duration": 10,
    "start_time": "2022-09-09T08:49:43.313Z"
   },
   {
    "duration": 6,
    "start_time": "2022-09-09T08:49:43.324Z"
   },
   {
    "duration": 24,
    "start_time": "2022-09-09T08:49:43.331Z"
   },
   {
    "duration": 11,
    "start_time": "2022-09-09T08:49:43.356Z"
   },
   {
    "duration": 6,
    "start_time": "2022-09-09T08:49:43.368Z"
   },
   {
    "duration": 7,
    "start_time": "2022-09-09T08:49:43.375Z"
   },
   {
    "duration": 5,
    "start_time": "2022-09-09T08:49:43.383Z"
   },
   {
    "duration": 7,
    "start_time": "2022-09-09T08:49:43.390Z"
   },
   {
    "duration": 5,
    "start_time": "2022-09-09T08:49:43.399Z"
   },
   {
    "duration": 4,
    "start_time": "2022-09-09T08:49:43.405Z"
   },
   {
    "duration": 5,
    "start_time": "2022-09-09T08:49:43.410Z"
   },
   {
    "duration": 8,
    "start_time": "2022-09-09T08:49:43.416Z"
   },
   {
    "duration": 45,
    "start_time": "2022-09-09T08:49:43.426Z"
   },
   {
    "duration": 184,
    "start_time": "2022-09-09T08:49:43.472Z"
   },
   {
    "duration": 2594,
    "start_time": "2022-09-09T08:49:43.658Z"
   },
   {
    "duration": 200,
    "start_time": "2022-09-09T08:49:46.255Z"
   },
   {
    "duration": 3,
    "start_time": "2022-09-09T08:49:46.456Z"
   },
   {
    "duration": 12,
    "start_time": "2022-09-09T08:49:46.461Z"
   },
   {
    "duration": 3650,
    "start_time": "2022-09-09T08:49:46.474Z"
   },
   {
    "duration": 4,
    "start_time": "2022-09-09T08:49:50.126Z"
   },
   {
    "duration": 13,
    "start_time": "2022-09-09T08:49:50.132Z"
   },
   {
    "duration": 2195,
    "start_time": "2022-09-09T08:49:50.147Z"
   },
   {
    "duration": 49,
    "start_time": "2022-09-09T08:49:52.344Z"
   },
   {
    "duration": 5,
    "start_time": "2022-09-09T08:52:16.537Z"
   },
   {
    "duration": 4,
    "start_time": "2022-09-09T08:52:31.052Z"
   },
   {
    "duration": 10,
    "start_time": "2022-09-09T08:52:31.513Z"
   },
   {
    "duration": 3745,
    "start_time": "2022-09-09T08:52:34.923Z"
   },
   {
    "duration": 5,
    "start_time": "2022-09-09T08:52:38.670Z"
   },
   {
    "duration": 6,
    "start_time": "2022-09-09T08:52:46.832Z"
   },
   {
    "duration": 5,
    "start_time": "2022-09-09T08:53:15.267Z"
   },
   {
    "duration": 7,
    "start_time": "2022-09-09T08:54:31.475Z"
   },
   {
    "duration": 41,
    "start_time": "2022-09-09T08:54:50.783Z"
   },
   {
    "duration": 44,
    "start_time": "2022-09-09T09:02:03.951Z"
   },
   {
    "duration": 44,
    "start_time": "2022-09-09T09:02:09.446Z"
   },
   {
    "duration": 47,
    "start_time": "2022-09-09T09:02:14.885Z"
   },
   {
    "duration": 8,
    "start_time": "2022-09-09T09:09:17.254Z"
   },
   {
    "duration": 4,
    "start_time": "2022-09-09T09:10:15.884Z"
   },
   {
    "duration": 45,
    "start_time": "2022-09-09T09:19:50.089Z"
   },
   {
    "duration": 50,
    "start_time": "2022-09-09T09:20:55.790Z"
   },
   {
    "duration": 4,
    "start_time": "2022-09-09T09:21:41.937Z"
   },
   {
    "duration": 45,
    "start_time": "2022-09-09T09:21:41.943Z"
   },
   {
    "duration": 13,
    "start_time": "2022-09-09T09:21:41.989Z"
   },
   {
    "duration": 15,
    "start_time": "2022-09-09T09:21:42.003Z"
   },
   {
    "duration": 3,
    "start_time": "2022-09-09T09:21:42.020Z"
   },
   {
    "duration": 6,
    "start_time": "2022-09-09T09:21:42.025Z"
   },
   {
    "duration": 7,
    "start_time": "2022-09-09T09:21:42.032Z"
   },
   {
    "duration": 6,
    "start_time": "2022-09-09T09:21:42.041Z"
   },
   {
    "duration": 8,
    "start_time": "2022-09-09T09:21:42.048Z"
   },
   {
    "duration": 11,
    "start_time": "2022-09-09T09:21:42.058Z"
   },
   {
    "duration": 5,
    "start_time": "2022-09-09T09:21:42.071Z"
   },
   {
    "duration": 3,
    "start_time": "2022-09-09T09:21:42.078Z"
   },
   {
    "duration": 6,
    "start_time": "2022-09-09T09:21:42.082Z"
   },
   {
    "duration": 7,
    "start_time": "2022-09-09T09:21:42.091Z"
   },
   {
    "duration": 6,
    "start_time": "2022-09-09T09:21:42.099Z"
   },
   {
    "duration": 4,
    "start_time": "2022-09-09T09:21:42.106Z"
   },
   {
    "duration": 5,
    "start_time": "2022-09-09T09:21:42.111Z"
   },
   {
    "duration": 8,
    "start_time": "2022-09-09T09:21:42.117Z"
   },
   {
    "duration": 49,
    "start_time": "2022-09-09T09:21:42.126Z"
   },
   {
    "duration": 89,
    "start_time": "2022-09-09T09:21:42.177Z"
   },
   {
    "duration": 2678,
    "start_time": "2022-09-09T09:21:42.268Z"
   },
   {
    "duration": 206,
    "start_time": "2022-09-09T09:21:44.947Z"
   },
   {
    "duration": 4,
    "start_time": "2022-09-09T09:21:45.155Z"
   },
   {
    "duration": 13,
    "start_time": "2022-09-09T09:21:45.160Z"
   },
   {
    "duration": 3681,
    "start_time": "2022-09-09T09:21:45.174Z"
   },
   {
    "duration": 3,
    "start_time": "2022-09-09T09:21:48.856Z"
   },
   {
    "duration": 15,
    "start_time": "2022-09-09T09:21:48.861Z"
   },
   {
    "duration": 2201,
    "start_time": "2022-09-09T09:21:48.877Z"
   },
   {
    "duration": 6,
    "start_time": "2022-09-09T09:21:51.080Z"
   },
   {
    "duration": 6,
    "start_time": "2022-09-09T09:21:51.087Z"
   },
   {
    "duration": 62,
    "start_time": "2022-09-09T09:21:51.095Z"
   },
   {
    "duration": 4,
    "start_time": "2022-09-09T09:22:47.737Z"
   },
   {
    "duration": 43,
    "start_time": "2022-09-09T09:22:47.743Z"
   },
   {
    "duration": 14,
    "start_time": "2022-09-09T09:22:47.788Z"
   },
   {
    "duration": 12,
    "start_time": "2022-09-09T09:22:47.803Z"
   },
   {
    "duration": 4,
    "start_time": "2022-09-09T09:22:47.817Z"
   },
   {
    "duration": 4,
    "start_time": "2022-09-09T09:22:47.822Z"
   },
   {
    "duration": 7,
    "start_time": "2022-09-09T09:22:47.827Z"
   },
   {
    "duration": 5,
    "start_time": "2022-09-09T09:22:47.835Z"
   },
   {
    "duration": 15,
    "start_time": "2022-09-09T09:22:47.841Z"
   },
   {
    "duration": 11,
    "start_time": "2022-09-09T09:22:47.857Z"
   },
   {
    "duration": 6,
    "start_time": "2022-09-09T09:22:47.869Z"
   },
   {
    "duration": 4,
    "start_time": "2022-09-09T09:22:47.876Z"
   },
   {
    "duration": 5,
    "start_time": "2022-09-09T09:22:47.881Z"
   },
   {
    "duration": 7,
    "start_time": "2022-09-09T09:22:47.888Z"
   },
   {
    "duration": 5,
    "start_time": "2022-09-09T09:22:47.897Z"
   },
   {
    "duration": 5,
    "start_time": "2022-09-09T09:22:47.903Z"
   },
   {
    "duration": 4,
    "start_time": "2022-09-09T09:22:47.910Z"
   },
   {
    "duration": 9,
    "start_time": "2022-09-09T09:22:47.915Z"
   },
   {
    "duration": 45,
    "start_time": "2022-09-09T09:22:47.925Z"
   },
   {
    "duration": 92,
    "start_time": "2022-09-09T09:22:47.972Z"
   },
   {
    "duration": 2711,
    "start_time": "2022-09-09T09:22:48.066Z"
   },
   {
    "duration": 197,
    "start_time": "2022-09-09T09:22:50.778Z"
   },
   {
    "duration": 3,
    "start_time": "2022-09-09T09:22:50.976Z"
   },
   {
    "duration": 12,
    "start_time": "2022-09-09T09:22:50.981Z"
   },
   {
    "duration": 3550,
    "start_time": "2022-09-09T09:22:50.994Z"
   },
   {
    "duration": 9,
    "start_time": "2022-09-09T09:22:54.546Z"
   },
   {
    "duration": 14,
    "start_time": "2022-09-09T09:22:54.557Z"
   },
   {
    "duration": 2236,
    "start_time": "2022-09-09T09:22:54.572Z"
   },
   {
    "duration": 8,
    "start_time": "2022-09-09T09:22:56.810Z"
   },
   {
    "duration": 6,
    "start_time": "2022-09-09T09:22:56.820Z"
   },
   {
    "duration": 61,
    "start_time": "2022-09-09T09:22:56.828Z"
   },
   {
    "duration": 4,
    "start_time": "2022-09-09T09:29:12.383Z"
   },
   {
    "duration": 43,
    "start_time": "2022-09-09T09:29:12.389Z"
   },
   {
    "duration": 13,
    "start_time": "2022-09-09T09:29:12.433Z"
   },
   {
    "duration": 12,
    "start_time": "2022-09-09T09:29:12.447Z"
   },
   {
    "duration": 3,
    "start_time": "2022-09-09T09:29:12.461Z"
   },
   {
    "duration": 5,
    "start_time": "2022-09-09T09:29:12.465Z"
   },
   {
    "duration": 5,
    "start_time": "2022-09-09T09:29:12.472Z"
   },
   {
    "duration": 6,
    "start_time": "2022-09-09T09:29:12.479Z"
   },
   {
    "duration": 7,
    "start_time": "2022-09-09T09:29:12.486Z"
   },
   {
    "duration": 10,
    "start_time": "2022-09-09T09:29:12.495Z"
   },
   {
    "duration": 6,
    "start_time": "2022-09-09T09:29:12.506Z"
   },
   {
    "duration": 4,
    "start_time": "2022-09-09T09:29:12.513Z"
   },
   {
    "duration": 4,
    "start_time": "2022-09-09T09:29:12.519Z"
   },
   {
    "duration": 33,
    "start_time": "2022-09-09T09:29:12.526Z"
   },
   {
    "duration": 5,
    "start_time": "2022-09-09T09:29:12.561Z"
   },
   {
    "duration": 5,
    "start_time": "2022-09-09T09:29:12.567Z"
   },
   {
    "duration": 4,
    "start_time": "2022-09-09T09:29:12.574Z"
   },
   {
    "duration": 9,
    "start_time": "2022-09-09T09:29:12.579Z"
   },
   {
    "duration": 21,
    "start_time": "2022-09-09T09:29:12.589Z"
   },
   {
    "duration": 153,
    "start_time": "2022-09-09T09:29:12.611Z"
   },
   {
    "duration": 2677,
    "start_time": "2022-09-09T09:29:12.765Z"
   },
   {
    "duration": 203,
    "start_time": "2022-09-09T09:29:15.444Z"
   },
   {
    "duration": 7,
    "start_time": "2022-09-09T09:29:15.648Z"
   },
   {
    "duration": 16,
    "start_time": "2022-09-09T09:29:15.656Z"
   },
   {
    "duration": 3735,
    "start_time": "2022-09-09T09:29:15.674Z"
   },
   {
    "duration": 4,
    "start_time": "2022-09-09T09:29:19.410Z"
   },
   {
    "duration": 13,
    "start_time": "2022-09-09T09:29:19.415Z"
   },
   {
    "duration": 2243,
    "start_time": "2022-09-09T09:29:19.430Z"
   },
   {
    "duration": 6,
    "start_time": "2022-09-09T09:29:21.675Z"
   },
   {
    "duration": 6,
    "start_time": "2022-09-09T09:29:21.682Z"
   },
   {
    "duration": 51,
    "start_time": "2022-09-09T09:29:21.689Z"
   },
   {
    "duration": 10,
    "start_time": "2022-09-09T09:31:55.850Z"
   },
   {
    "duration": 9,
    "start_time": "2022-09-09T09:31:58.842Z"
   },
   {
    "duration": 61,
    "start_time": "2022-09-09T09:31:59.443Z"
   },
   {
    "duration": 62,
    "start_time": "2022-09-09T09:32:19.409Z"
   },
   {
    "duration": 60,
    "start_time": "2022-09-09T09:32:30.054Z"
   },
   {
    "duration": 12,
    "start_time": "2022-09-09T09:32:55.705Z"
   },
   {
    "duration": 64,
    "start_time": "2022-09-09T09:32:56.055Z"
   },
   {
    "duration": 55,
    "start_time": "2022-09-09T09:34:15.040Z"
   },
   {
    "duration": 53,
    "start_time": "2022-09-09T09:34:23.920Z"
   },
   {
    "duration": 4,
    "start_time": "2022-09-09T09:35:23.441Z"
   },
   {
    "duration": 52,
    "start_time": "2022-09-09T09:35:23.448Z"
   },
   {
    "duration": 19,
    "start_time": "2022-09-09T09:35:23.502Z"
   },
   {
    "duration": 17,
    "start_time": "2022-09-09T09:35:23.523Z"
   },
   {
    "duration": 5,
    "start_time": "2022-09-09T09:35:23.542Z"
   },
   {
    "duration": 7,
    "start_time": "2022-09-09T09:35:23.548Z"
   },
   {
    "duration": 15,
    "start_time": "2022-09-09T09:35:23.557Z"
   },
   {
    "duration": 21,
    "start_time": "2022-09-09T09:35:23.573Z"
   },
   {
    "duration": 29,
    "start_time": "2022-09-09T09:35:23.595Z"
   },
   {
    "duration": 39,
    "start_time": "2022-09-09T09:35:23.625Z"
   },
   {
    "duration": 14,
    "start_time": "2022-09-09T09:35:23.666Z"
   },
   {
    "duration": 34,
    "start_time": "2022-09-09T09:35:23.682Z"
   },
   {
    "duration": 11,
    "start_time": "2022-09-09T09:35:23.718Z"
   },
   {
    "duration": 25,
    "start_time": "2022-09-09T09:35:23.731Z"
   },
   {
    "duration": 22,
    "start_time": "2022-09-09T09:35:23.758Z"
   },
   {
    "duration": 21,
    "start_time": "2022-09-09T09:35:23.782Z"
   },
   {
    "duration": 14,
    "start_time": "2022-09-09T09:35:23.804Z"
   },
   {
    "duration": 27,
    "start_time": "2022-09-09T09:35:23.819Z"
   },
   {
    "duration": 34,
    "start_time": "2022-09-09T09:35:23.848Z"
   },
   {
    "duration": 777,
    "start_time": "2022-09-09T09:35:23.884Z"
   },
   {
    "duration": 2761,
    "start_time": "2022-09-09T09:35:24.663Z"
   },
   {
    "duration": 232,
    "start_time": "2022-09-09T09:35:27.426Z"
   },
   {
    "duration": 4,
    "start_time": "2022-09-09T09:35:27.659Z"
   },
   {
    "duration": 14,
    "start_time": "2022-09-09T09:35:27.665Z"
   },
   {
    "duration": 3882,
    "start_time": "2022-09-09T09:35:27.681Z"
   },
   {
    "duration": 5,
    "start_time": "2022-09-09T09:35:31.564Z"
   },
   {
    "duration": 12,
    "start_time": "2022-09-09T09:35:31.571Z"
   },
   {
    "duration": 2512,
    "start_time": "2022-09-09T09:35:31.585Z"
   },
   {
    "duration": 10,
    "start_time": "2022-09-09T09:35:34.099Z"
   },
   {
    "duration": 45,
    "start_time": "2022-09-09T09:35:34.111Z"
   },
   {
    "duration": 65,
    "start_time": "2022-09-09T09:35:34.158Z"
   },
   {
    "duration": 2119,
    "start_time": "2022-09-09T21:32:40.297Z"
   },
   {
    "duration": 182,
    "start_time": "2022-09-09T21:32:42.419Z"
   },
   {
    "duration": 19,
    "start_time": "2022-09-09T21:32:42.603Z"
   },
   {
    "duration": 14,
    "start_time": "2022-09-09T21:32:42.624Z"
   },
   {
    "duration": 7,
    "start_time": "2022-09-09T21:32:42.639Z"
   },
   {
    "duration": 6,
    "start_time": "2022-09-09T21:32:42.647Z"
   },
   {
    "duration": 8,
    "start_time": "2022-09-09T21:32:42.654Z"
   },
   {
    "duration": 16,
    "start_time": "2022-09-09T21:32:42.663Z"
   },
   {
    "duration": 12,
    "start_time": "2022-09-09T21:32:42.681Z"
   },
   {
    "duration": 13,
    "start_time": "2022-09-09T21:32:42.696Z"
   },
   {
    "duration": 7,
    "start_time": "2022-09-09T21:32:42.711Z"
   },
   {
    "duration": 5,
    "start_time": "2022-09-09T21:32:42.719Z"
   },
   {
    "duration": 6,
    "start_time": "2022-09-09T21:32:42.726Z"
   },
   {
    "duration": 12,
    "start_time": "2022-09-09T21:32:42.733Z"
   },
   {
    "duration": 33,
    "start_time": "2022-09-09T21:32:42.746Z"
   },
   {
    "duration": 6,
    "start_time": "2022-09-09T21:32:42.783Z"
   },
   {
    "duration": 4,
    "start_time": "2022-09-09T21:32:42.791Z"
   },
   {
    "duration": 22,
    "start_time": "2022-09-09T21:32:42.796Z"
   },
   {
    "duration": 44,
    "start_time": "2022-09-09T21:32:42.819Z"
   },
   {
    "duration": 306,
    "start_time": "2022-09-09T21:32:42.865Z"
   },
   {
    "duration": 3100,
    "start_time": "2022-09-09T21:32:43.176Z"
   },
   {
    "duration": 257,
    "start_time": "2022-09-09T21:32:46.278Z"
   },
   {
    "duration": 5,
    "start_time": "2022-09-09T21:32:46.538Z"
   },
   {
    "duration": 27,
    "start_time": "2022-09-09T21:32:46.545Z"
   },
   {
    "duration": 4231,
    "start_time": "2022-09-09T21:32:46.574Z"
   },
   {
    "duration": 4,
    "start_time": "2022-09-09T21:32:50.807Z"
   },
   {
    "duration": 23,
    "start_time": "2022-09-09T21:32:50.812Z"
   },
   {
    "duration": 2490,
    "start_time": "2022-09-09T21:32:50.838Z"
   },
   {
    "duration": 7,
    "start_time": "2022-09-09T21:32:53.329Z"
   },
   {
    "duration": 6,
    "start_time": "2022-09-09T21:32:53.337Z"
   },
   {
    "duration": 74,
    "start_time": "2022-09-09T21:32:53.344Z"
   },
   {
    "duration": 7,
    "start_time": "2022-09-09T21:59:22.423Z"
   },
   {
    "duration": 25,
    "start_time": "2022-09-09T22:02:25.661Z"
   },
   {
    "duration": 100,
    "start_time": "2022-09-09T22:33:27.186Z"
   },
   {
    "duration": 7,
    "start_time": "2022-09-09T22:33:51.151Z"
   },
   {
    "duration": 16,
    "start_time": "2022-09-09T22:33:55.716Z"
   },
   {
    "duration": 4,
    "start_time": "2022-09-09T22:33:56.093Z"
   },
   {
    "duration": 5,
    "start_time": "2022-09-09T22:34:01.990Z"
   },
   {
    "duration": 50,
    "start_time": "2022-09-09T22:34:01.998Z"
   },
   {
    "duration": 16,
    "start_time": "2022-09-09T22:34:02.050Z"
   },
   {
    "duration": 36,
    "start_time": "2022-09-09T22:34:02.071Z"
   },
   {
    "duration": 4,
    "start_time": "2022-09-09T22:34:02.109Z"
   },
   {
    "duration": 10,
    "start_time": "2022-09-09T22:34:02.114Z"
   },
   {
    "duration": 12,
    "start_time": "2022-09-09T22:34:02.126Z"
   },
   {
    "duration": 14,
    "start_time": "2022-09-09T22:34:02.139Z"
   },
   {
    "duration": 19,
    "start_time": "2022-09-09T22:34:02.155Z"
   },
   {
    "duration": 8,
    "start_time": "2022-09-09T22:34:02.176Z"
   },
   {
    "duration": 12,
    "start_time": "2022-09-09T22:34:02.185Z"
   },
   {
    "duration": 7,
    "start_time": "2022-09-09T22:34:02.199Z"
   },
   {
    "duration": 6,
    "start_time": "2022-09-09T22:34:02.208Z"
   },
   {
    "duration": 6,
    "start_time": "2022-09-09T22:34:02.216Z"
   },
   {
    "duration": 8,
    "start_time": "2022-09-09T22:34:02.224Z"
   },
   {
    "duration": 24,
    "start_time": "2022-09-09T22:34:02.234Z"
   },
   {
    "duration": 13,
    "start_time": "2022-09-09T22:34:02.259Z"
   },
   {
    "duration": 8,
    "start_time": "2022-09-09T22:34:02.274Z"
   },
   {
    "duration": 8,
    "start_time": "2022-09-09T22:34:02.284Z"
   },
   {
    "duration": 8,
    "start_time": "2022-09-09T22:34:02.294Z"
   },
   {
    "duration": 20,
    "start_time": "2022-09-09T22:34:02.304Z"
   },
   {
    "duration": 238,
    "start_time": "2022-09-09T22:34:02.325Z"
   },
   {
    "duration": 2727,
    "start_time": "2022-09-09T22:34:02.565Z"
   },
   {
    "duration": 185,
    "start_time": "2022-09-09T22:34:05.294Z"
   },
   {
    "duration": 4,
    "start_time": "2022-09-09T22:34:05.480Z"
   },
   {
    "duration": 14,
    "start_time": "2022-09-09T22:34:05.486Z"
   },
   {
    "duration": 3751,
    "start_time": "2022-09-09T22:34:05.501Z"
   },
   {
    "duration": 18,
    "start_time": "2022-09-09T22:34:09.256Z"
   },
   {
    "duration": 16,
    "start_time": "2022-09-09T22:34:09.278Z"
   },
   {
    "duration": 2301,
    "start_time": "2022-09-09T22:34:09.296Z"
   },
   {
    "duration": 7,
    "start_time": "2022-09-09T22:34:11.599Z"
   },
   {
    "duration": 5,
    "start_time": "2022-09-09T22:34:11.607Z"
   },
   {
    "duration": 63,
    "start_time": "2022-09-09T22:34:11.613Z"
   },
   {
    "duration": 12,
    "start_time": "2022-09-09T22:34:13.571Z"
   },
   {
    "duration": 22,
    "start_time": "2022-09-09T22:34:48.752Z"
   },
   {
    "duration": 10,
    "start_time": "2022-09-09T22:34:54.453Z"
   },
   {
    "duration": 47,
    "start_time": "2022-09-09T22:34:54.870Z"
   },
   {
    "duration": 19,
    "start_time": "2022-09-09T22:34:55.289Z"
   },
   {
    "duration": 14,
    "start_time": "2022-09-09T22:34:56.143Z"
   },
   {
    "duration": 4,
    "start_time": "2022-09-09T22:34:56.593Z"
   },
   {
    "duration": 5,
    "start_time": "2022-09-09T22:34:57.097Z"
   },
   {
    "duration": 6,
    "start_time": "2022-09-09T22:34:57.523Z"
   },
   {
    "duration": 8,
    "start_time": "2022-09-09T22:34:57.954Z"
   },
   {
    "duration": 7,
    "start_time": "2022-09-09T22:34:58.831Z"
   },
   {
    "duration": 10,
    "start_time": "2022-09-09T22:34:59.741Z"
   },
   {
    "duration": 17,
    "start_time": "2022-09-09T22:35:00.632Z"
   },
   {
    "duration": 8,
    "start_time": "2022-09-09T22:35:01.288Z"
   },
   {
    "duration": 6,
    "start_time": "2022-09-09T22:35:09.073Z"
   },
   {
    "duration": 4,
    "start_time": "2022-09-09T22:35:09.640Z"
   },
   {
    "duration": 6,
    "start_time": "2022-09-09T22:40:20.902Z"
   },
   {
    "duration": 6,
    "start_time": "2022-09-09T22:40:55.901Z"
   },
   {
    "duration": 47,
    "start_time": "2022-09-09T22:41:12.666Z"
   },
   {
    "duration": 81,
    "start_time": "2022-09-09T22:42:09.894Z"
   },
   {
    "duration": 80,
    "start_time": "2022-09-09T22:42:29.896Z"
   },
   {
    "duration": 75,
    "start_time": "2022-09-09T22:42:36.231Z"
   },
   {
    "duration": 368,
    "start_time": "2022-09-09T22:42:45.874Z"
   },
   {
    "duration": 197,
    "start_time": "2022-09-09T22:43:20.808Z"
   },
   {
    "duration": 375,
    "start_time": "2022-09-09T22:43:31.654Z"
   },
   {
    "duration": 48,
    "start_time": "2022-09-09T22:43:57.938Z"
   },
   {
    "duration": 59,
    "start_time": "2022-09-09T22:44:05.289Z"
   },
   {
    "duration": 4,
    "start_time": "2022-09-09T22:44:08.784Z"
   },
   {
    "duration": 43,
    "start_time": "2022-09-09T22:44:08.790Z"
   },
   {
    "duration": 12,
    "start_time": "2022-09-09T22:44:08.834Z"
   },
   {
    "duration": 15,
    "start_time": "2022-09-09T22:44:08.847Z"
   },
   {
    "duration": 6,
    "start_time": "2022-09-09T22:44:08.864Z"
   },
   {
    "duration": 13,
    "start_time": "2022-09-09T22:44:08.873Z"
   },
   {
    "duration": 7,
    "start_time": "2022-09-09T22:44:08.888Z"
   },
   {
    "duration": 7,
    "start_time": "2022-09-09T22:44:08.896Z"
   },
   {
    "duration": 6,
    "start_time": "2022-09-09T22:44:08.905Z"
   },
   {
    "duration": 7,
    "start_time": "2022-09-09T22:44:08.912Z"
   },
   {
    "duration": 11,
    "start_time": "2022-09-09T22:44:08.921Z"
   },
   {
    "duration": 31,
    "start_time": "2022-09-09T22:44:08.934Z"
   },
   {
    "duration": 9,
    "start_time": "2022-09-09T22:44:08.966Z"
   },
   {
    "duration": 3,
    "start_time": "2022-09-09T22:44:08.978Z"
   },
   {
    "duration": 9,
    "start_time": "2022-09-09T22:44:08.982Z"
   },
   {
    "duration": 6,
    "start_time": "2022-09-09T22:44:08.993Z"
   },
   {
    "duration": 9,
    "start_time": "2022-09-09T22:44:09.001Z"
   },
   {
    "duration": 4,
    "start_time": "2022-09-09T22:44:09.012Z"
   },
   {
    "duration": 8,
    "start_time": "2022-09-09T22:44:09.018Z"
   },
   {
    "duration": 42,
    "start_time": "2022-09-09T22:44:09.028Z"
   },
   {
    "duration": 198,
    "start_time": "2022-09-09T22:44:09.072Z"
   },
   {
    "duration": 2703,
    "start_time": "2022-09-09T22:44:09.271Z"
   },
   {
    "duration": 177,
    "start_time": "2022-09-09T22:44:11.975Z"
   },
   {
    "duration": 9,
    "start_time": "2022-09-09T22:44:12.155Z"
   },
   {
    "duration": 17,
    "start_time": "2022-09-09T22:44:12.166Z"
   },
   {
    "duration": 6,
    "start_time": "2022-09-09T22:44:12.184Z"
   },
   {
    "duration": 3666,
    "start_time": "2022-09-09T22:44:12.191Z"
   },
   {
    "duration": 4,
    "start_time": "2022-09-09T22:44:15.858Z"
   },
   {
    "duration": 18,
    "start_time": "2022-09-09T22:44:15.864Z"
   },
   {
    "duration": 2317,
    "start_time": "2022-09-09T22:44:15.884Z"
   },
   {
    "duration": 7,
    "start_time": "2022-09-09T22:44:18.202Z"
   },
   {
    "duration": 4,
    "start_time": "2022-09-09T22:44:18.210Z"
   },
   {
    "duration": 80,
    "start_time": "2022-09-09T22:44:18.216Z"
   },
   {
    "duration": 80,
    "start_time": "2022-09-09T22:44:24.515Z"
   },
   {
    "duration": 605,
    "start_time": "2022-09-09T22:44:31.034Z"
   },
   {
    "duration": 75,
    "start_time": "2022-09-09T22:44:37.714Z"
   },
   {
    "duration": 16,
    "start_time": "2022-09-09T22:45:05.163Z"
   },
   {
    "duration": 68,
    "start_time": "2022-09-09T22:45:12.796Z"
   },
   {
    "duration": 92,
    "start_time": "2022-09-09T22:49:14.868Z"
   },
   {
    "duration": 74,
    "start_time": "2022-09-09T22:50:20.134Z"
   },
   {
    "duration": 100,
    "start_time": "2022-09-09T22:50:24.033Z"
   },
   {
    "duration": 97,
    "start_time": "2022-09-09T22:50:27.025Z"
   },
   {
    "duration": 98,
    "start_time": "2022-09-09T22:50:44.564Z"
   },
   {
    "duration": 97,
    "start_time": "2022-09-09T22:54:56.146Z"
   },
   {
    "duration": 72,
    "start_time": "2022-09-09T22:55:40.018Z"
   },
   {
    "duration": 97,
    "start_time": "2022-09-09T22:56:54.566Z"
   },
   {
    "duration": 99,
    "start_time": "2022-09-09T22:59:40.258Z"
   },
   {
    "duration": 95,
    "start_time": "2022-09-09T22:59:43.763Z"
   },
   {
    "duration": 103,
    "start_time": "2022-09-09T23:00:33.351Z"
   },
   {
    "duration": 5,
    "start_time": "2022-09-09T23:01:55.288Z"
   },
   {
    "duration": 4,
    "start_time": "2022-09-09T23:02:06.444Z"
   },
   {
    "duration": 5,
    "start_time": "2022-09-09T23:02:24.726Z"
   },
   {
    "duration": 98,
    "start_time": "2022-09-09T23:02:35.911Z"
   },
   {
    "duration": 1660,
    "start_time": "2022-09-09T23:49:48.722Z"
   },
   {
    "duration": 41,
    "start_time": "2022-09-09T23:49:50.384Z"
   },
   {
    "duration": 17,
    "start_time": "2022-09-09T23:49:50.426Z"
   },
   {
    "duration": 11,
    "start_time": "2022-09-09T23:49:50.444Z"
   },
   {
    "duration": 4,
    "start_time": "2022-09-09T23:49:50.456Z"
   },
   {
    "duration": 11,
    "start_time": "2022-09-09T23:49:50.461Z"
   },
   {
    "duration": 13,
    "start_time": "2022-09-09T23:49:50.474Z"
   },
   {
    "duration": 10,
    "start_time": "2022-09-09T23:49:50.488Z"
   },
   {
    "duration": 8,
    "start_time": "2022-09-09T23:49:50.500Z"
   },
   {
    "duration": 9,
    "start_time": "2022-09-09T23:49:50.510Z"
   },
   {
    "duration": 12,
    "start_time": "2022-09-09T23:49:50.520Z"
   },
   {
    "duration": 7,
    "start_time": "2022-09-09T23:49:50.533Z"
   },
   {
    "duration": 15,
    "start_time": "2022-09-09T23:49:50.542Z"
   },
   {
    "duration": 7,
    "start_time": "2022-09-09T23:49:50.558Z"
   },
   {
    "duration": 10,
    "start_time": "2022-09-09T23:49:50.567Z"
   },
   {
    "duration": 5,
    "start_time": "2022-09-09T23:49:50.578Z"
   },
   {
    "duration": 5,
    "start_time": "2022-09-09T23:49:50.585Z"
   },
   {
    "duration": 7,
    "start_time": "2022-09-09T23:49:50.591Z"
   },
   {
    "duration": 11,
    "start_time": "2022-09-09T23:49:50.600Z"
   },
   {
    "duration": 42,
    "start_time": "2022-09-09T23:49:50.613Z"
   },
   {
    "duration": 108,
    "start_time": "2022-09-09T23:49:50.656Z"
   },
   {
    "duration": 2608,
    "start_time": "2022-09-09T23:49:50.857Z"
   },
   {
    "duration": 170,
    "start_time": "2022-09-09T23:49:53.467Z"
   },
   {
    "duration": 3,
    "start_time": "2022-09-09T23:49:53.639Z"
   },
   {
    "duration": 14,
    "start_time": "2022-09-09T23:49:53.644Z"
   },
   {
    "duration": 4,
    "start_time": "2022-09-09T23:49:53.659Z"
   },
   {
    "duration": 3504,
    "start_time": "2022-09-09T23:49:53.664Z"
   },
   {
    "duration": 3,
    "start_time": "2022-09-09T23:49:57.171Z"
   },
   {
    "duration": 12,
    "start_time": "2022-09-09T23:49:57.176Z"
   },
   {
    "duration": 2174,
    "start_time": "2022-09-09T23:49:57.189Z"
   },
   {
    "duration": 6,
    "start_time": "2022-09-09T23:49:59.364Z"
   },
   {
    "duration": 4,
    "start_time": "2022-09-09T23:49:59.372Z"
   },
   {
    "duration": 109,
    "start_time": "2022-09-09T23:49:59.378Z"
   },
   {
    "duration": 54,
    "start_time": "2022-09-10T07:08:46.845Z"
   },
   {
    "duration": 1653,
    "start_time": "2022-09-10T07:08:50.071Z"
   },
   {
    "duration": 159,
    "start_time": "2022-09-10T07:08:51.726Z"
   },
   {
    "duration": 25,
    "start_time": "2022-09-10T07:08:51.887Z"
   },
   {
    "duration": 39,
    "start_time": "2022-09-10T07:08:51.915Z"
   },
   {
    "duration": 26,
    "start_time": "2022-09-10T07:08:51.957Z"
   },
   {
    "duration": 16,
    "start_time": "2022-09-10T07:08:51.985Z"
   },
   {
    "duration": 15,
    "start_time": "2022-09-10T07:08:52.004Z"
   },
   {
    "duration": 18,
    "start_time": "2022-09-10T07:08:52.021Z"
   },
   {
    "duration": 27,
    "start_time": "2022-09-10T07:08:52.041Z"
   },
   {
    "duration": 15,
    "start_time": "2022-09-10T07:08:52.070Z"
   },
   {
    "duration": 32,
    "start_time": "2022-09-10T07:08:52.087Z"
   },
   {
    "duration": 17,
    "start_time": "2022-09-10T07:08:52.121Z"
   },
   {
    "duration": 12,
    "start_time": "2022-09-10T07:08:52.140Z"
   },
   {
    "duration": 4,
    "start_time": "2022-09-10T07:08:52.156Z"
   },
   {
    "duration": 23,
    "start_time": "2022-09-10T07:08:52.162Z"
   },
   {
    "duration": 7,
    "start_time": "2022-09-10T07:08:52.187Z"
   },
   {
    "duration": 14,
    "start_time": "2022-09-10T07:08:52.196Z"
   },
   {
    "duration": 11,
    "start_time": "2022-09-10T07:08:52.212Z"
   },
   {
    "duration": 12,
    "start_time": "2022-09-10T07:08:52.225Z"
   },
   {
    "duration": 24,
    "start_time": "2022-09-10T07:08:52.239Z"
   },
   {
    "duration": 333,
    "start_time": "2022-09-10T07:08:52.265Z"
   },
   {
    "duration": 3343,
    "start_time": "2022-09-10T07:08:52.600Z"
   },
   {
    "duration": 228,
    "start_time": "2022-09-10T07:08:55.945Z"
   },
   {
    "duration": 4,
    "start_time": "2022-09-10T07:08:56.175Z"
   },
   {
    "duration": 20,
    "start_time": "2022-09-10T07:08:56.181Z"
   },
   {
    "duration": 5,
    "start_time": "2022-09-10T07:08:56.203Z"
   },
   {
    "duration": 4590,
    "start_time": "2022-09-10T07:08:56.210Z"
   },
   {
    "duration": 4,
    "start_time": "2022-09-10T07:09:00.802Z"
   },
   {
    "duration": 52,
    "start_time": "2022-09-10T07:09:00.808Z"
   },
   {
    "duration": 32,
    "start_time": "2022-09-10T07:09:00.862Z"
   },
   {
    "duration": 3109,
    "start_time": "2022-09-10T07:09:00.896Z"
   },
   {
    "duration": 9,
    "start_time": "2022-09-10T07:09:04.007Z"
   },
   {
    "duration": 147,
    "start_time": "2022-09-10T07:09:04.019Z"
   },
   {
    "duration": 42,
    "start_time": "2022-09-10T07:10:38.679Z"
   },
   {
    "duration": 60,
    "start_time": "2022-09-10T07:10:59.711Z"
   },
   {
    "duration": 75,
    "start_time": "2022-09-10T07:11:29.481Z"
   },
   {
    "duration": 54,
    "start_time": "2022-09-10T11:35:55.197Z"
   },
   {
    "duration": 1410,
    "start_time": "2022-09-10T11:35:58.309Z"
   },
   {
    "duration": 78,
    "start_time": "2022-09-10T11:35:59.721Z"
   },
   {
    "duration": 17,
    "start_time": "2022-09-10T11:35:59.800Z"
   },
   {
    "duration": 12,
    "start_time": "2022-09-10T11:35:59.819Z"
   },
   {
    "duration": 4,
    "start_time": "2022-09-10T11:35:59.832Z"
   },
   {
    "duration": 6,
    "start_time": "2022-09-10T11:35:59.838Z"
   },
   {
    "duration": 8,
    "start_time": "2022-09-10T11:35:59.845Z"
   },
   {
    "duration": 5,
    "start_time": "2022-09-10T11:35:59.854Z"
   },
   {
    "duration": 7,
    "start_time": "2022-09-10T11:35:59.861Z"
   },
   {
    "duration": 9,
    "start_time": "2022-09-10T11:35:59.871Z"
   },
   {
    "duration": 11,
    "start_time": "2022-09-10T11:35:59.882Z"
   },
   {
    "duration": 8,
    "start_time": "2022-09-10T11:35:59.895Z"
   },
   {
    "duration": 9,
    "start_time": "2022-09-10T11:35:59.905Z"
   },
   {
    "duration": 8,
    "start_time": "2022-09-10T11:35:59.916Z"
   },
   {
    "duration": 31,
    "start_time": "2022-09-10T11:35:59.925Z"
   },
   {
    "duration": 10,
    "start_time": "2022-09-10T11:35:59.958Z"
   },
   {
    "duration": 4,
    "start_time": "2022-09-10T11:35:59.969Z"
   },
   {
    "duration": 7,
    "start_time": "2022-09-10T11:35:59.975Z"
   },
   {
    "duration": 18,
    "start_time": "2022-09-10T11:35:59.983Z"
   },
   {
    "duration": 34,
    "start_time": "2022-09-10T11:36:00.003Z"
   },
   {
    "duration": 310,
    "start_time": "2022-09-10T11:36:00.038Z"
   },
   {
    "duration": 2912,
    "start_time": "2022-09-10T11:36:00.350Z"
   },
   {
    "duration": 205,
    "start_time": "2022-09-10T11:36:03.264Z"
   },
   {
    "duration": 3,
    "start_time": "2022-09-10T11:36:03.471Z"
   },
   {
    "duration": 15,
    "start_time": "2022-09-10T11:36:03.476Z"
   },
   {
    "duration": 5,
    "start_time": "2022-09-10T11:36:03.492Z"
   },
   {
    "duration": 4203,
    "start_time": "2022-09-10T11:36:03.498Z"
   },
   {
    "duration": 4,
    "start_time": "2022-09-10T11:36:07.704Z"
   },
   {
    "duration": 28,
    "start_time": "2022-09-10T11:36:07.709Z"
   },
   {
    "duration": 28,
    "start_time": "2022-09-10T11:36:07.739Z"
   },
   {
    "duration": 2506,
    "start_time": "2022-09-10T11:36:07.768Z"
   },
   {
    "duration": 8,
    "start_time": "2022-09-10T11:36:10.276Z"
   },
   {
    "duration": 101,
    "start_time": "2022-09-10T11:36:10.285Z"
   },
   {
    "duration": 60,
    "start_time": "2022-09-10T11:36:45.456Z"
   },
   {
    "duration": 40,
    "start_time": "2022-09-10T11:37:09.269Z"
   },
   {
    "duration": 66,
    "start_time": "2022-09-10T11:37:16.048Z"
   },
   {
    "duration": 67,
    "start_time": "2022-09-10T11:37:21.304Z"
   },
   {
    "duration": 4,
    "start_time": "2022-09-10T11:41:42.365Z"
   },
   {
    "duration": 46,
    "start_time": "2022-09-10T11:41:42.370Z"
   },
   {
    "duration": 13,
    "start_time": "2022-09-10T11:41:42.417Z"
   },
   {
    "duration": 14,
    "start_time": "2022-09-10T11:41:42.434Z"
   },
   {
    "duration": 18,
    "start_time": "2022-09-10T11:41:42.450Z"
   },
   {
    "duration": 21,
    "start_time": "2022-09-10T11:41:42.470Z"
   },
   {
    "duration": 7,
    "start_time": "2022-09-10T11:41:42.493Z"
   },
   {
    "duration": 8,
    "start_time": "2022-09-10T11:41:42.501Z"
   },
   {
    "duration": 7,
    "start_time": "2022-09-10T11:41:42.510Z"
   },
   {
    "duration": 9,
    "start_time": "2022-09-10T11:41:42.519Z"
   },
   {
    "duration": 11,
    "start_time": "2022-09-10T11:41:42.530Z"
   },
   {
    "duration": 9,
    "start_time": "2022-09-10T11:41:42.542Z"
   },
   {
    "duration": 8,
    "start_time": "2022-09-10T11:41:42.553Z"
   },
   {
    "duration": 5,
    "start_time": "2022-09-10T11:41:42.562Z"
   },
   {
    "duration": 30,
    "start_time": "2022-09-10T11:41:42.569Z"
   },
   {
    "duration": 7,
    "start_time": "2022-09-10T11:41:42.601Z"
   },
   {
    "duration": 5,
    "start_time": "2022-09-10T11:41:42.609Z"
   },
   {
    "duration": 4,
    "start_time": "2022-09-10T11:41:42.615Z"
   },
   {
    "duration": 5,
    "start_time": "2022-09-10T11:41:42.621Z"
   },
   {
    "duration": 5,
    "start_time": "2022-09-10T11:41:42.627Z"
   },
   {
    "duration": 419,
    "start_time": "2022-09-10T11:41:42.634Z"
   },
   {
    "duration": 2682,
    "start_time": "2022-09-10T11:41:43.147Z"
   },
   {
    "duration": 195,
    "start_time": "2022-09-10T11:41:45.831Z"
   },
   {
    "duration": 5,
    "start_time": "2022-09-10T11:41:46.027Z"
   },
   {
    "duration": 18,
    "start_time": "2022-09-10T11:41:46.034Z"
   },
   {
    "duration": 8,
    "start_time": "2022-09-10T11:41:46.054Z"
   },
   {
    "duration": 3963,
    "start_time": "2022-09-10T11:41:46.064Z"
   },
   {
    "duration": 5,
    "start_time": "2022-09-10T11:41:50.029Z"
   },
   {
    "duration": 14,
    "start_time": "2022-09-10T11:41:50.035Z"
   },
   {
    "duration": 10,
    "start_time": "2022-09-10T11:41:50.050Z"
   },
   {
    "duration": 2434,
    "start_time": "2022-09-10T11:41:50.062Z"
   },
   {
    "duration": 8,
    "start_time": "2022-09-10T11:41:52.498Z"
   },
   {
    "duration": 72,
    "start_time": "2022-09-10T11:41:52.588Z"
   },
   {
    "duration": 61,
    "start_time": "2022-09-10T11:42:12.561Z"
   },
   {
    "duration": 5,
    "start_time": "2022-09-10T11:42:16.457Z"
   },
   {
    "duration": 56,
    "start_time": "2022-09-10T11:42:16.464Z"
   },
   {
    "duration": 23,
    "start_time": "2022-09-10T11:42:16.522Z"
   },
   {
    "duration": 21,
    "start_time": "2022-09-10T11:42:16.547Z"
   },
   {
    "duration": 34,
    "start_time": "2022-09-10T11:42:16.571Z"
   },
   {
    "duration": 13,
    "start_time": "2022-09-10T11:42:16.607Z"
   },
   {
    "duration": 27,
    "start_time": "2022-09-10T11:42:16.622Z"
   },
   {
    "duration": 9,
    "start_time": "2022-09-10T11:42:16.651Z"
   },
   {
    "duration": 15,
    "start_time": "2022-09-10T11:42:16.662Z"
   },
   {
    "duration": 10,
    "start_time": "2022-09-10T11:42:16.679Z"
   },
   {
    "duration": 15,
    "start_time": "2022-09-10T11:42:16.691Z"
   },
   {
    "duration": 10,
    "start_time": "2022-09-10T11:42:16.708Z"
   },
   {
    "duration": 6,
    "start_time": "2022-09-10T11:42:16.720Z"
   },
   {
    "duration": 5,
    "start_time": "2022-09-10T11:42:16.729Z"
   },
   {
    "duration": 9,
    "start_time": "2022-09-10T11:42:16.747Z"
   },
   {
    "duration": 6,
    "start_time": "2022-09-10T11:42:16.758Z"
   },
   {
    "duration": 11,
    "start_time": "2022-09-10T11:42:16.766Z"
   },
   {
    "duration": 9,
    "start_time": "2022-09-10T11:42:16.779Z"
   },
   {
    "duration": 9,
    "start_time": "2022-09-10T11:42:16.790Z"
   },
   {
    "duration": 7,
    "start_time": "2022-09-10T11:42:16.801Z"
   },
   {
    "duration": 945,
    "start_time": "2022-09-10T11:42:16.810Z"
   },
   {
    "duration": 3241,
    "start_time": "2022-09-10T11:42:17.757Z"
   },
   {
    "duration": 213,
    "start_time": "2022-09-10T11:42:21.000Z"
   },
   {
    "duration": 4,
    "start_time": "2022-09-10T11:42:21.215Z"
   },
   {
    "duration": 27,
    "start_time": "2022-09-10T11:42:21.221Z"
   },
   {
    "duration": 9,
    "start_time": "2022-09-10T11:42:21.253Z"
   },
   {
    "duration": 4325,
    "start_time": "2022-09-10T11:42:21.264Z"
   },
   {
    "duration": 5,
    "start_time": "2022-09-10T11:42:25.591Z"
   },
   {
    "duration": 18,
    "start_time": "2022-09-10T11:42:25.598Z"
   },
   {
    "duration": 5,
    "start_time": "2022-09-10T11:42:25.617Z"
   },
   {
    "duration": 2733,
    "start_time": "2022-09-10T11:42:25.623Z"
   },
   {
    "duration": 14,
    "start_time": "2022-09-10T11:42:28.360Z"
   },
   {
    "duration": 79,
    "start_time": "2022-09-10T11:42:28.375Z"
   },
   {
    "duration": 53,
    "start_time": "2022-09-10T11:43:05.064Z"
   },
   {
    "duration": 51,
    "start_time": "2022-09-10T11:43:25.403Z"
   },
   {
    "duration": 45,
    "start_time": "2022-09-10T11:43:54.692Z"
   },
   {
    "duration": 45,
    "start_time": "2022-09-10T11:44:00.458Z"
   },
   {
    "duration": 3,
    "start_time": "2022-09-10T11:44:19.117Z"
   },
   {
    "duration": 2774,
    "start_time": "2022-09-10T11:44:40.430Z"
   },
   {
    "duration": 0,
    "start_time": "2022-09-10T11:45:51.739Z"
   },
   {
    "duration": 5,
    "start_time": "2022-09-10T11:47:17.758Z"
   },
   {
    "duration": 54,
    "start_time": "2022-09-10T11:47:17.764Z"
   },
   {
    "duration": 14,
    "start_time": "2022-09-10T11:47:17.820Z"
   },
   {
    "duration": 21,
    "start_time": "2022-09-10T11:47:17.836Z"
   },
   {
    "duration": 12,
    "start_time": "2022-09-10T11:47:17.859Z"
   },
   {
    "duration": 6,
    "start_time": "2022-09-10T11:47:17.874Z"
   },
   {
    "duration": 12,
    "start_time": "2022-09-10T11:47:17.882Z"
   },
   {
    "duration": 16,
    "start_time": "2022-09-10T11:47:17.896Z"
   },
   {
    "duration": 9,
    "start_time": "2022-09-10T11:47:17.915Z"
   },
   {
    "duration": 21,
    "start_time": "2022-09-10T11:47:17.926Z"
   },
   {
    "duration": 22,
    "start_time": "2022-09-10T11:47:17.949Z"
   },
   {
    "duration": 8,
    "start_time": "2022-09-10T11:47:17.973Z"
   },
   {
    "duration": 9,
    "start_time": "2022-09-10T11:47:17.983Z"
   },
   {
    "duration": 31,
    "start_time": "2022-09-10T11:47:17.994Z"
   },
   {
    "duration": 15,
    "start_time": "2022-09-10T11:47:18.027Z"
   },
   {
    "duration": 18,
    "start_time": "2022-09-10T11:47:18.044Z"
   },
   {
    "duration": 14,
    "start_time": "2022-09-10T11:47:18.063Z"
   },
   {
    "duration": 14,
    "start_time": "2022-09-10T11:47:18.079Z"
   },
   {
    "duration": 8,
    "start_time": "2022-09-10T11:47:18.094Z"
   },
   {
    "duration": 8,
    "start_time": "2022-09-10T11:47:18.104Z"
   },
   {
    "duration": 539,
    "start_time": "2022-09-10T11:47:18.114Z"
   },
   {
    "duration": 51187,
    "start_time": "2022-09-10T11:47:18.655Z"
   },
   {
    "duration": 196,
    "start_time": "2022-09-10T11:48:09.844Z"
   },
   {
    "duration": 5,
    "start_time": "2022-09-10T11:48:10.041Z"
   },
   {
    "duration": 12,
    "start_time": "2022-09-10T11:48:10.048Z"
   },
   {
    "duration": 5,
    "start_time": "2022-09-10T11:48:10.062Z"
   },
   {
    "duration": 4093,
    "start_time": "2022-09-10T11:48:10.071Z"
   },
   {
    "duration": 3,
    "start_time": "2022-09-10T11:48:14.166Z"
   },
   {
    "duration": 15,
    "start_time": "2022-09-10T11:48:14.171Z"
   },
   {
    "duration": 4,
    "start_time": "2022-09-10T11:48:14.187Z"
   },
   {
    "duration": 2544,
    "start_time": "2022-09-10T11:48:14.193Z"
   },
   {
    "duration": 12,
    "start_time": "2022-09-10T11:48:16.738Z"
   },
   {
    "duration": 45,
    "start_time": "2022-09-10T11:48:16.752Z"
   },
   {
    "duration": 2812,
    "start_time": "2022-09-10T11:48:22.989Z"
   },
   {
    "duration": 8298,
    "start_time": "2022-09-10T11:48:40.898Z"
   },
   {
    "duration": 22269,
    "start_time": "2022-09-10T11:49:24.843Z"
   },
   {
    "duration": 82,
    "start_time": "2022-09-10T11:49:47.114Z"
   },
   {
    "duration": 119,
    "start_time": "2022-09-10T11:50:24.974Z"
   },
   {
    "duration": 326,
    "start_time": "2022-09-10T11:51:16.540Z"
   },
   {
    "duration": 119,
    "start_time": "2022-09-10T11:51:49.906Z"
   },
   {
    "duration": 23,
    "start_time": "2022-09-10T11:52:36.150Z"
   },
   {
    "duration": 2,
    "start_time": "2022-09-10T11:52:38.082Z"
   },
   {
    "duration": 7,
    "start_time": "2022-09-10T11:52:38.279Z"
   },
   {
    "duration": 23,
    "start_time": "2022-09-10T11:52:38.767Z"
   },
   {
    "duration": 114,
    "start_time": "2022-09-10T11:52:40.340Z"
   },
   {
    "duration": 22169,
    "start_time": "2022-09-10T11:52:42.000Z"
   },
   {
    "duration": 144,
    "start_time": "2022-09-10T11:54:36.274Z"
   },
   {
    "duration": 109,
    "start_time": "2022-09-10T11:54:40.794Z"
   },
   {
    "duration": 4,
    "start_time": "2022-09-10T11:54:45.460Z"
   },
   {
    "duration": 49,
    "start_time": "2022-09-10T11:54:45.466Z"
   },
   {
    "duration": 14,
    "start_time": "2022-09-10T11:54:45.516Z"
   },
   {
    "duration": 13,
    "start_time": "2022-09-10T11:54:45.532Z"
   },
   {
    "duration": 4,
    "start_time": "2022-09-10T11:54:45.547Z"
   },
   {
    "duration": 6,
    "start_time": "2022-09-10T11:54:45.552Z"
   },
   {
    "duration": 7,
    "start_time": "2022-09-10T11:54:45.560Z"
   },
   {
    "duration": 9,
    "start_time": "2022-09-10T11:54:45.569Z"
   },
   {
    "duration": 7,
    "start_time": "2022-09-10T11:54:45.579Z"
   },
   {
    "duration": 8,
    "start_time": "2022-09-10T11:54:45.587Z"
   },
   {
    "duration": 11,
    "start_time": "2022-09-10T11:54:45.597Z"
   },
   {
    "duration": 7,
    "start_time": "2022-09-10T11:54:45.610Z"
   },
   {
    "duration": 30,
    "start_time": "2022-09-10T11:54:45.619Z"
   },
   {
    "duration": 9,
    "start_time": "2022-09-10T11:54:45.652Z"
   },
   {
    "duration": 12,
    "start_time": "2022-09-10T11:54:45.662Z"
   },
   {
    "duration": 6,
    "start_time": "2022-09-10T11:54:45.675Z"
   },
   {
    "duration": 6,
    "start_time": "2022-09-10T11:54:45.682Z"
   },
   {
    "duration": 5,
    "start_time": "2022-09-10T11:54:45.689Z"
   },
   {
    "duration": 9,
    "start_time": "2022-09-10T11:54:45.696Z"
   },
   {
    "duration": 23,
    "start_time": "2022-09-10T11:54:45.706Z"
   },
   {
    "duration": 201,
    "start_time": "2022-09-10T11:54:45.747Z"
   },
   {
    "duration": 22630,
    "start_time": "2022-09-10T11:54:45.951Z"
   },
   {
    "duration": 328,
    "start_time": "2022-09-10T11:55:08.583Z"
   },
   {
    "duration": 4,
    "start_time": "2022-09-10T11:55:08.913Z"
   },
   {
    "duration": 20,
    "start_time": "2022-09-10T11:55:08.919Z"
   },
   {
    "duration": 11,
    "start_time": "2022-09-10T11:55:08.941Z"
   },
   {
    "duration": 4242,
    "start_time": "2022-09-10T11:55:08.954Z"
   },
   {
    "duration": 4,
    "start_time": "2022-09-10T11:55:13.199Z"
   },
   {
    "duration": 21,
    "start_time": "2022-09-10T11:55:13.205Z"
   },
   {
    "duration": 5,
    "start_time": "2022-09-10T11:55:13.227Z"
   },
   {
    "duration": 2501,
    "start_time": "2022-09-10T11:55:13.234Z"
   },
   {
    "duration": 14,
    "start_time": "2022-09-10T11:55:15.736Z"
   },
   {
    "duration": 125,
    "start_time": "2022-09-10T11:55:15.752Z"
   },
   {
    "duration": 119,
    "start_time": "2022-09-10T11:55:20.069Z"
   },
   {
    "duration": 122,
    "start_time": "2022-09-10T11:55:22.301Z"
   },
   {
    "duration": 117,
    "start_time": "2022-09-10T11:56:08.485Z"
   },
   {
    "duration": 1989,
    "start_time": "2022-09-10T22:13:50.624Z"
   },
   {
    "duration": 79,
    "start_time": "2022-09-10T22:13:52.615Z"
   },
   {
    "duration": 18,
    "start_time": "2022-09-10T22:13:52.695Z"
   },
   {
    "duration": 12,
    "start_time": "2022-09-10T22:13:52.715Z"
   },
   {
    "duration": 4,
    "start_time": "2022-09-10T22:13:52.728Z"
   },
   {
    "duration": 6,
    "start_time": "2022-09-10T22:13:52.734Z"
   },
   {
    "duration": 7,
    "start_time": "2022-09-10T22:13:52.741Z"
   },
   {
    "duration": 6,
    "start_time": "2022-09-10T22:13:52.749Z"
   },
   {
    "duration": 7,
    "start_time": "2022-09-10T22:13:52.756Z"
   },
   {
    "duration": 9,
    "start_time": "2022-09-10T22:13:52.766Z"
   },
   {
    "duration": 43,
    "start_time": "2022-09-10T22:13:52.776Z"
   },
   {
    "duration": 7,
    "start_time": "2022-09-10T22:13:52.820Z"
   },
   {
    "duration": 5,
    "start_time": "2022-09-10T22:13:52.829Z"
   },
   {
    "duration": 5,
    "start_time": "2022-09-10T22:13:52.835Z"
   },
   {
    "duration": 19,
    "start_time": "2022-09-10T22:13:52.841Z"
   },
   {
    "duration": 9,
    "start_time": "2022-09-10T22:13:52.861Z"
   },
   {
    "duration": 5,
    "start_time": "2022-09-10T22:13:52.871Z"
   },
   {
    "duration": 4,
    "start_time": "2022-09-10T22:13:52.878Z"
   },
   {
    "duration": 33,
    "start_time": "2022-09-10T22:13:52.883Z"
   },
   {
    "duration": 21,
    "start_time": "2022-09-10T22:13:52.917Z"
   },
   {
    "duration": 178,
    "start_time": "2022-09-10T22:13:52.939Z"
   },
   {
    "duration": 24504,
    "start_time": "2022-09-10T22:13:53.208Z"
   },
   {
    "duration": 370,
    "start_time": "2022-09-10T22:14:17.713Z"
   },
   {
    "duration": 4,
    "start_time": "2022-09-10T22:14:18.085Z"
   },
   {
    "duration": 25,
    "start_time": "2022-09-10T22:14:18.091Z"
   },
   {
    "duration": 5,
    "start_time": "2022-09-10T22:14:18.118Z"
   },
   {
    "duration": 4220,
    "start_time": "2022-09-10T22:14:18.125Z"
   },
   {
    "duration": 6,
    "start_time": "2022-09-10T22:14:22.349Z"
   },
   {
    "duration": 12,
    "start_time": "2022-09-10T22:14:22.357Z"
   },
   {
    "duration": 6,
    "start_time": "2022-09-10T22:14:22.371Z"
   },
   {
    "duration": 2470,
    "start_time": "2022-09-10T22:14:22.378Z"
   },
   {
    "duration": 6,
    "start_time": "2022-09-10T22:14:24.849Z"
   },
   {
    "duration": 134,
    "start_time": "2022-09-10T22:14:24.857Z"
   },
   {
    "duration": 39,
    "start_time": "2022-09-10T22:16:23.076Z"
   },
   {
    "duration": 125,
    "start_time": "2022-09-10T22:16:29.152Z"
   },
   {
    "duration": 123,
    "start_time": "2022-09-10T22:16:33.181Z"
   },
   {
    "duration": 18508,
    "start_time": "2022-09-10T22:17:50.913Z"
   },
   {
    "duration": 4132,
    "start_time": "2022-09-10T22:18:49.879Z"
   },
   {
    "duration": 1220,
    "start_time": "2022-09-13T22:55:42.627Z"
   },
   {
    "duration": 171,
    "start_time": "2022-09-13T22:55:43.849Z"
   },
   {
    "duration": 20,
    "start_time": "2022-09-13T22:55:44.022Z"
   },
   {
    "duration": 13,
    "start_time": "2022-09-13T22:55:44.044Z"
   },
   {
    "duration": 4,
    "start_time": "2022-09-13T22:55:44.059Z"
   },
   {
    "duration": 10,
    "start_time": "2022-09-13T22:55:44.064Z"
   },
   {
    "duration": 10,
    "start_time": "2022-09-13T22:55:44.076Z"
   },
   {
    "duration": 7,
    "start_time": "2022-09-13T22:55:44.087Z"
   },
   {
    "duration": 7,
    "start_time": "2022-09-13T22:55:44.095Z"
   },
   {
    "duration": 9,
    "start_time": "2022-09-13T22:55:44.103Z"
   },
   {
    "duration": 12,
    "start_time": "2022-09-13T22:55:44.113Z"
   },
   {
    "duration": 6,
    "start_time": "2022-09-13T22:55:44.126Z"
   },
   {
    "duration": 3,
    "start_time": "2022-09-13T22:55:44.134Z"
   },
   {
    "duration": 4,
    "start_time": "2022-09-13T22:55:44.139Z"
   },
   {
    "duration": 37,
    "start_time": "2022-09-13T22:55:44.145Z"
   },
   {
    "duration": 6,
    "start_time": "2022-09-13T22:55:44.183Z"
   },
   {
    "duration": 4,
    "start_time": "2022-09-13T22:55:44.190Z"
   },
   {
    "duration": 4,
    "start_time": "2022-09-13T22:55:44.195Z"
   },
   {
    "duration": 10,
    "start_time": "2022-09-13T22:55:44.200Z"
   },
   {
    "duration": 19,
    "start_time": "2022-09-13T22:55:44.211Z"
   },
   {
    "duration": 155,
    "start_time": "2022-09-13T22:55:44.231Z"
   },
   {
    "duration": 19981,
    "start_time": "2022-09-13T22:55:44.387Z"
   },
   {
    "duration": 281,
    "start_time": "2022-09-13T22:56:04.369Z"
   },
   {
    "duration": 3,
    "start_time": "2022-09-13T22:56:04.651Z"
   },
   {
    "duration": 11,
    "start_time": "2022-09-13T22:56:04.656Z"
   },
   {
    "duration": 10,
    "start_time": "2022-09-13T22:56:04.668Z"
   },
   {
    "duration": 3475,
    "start_time": "2022-09-13T22:56:04.680Z"
   },
   {
    "duration": 3,
    "start_time": "2022-09-13T22:56:08.157Z"
   },
   {
    "duration": 23,
    "start_time": "2022-09-13T22:56:08.161Z"
   },
   {
    "duration": 10,
    "start_time": "2022-09-13T22:56:08.186Z"
   },
   {
    "duration": 2143,
    "start_time": "2022-09-13T22:56:08.198Z"
   },
   {
    "duration": 7,
    "start_time": "2022-09-13T22:56:10.342Z"
   },
   {
    "duration": 47,
    "start_time": "2022-09-13T22:56:10.350Z"
   }
  ],
  "kernelspec": {
   "display_name": "Python 3 (ipykernel)",
   "language": "python",
   "name": "python3"
  },
  "language_info": {
   "codemirror_mode": {
    "name": "ipython",
    "version": 3
   },
   "file_extension": ".py",
   "mimetype": "text/x-python",
   "name": "python",
   "nbconvert_exporter": "python",
   "pygments_lexer": "ipython3",
   "version": "3.9.12"
  },
  "toc": {
   "base_numbering": 1,
   "nav_menu": {},
   "number_sections": true,
   "sideBar": true,
   "skip_h1_title": true,
   "title_cell": "Содержание",
   "title_sidebar": "Contents",
   "toc_cell": true,
   "toc_position": {
    "height": "calc(100% - 180px)",
    "left": "10px",
    "top": "150px",
    "width": "165px"
   },
   "toc_section_display": true,
   "toc_window_display": false
  }
 },
 "nbformat": 4,
 "nbformat_minor": 2
}
