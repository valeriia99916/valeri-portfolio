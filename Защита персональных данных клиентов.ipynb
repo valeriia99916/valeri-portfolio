{
 "cells": [
  {
   "cell_type": "markdown",
   "metadata": {},
   "source": [
    "# Защита персональных данных клиентов"
   ]
  },
  {
   "cell_type": "markdown",
   "metadata": {},
   "source": [
    "Нужно защитить данные, чтобы при преобразовании качество моделей машинного обучения не ухудшилось."
   ]
  },
  {
   "cell_type": "markdown",
   "metadata": {},
   "source": [
    "## Загрузка данных"
   ]
  },
  {
   "cell_type": "code",
   "execution_count": 2,
   "metadata": {},
   "outputs": [],
   "source": [
    "import pandas as pd\n",
    "import numpy as np\n",
    "from sklearn.linear_model import LinearRegression\n",
    "from sklearn.metrics import r2_score"
   ]
  },
  {
   "cell_type": "code",
   "execution_count": 3,
   "metadata": {},
   "outputs": [],
   "source": [
    "df = pd.read_csv('/datasets/insurance.csv')"
   ]
  },
  {
   "cell_type": "code",
   "execution_count": 4,
   "metadata": {},
   "outputs": [
    {
     "data": {
      "text/html": [
       "<div>\n",
       "<style scoped>\n",
       "    .dataframe tbody tr th:only-of-type {\n",
       "        vertical-align: middle;\n",
       "    }\n",
       "\n",
       "    .dataframe tbody tr th {\n",
       "        vertical-align: top;\n",
       "    }\n",
       "\n",
       "    .dataframe thead th {\n",
       "        text-align: right;\n",
       "    }\n",
       "</style>\n",
       "<table border=\"1\" class=\"dataframe\">\n",
       "  <thead>\n",
       "    <tr style=\"text-align: right;\">\n",
       "      <th></th>\n",
       "      <th>Пол</th>\n",
       "      <th>Возраст</th>\n",
       "      <th>Зарплата</th>\n",
       "      <th>Члены семьи</th>\n",
       "      <th>Страховые выплаты</th>\n",
       "    </tr>\n",
       "  </thead>\n",
       "  <tbody>\n",
       "    <tr>\n",
       "      <th>0</th>\n",
       "      <td>1</td>\n",
       "      <td>41.0</td>\n",
       "      <td>49600.0</td>\n",
       "      <td>1</td>\n",
       "      <td>0</td>\n",
       "    </tr>\n",
       "    <tr>\n",
       "      <th>1</th>\n",
       "      <td>0</td>\n",
       "      <td>46.0</td>\n",
       "      <td>38000.0</td>\n",
       "      <td>1</td>\n",
       "      <td>1</td>\n",
       "    </tr>\n",
       "    <tr>\n",
       "      <th>2</th>\n",
       "      <td>0</td>\n",
       "      <td>29.0</td>\n",
       "      <td>21000.0</td>\n",
       "      <td>0</td>\n",
       "      <td>0</td>\n",
       "    </tr>\n",
       "    <tr>\n",
       "      <th>3</th>\n",
       "      <td>0</td>\n",
       "      <td>21.0</td>\n",
       "      <td>41700.0</td>\n",
       "      <td>2</td>\n",
       "      <td>0</td>\n",
       "    </tr>\n",
       "    <tr>\n",
       "      <th>4</th>\n",
       "      <td>1</td>\n",
       "      <td>28.0</td>\n",
       "      <td>26100.0</td>\n",
       "      <td>0</td>\n",
       "      <td>0</td>\n",
       "    </tr>\n",
       "  </tbody>\n",
       "</table>\n",
       "</div>"
      ],
      "text/plain": [
       "   Пол  Возраст  Зарплата  Члены семьи  Страховые выплаты\n",
       "0    1     41.0   49600.0            1                  0\n",
       "1    0     46.0   38000.0            1                  1\n",
       "2    0     29.0   21000.0            0                  0\n",
       "3    0     21.0   41700.0            2                  0\n",
       "4    1     28.0   26100.0            0                  0"
      ]
     },
     "execution_count": 4,
     "metadata": {},
     "output_type": "execute_result"
    }
   ],
   "source": [
    "df.head()"
   ]
  },
  {
   "cell_type": "code",
   "execution_count": 5,
   "metadata": {},
   "outputs": [
    {
     "name": "stdout",
     "output_type": "stream",
     "text": [
      "<class 'pandas.core.frame.DataFrame'>\n",
      "RangeIndex: 5000 entries, 0 to 4999\n",
      "Data columns (total 5 columns):\n",
      " #   Column             Non-Null Count  Dtype  \n",
      "---  ------             --------------  -----  \n",
      " 0   Пол                5000 non-null   int64  \n",
      " 1   Возраст            5000 non-null   float64\n",
      " 2   Зарплата           5000 non-null   float64\n",
      " 3   Члены семьи        5000 non-null   int64  \n",
      " 4   Страховые выплаты  5000 non-null   int64  \n",
      "dtypes: float64(2), int64(3)\n",
      "memory usage: 195.4 KB\n"
     ]
    }
   ],
   "source": [
    "df.info()"
   ]
  },
  {
   "cell_type": "code",
   "execution_count": 6,
   "metadata": {},
   "outputs": [],
   "source": [
    "df['Возраст'] = df['Возраст'].astype(int)\n",
    "df['Зарплата'] = df['Зарплата'].astype(int)"
   ]
  },
  {
   "cell_type": "code",
   "execution_count": 7,
   "metadata": {},
   "outputs": [
    {
     "data": {
      "text/html": [
       "<div>\n",
       "<style scoped>\n",
       "    .dataframe tbody tr th:only-of-type {\n",
       "        vertical-align: middle;\n",
       "    }\n",
       "\n",
       "    .dataframe tbody tr th {\n",
       "        vertical-align: top;\n",
       "    }\n",
       "\n",
       "    .dataframe thead th {\n",
       "        text-align: right;\n",
       "    }\n",
       "</style>\n",
       "<table border=\"1\" class=\"dataframe\">\n",
       "  <thead>\n",
       "    <tr style=\"text-align: right;\">\n",
       "      <th></th>\n",
       "      <th>Пол</th>\n",
       "      <th>Возраст</th>\n",
       "      <th>Зарплата</th>\n",
       "      <th>Члены семьи</th>\n",
       "      <th>Страховые выплаты</th>\n",
       "    </tr>\n",
       "  </thead>\n",
       "  <tbody>\n",
       "    <tr>\n",
       "      <th>count</th>\n",
       "      <td>5000.000000</td>\n",
       "      <td>5000.000000</td>\n",
       "      <td>5000.000000</td>\n",
       "      <td>5000.000000</td>\n",
       "      <td>5000.000000</td>\n",
       "    </tr>\n",
       "    <tr>\n",
       "      <th>mean</th>\n",
       "      <td>0.499000</td>\n",
       "      <td>30.952800</td>\n",
       "      <td>39916.359400</td>\n",
       "      <td>1.194200</td>\n",
       "      <td>0.148000</td>\n",
       "    </tr>\n",
       "    <tr>\n",
       "      <th>std</th>\n",
       "      <td>0.500049</td>\n",
       "      <td>8.440807</td>\n",
       "      <td>9900.082063</td>\n",
       "      <td>1.091387</td>\n",
       "      <td>0.463183</td>\n",
       "    </tr>\n",
       "    <tr>\n",
       "      <th>min</th>\n",
       "      <td>0.000000</td>\n",
       "      <td>18.000000</td>\n",
       "      <td>5300.000000</td>\n",
       "      <td>0.000000</td>\n",
       "      <td>0.000000</td>\n",
       "    </tr>\n",
       "    <tr>\n",
       "      <th>25%</th>\n",
       "      <td>0.000000</td>\n",
       "      <td>24.000000</td>\n",
       "      <td>33300.000000</td>\n",
       "      <td>0.000000</td>\n",
       "      <td>0.000000</td>\n",
       "    </tr>\n",
       "    <tr>\n",
       "      <th>50%</th>\n",
       "      <td>0.000000</td>\n",
       "      <td>30.000000</td>\n",
       "      <td>40200.000000</td>\n",
       "      <td>1.000000</td>\n",
       "      <td>0.000000</td>\n",
       "    </tr>\n",
       "    <tr>\n",
       "      <th>75%</th>\n",
       "      <td>1.000000</td>\n",
       "      <td>37.000000</td>\n",
       "      <td>46600.000000</td>\n",
       "      <td>2.000000</td>\n",
       "      <td>0.000000</td>\n",
       "    </tr>\n",
       "    <tr>\n",
       "      <th>max</th>\n",
       "      <td>1.000000</td>\n",
       "      <td>65.000000</td>\n",
       "      <td>79000.000000</td>\n",
       "      <td>6.000000</td>\n",
       "      <td>5.000000</td>\n",
       "    </tr>\n",
       "  </tbody>\n",
       "</table>\n",
       "</div>"
      ],
      "text/plain": [
       "               Пол      Возраст      Зарплата  Члены семьи  Страховые выплаты\n",
       "count  5000.000000  5000.000000   5000.000000  5000.000000        5000.000000\n",
       "mean      0.499000    30.952800  39916.359400     1.194200           0.148000\n",
       "std       0.500049     8.440807   9900.082063     1.091387           0.463183\n",
       "min       0.000000    18.000000   5300.000000     0.000000           0.000000\n",
       "25%       0.000000    24.000000  33300.000000     0.000000           0.000000\n",
       "50%       0.000000    30.000000  40200.000000     1.000000           0.000000\n",
       "75%       1.000000    37.000000  46600.000000     2.000000           0.000000\n",
       "max       1.000000    65.000000  79000.000000     6.000000           5.000000"
      ]
     },
     "execution_count": 7,
     "metadata": {},
     "output_type": "execute_result"
    }
   ],
   "source": [
    "df.describe()"
   ]
  },
  {
   "cell_type": "code",
   "execution_count": 8,
   "metadata": {},
   "outputs": [
    {
     "data": {
      "text/html": [
       "<div>\n",
       "<style scoped>\n",
       "    .dataframe tbody tr th:only-of-type {\n",
       "        vertical-align: middle;\n",
       "    }\n",
       "\n",
       "    .dataframe tbody tr th {\n",
       "        vertical-align: top;\n",
       "    }\n",
       "\n",
       "    .dataframe thead th {\n",
       "        text-align: right;\n",
       "    }\n",
       "</style>\n",
       "<table border=\"1\" class=\"dataframe\">\n",
       "  <thead>\n",
       "    <tr style=\"text-align: right;\">\n",
       "      <th></th>\n",
       "      <th>Пол</th>\n",
       "      <th>Возраст</th>\n",
       "      <th>Зарплата</th>\n",
       "      <th>Члены семьи</th>\n",
       "      <th>Страховые выплаты</th>\n",
       "    </tr>\n",
       "  </thead>\n",
       "  <tbody>\n",
       "    <tr>\n",
       "      <th>Пол</th>\n",
       "      <td>1.000000</td>\n",
       "      <td>0.002074</td>\n",
       "      <td>0.014910</td>\n",
       "      <td>-0.008991</td>\n",
       "      <td>0.010140</td>\n",
       "    </tr>\n",
       "    <tr>\n",
       "      <th>Возраст</th>\n",
       "      <td>0.002074</td>\n",
       "      <td>1.000000</td>\n",
       "      <td>-0.019093</td>\n",
       "      <td>-0.006692</td>\n",
       "      <td>0.651030</td>\n",
       "    </tr>\n",
       "    <tr>\n",
       "      <th>Зарплата</th>\n",
       "      <td>0.014910</td>\n",
       "      <td>-0.019093</td>\n",
       "      <td>1.000000</td>\n",
       "      <td>-0.030296</td>\n",
       "      <td>-0.014963</td>\n",
       "    </tr>\n",
       "    <tr>\n",
       "      <th>Члены семьи</th>\n",
       "      <td>-0.008991</td>\n",
       "      <td>-0.006692</td>\n",
       "      <td>-0.030296</td>\n",
       "      <td>1.000000</td>\n",
       "      <td>-0.036290</td>\n",
       "    </tr>\n",
       "    <tr>\n",
       "      <th>Страховые выплаты</th>\n",
       "      <td>0.010140</td>\n",
       "      <td>0.651030</td>\n",
       "      <td>-0.014963</td>\n",
       "      <td>-0.036290</td>\n",
       "      <td>1.000000</td>\n",
       "    </tr>\n",
       "  </tbody>\n",
       "</table>\n",
       "</div>"
      ],
      "text/plain": [
       "                        Пол   Возраст  Зарплата  Члены семьи  \\\n",
       "Пол                1.000000  0.002074  0.014910    -0.008991   \n",
       "Возраст            0.002074  1.000000 -0.019093    -0.006692   \n",
       "Зарплата           0.014910 -0.019093  1.000000    -0.030296   \n",
       "Члены семьи       -0.008991 -0.006692 -0.030296     1.000000   \n",
       "Страховые выплаты  0.010140  0.651030 -0.014963    -0.036290   \n",
       "\n",
       "                   Страховые выплаты  \n",
       "Пол                         0.010140  \n",
       "Возраст                     0.651030  \n",
       "Зарплата                   -0.014963  \n",
       "Члены семьи                -0.036290  \n",
       "Страховые выплаты           1.000000  "
      ]
     },
     "execution_count": 8,
     "metadata": {},
     "output_type": "execute_result"
    }
   ],
   "source": [
    "df.corr()"
   ]
  },
  {
   "cell_type": "markdown",
   "metadata": {},
   "source": [
    "## Умножение матриц"
   ]
  },
  {
   "cell_type": "markdown",
   "metadata": {},
   "source": [
    "Обозначения:\n",
    "\n",
    "- $X$ — матрица признаков (нулевой столбец состоит из единиц)\n",
    "\n",
    "- $y$ — вектор целевого признака\n",
    "\n",
    "- $P$ — матрица, на которую умножаются признаки\n",
    "\n",
    "- $w$ — вектор весов линейной регрессии (нулевой элемент равен сдвигу)"
   ]
  },
  {
   "cell_type": "markdown",
   "metadata": {},
   "source": [
    "Предсказания:\n",
    "\n",
    "$$\n",
    "a = Xw\n",
    "$$\n",
    "\n",
    "Задача обучения:\n",
    "\n",
    "$$\n",
    "w = \\arg\\min_w MSE(Xw, y)\n",
    "$$\n",
    "\n",
    "Формула обучения:\n",
    "\n",
    "$$\n",
    "w = (X^T X)^{-1} X^T y\n",
    "$$"
   ]
  },
  {
   "cell_type": "markdown",
   "metadata": {},
   "source": [
    "**Ответ:**\n",
    "Качество линейной регрессии не изменится\n",
    "\n",
    "\n",
    "**Обоснование:** \n"
   ]
  },
  {
   "cell_type": "markdown",
   "metadata": {},
   "source": [
    "$$\n",
    "PP^{-1} = E\n",
    "$$\n",
    "\n",
    "\n",
    "$$\n",
    "(AB)^{-1} =  B^{-1} A^{-1}\n",
    "$$\n",
    "\n",
    "\n",
    "$$\n",
    "(AB)^T =  B^T A^T\n",
    "$$"
   ]
  },
  {
   "cell_type": "markdown",
   "metadata": {},
   "source": [
    "$$\n",
    "R = XP\n",
    "$$"
   ]
  },
  {
   "cell_type": "markdown",
   "metadata": {},
   "source": [
    "P - обратимая матрица, на которую будет умножена основная матрица"
   ]
  },
  {
   "cell_type": "markdown",
   "metadata": {},
   "source": [
    "$$\n",
    "a_{1} = Rw\n",
    "$$\n",
    "\n",
    "\n",
    "$$\n",
    "a_{1} = R(R^T R)^{-1} R^T y\n",
    "$$\n",
    "\n",
    "\n",
    "$$\n",
    "a_{1} = XP((XP)^T XP)^{-1} (XP)^T y\n",
    "$$\n",
    "\n",
    "$$\n",
    "a_{1} = XP(P^T X^T XP)^{-1} P^T X^T y\n",
    "$$\n",
    "\n",
    "$$\n",
    "a_{1} = XPP^{-1}(X^T X)^{-1} (P^T)^{-1} P^T X^T y\n",
    "$$\n",
    "\n",
    "\n",
    "$$\n",
    "a_{1} = XE(X^T X)^{-1} X^T y\n",
    "$$\n",
    "\n",
    "\n",
    "$$\n",
    "a_{1} = X(X^T X)^{-1} X^T  y\n",
    "$$\n",
    "\n",
    "\n",
    "$$\n",
    "a_{1} = Xw\n",
    "$$\n",
    "\n",
    "\n",
    "$$\n",
    "a_{1} = a\n",
    "$$"
   ]
  },
  {
   "cell_type": "markdown",
   "metadata": {},
   "source": [
    "Значение а не меняется, если умножать матрицу признаков на обратимую матрицу"
   ]
  },
  {
   "cell_type": "code",
   "execution_count": 202,
   "metadata": {},
   "outputs": [],
   "source": [
    "features = df.drop('Страховые выплаты', axis=1)\n",
    "target = df['Страховые выплаты']"
   ]
  },
  {
   "cell_type": "code",
   "execution_count": 203,
   "metadata": {},
   "outputs": [
    {
     "data": {
      "text/plain": [
       "array([[0.14373719, 0.71624685, 0.44955447, 0.41642581],\n",
       "       [0.95372079, 0.7494472 , 0.10351734, 0.9885686 ],\n",
       "       [0.72443498, 0.48073037, 0.10235624, 0.70283922],\n",
       "       [0.96040108, 0.80266675, 0.26084026, 0.43024661]])"
      ]
     },
     "execution_count": 203,
     "metadata": {},
     "output_type": "execute_result"
    }
   ],
   "source": [
    "RM = np.random.rand(4,4)\n",
    "RM"
   ]
  },
  {
   "cell_type": "code",
   "execution_count": 204,
   "metadata": {
    "scrolled": true
   },
   "outputs": [
    {
     "data": {
      "text/plain": [
       "array([[-0.85392544, -2.73099246,  3.66260108,  1.11831276],\n",
       "       [ 0.19430929,  6.26963137, -9.48352746,  0.8983661 ],\n",
       "       [ 1.72891041, -8.95964436, 11.68522215, -0.17564881],\n",
       "       [ 0.49547365, -0.16860224,  2.43248799, -1.74156188]])"
      ]
     },
     "execution_count": 204,
     "metadata": {},
     "output_type": "execute_result"
    }
   ],
   "source": [
    "RMT = np.linalg.inv(RM)\n",
    "#матрица обратима\n",
    "RMT"
   ]
  },
  {
   "cell_type": "code",
   "execution_count": 194,
   "metadata": {},
   "outputs": [],
   "source": [
    "def LR2S(features, target):\n",
    "    model = LinearRegression()\n",
    "    model.fit(features, target)\n",
    "    R2 = r2_score(target, model.predict(features))\n",
    "    return R2"
   ]
  },
  {
   "cell_type": "code",
   "execution_count": 195,
   "metadata": {},
   "outputs": [
    {
     "data": {
      "text/plain": [
       "0.42494550308169177"
      ]
     },
     "execution_count": 195,
     "metadata": {},
     "output_type": "execute_result"
    }
   ],
   "source": [
    "#r2_score исходной матрицы\n",
    "LR2S_1 = LR2S(features, target)\n",
    "LR2S_1"
   ]
  },
  {
   "cell_type": "code",
   "execution_count": 193,
   "metadata": {},
   "outputs": [
    {
     "data": {
      "text/html": [
       "<div>\n",
       "<style scoped>\n",
       "    .dataframe tbody tr th:only-of-type {\n",
       "        vertical-align: middle;\n",
       "    }\n",
       "\n",
       "    .dataframe tbody tr th {\n",
       "        vertical-align: top;\n",
       "    }\n",
       "\n",
       "    .dataframe thead th {\n",
       "        text-align: right;\n",
       "    }\n",
       "</style>\n",
       "<table border=\"1\" class=\"dataframe\">\n",
       "  <thead>\n",
       "    <tr style=\"text-align: right;\">\n",
       "      <th></th>\n",
       "      <th>0</th>\n",
       "      <th>1</th>\n",
       "      <th>2</th>\n",
       "      <th>3</th>\n",
       "    </tr>\n",
       "  </thead>\n",
       "  <tbody>\n",
       "    <tr>\n",
       "      <th>0</th>\n",
       "      <td>21859.007410</td>\n",
       "      <td>19775.690953</td>\n",
       "      <td>7271.461991</td>\n",
       "      <td>19666.946974</td>\n",
       "    </tr>\n",
       "    <tr>\n",
       "      <th>1</th>\n",
       "      <td>16749.135555</td>\n",
       "      <td>15152.349471</td>\n",
       "      <td>5585.150681</td>\n",
       "      <td>15078.079352</td>\n",
       "    </tr>\n",
       "    <tr>\n",
       "      <th>2</th>\n",
       "      <td>9256.396116</td>\n",
       "      <td>8373.742701</td>\n",
       "      <td>3089.782307</td>\n",
       "      <td>8335.066976</td>\n",
       "    </tr>\n",
       "    <tr>\n",
       "      <th>3</th>\n",
       "      <td>18375.803652</td>\n",
       "      <td>16624.371123</td>\n",
       "      <td>6100.658436</td>\n",
       "      <td>16524.731380</td>\n",
       "    </tr>\n",
       "    <tr>\n",
       "      <th>4</th>\n",
       "      <td>11503.217453</td>\n",
       "      <td>10406.976538</td>\n",
       "      <td>3832.360049</td>\n",
       "      <td>10353.633061</td>\n",
       "    </tr>\n",
       "    <tr>\n",
       "      <th>...</th>\n",
       "      <td>...</td>\n",
       "      <td>...</td>\n",
       "      <td>...</td>\n",
       "      <td>...</td>\n",
       "    </tr>\n",
       "    <tr>\n",
       "      <th>4995</th>\n",
       "      <td>15733.503836</td>\n",
       "      <td>14233.952458</td>\n",
       "      <td>5232.738599</td>\n",
       "      <td>14154.592469</td>\n",
       "    </tr>\n",
       "    <tr>\n",
       "      <th>4996</th>\n",
       "      <td>23091.403981</td>\n",
       "      <td>20890.007189</td>\n",
       "      <td>7672.829352</td>\n",
       "      <td>20769.963913</td>\n",
       "    </tr>\n",
       "    <tr>\n",
       "      <th>4997</th>\n",
       "      <td>14939.238148</td>\n",
       "      <td>13515.452999</td>\n",
       "      <td>4962.533955</td>\n",
       "      <td>13436.078535</td>\n",
       "    </tr>\n",
       "    <tr>\n",
       "      <th>4998</th>\n",
       "      <td>14411.442788</td>\n",
       "      <td>13038.899133</td>\n",
       "      <td>4789.980975</td>\n",
       "      <td>12963.148982</td>\n",
       "    </tr>\n",
       "    <tr>\n",
       "      <th>4999</th>\n",
       "      <td>17891.891352</td>\n",
       "      <td>16186.866352</td>\n",
       "      <td>5946.713495</td>\n",
       "      <td>16094.352654</td>\n",
       "    </tr>\n",
       "  </tbody>\n",
       "</table>\n",
       "<p>5000 rows × 4 columns</p>\n",
       "</div>"
      ],
      "text/plain": [
       "                 0             1            2             3\n",
       "0     21859.007410  19775.690953  7271.461991  19666.946974\n",
       "1     16749.135555  15152.349471  5585.150681  15078.079352\n",
       "2      9256.396116   8373.742701  3089.782307   8335.066976\n",
       "3     18375.803652  16624.371123  6100.658436  16524.731380\n",
       "4     11503.217453  10406.976538  3832.360049  10353.633061\n",
       "...            ...           ...          ...           ...\n",
       "4995  15733.503836  14233.952458  5232.738599  14154.592469\n",
       "4996  23091.403981  20890.007189  7672.829352  20769.963913\n",
       "4997  14939.238148  13515.452999  4962.533955  13436.078535\n",
       "4998  14411.442788  13038.899133  4789.980975  12963.148982\n",
       "4999  17891.891352  16186.866352  5946.713495  16094.352654\n",
       "\n",
       "[5000 rows x 4 columns]"
      ]
     },
     "metadata": {},
     "output_type": "display_data"
    },
    {
     "data": {
      "text/plain": [
       "0.42494550308169965"
      ]
     },
     "execution_count": 193,
     "metadata": {},
     "output_type": "execute_result"
    }
   ],
   "source": [
    "#r2_score для features @ RM\n",
    "features_RM = features @ RM\n",
    "display(features_RM)\n",
    "LR2S(features_RM, target)"
   ]
  },
  {
   "cell_type": "markdown",
   "metadata": {},
   "source": [
    "## Алгоритм преобразования"
   ]
  },
  {
   "cell_type": "markdown",
   "metadata": {},
   "source": [
    "**Алгоритм**\n",
    "1. Матрица признаков умножается на 8;\n",
    "2. К матрице признаков прибавляется 5;\n",
    "3. Матрица признаков умножается на обратимую (квадратную) матрицу, сгенерированную случайным образом."
   ]
  },
  {
   "cell_type": "markdown",
   "metadata": {},
   "source": [
    "**Обоснование**"
   ]
  },
  {
   "cell_type": "code",
   "execution_count": 183,
   "metadata": {
    "scrolled": true
   },
   "outputs": [
    {
     "data": {
      "text/html": [
       "<div>\n",
       "<style scoped>\n",
       "    .dataframe tbody tr th:only-of-type {\n",
       "        vertical-align: middle;\n",
       "    }\n",
       "\n",
       "    .dataframe tbody tr th {\n",
       "        vertical-align: top;\n",
       "    }\n",
       "\n",
       "    .dataframe thead th {\n",
       "        text-align: right;\n",
       "    }\n",
       "</style>\n",
       "<table border=\"1\" class=\"dataframe\">\n",
       "  <thead>\n",
       "    <tr style=\"text-align: right;\">\n",
       "      <th></th>\n",
       "      <th>0</th>\n",
       "      <th>1</th>\n",
       "      <th>2</th>\n",
       "      <th>3</th>\n",
       "    </tr>\n",
       "  </thead>\n",
       "  <tbody>\n",
       "    <tr>\n",
       "      <th>0</th>\n",
       "      <td>174877.897153</td>\n",
       "      <td>158215.441822</td>\n",
       "      <td>58179.526082</td>\n",
       "      <td>157344.526028</td>\n",
       "    </tr>\n",
       "    <tr>\n",
       "      <th>1</th>\n",
       "      <td>133998.922315</td>\n",
       "      <td>121228.709961</td>\n",
       "      <td>44689.035606</td>\n",
       "      <td>120633.585049</td>\n",
       "    </tr>\n",
       "    <tr>\n",
       "      <th>2</th>\n",
       "      <td>74057.006798</td>\n",
       "      <td>66999.855804</td>\n",
       "      <td>24726.088611</td>\n",
       "      <td>66689.486042</td>\n",
       "    </tr>\n",
       "    <tr>\n",
       "      <th>3</th>\n",
       "      <td>147012.267088</td>\n",
       "      <td>133004.883176</td>\n",
       "      <td>48813.097644</td>\n",
       "      <td>132206.801279</td>\n",
       "    </tr>\n",
       "    <tr>\n",
       "      <th>4</th>\n",
       "      <td>92031.577494</td>\n",
       "      <td>83265.726500</td>\n",
       "      <td>30666.710546</td>\n",
       "      <td>82838.014723</td>\n",
       "    </tr>\n",
       "    <tr>\n",
       "      <th>...</th>\n",
       "      <td>...</td>\n",
       "      <td>...</td>\n",
       "      <td>...</td>\n",
       "      <td>...</td>\n",
       "    </tr>\n",
       "    <tr>\n",
       "      <th>4995</th>\n",
       "      <td>125873.868564</td>\n",
       "      <td>113881.533858</td>\n",
       "      <td>41869.738947</td>\n",
       "      <td>113245.689985</td>\n",
       "    </tr>\n",
       "    <tr>\n",
       "      <th>4996</th>\n",
       "      <td>184737.069718</td>\n",
       "      <td>167129.971710</td>\n",
       "      <td>61390.464974</td>\n",
       "      <td>166168.661541</td>\n",
       "    </tr>\n",
       "    <tr>\n",
       "      <th>4997</th>\n",
       "      <td>119519.743057</td>\n",
       "      <td>108133.538187</td>\n",
       "      <td>39708.101797</td>\n",
       "      <td>107497.578515</td>\n",
       "    </tr>\n",
       "    <tr>\n",
       "      <th>4998</th>\n",
       "      <td>115297.380180</td>\n",
       "      <td>104321.107259</td>\n",
       "      <td>38327.677958</td>\n",
       "      <td>103714.142095</td>\n",
       "    </tr>\n",
       "    <tr>\n",
       "      <th>4999</th>\n",
       "      <td>143140.968692</td>\n",
       "      <td>129504.845015</td>\n",
       "      <td>47581.538115</td>\n",
       "      <td>128763.771470</td>\n",
       "    </tr>\n",
       "  </tbody>\n",
       "</table>\n",
       "<p>5000 rows × 4 columns</p>\n",
       "</div>"
      ],
      "text/plain": [
       "                  0              1             2              3\n",
       "0     174877.897153  158215.441822  58179.526082  157344.526028\n",
       "1     133998.922315  121228.709961  44689.035606  120633.585049\n",
       "2      74057.006798   66999.855804  24726.088611   66689.486042\n",
       "3     147012.267088  133004.883176  48813.097644  132206.801279\n",
       "4      92031.577494   83265.726500  30666.710546   82838.014723\n",
       "...             ...            ...           ...            ...\n",
       "4995  125873.868564  113881.533858  41869.738947  113245.689985\n",
       "4996  184737.069718  167129.971710  61390.464974  166168.661541\n",
       "4997  119519.743057  108133.538187  39708.101797  107497.578515\n",
       "4998  115297.380180  104321.107259  38327.677958  103714.142095\n",
       "4999  143140.968692  129504.845015  47581.538115  128763.771470\n",
       "\n",
       "[5000 rows x 4 columns]"
      ]
     },
     "execution_count": 183,
     "metadata": {},
     "output_type": "execute_result"
    }
   ],
   "source": [
    "X = (features * 8 + 5) @ RM\n",
    "X"
   ]
  },
  {
   "cell_type": "markdown",
   "metadata": {},
   "source": [
    "## Проверка алгоритма"
   ]
  },
  {
   "cell_type": "code",
   "execution_count": 184,
   "metadata": {},
   "outputs": [
    {
     "data": {
      "text/plain": [
       "0.42494550308168033"
      ]
     },
     "execution_count": 184,
     "metadata": {},
     "output_type": "execute_result"
    }
   ],
   "source": [
    "LR2S(X, target)"
   ]
  },
  {
   "cell_type": "code",
   "execution_count": 185,
   "metadata": {},
   "outputs": [
    {
     "name": "stdout",
     "output_type": "stream",
     "text": [
      "Качество модели до преобразования: 0.42494550308169177 \n",
      "Качество модели после преобразования: 0.42494550308168033\n"
     ]
    }
   ],
   "source": [
    "print('Качество модели до преобразования:', LR2S_1,\n",
    "      '\\nКачество модели после преобразования:', LR2S(X, target))"
   ]
  },
  {
   "cell_type": "markdown",
   "metadata": {},
   "source": [
    "## Вывод"
   ]
  },
  {
   "cell_type": "markdown",
   "metadata": {},
   "source": [
    "Данные клиентов страховой компании защищены. При преобразовании качество моделей машинного обучения не ухудшилось."
   ]
  }
 ],
 "metadata": {
  "ExecuteTimeLog": [
   {
    "duration": 64,
    "start_time": "2022-10-23T11:15:30.787Z"
   },
   {
    "duration": 424,
    "start_time": "2022-10-23T11:15:32.436Z"
   },
   {
    "duration": 93,
    "start_time": "2022-10-23T11:15:32.863Z"
   },
   {
    "duration": 15,
    "start_time": "2022-10-23T11:15:44.265Z"
   },
   {
    "duration": 11,
    "start_time": "2022-10-23T11:15:53.661Z"
   },
   {
    "duration": 3,
    "start_time": "2022-10-23T11:16:41.240Z"
   },
   {
    "duration": 11,
    "start_time": "2022-10-23T11:16:49.705Z"
   },
   {
    "duration": 13,
    "start_time": "2022-10-23T11:16:59.311Z"
   },
   {
    "duration": 7,
    "start_time": "2022-10-23T11:17:31.904Z"
   },
   {
    "duration": 7,
    "start_time": "2022-10-23T11:17:32.400Z"
   },
   {
    "duration": 10,
    "start_time": "2022-10-23T11:17:47.355Z"
   },
   {
    "duration": 29,
    "start_time": "2022-10-23T11:17:59.443Z"
   },
   {
    "duration": 3,
    "start_time": "2022-10-23T11:18:53.520Z"
   },
   {
    "duration": 4,
    "start_time": "2022-10-23T11:23:52.926Z"
   },
   {
    "duration": 11,
    "start_time": "2022-10-23T11:24:03.105Z"
   },
   {
    "duration": 4,
    "start_time": "2022-10-23T11:24:09.190Z"
   },
   {
    "duration": 18,
    "start_time": "2022-10-23T11:24:09.997Z"
   },
   {
    "duration": 23,
    "start_time": "2022-10-23T11:24:58.086Z"
   },
   {
    "duration": 717,
    "start_time": "2022-10-23T11:41:51.792Z"
   },
   {
    "duration": 3,
    "start_time": "2022-10-23T11:55:43.090Z"
   },
   {
    "duration": 16,
    "start_time": "2022-10-23T11:55:43.371Z"
   },
   {
    "duration": 18,
    "start_time": "2022-10-23T11:55:43.718Z"
   },
   {
    "duration": 12,
    "start_time": "2022-10-23T11:55:44.197Z"
   },
   {
    "duration": 10,
    "start_time": "2022-10-23T11:55:45.510Z"
   },
   {
    "duration": 49,
    "start_time": "2022-10-23T11:55:59.048Z"
   },
   {
    "duration": 5,
    "start_time": "2022-10-23T11:56:08.015Z"
   },
   {
    "duration": 3,
    "start_time": "2022-10-23T12:07:00.560Z"
   },
   {
    "duration": 3,
    "start_time": "2022-10-23T12:07:45.382Z"
   },
   {
    "duration": 5,
    "start_time": "2022-10-23T12:08:18.874Z"
   },
   {
    "duration": 3,
    "start_time": "2022-10-23T12:08:52.804Z"
   },
   {
    "duration": 5,
    "start_time": "2022-10-23T12:08:53.289Z"
   },
   {
    "duration": 4,
    "start_time": "2022-10-23T12:08:57.155Z"
   },
   {
    "duration": 4,
    "start_time": "2022-10-23T12:08:58.905Z"
   },
   {
    "duration": 5,
    "start_time": "2022-10-23T12:08:59.401Z"
   },
   {
    "duration": 16,
    "start_time": "2022-10-23T12:09:13.707Z"
   },
   {
    "duration": 13,
    "start_time": "2022-10-23T12:10:40.509Z"
   },
   {
    "duration": 2,
    "start_time": "2022-10-23T12:10:42.422Z"
   },
   {
    "duration": 3,
    "start_time": "2022-10-23T12:10:42.902Z"
   },
   {
    "duration": 3,
    "start_time": "2022-10-23T12:12:24.722Z"
   },
   {
    "duration": 3,
    "start_time": "2022-10-23T12:12:28.928Z"
   },
   {
    "duration": 3,
    "start_time": "2022-10-23T12:12:30.621Z"
   },
   {
    "duration": 4,
    "start_time": "2022-10-23T12:12:31.242Z"
   },
   {
    "duration": 6,
    "start_time": "2022-10-23T12:12:40.655Z"
   },
   {
    "duration": 3,
    "start_time": "2022-10-23T12:12:42.894Z"
   },
   {
    "duration": 5,
    "start_time": "2022-10-23T12:12:43.364Z"
   },
   {
    "duration": 4,
    "start_time": "2022-10-23T12:12:46.683Z"
   },
   {
    "duration": 5,
    "start_time": "2022-10-23T12:12:47.591Z"
   },
   {
    "duration": 4,
    "start_time": "2022-10-23T12:12:49.983Z"
   },
   {
    "duration": 5,
    "start_time": "2022-10-23T12:12:50.395Z"
   },
   {
    "duration": 3,
    "start_time": "2022-10-23T12:12:59.154Z"
   },
   {
    "duration": 21,
    "start_time": "2022-10-23T12:13:41.806Z"
   },
   {
    "duration": 3,
    "start_time": "2022-10-23T12:13:50.068Z"
   },
   {
    "duration": 16,
    "start_time": "2022-10-23T12:13:50.589Z"
   },
   {
    "duration": 8,
    "start_time": "2022-10-23T12:13:50.974Z"
   },
   {
    "duration": 10,
    "start_time": "2022-10-23T12:13:51.340Z"
   },
   {
    "duration": 4,
    "start_time": "2022-10-23T12:13:51.691Z"
   },
   {
    "duration": 6,
    "start_time": "2022-10-23T12:13:53.546Z"
   },
   {
    "duration": 4,
    "start_time": "2022-10-23T12:13:53.946Z"
   },
   {
    "duration": 5,
    "start_time": "2022-10-23T12:13:54.372Z"
   },
   {
    "duration": 3,
    "start_time": "2022-10-23T12:13:54.834Z"
   },
   {
    "duration": 10,
    "start_time": "2022-10-23T12:13:55.342Z"
   },
   {
    "duration": 3,
    "start_time": "2022-10-23T12:14:48.845Z"
   },
   {
    "duration": 12,
    "start_time": "2022-10-23T12:14:49.233Z"
   },
   {
    "duration": 73,
    "start_time": "2022-10-23T12:15:16.994Z"
   },
   {
    "duration": 11,
    "start_time": "2022-10-23T12:15:22.560Z"
   },
   {
    "duration": 7,
    "start_time": "2022-10-23T12:16:38.756Z"
   },
   {
    "duration": 17,
    "start_time": "2022-10-23T12:16:48.098Z"
   },
   {
    "duration": 4,
    "start_time": "2022-10-23T12:17:13.433Z"
   },
   {
    "duration": 73,
    "start_time": "2022-10-23T12:17:14.352Z"
   },
   {
    "duration": 52,
    "start_time": "2022-10-23T12:17:27.332Z"
   },
   {
    "duration": 4,
    "start_time": "2022-10-23T12:17:34.638Z"
   },
   {
    "duration": 3,
    "start_time": "2022-10-23T12:17:35.049Z"
   },
   {
    "duration": 7,
    "start_time": "2022-10-23T12:17:40.738Z"
   },
   {
    "duration": 3,
    "start_time": "2022-10-23T12:17:41.583Z"
   },
   {
    "duration": 9,
    "start_time": "2022-10-23T12:18:05.859Z"
   },
   {
    "duration": 9,
    "start_time": "2022-10-23T12:19:58.033Z"
   },
   {
    "duration": 9,
    "start_time": "2022-10-23T12:19:59.885Z"
   },
   {
    "duration": 25,
    "start_time": "2022-10-23T12:20:00.304Z"
   },
   {
    "duration": 17,
    "start_time": "2022-10-23T12:45:22.665Z"
   },
   {
    "duration": 37,
    "start_time": "2022-10-23T12:45:32.993Z"
   },
   {
    "duration": 4,
    "start_time": "2022-10-23T12:46:07.761Z"
   },
   {
    "duration": 6,
    "start_time": "2022-10-23T12:46:08.474Z"
   },
   {
    "duration": 3,
    "start_time": "2022-10-23T12:46:09.138Z"
   },
   {
    "duration": 104,
    "start_time": "2022-10-23T12:46:09.709Z"
   },
   {
    "duration": 10,
    "start_time": "2022-10-23T12:46:10.447Z"
   },
   {
    "duration": 3,
    "start_time": "2022-10-23T12:46:23.637Z"
   },
   {
    "duration": 5,
    "start_time": "2022-10-23T12:46:24.102Z"
   },
   {
    "duration": 3,
    "start_time": "2022-10-23T12:46:24.560Z"
   },
   {
    "duration": 85,
    "start_time": "2022-10-23T12:46:25.026Z"
   },
   {
    "duration": 19,
    "start_time": "2022-10-23T12:46:25.527Z"
   },
   {
    "duration": 3,
    "start_time": "2022-10-23T12:47:31.740Z"
   },
   {
    "duration": 170,
    "start_time": "2022-10-23T12:47:32.254Z"
   },
   {
    "duration": 3,
    "start_time": "2022-10-23T12:48:39.689Z"
   },
   {
    "duration": 15,
    "start_time": "2022-10-23T12:48:40.524Z"
   },
   {
    "duration": 5,
    "start_time": "2022-10-23T12:49:02.552Z"
   },
   {
    "duration": 14,
    "start_time": "2022-10-23T12:49:03.021Z"
   },
   {
    "duration": 3,
    "start_time": "2022-10-23T12:51:45.626Z"
   },
   {
    "duration": 204,
    "start_time": "2022-10-23T12:51:46.022Z"
   },
   {
    "duration": 3,
    "start_time": "2022-10-23T12:52:47.668Z"
   },
   {
    "duration": 4,
    "start_time": "2022-10-23T12:52:52.877Z"
   },
   {
    "duration": 90,
    "start_time": "2022-10-23T12:52:53.533Z"
   },
   {
    "duration": 7,
    "start_time": "2022-10-23T12:53:00.808Z"
   },
   {
    "duration": 2,
    "start_time": "2022-10-23T12:53:08.557Z"
   },
   {
    "duration": 58,
    "start_time": "2022-10-23T12:53:09.061Z"
   },
   {
    "duration": 10,
    "start_time": "2022-10-23T12:53:17.934Z"
   },
   {
    "duration": 4,
    "start_time": "2022-10-23T12:53:20.448Z"
   },
   {
    "duration": 43,
    "start_time": "2022-10-23T12:53:20.894Z"
   },
   {
    "duration": 8,
    "start_time": "2022-10-23T12:54:55.385Z"
   },
   {
    "duration": 3,
    "start_time": "2022-10-23T12:54:57.195Z"
   },
   {
    "duration": 156,
    "start_time": "2022-10-23T12:54:57.659Z"
   },
   {
    "duration": 4,
    "start_time": "2022-10-23T12:57:38.332Z"
   },
   {
    "duration": 16,
    "start_time": "2022-10-23T12:57:38.663Z"
   },
   {
    "duration": 3,
    "start_time": "2022-10-23T12:57:44.388Z"
   },
   {
    "duration": 19,
    "start_time": "2022-10-23T12:57:44.730Z"
   },
   {
    "duration": 4,
    "start_time": "2022-10-23T12:58:26.027Z"
   },
   {
    "duration": 18,
    "start_time": "2022-10-23T12:58:26.034Z"
   },
   {
    "duration": 11,
    "start_time": "2022-10-23T12:58:26.054Z"
   },
   {
    "duration": 15,
    "start_time": "2022-10-23T12:58:26.066Z"
   },
   {
    "duration": 4,
    "start_time": "2022-10-23T12:58:26.084Z"
   },
   {
    "duration": 5,
    "start_time": "2022-10-23T12:58:26.090Z"
   },
   {
    "duration": 18,
    "start_time": "2022-10-23T12:58:26.096Z"
   },
   {
    "duration": 22,
    "start_time": "2022-10-23T12:58:26.116Z"
   },
   {
    "duration": 16,
    "start_time": "2022-10-23T12:58:26.139Z"
   },
   {
    "duration": 20,
    "start_time": "2022-10-23T12:58:26.209Z"
   },
   {
    "duration": 0,
    "start_time": "2022-10-23T12:58:26.231Z"
   },
   {
    "duration": 4,
    "start_time": "2022-10-23T12:58:47.595Z"
   },
   {
    "duration": 4,
    "start_time": "2022-10-23T12:58:47.973Z"
   },
   {
    "duration": 5,
    "start_time": "2022-10-23T12:58:48.653Z"
   },
   {
    "duration": 3,
    "start_time": "2022-10-23T12:58:49.235Z"
   },
   {
    "duration": 16,
    "start_time": "2022-10-23T12:58:49.848Z"
   },
   {
    "duration": 3,
    "start_time": "2022-10-23T12:59:18.105Z"
   },
   {
    "duration": 8,
    "start_time": "2022-10-23T12:59:18.894Z"
   },
   {
    "duration": 23,
    "start_time": "2022-10-23T12:59:21.936Z"
   },
   {
    "duration": 14,
    "start_time": "2022-10-23T12:59:33.465Z"
   },
   {
    "duration": 21,
    "start_time": "2022-10-23T12:59:33.924Z"
   },
   {
    "duration": 18,
    "start_time": "2022-10-23T12:59:59.989Z"
   },
   {
    "duration": 8,
    "start_time": "2022-10-23T13:05:51.794Z"
   },
   {
    "duration": 35,
    "start_time": "2022-10-23T13:06:01.621Z"
   },
   {
    "duration": 23,
    "start_time": "2022-10-23T13:06:32.701Z"
   },
   {
    "duration": 11,
    "start_time": "2022-10-23T13:07:35.772Z"
   },
   {
    "duration": 7,
    "start_time": "2022-10-23T13:09:47.793Z"
   },
   {
    "duration": 12,
    "start_time": "2022-10-23T13:10:33.734Z"
   },
   {
    "duration": 9,
    "start_time": "2022-10-23T13:11:01.168Z"
   },
   {
    "duration": 44,
    "start_time": "2022-10-23T13:11:28.548Z"
   },
   {
    "duration": 47,
    "start_time": "2022-10-23T13:11:32.544Z"
   },
   {
    "duration": 12,
    "start_time": "2022-10-23T13:11:35.883Z"
   },
   {
    "duration": 10,
    "start_time": "2022-10-23T13:11:49.232Z"
   },
   {
    "duration": 12,
    "start_time": "2022-10-23T13:11:55.134Z"
   },
   {
    "duration": 11,
    "start_time": "2022-10-23T13:12:00.246Z"
   },
   {
    "duration": 9,
    "start_time": "2022-10-23T13:12:03.370Z"
   },
   {
    "duration": 13,
    "start_time": "2022-10-23T13:12:06.303Z"
   },
   {
    "duration": 14,
    "start_time": "2022-10-23T14:20:41.214Z"
   },
   {
    "duration": 101,
    "start_time": "2022-10-23T14:25:28.709Z"
   },
   {
    "duration": 9,
    "start_time": "2022-10-23T14:25:35.389Z"
   },
   {
    "duration": 56,
    "start_time": "2022-10-23T14:28:59.161Z"
   },
   {
    "duration": 43,
    "start_time": "2022-10-23T14:29:03.375Z"
   },
   {
    "duration": 3,
    "start_time": "2022-10-23T14:44:47.456Z"
   },
   {
    "duration": 3,
    "start_time": "2022-10-23T14:44:52.278Z"
   },
   {
    "duration": 30,
    "start_time": "2022-10-23T14:44:52.283Z"
   },
   {
    "duration": 18,
    "start_time": "2022-10-23T14:44:52.315Z"
   },
   {
    "duration": 50,
    "start_time": "2022-10-23T14:44:52.334Z"
   },
   {
    "duration": 23,
    "start_time": "2022-10-23T14:44:52.387Z"
   },
   {
    "duration": 11,
    "start_time": "2022-10-23T14:44:52.412Z"
   },
   {
    "duration": 20,
    "start_time": "2022-10-23T14:44:52.425Z"
   },
   {
    "duration": 25,
    "start_time": "2022-10-23T14:44:52.447Z"
   },
   {
    "duration": 37,
    "start_time": "2022-10-23T14:44:52.473Z"
   },
   {
    "duration": 96,
    "start_time": "2022-10-23T14:44:52.516Z"
   },
   {
    "duration": 154,
    "start_time": "2022-10-23T14:44:52.614Z"
   },
   {
    "duration": 125,
    "start_time": "2022-10-23T14:44:52.809Z"
   },
   {
    "duration": 32,
    "start_time": "2022-10-23T14:44:52.936Z"
   },
   {
    "duration": 119,
    "start_time": "2022-10-23T14:44:53.011Z"
   },
   {
    "duration": 3,
    "start_time": "2022-10-23T14:49:10.283Z"
   },
   {
    "duration": 49,
    "start_time": "2022-10-23T14:49:10.288Z"
   },
   {
    "duration": 19,
    "start_time": "2022-10-23T14:49:10.339Z"
   },
   {
    "duration": 35,
    "start_time": "2022-10-23T14:49:10.359Z"
   },
   {
    "duration": 21,
    "start_time": "2022-10-23T14:49:10.397Z"
   },
   {
    "duration": 31,
    "start_time": "2022-10-23T14:49:10.419Z"
   },
   {
    "duration": 30,
    "start_time": "2022-10-23T14:49:10.452Z"
   },
   {
    "duration": 28,
    "start_time": "2022-10-23T14:49:10.484Z"
   },
   {
    "duration": 111,
    "start_time": "2022-10-23T14:49:10.519Z"
   },
   {
    "duration": 181,
    "start_time": "2022-10-23T14:49:10.632Z"
   },
   {
    "duration": 111,
    "start_time": "2022-10-23T14:49:10.815Z"
   },
   {
    "duration": 206,
    "start_time": "2022-10-23T14:49:10.928Z"
   },
   {
    "duration": 29,
    "start_time": "2022-10-23T14:49:11.135Z"
   },
   {
    "duration": 163,
    "start_time": "2022-10-23T14:49:11.166Z"
   },
   {
    "duration": 4,
    "start_time": "2022-10-23T14:51:31.323Z"
   },
   {
    "duration": 3,
    "start_time": "2022-10-23T14:52:15.001Z"
   },
   {
    "duration": 11,
    "start_time": "2022-10-23T14:52:15.458Z"
   },
   {
    "duration": 3,
    "start_time": "2022-10-23T14:52:30.028Z"
   },
   {
    "duration": 11,
    "start_time": "2022-10-23T14:52:31.429Z"
   },
   {
    "duration": 3,
    "start_time": "2022-10-23T14:52:37.228Z"
   },
   {
    "duration": 9,
    "start_time": "2022-10-23T14:52:37.389Z"
   },
   {
    "duration": 17,
    "start_time": "2022-10-23T14:52:39.526Z"
   },
   {
    "duration": 3,
    "start_time": "2022-10-23T14:53:06.177Z"
   },
   {
    "duration": 17,
    "start_time": "2022-10-23T14:53:06.509Z"
   },
   {
    "duration": 4,
    "start_time": "2022-10-23T14:53:11.041Z"
   },
   {
    "duration": 5,
    "start_time": "2022-10-23T14:53:11.309Z"
   },
   {
    "duration": 5,
    "start_time": "2022-10-23T14:53:11.861Z"
   },
   {
    "duration": 4,
    "start_time": "2022-10-23T14:53:18.577Z"
   },
   {
    "duration": 6,
    "start_time": "2022-10-23T14:53:19.007Z"
   },
   {
    "duration": 6,
    "start_time": "2022-10-23T14:53:20.048Z"
   },
   {
    "duration": 4,
    "start_time": "2022-10-23T14:53:34.434Z"
   },
   {
    "duration": 5,
    "start_time": "2022-10-23T14:53:34.722Z"
   },
   {
    "duration": 8,
    "start_time": "2022-10-23T14:53:35.497Z"
   },
   {
    "duration": 48,
    "start_time": "2022-10-27T04:41:44.152Z"
   },
   {
    "duration": 1044,
    "start_time": "2022-10-27T04:41:51.208Z"
   },
   {
    "duration": 85,
    "start_time": "2022-10-27T04:41:52.254Z"
   },
   {
    "duration": 15,
    "start_time": "2022-10-27T04:41:52.341Z"
   },
   {
    "duration": 11,
    "start_time": "2022-10-27T04:41:52.358Z"
   },
   {
    "duration": 5,
    "start_time": "2022-10-27T04:41:52.627Z"
   },
   {
    "duration": 26,
    "start_time": "2022-10-27T04:41:56.528Z"
   },
   {
    "duration": 11,
    "start_time": "2022-10-27T04:42:12.437Z"
   },
   {
    "duration": 73,
    "start_time": "2022-10-27T04:43:28.032Z"
   }
  ],
  "kernelspec": {
   "display_name": "Python 3 (ipykernel)",
   "language": "python",
   "name": "python3"
  },
  "language_info": {
   "codemirror_mode": {
    "name": "ipython",
    "version": 3
   },
   "file_extension": ".py",
   "mimetype": "text/x-python",
   "name": "python",
   "nbconvert_exporter": "python",
   "pygments_lexer": "ipython3",
   "version": "3.9.12"
  },
  "toc": {
   "base_numbering": 1,
   "nav_menu": {},
   "number_sections": true,
   "sideBar": true,
   "skip_h1_title": true,
   "title_cell": "Содержание",
   "title_sidebar": "Contents",
   "toc_cell": true,
   "toc_position": {
    "height": "calc(100% - 180px)",
    "left": "10px",
    "top": "150px",
    "width": "165px"
   },
   "toc_section_display": true,
   "toc_window_display": true
  }
 },
 "nbformat": 4,
 "nbformat_minor": 2
}
