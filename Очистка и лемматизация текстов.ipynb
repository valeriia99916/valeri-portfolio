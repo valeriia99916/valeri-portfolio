{
 "cells": [
  {
   "cell_type": "markdown",
   "id": "8f9b8e18",
   "metadata": {},
   "source": [
    "# Проект для Интернет-магазина"
   ]
  },
  {
   "cell_type": "markdown",
   "id": "c1a059f3",
   "metadata": {},
   "source": [
    "# Описание проекта\n",
    "\n",
    "Интернет-магазин  запускает новый сервис. Теперь пользователи могут редактировать и дополнять описания товаров, как в вики-сообществах. То есть клиенты предлагают свои правки и комментируют изменения других. Магазину нужен инструмент, который будет искать токсичные комментарии и отправлять их на модерацию.\n",
    "\n",
    "Столбец text содержит текст комментария, а toxic — целевой признак."
   ]
  },
  {
   "cell_type": "code",
   "execution_count": 12,
   "id": "f696763d",
   "metadata": {},
   "outputs": [
    {
     "name": "stderr",
     "output_type": "stream",
     "text": [
      "[nltk_data] Downloading package wordnet to /home/jovyan/nltk_data...\n",
      "[nltk_data]   Package wordnet is already up-to-date!\n",
      "[nltk_data] Downloading package stopwords to /home/jovyan/nltk_data...\n",
      "[nltk_data]   Package stopwords is already up-to-date!\n"
     ]
    }
   ],
   "source": [
    "import pandas as pd\n",
    "import nltk\n",
    "nltk.download('wordnet')\n",
    "import re\n",
    "import nltk\n",
    "nltk.download('stopwords')\n",
    "from nltk.stem import WordNetLemmatizer\n",
    "from nltk.corpus import stopwords as nltk_stopwords\n",
    "from sklearn.model_selection import train_test_split\n",
    "import warnings\n",
    "warnings.filterwarnings('ignore')\n",
    "from sklearn.feature_extraction.text import TfidfVectorizer\n",
    "\n",
    "from sklearn.pipeline import Pipeline\n",
    "from sklearn.model_selection import GridSearchCV\n",
    "from sklearn.linear_model import LogisticRegression\n",
    "from sklearn.ensemble import RandomForestClassifier\n",
    "from sklearn.metrics import f1_score"
   ]
  },
  {
   "cell_type": "markdown",
   "id": "241d9b8d",
   "metadata": {},
   "source": [
    "# Подготовка данных"
   ]
  },
  {
   "cell_type": "code",
   "execution_count": 4,
   "id": "d9690149",
   "metadata": {},
   "outputs": [],
   "source": [
    "df = pd.read_csv('/datasets/toxic_comments.csv')"
   ]
  },
  {
   "cell_type": "code",
   "execution_count": 5,
   "id": "1cdaa962",
   "metadata": {},
   "outputs": [
    {
     "data": {
      "text/html": [
       "<div>\n",
       "<style scoped>\n",
       "    .dataframe tbody tr th:only-of-type {\n",
       "        vertical-align: middle;\n",
       "    }\n",
       "\n",
       "    .dataframe tbody tr th {\n",
       "        vertical-align: top;\n",
       "    }\n",
       "\n",
       "    .dataframe thead th {\n",
       "        text-align: right;\n",
       "    }\n",
       "</style>\n",
       "<table border=\"1\" class=\"dataframe\">\n",
       "  <thead>\n",
       "    <tr style=\"text-align: right;\">\n",
       "      <th></th>\n",
       "      <th>Unnamed: 0</th>\n",
       "      <th>text</th>\n",
       "      <th>toxic</th>\n",
       "    </tr>\n",
       "  </thead>\n",
       "  <tbody>\n",
       "    <tr>\n",
       "      <th>0</th>\n",
       "      <td>0</td>\n",
       "      <td>Explanation\\nWhy the edits made under my usern...</td>\n",
       "      <td>0</td>\n",
       "    </tr>\n",
       "    <tr>\n",
       "      <th>1</th>\n",
       "      <td>1</td>\n",
       "      <td>D'aww! He matches this background colour I'm s...</td>\n",
       "      <td>0</td>\n",
       "    </tr>\n",
       "    <tr>\n",
       "      <th>2</th>\n",
       "      <td>2</td>\n",
       "      <td>Hey man, I'm really not trying to edit war. It...</td>\n",
       "      <td>0</td>\n",
       "    </tr>\n",
       "    <tr>\n",
       "      <th>3</th>\n",
       "      <td>3</td>\n",
       "      <td>\"\\nMore\\nI can't make any real suggestions on ...</td>\n",
       "      <td>0</td>\n",
       "    </tr>\n",
       "    <tr>\n",
       "      <th>4</th>\n",
       "      <td>4</td>\n",
       "      <td>You, sir, are my hero. Any chance you remember...</td>\n",
       "      <td>0</td>\n",
       "    </tr>\n",
       "    <tr>\n",
       "      <th>5</th>\n",
       "      <td>5</td>\n",
       "      <td>\"\\n\\nCongratulations from me as well, use the ...</td>\n",
       "      <td>0</td>\n",
       "    </tr>\n",
       "    <tr>\n",
       "      <th>6</th>\n",
       "      <td>6</td>\n",
       "      <td>COCKSUCKER BEFORE YOU PISS AROUND ON MY WORK</td>\n",
       "      <td>1</td>\n",
       "    </tr>\n",
       "    <tr>\n",
       "      <th>7</th>\n",
       "      <td>7</td>\n",
       "      <td>Your vandalism to the Matt Shirvington article...</td>\n",
       "      <td>0</td>\n",
       "    </tr>\n",
       "    <tr>\n",
       "      <th>8</th>\n",
       "      <td>8</td>\n",
       "      <td>Sorry if the word 'nonsense' was offensive to ...</td>\n",
       "      <td>0</td>\n",
       "    </tr>\n",
       "    <tr>\n",
       "      <th>9</th>\n",
       "      <td>9</td>\n",
       "      <td>alignment on this subject and which are contra...</td>\n",
       "      <td>0</td>\n",
       "    </tr>\n",
       "    <tr>\n",
       "      <th>10</th>\n",
       "      <td>10</td>\n",
       "      <td>\"\\nFair use rationale for Image:Wonju.jpg\\n\\nT...</td>\n",
       "      <td>0</td>\n",
       "    </tr>\n",
       "    <tr>\n",
       "      <th>11</th>\n",
       "      <td>11</td>\n",
       "      <td>bbq \\n\\nbe a man and lets discuss it-maybe ove...</td>\n",
       "      <td>0</td>\n",
       "    </tr>\n",
       "    <tr>\n",
       "      <th>12</th>\n",
       "      <td>12</td>\n",
       "      <td>Hey... what is it..\\n@ | talk .\\nWhat is it......</td>\n",
       "      <td>1</td>\n",
       "    </tr>\n",
       "    <tr>\n",
       "      <th>13</th>\n",
       "      <td>13</td>\n",
       "      <td>Before you start throwing accusations and warn...</td>\n",
       "      <td>0</td>\n",
       "    </tr>\n",
       "    <tr>\n",
       "      <th>14</th>\n",
       "      <td>14</td>\n",
       "      <td>Oh, and the girl above started her arguments w...</td>\n",
       "      <td>0</td>\n",
       "    </tr>\n",
       "    <tr>\n",
       "      <th>15</th>\n",
       "      <td>15</td>\n",
       "      <td>\"\\n\\nJuelz Santanas Age\\n\\nIn 2002, Juelz Sant...</td>\n",
       "      <td>0</td>\n",
       "    </tr>\n",
       "    <tr>\n",
       "      <th>16</th>\n",
       "      <td>16</td>\n",
       "      <td>Bye! \\n\\nDon't look, come or think of comming ...</td>\n",
       "      <td>1</td>\n",
       "    </tr>\n",
       "    <tr>\n",
       "      <th>17</th>\n",
       "      <td>17</td>\n",
       "      <td>REDIRECT Talk:Voydan Pop Georgiev- Chernodrinski</td>\n",
       "      <td>0</td>\n",
       "    </tr>\n",
       "    <tr>\n",
       "      <th>18</th>\n",
       "      <td>18</td>\n",
       "      <td>The Mitsurugi point made no sense - why not ar...</td>\n",
       "      <td>0</td>\n",
       "    </tr>\n",
       "    <tr>\n",
       "      <th>19</th>\n",
       "      <td>19</td>\n",
       "      <td>Don't mean to bother you \\n\\nI see that you're...</td>\n",
       "      <td>0</td>\n",
       "    </tr>\n",
       "    <tr>\n",
       "      <th>20</th>\n",
       "      <td>20</td>\n",
       "      <td>\"\\n\\n Regarding your recent edits \\n\\nOnce aga...</td>\n",
       "      <td>0</td>\n",
       "    </tr>\n",
       "    <tr>\n",
       "      <th>21</th>\n",
       "      <td>21</td>\n",
       "      <td>\"\\nGood to know. About me, yeah, I'm studying ...</td>\n",
       "      <td>0</td>\n",
       "    </tr>\n",
       "    <tr>\n",
       "      <th>22</th>\n",
       "      <td>22</td>\n",
       "      <td>\"\\n\\n Snowflakes are NOT always symmetrical! \\...</td>\n",
       "      <td>0</td>\n",
       "    </tr>\n",
       "    <tr>\n",
       "      <th>23</th>\n",
       "      <td>23</td>\n",
       "      <td>\"\\n\\n The Signpost: 24 September 2012 \\n\\n Rea...</td>\n",
       "      <td>0</td>\n",
       "    </tr>\n",
       "    <tr>\n",
       "      <th>24</th>\n",
       "      <td>24</td>\n",
       "      <td>\"\\n\\nRe-considering 1st paragraph edit?\\nI don...</td>\n",
       "      <td>0</td>\n",
       "    </tr>\n",
       "    <tr>\n",
       "      <th>25</th>\n",
       "      <td>25</td>\n",
       "      <td>Radial symmetry \\n\\nSeveral now extinct lineag...</td>\n",
       "      <td>0</td>\n",
       "    </tr>\n",
       "    <tr>\n",
       "      <th>26</th>\n",
       "      <td>26</td>\n",
       "      <td>There's no need to apologize. A Wikipedia arti...</td>\n",
       "      <td>0</td>\n",
       "    </tr>\n",
       "    <tr>\n",
       "      <th>27</th>\n",
       "      <td>27</td>\n",
       "      <td>Yes, because the mother of the child in the ca...</td>\n",
       "      <td>0</td>\n",
       "    </tr>\n",
       "    <tr>\n",
       "      <th>28</th>\n",
       "      <td>28</td>\n",
       "      <td>\"\\nOk. But it will take a bit of work but I ca...</td>\n",
       "      <td>0</td>\n",
       "    </tr>\n",
       "    <tr>\n",
       "      <th>29</th>\n",
       "      <td>29</td>\n",
       "      <td>\"== A barnstar for you! ==\\n\\n  The Real Life ...</td>\n",
       "      <td>0</td>\n",
       "    </tr>\n",
       "  </tbody>\n",
       "</table>\n",
       "</div>"
      ],
      "text/plain": [
       "    Unnamed: 0                                               text  toxic\n",
       "0            0  Explanation\\nWhy the edits made under my usern...      0\n",
       "1            1  D'aww! He matches this background colour I'm s...      0\n",
       "2            2  Hey man, I'm really not trying to edit war. It...      0\n",
       "3            3  \"\\nMore\\nI can't make any real suggestions on ...      0\n",
       "4            4  You, sir, are my hero. Any chance you remember...      0\n",
       "5            5  \"\\n\\nCongratulations from me as well, use the ...      0\n",
       "6            6       COCKSUCKER BEFORE YOU PISS AROUND ON MY WORK      1\n",
       "7            7  Your vandalism to the Matt Shirvington article...      0\n",
       "8            8  Sorry if the word 'nonsense' was offensive to ...      0\n",
       "9            9  alignment on this subject and which are contra...      0\n",
       "10          10  \"\\nFair use rationale for Image:Wonju.jpg\\n\\nT...      0\n",
       "11          11  bbq \\n\\nbe a man and lets discuss it-maybe ove...      0\n",
       "12          12  Hey... what is it..\\n@ | talk .\\nWhat is it......      1\n",
       "13          13  Before you start throwing accusations and warn...      0\n",
       "14          14  Oh, and the girl above started her arguments w...      0\n",
       "15          15  \"\\n\\nJuelz Santanas Age\\n\\nIn 2002, Juelz Sant...      0\n",
       "16          16  Bye! \\n\\nDon't look, come or think of comming ...      1\n",
       "17          17   REDIRECT Talk:Voydan Pop Georgiev- Chernodrinski      0\n",
       "18          18  The Mitsurugi point made no sense - why not ar...      0\n",
       "19          19  Don't mean to bother you \\n\\nI see that you're...      0\n",
       "20          20  \"\\n\\n Regarding your recent edits \\n\\nOnce aga...      0\n",
       "21          21  \"\\nGood to know. About me, yeah, I'm studying ...      0\n",
       "22          22  \"\\n\\n Snowflakes are NOT always symmetrical! \\...      0\n",
       "23          23  \"\\n\\n The Signpost: 24 September 2012 \\n\\n Rea...      0\n",
       "24          24  \"\\n\\nRe-considering 1st paragraph edit?\\nI don...      0\n",
       "25          25  Radial symmetry \\n\\nSeveral now extinct lineag...      0\n",
       "26          26  There's no need to apologize. A Wikipedia arti...      0\n",
       "27          27  Yes, because the mother of the child in the ca...      0\n",
       "28          28  \"\\nOk. But it will take a bit of work but I ca...      0\n",
       "29          29  \"== A barnstar for you! ==\\n\\n  The Real Life ...      0"
      ]
     },
     "execution_count": 5,
     "metadata": {},
     "output_type": "execute_result"
    }
   ],
   "source": [
    "df.head(30)"
   ]
  },
  {
   "cell_type": "code",
   "execution_count": 6,
   "id": "eec18c83",
   "metadata": {},
   "outputs": [
    {
     "name": "stdout",
     "output_type": "stream",
     "text": [
      "<class 'pandas.core.frame.DataFrame'>\n",
      "RangeIndex: 159292 entries, 0 to 159291\n",
      "Data columns (total 3 columns):\n",
      " #   Column      Non-Null Count   Dtype \n",
      "---  ------      --------------   ----- \n",
      " 0   Unnamed: 0  159292 non-null  int64 \n",
      " 1   text        159292 non-null  object\n",
      " 2   toxic       159292 non-null  int64 \n",
      "dtypes: int64(2), object(1)\n",
      "memory usage: 3.6+ MB\n"
     ]
    }
   ],
   "source": [
    "df.info()"
   ]
  },
  {
   "cell_type": "code",
   "execution_count": 8,
   "id": "9e40e31d",
   "metadata": {},
   "outputs": [],
   "source": [
    "#очистка текста\n",
    "def clear_text(text):\n",
    "    text = re.sub(r'(?:\\n|\\r)',' ', text)\n",
    "    text = re.sub(r'[^a-zA-Z ]+',' ', text).strip()\n",
    "    text = text.lower()\n",
    "    \n",
    "    return text"
   ]
  },
  {
   "cell_type": "code",
   "execution_count": 9,
   "id": "253256a7",
   "metadata": {},
   "outputs": [],
   "source": [
    "df['text'] = df['text'].apply(clear_text)"
   ]
  },
  {
   "cell_type": "code",
   "execution_count": 10,
   "id": "d1bdb53b",
   "metadata": {},
   "outputs": [],
   "source": [
    "corpus = df['text'].values"
   ]
  },
  {
   "cell_type": "code",
   "execution_count": 15,
   "id": "e58b863c",
   "metadata": {},
   "outputs": [],
   "source": [
    "#лемматизация\n",
    "WNL = WordNetLemmatizer()\n",
    "def lemmatize(text):\n",
    "    text_new = []\n",
    "    for sentence in corpus:\n",
    "        word_list = nltk.word_tokenize(sentence)\n",
    "        text_new.append(' '.join([WNL.lemmatize(w) for w in word_list]))\n",
    "    return text_new"
   ]
  },
  {
   "cell_type": "code",
   "execution_count": 16,
   "id": "2a578b79",
   "metadata": {},
   "outputs": [],
   "source": [
    "corpus[0] = lemmatize(corpus[0])"
   ]
  },
  {
   "cell_type": "code",
   "execution_count": 19,
   "id": "3c3a4f6a",
   "metadata": {},
   "outputs": [],
   "source": [
    "df['text'] = corpus[0]"
   ]
  },
  {
   "cell_type": "code",
   "execution_count": 21,
   "id": "42de0c9f",
   "metadata": {},
   "outputs": [],
   "source": [
    "df = df.drop_duplicates()"
   ]
  },
  {
   "cell_type": "code",
   "execution_count": 22,
   "id": "e1c65b8a",
   "metadata": {},
   "outputs": [
    {
     "data": {
      "text/html": [
       "<div>\n",
       "<style scoped>\n",
       "    .dataframe tbody tr th:only-of-type {\n",
       "        vertical-align: middle;\n",
       "    }\n",
       "\n",
       "    .dataframe tbody tr th {\n",
       "        vertical-align: top;\n",
       "    }\n",
       "\n",
       "    .dataframe thead th {\n",
       "        text-align: right;\n",
       "    }\n",
       "</style>\n",
       "<table border=\"1\" class=\"dataframe\">\n",
       "  <thead>\n",
       "    <tr style=\"text-align: right;\">\n",
       "      <th></th>\n",
       "      <th>Unnamed: 0</th>\n",
       "      <th>text</th>\n",
       "      <th>toxic</th>\n",
       "    </tr>\n",
       "  </thead>\n",
       "  <tbody>\n",
       "    <tr>\n",
       "      <th>0</th>\n",
       "      <td>0</td>\n",
       "      <td>explanation why the edits made under my userna...</td>\n",
       "      <td>0</td>\n",
       "    </tr>\n",
       "    <tr>\n",
       "      <th>1</th>\n",
       "      <td>1</td>\n",
       "      <td>d aww he match this background colour i m seem...</td>\n",
       "      <td>0</td>\n",
       "    </tr>\n",
       "    <tr>\n",
       "      <th>2</th>\n",
       "      <td>2</td>\n",
       "      <td>hey man i m really not trying to edit war it s...</td>\n",
       "      <td>0</td>\n",
       "    </tr>\n",
       "    <tr>\n",
       "      <th>3</th>\n",
       "      <td>3</td>\n",
       "      <td>more i can t make any real suggestion on impro...</td>\n",
       "      <td>0</td>\n",
       "    </tr>\n",
       "    <tr>\n",
       "      <th>4</th>\n",
       "      <td>4</td>\n",
       "      <td>you sir are my hero any chance you remember wh...</td>\n",
       "      <td>0</td>\n",
       "    </tr>\n",
       "    <tr>\n",
       "      <th>5</th>\n",
       "      <td>5</td>\n",
       "      <td>congratulation from me a well use the tool wel...</td>\n",
       "      <td>0</td>\n",
       "    </tr>\n",
       "    <tr>\n",
       "      <th>6</th>\n",
       "      <td>6</td>\n",
       "      <td>cocksucker before you piss around on my work</td>\n",
       "      <td>1</td>\n",
       "    </tr>\n",
       "    <tr>\n",
       "      <th>7</th>\n",
       "      <td>7</td>\n",
       "      <td>your vandalism to the matt shirvington article...</td>\n",
       "      <td>0</td>\n",
       "    </tr>\n",
       "    <tr>\n",
       "      <th>8</th>\n",
       "      <td>8</td>\n",
       "      <td>sorry if the word nonsense wa offensive to you...</td>\n",
       "      <td>0</td>\n",
       "    </tr>\n",
       "    <tr>\n",
       "      <th>9</th>\n",
       "      <td>9</td>\n",
       "      <td>alignment on this subject and which are contra...</td>\n",
       "      <td>0</td>\n",
       "    </tr>\n",
       "    <tr>\n",
       "      <th>10</th>\n",
       "      <td>10</td>\n",
       "      <td>fair use rationale for image wonju jpg thanks ...</td>\n",
       "      <td>0</td>\n",
       "    </tr>\n",
       "    <tr>\n",
       "      <th>11</th>\n",
       "      <td>11</td>\n",
       "      <td>bbq be a man and let discus it maybe over the ...</td>\n",
       "      <td>0</td>\n",
       "    </tr>\n",
       "    <tr>\n",
       "      <th>12</th>\n",
       "      <td>12</td>\n",
       "      <td>hey what is it talk what is it an exclusive gr...</td>\n",
       "      <td>1</td>\n",
       "    </tr>\n",
       "    <tr>\n",
       "      <th>13</th>\n",
       "      <td>13</td>\n",
       "      <td>before you start throwing accusation and warni...</td>\n",
       "      <td>0</td>\n",
       "    </tr>\n",
       "    <tr>\n",
       "      <th>14</th>\n",
       "      <td>14</td>\n",
       "      <td>oh and the girl above started her argument wit...</td>\n",
       "      <td>0</td>\n",
       "    </tr>\n",
       "    <tr>\n",
       "      <th>15</th>\n",
       "      <td>15</td>\n",
       "      <td>juelz santanas age in juelz santana wa year ol...</td>\n",
       "      <td>0</td>\n",
       "    </tr>\n",
       "    <tr>\n",
       "      <th>16</th>\n",
       "      <td>16</td>\n",
       "      <td>bye don t look come or think of comming back t...</td>\n",
       "      <td>1</td>\n",
       "    </tr>\n",
       "    <tr>\n",
       "      <th>17</th>\n",
       "      <td>17</td>\n",
       "      <td>redirect talk voydan pop georgiev chernodrinski</td>\n",
       "      <td>0</td>\n",
       "    </tr>\n",
       "    <tr>\n",
       "      <th>18</th>\n",
       "      <td>18</td>\n",
       "      <td>the mitsurugi point made no sense why not argu...</td>\n",
       "      <td>0</td>\n",
       "    </tr>\n",
       "    <tr>\n",
       "      <th>19</th>\n",
       "      <td>19</td>\n",
       "      <td>don t mean to bother you i see that you re wri...</td>\n",
       "      <td>0</td>\n",
       "    </tr>\n",
       "    <tr>\n",
       "      <th>20</th>\n",
       "      <td>20</td>\n",
       "      <td>regarding your recent edits once again please ...</td>\n",
       "      <td>0</td>\n",
       "    </tr>\n",
       "    <tr>\n",
       "      <th>21</th>\n",
       "      <td>21</td>\n",
       "      <td>good to know about me yeah i m studying now deepu</td>\n",
       "      <td>0</td>\n",
       "    </tr>\n",
       "    <tr>\n",
       "      <th>22</th>\n",
       "      <td>22</td>\n",
       "      <td>snowflake are not always symmetrical under geo...</td>\n",
       "      <td>0</td>\n",
       "    </tr>\n",
       "    <tr>\n",
       "      <th>23</th>\n",
       "      <td>23</td>\n",
       "      <td>the signpost september read this signpost in f...</td>\n",
       "      <td>0</td>\n",
       "    </tr>\n",
       "    <tr>\n",
       "      <th>24</th>\n",
       "      <td>24</td>\n",
       "      <td>re considering st paragraph edit i don t under...</td>\n",
       "      <td>0</td>\n",
       "    </tr>\n",
       "    <tr>\n",
       "      <th>25</th>\n",
       "      <td>25</td>\n",
       "      <td>radial symmetry several now extinct lineage in...</td>\n",
       "      <td>0</td>\n",
       "    </tr>\n",
       "    <tr>\n",
       "      <th>26</th>\n",
       "      <td>26</td>\n",
       "      <td>there s no need to apologize a wikipedia artic...</td>\n",
       "      <td>0</td>\n",
       "    </tr>\n",
       "    <tr>\n",
       "      <th>27</th>\n",
       "      <td>27</td>\n",
       "      <td>yes because the mother of the child in the cas...</td>\n",
       "      <td>0</td>\n",
       "    </tr>\n",
       "    <tr>\n",
       "      <th>28</th>\n",
       "      <td>28</td>\n",
       "      <td>ok but it will take a bit of work but i can t ...</td>\n",
       "      <td>0</td>\n",
       "    </tr>\n",
       "    <tr>\n",
       "      <th>29</th>\n",
       "      <td>29</td>\n",
       "      <td>a barnstar for you the real life barnstar let ...</td>\n",
       "      <td>0</td>\n",
       "    </tr>\n",
       "  </tbody>\n",
       "</table>\n",
       "</div>"
      ],
      "text/plain": [
       "    Unnamed: 0                                               text  toxic\n",
       "0            0  explanation why the edits made under my userna...      0\n",
       "1            1  d aww he match this background colour i m seem...      0\n",
       "2            2  hey man i m really not trying to edit war it s...      0\n",
       "3            3  more i can t make any real suggestion on impro...      0\n",
       "4            4  you sir are my hero any chance you remember wh...      0\n",
       "5            5  congratulation from me a well use the tool wel...      0\n",
       "6            6       cocksucker before you piss around on my work      1\n",
       "7            7  your vandalism to the matt shirvington article...      0\n",
       "8            8  sorry if the word nonsense wa offensive to you...      0\n",
       "9            9  alignment on this subject and which are contra...      0\n",
       "10          10  fair use rationale for image wonju jpg thanks ...      0\n",
       "11          11  bbq be a man and let discus it maybe over the ...      0\n",
       "12          12  hey what is it talk what is it an exclusive gr...      1\n",
       "13          13  before you start throwing accusation and warni...      0\n",
       "14          14  oh and the girl above started her argument wit...      0\n",
       "15          15  juelz santanas age in juelz santana wa year ol...      0\n",
       "16          16  bye don t look come or think of comming back t...      1\n",
       "17          17    redirect talk voydan pop georgiev chernodrinski      0\n",
       "18          18  the mitsurugi point made no sense why not argu...      0\n",
       "19          19  don t mean to bother you i see that you re wri...      0\n",
       "20          20  regarding your recent edits once again please ...      0\n",
       "21          21  good to know about me yeah i m studying now deepu      0\n",
       "22          22  snowflake are not always symmetrical under geo...      0\n",
       "23          23  the signpost september read this signpost in f...      0\n",
       "24          24  re considering st paragraph edit i don t under...      0\n",
       "25          25  radial symmetry several now extinct lineage in...      0\n",
       "26          26  there s no need to apologize a wikipedia artic...      0\n",
       "27          27  yes because the mother of the child in the cas...      0\n",
       "28          28  ok but it will take a bit of work but i can t ...      0\n",
       "29          29  a barnstar for you the real life barnstar let ...      0"
      ]
     },
     "execution_count": 22,
     "metadata": {},
     "output_type": "execute_result"
    }
   ],
   "source": [
    "df.head(30)"
   ]
  },
  {
   "cell_type": "code",
   "execution_count": 23,
   "id": "d12d0637",
   "metadata": {},
   "outputs": [],
   "source": [
    "#разделение на выборки\n",
    "train, test = train_test_split(df, train_size = 0.9, shuffle=False, random_state = 42)\n",
    "test, valid = train_test_split(test, test_size = 0.5, shuffle=False, random_state = 42)"
   ]
  },
  {
   "cell_type": "code",
   "execution_count": 24,
   "id": "d9043ada",
   "metadata": {},
   "outputs": [
    {
     "name": "stdout",
     "output_type": "stream",
     "text": [
      "(143362, 3)\n",
      "(7965, 3)\n",
      "(7965, 3)\n"
     ]
    }
   ],
   "source": [
    "print(train.shape)\n",
    "print(test.shape)\n",
    "print(valid.shape)"
   ]
  },
  {
   "cell_type": "code",
   "execution_count": null,
   "id": "8929e39d",
   "metadata": {},
   "outputs": [],
   "source": [
    "target_train = train['toxic']\n",
    "target_test = test['toxic']\n",
    "target_valid = valid['toxic']\n",
    "\n",
    "feature_train = train['text']\n",
    "feature_test = test['text']\n",
    "feature_valid = valid['text']"
   ]
  },
  {
   "cell_type": "code",
   "execution_count": null,
   "id": "c5d46821",
   "metadata": {},
   "outputs": [],
   "source": [
    "#стоп слова\n",
    "stopwords = set(nltk_stopwords.words('english'))"
   ]
  },
  {
   "cell_type": "code",
   "execution_count": null,
   "id": "f4070809",
   "metadata": {},
   "outputs": [],
   "source": [
    "#TFIDF векторизация\n",
    "count_tf_idf = TfidfVectorizer(stop_words=stopwords)\n",
    "tfidf_train = count_tf_idf.fit_transform(feature_train)\n",
    "tfidf_test = count_tf_idf.transform(feature_test)\n",
    "tfidf_valid = count_tf_idf.transform(feature_valid)"
   ]
  },
  {
   "cell_type": "markdown",
   "id": "4af54b82",
   "metadata": {},
   "source": [
    "# Обучение"
   ]
  },
  {
   "cell_type": "code",
   "execution_count": null,
   "id": "657f625d",
   "metadata": {},
   "outputs": [],
   "source": [
    "%%time\n",
    "#LogisticRegression\n",
    "pipe = Pipeline([\n",
    "    (\n",
    "    ('model', LogisticRegression(random_state=1, solver='liblinear', max_iter=200))\n",
    "    )\n",
    "    ])\n",
    "\n",
    "\n",
    "param_LR = [\n",
    "        {\n",
    "\n",
    "            'model': [LogisticRegression(random_state=42, solver='liblinear')],\n",
    "            'model__penalty' : ['l1', 'l2'],\n",
    "            'model__C': list(range(1,15,3))\n",
    "        }\n",
    "]\n",
    "grid = GridSearchCV(pipe, param_grid=param_LR, scoring='f1', cv=3, verbose=True, n_jobs=-1)\n",
    "best_grid = grid.fit(tfidf_train, target_train)\n",
    "print('Best parameters is:', grid.best_params_)\n",
    "print('Best score is:', grid.best_score_)"
   ]
  },
  {
   "cell_type": "code",
   "execution_count": null,
   "id": "e4bb7d89",
   "metadata": {},
   "outputs": [],
   "source": [
    "%%time\n",
    "#RandomForestClassifier\n",
    "RFC = RandomForestClassifier(random_state=12345)\n",
    "params_RF = {\n",
    "    'n_estimators': list(range(50,300,50)),\n",
    "    'max_depth':[5,15],\n",
    "    'max_features' : list(range(1,20, 2))\n",
    "}\n",
    "\n",
    "                                 \n",
    "grid = GridSearchCV(RFC, param_grid=params_RF, scoring='f1', cv=3, verbose=True, n_jobs=-1)\n",
    "best_grid = grid.fit(tfidf_train, target_train)\n",
    "print('Best parameters is:', grid.best_params_)\n",
    "print('Best score is:', grid.best_score_)"
   ]
  },
  {
   "cell_type": "markdown",
   "id": "27fda9e4",
   "metadata": {},
   "source": [
    "## Тестирование"
   ]
  },
  {
   "cell_type": "code",
   "execution_count": null,
   "id": "bedc03f8",
   "metadata": {},
   "outputs": [],
   "source": [
    "model = LogisticRegression(C=4, penalty='l1', random_state=42, solver='liblinear')\n",
    "model.fit(tfidf_valid, target_valid)\n",
    "test_pred = model.predict(tfidf_test)\n",
    "f1_score(target_test, test_pred)"
   ]
  },
  {
   "cell_type": "markdown",
   "id": "72903271",
   "metadata": {},
   "source": [
    "LogisticRegression с параметрами C=4, penalty='l1', random_state=42, solver='liblinear' на тестовой выборке показывает значение f1 = 0.752"
   ]
  },
  {
   "cell_type": "markdown",
   "id": "68d2af8b",
   "metadata": {},
   "source": [
    "# Вывод\n",
    "\n",
    "В данном проекте был создан инструмент, который будет искать токсичные комментарии и отправлять их на модерацию.\n",
    "\n",
    "В ходе проекта была проведена очистка текста и его лемматизация.\n",
    "\n",
    "Обучены 2 модели RandomForestClassifier и LogisticRegression. На обучающей выборке наилучшие показатели были достигнуты с помощью модели LogisticRegression.\n",
    "\n",
    "На тестовой выборке с помощью LogisticRegression с параметрами C=4, penalty='l1', random_state=42, solver='liblinear' удалось достигнуть значения F1 = 0.752"
   ]
  }
 ],
 "metadata": {
  "ExecuteTimeLog": [
   {
    "duration": 3,
    "start_time": "2022-11-13T13:46:02.702Z"
   },
   {
    "duration": 2646,
    "start_time": "2022-11-13T13:48:57.914Z"
   },
   {
    "duration": 9261,
    "start_time": "2022-11-13T13:49:16.648Z"
   },
   {
    "duration": 3964,
    "start_time": "2022-11-13T13:50:03.875Z"
   },
   {
    "duration": 3,
    "start_time": "2022-11-13T13:51:14.804Z"
   },
   {
    "duration": 354,
    "start_time": "2022-11-13T13:51:19.105Z"
   },
   {
    "duration": 16,
    "start_time": "2022-11-13T13:51:50.278Z"
   },
   {
    "duration": 3287,
    "start_time": "2022-11-13T13:51:54.014Z"
   },
   {
    "duration": 15,
    "start_time": "2022-11-13T13:51:57.303Z"
   },
   {
    "duration": 29,
    "start_time": "2022-11-13T13:51:57.319Z"
   },
   {
    "duration": 3,
    "start_time": "2022-11-13T13:51:57.350Z"
   },
   {
    "duration": 2395,
    "start_time": "2022-11-13T13:52:00.314Z"
   },
   {
    "duration": 2,
    "start_time": "2022-11-13T13:52:04.612Z"
   },
   {
    "duration": 3,
    "start_time": "2022-11-13T13:52:06.328Z"
   },
   {
    "duration": 25,
    "start_time": "2022-11-13T13:52:10.964Z"
   },
   {
    "duration": 76,
    "start_time": "2022-11-13T13:52:59.235Z"
   },
   {
    "duration": 9150,
    "start_time": "2022-11-13T13:53:37.815Z"
   },
   {
    "duration": 91,
    "start_time": "2022-11-13T13:54:17.391Z"
   },
   {
    "duration": 206,
    "start_time": "2022-11-13T13:54:30.393Z"
   },
   {
    "duration": 4,
    "start_time": "2022-11-13T13:54:33.286Z"
   },
   {
    "duration": 34,
    "start_time": "2022-11-13T13:54:37.102Z"
   },
   {
    "duration": 107,
    "start_time": "2022-11-13T13:55:36.351Z"
   },
   {
    "duration": 1169,
    "start_time": "2022-11-13T13:56:40.515Z"
   },
   {
    "duration": 46,
    "start_time": "2022-11-13T13:56:50.330Z"
   },
   {
    "duration": 1183,
    "start_time": "2022-11-13T13:57:04.104Z"
   },
   {
    "duration": 34,
    "start_time": "2022-11-13T13:57:42.201Z"
   },
   {
    "duration": 3,
    "start_time": "2022-11-13T14:00:13.348Z"
   },
   {
    "duration": 4,
    "start_time": "2022-11-13T14:01:10.062Z"
   },
   {
    "duration": 4,
    "start_time": "2022-11-13T14:01:23.709Z"
   },
   {
    "duration": 13,
    "start_time": "2022-11-13T14:01:30.210Z"
   },
   {
    "duration": 50,
    "start_time": "2022-11-13T14:02:27.328Z"
   },
   {
    "duration": 11,
    "start_time": "2022-11-13T14:02:31.821Z"
   },
   {
    "duration": 4,
    "start_time": "2022-11-13T14:02:39.712Z"
   },
   {
    "duration": 11,
    "start_time": "2022-11-13T14:02:40.334Z"
   },
   {
    "duration": 1699,
    "start_time": "2022-11-13T14:02:52.912Z"
   },
   {
    "duration": 903,
    "start_time": "2022-11-13T14:02:54.613Z"
   },
   {
    "duration": 17,
    "start_time": "2022-11-13T14:02:55.517Z"
   },
   {
    "duration": 36,
    "start_time": "2022-11-13T14:02:55.535Z"
   },
   {
    "duration": 12,
    "start_time": "2022-11-13T14:02:55.572Z"
   },
   {
    "duration": 2722,
    "start_time": "2022-11-13T14:02:55.586Z"
   },
   {
    "duration": 3,
    "start_time": "2022-11-13T14:02:58.309Z"
   },
   {
    "duration": 20,
    "start_time": "2022-11-13T14:02:58.314Z"
   },
   {
    "duration": 26,
    "start_time": "2022-11-13T14:02:58.336Z"
   },
   {
    "duration": 16,
    "start_time": "2022-11-13T14:02:58.365Z"
   },
   {
    "duration": 11,
    "start_time": "2022-11-13T14:02:58.383Z"
   },
   {
    "duration": 223,
    "start_time": "2022-11-13T14:02:58.396Z"
   },
   {
    "duration": 14,
    "start_time": "2022-11-13T14:02:58.621Z"
   },
   {
    "duration": 45,
    "start_time": "2022-11-13T14:02:58.637Z"
   },
   {
    "duration": 5,
    "start_time": "2022-11-13T14:02:58.684Z"
   },
   {
    "duration": 10,
    "start_time": "2022-11-13T14:02:58.691Z"
   },
   {
    "duration": 27,
    "start_time": "2022-11-13T14:02:58.704Z"
   },
   {
    "duration": 6773,
    "start_time": "2022-11-13T14:02:58.733Z"
   },
   {
    "duration": 79,
    "start_time": "2022-11-13T14:07:48.558Z"
   },
   {
    "duration": 45,
    "start_time": "2022-11-13T14:11:49.226Z"
   },
   {
    "duration": 1585,
    "start_time": "2022-11-13T14:11:57.251Z"
   },
   {
    "duration": 825,
    "start_time": "2022-11-13T14:12:01.404Z"
   },
   {
    "duration": 14,
    "start_time": "2022-11-13T14:12:02.231Z"
   },
   {
    "duration": 48,
    "start_time": "2022-11-13T14:12:02.247Z"
   },
   {
    "duration": 3,
    "start_time": "2022-11-13T14:12:02.396Z"
   },
   {
    "duration": 3,
    "start_time": "2022-11-13T14:12:06.215Z"
   },
   {
    "duration": 2385,
    "start_time": "2022-11-13T14:12:08.877Z"
   },
   {
    "duration": 2,
    "start_time": "2022-11-13T14:12:17.392Z"
   },
   {
    "duration": 79,
    "start_time": "2022-11-13T14:12:23.549Z"
   },
   {
    "duration": 7,
    "start_time": "2022-11-13T14:13:47.588Z"
   },
   {
    "duration": 3,
    "start_time": "2022-11-13T14:13:53.252Z"
   },
   {
    "duration": 90396,
    "start_time": "2022-11-13T14:14:46.723Z"
   },
   {
    "duration": 0,
    "start_time": "2022-11-13T14:16:17.121Z"
   },
   {
    "duration": 5,
    "start_time": "2022-11-13T14:16:45.858Z"
   },
   {
    "duration": 89578,
    "start_time": "2022-11-13T14:16:47.133Z"
   },
   {
    "duration": 12,
    "start_time": "2022-11-13T14:18:33.187Z"
   },
   {
    "duration": 44,
    "start_time": "2022-11-13T14:18:50.906Z"
   },
   {
    "duration": 39,
    "start_time": "2022-11-13T14:19:19.630Z"
   },
   {
    "duration": 11,
    "start_time": "2022-11-13T14:19:24.521Z"
   },
   {
    "duration": 196,
    "start_time": "2022-11-13T14:19:45.723Z"
   },
   {
    "duration": 9,
    "start_time": "2022-11-13T14:19:46.090Z"
   },
   {
    "duration": 13,
    "start_time": "2022-11-13T14:20:09.118Z"
   },
   {
    "duration": 3,
    "start_time": "2022-11-13T14:20:10.471Z"
   },
   {
    "duration": 70,
    "start_time": "2022-11-13T14:21:48.294Z"
   },
   {
    "duration": 67,
    "start_time": "2022-11-13T14:23:00.415Z"
   }
  ],
  "kernelspec": {
   "display_name": "Python 3 (ipykernel)",
   "language": "python",
   "name": "python3"
  },
  "language_info": {
   "codemirror_mode": {
    "name": "ipython",
    "version": 3
   },
   "file_extension": ".py",
   "mimetype": "text/x-python",
   "name": "python",
   "nbconvert_exporter": "python",
   "pygments_lexer": "ipython3",
   "version": "3.9.12"
  },
  "toc": {
   "base_numbering": 1,
   "nav_menu": {},
   "number_sections": true,
   "sideBar": true,
   "skip_h1_title": true,
   "title_cell": "Table of Contents",
   "title_sidebar": "Contents",
   "toc_cell": false,
   "toc_position": {},
   "toc_section_display": true,
   "toc_window_display": false
  }
 },
 "nbformat": 4,
 "nbformat_minor": 5
}
