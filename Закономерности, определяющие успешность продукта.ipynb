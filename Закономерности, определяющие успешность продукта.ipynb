{
 "cells": [
  {
   "cell_type": "markdown",
   "metadata": {},
   "source": [
    "# Описание проекта\n",
    "Заказчик интернет-магазин ,который продаёт по всему миру компьютерные игры. Из открытых источников доступны исторические данные о продажах игр, оценки пользователей и экспертов, жанры и платформы (например, Xbox или PlayStation). Вам нужно выявить определяющие успешность игры закономерности. Это позволит сделать ставку на потенциально популярный продукт и спланировать рекламные кампании.\n",
    "\n",
    "Перед вами данные до 2016 года. Представим, что сейчас декабрь 2016 г., и вы планируете кампанию на 2017-й. Нужно отработать принцип работы с данными. Неважно, прогнозируете ли вы продажи на 2017 год по данным 2016-го или же 2027-й — по данным 2026 года."
   ]
  },
  {
   "cell_type": "markdown",
   "metadata": {},
   "source": [
    "# Описание данных\n",
    "- Name — название игры\n",
    "- Platform — платформа\n",
    "- Year_of_Release — год выпуска\n",
    "- Genre — жанр игры\n",
    "- NA_sales — продажи в Северной Америке (миллионы проданных копий)\n",
    "- EU_sales — продажи в Европе (миллионы проданных копий)\n",
    "- JP_sales — продажи в Японии (миллионы проданных копий)\n",
    "- Other_sales — продажи в других странах (миллионы проданных копий)\n",
    "- Critic_Score — оценка критиков (максимум 100)\n",
    "- User_Score — оценка пользователей (максимум 10)\n",
    "- Rating — рейтинг от организации ESRB (англ. Entertainment Software Rating Board). Эта ассоциация определяет рейтинг компьютерных игр и присваивает им подходящую возрастную категорию.\n",
    "\n",
    "Данные за 2016 год могут быть неполными."
   ]
  },
  {
   "cell_type": "markdown",
   "metadata": {},
   "source": [
    "# Изучение общей информации о данных"
   ]
  },
  {
   "cell_type": "code",
   "execution_count": 1,
   "metadata": {},
   "outputs": [],
   "source": [
    "import pandas as pd \n",
    "import seaborn as sns\n",
    "import matplotlib.pyplot as plt\n",
    "from scipy import stats as st"
   ]
  },
  {
   "cell_type": "code",
   "execution_count": 2,
   "metadata": {},
   "outputs": [],
   "source": [
    "data = pd.read_csv('/datasets/games.csv') \n",
    "#сохраняю датафрейм в переменную data"
   ]
  },
  {
   "cell_type": "code",
   "execution_count": 3,
   "metadata": {},
   "outputs": [
    {
     "data": {
      "text/html": [
       "<div>\n",
       "<style scoped>\n",
       "    .dataframe tbody tr th:only-of-type {\n",
       "        vertical-align: middle;\n",
       "    }\n",
       "\n",
       "    .dataframe tbody tr th {\n",
       "        vertical-align: top;\n",
       "    }\n",
       "\n",
       "    .dataframe thead th {\n",
       "        text-align: right;\n",
       "    }\n",
       "</style>\n",
       "<table border=\"1\" class=\"dataframe\">\n",
       "  <thead>\n",
       "    <tr style=\"text-align: right;\">\n",
       "      <th></th>\n",
       "      <th>Name</th>\n",
       "      <th>Platform</th>\n",
       "      <th>Year_of_Release</th>\n",
       "      <th>Genre</th>\n",
       "      <th>NA_sales</th>\n",
       "      <th>EU_sales</th>\n",
       "      <th>JP_sales</th>\n",
       "      <th>Other_sales</th>\n",
       "      <th>Critic_Score</th>\n",
       "      <th>User_Score</th>\n",
       "      <th>Rating</th>\n",
       "    </tr>\n",
       "  </thead>\n",
       "  <tbody>\n",
       "    <tr>\n",
       "      <th>0</th>\n",
       "      <td>Wii Sports</td>\n",
       "      <td>Wii</td>\n",
       "      <td>2006.0</td>\n",
       "      <td>Sports</td>\n",
       "      <td>41.36</td>\n",
       "      <td>28.96</td>\n",
       "      <td>3.77</td>\n",
       "      <td>8.45</td>\n",
       "      <td>76.0</td>\n",
       "      <td>8</td>\n",
       "      <td>E</td>\n",
       "    </tr>\n",
       "    <tr>\n",
       "      <th>1</th>\n",
       "      <td>Super Mario Bros.</td>\n",
       "      <td>NES</td>\n",
       "      <td>1985.0</td>\n",
       "      <td>Platform</td>\n",
       "      <td>29.08</td>\n",
       "      <td>3.58</td>\n",
       "      <td>6.81</td>\n",
       "      <td>0.77</td>\n",
       "      <td>NaN</td>\n",
       "      <td>NaN</td>\n",
       "      <td>NaN</td>\n",
       "    </tr>\n",
       "    <tr>\n",
       "      <th>2</th>\n",
       "      <td>Mario Kart Wii</td>\n",
       "      <td>Wii</td>\n",
       "      <td>2008.0</td>\n",
       "      <td>Racing</td>\n",
       "      <td>15.68</td>\n",
       "      <td>12.76</td>\n",
       "      <td>3.79</td>\n",
       "      <td>3.29</td>\n",
       "      <td>82.0</td>\n",
       "      <td>8.3</td>\n",
       "      <td>E</td>\n",
       "    </tr>\n",
       "    <tr>\n",
       "      <th>3</th>\n",
       "      <td>Wii Sports Resort</td>\n",
       "      <td>Wii</td>\n",
       "      <td>2009.0</td>\n",
       "      <td>Sports</td>\n",
       "      <td>15.61</td>\n",
       "      <td>10.93</td>\n",
       "      <td>3.28</td>\n",
       "      <td>2.95</td>\n",
       "      <td>80.0</td>\n",
       "      <td>8</td>\n",
       "      <td>E</td>\n",
       "    </tr>\n",
       "    <tr>\n",
       "      <th>4</th>\n",
       "      <td>Pokemon Red/Pokemon Blue</td>\n",
       "      <td>GB</td>\n",
       "      <td>1996.0</td>\n",
       "      <td>Role-Playing</td>\n",
       "      <td>11.27</td>\n",
       "      <td>8.89</td>\n",
       "      <td>10.22</td>\n",
       "      <td>1.00</td>\n",
       "      <td>NaN</td>\n",
       "      <td>NaN</td>\n",
       "      <td>NaN</td>\n",
       "    </tr>\n",
       "    <tr>\n",
       "      <th>5</th>\n",
       "      <td>Tetris</td>\n",
       "      <td>GB</td>\n",
       "      <td>1989.0</td>\n",
       "      <td>Puzzle</td>\n",
       "      <td>23.20</td>\n",
       "      <td>2.26</td>\n",
       "      <td>4.22</td>\n",
       "      <td>0.58</td>\n",
       "      <td>NaN</td>\n",
       "      <td>NaN</td>\n",
       "      <td>NaN</td>\n",
       "    </tr>\n",
       "    <tr>\n",
       "      <th>6</th>\n",
       "      <td>New Super Mario Bros.</td>\n",
       "      <td>DS</td>\n",
       "      <td>2006.0</td>\n",
       "      <td>Platform</td>\n",
       "      <td>11.28</td>\n",
       "      <td>9.14</td>\n",
       "      <td>6.50</td>\n",
       "      <td>2.88</td>\n",
       "      <td>89.0</td>\n",
       "      <td>8.5</td>\n",
       "      <td>E</td>\n",
       "    </tr>\n",
       "    <tr>\n",
       "      <th>7</th>\n",
       "      <td>Wii Play</td>\n",
       "      <td>Wii</td>\n",
       "      <td>2006.0</td>\n",
       "      <td>Misc</td>\n",
       "      <td>13.96</td>\n",
       "      <td>9.18</td>\n",
       "      <td>2.93</td>\n",
       "      <td>2.84</td>\n",
       "      <td>58.0</td>\n",
       "      <td>6.6</td>\n",
       "      <td>E</td>\n",
       "    </tr>\n",
       "    <tr>\n",
       "      <th>8</th>\n",
       "      <td>New Super Mario Bros. Wii</td>\n",
       "      <td>Wii</td>\n",
       "      <td>2009.0</td>\n",
       "      <td>Platform</td>\n",
       "      <td>14.44</td>\n",
       "      <td>6.94</td>\n",
       "      <td>4.70</td>\n",
       "      <td>2.24</td>\n",
       "      <td>87.0</td>\n",
       "      <td>8.4</td>\n",
       "      <td>E</td>\n",
       "    </tr>\n",
       "    <tr>\n",
       "      <th>9</th>\n",
       "      <td>Duck Hunt</td>\n",
       "      <td>NES</td>\n",
       "      <td>1984.0</td>\n",
       "      <td>Shooter</td>\n",
       "      <td>26.93</td>\n",
       "      <td>0.63</td>\n",
       "      <td>0.28</td>\n",
       "      <td>0.47</td>\n",
       "      <td>NaN</td>\n",
       "      <td>NaN</td>\n",
       "      <td>NaN</td>\n",
       "    </tr>\n",
       "  </tbody>\n",
       "</table>\n",
       "</div>"
      ],
      "text/plain": [
       "                        Name Platform  Year_of_Release         Genre  \\\n",
       "0                 Wii Sports      Wii           2006.0        Sports   \n",
       "1          Super Mario Bros.      NES           1985.0      Platform   \n",
       "2             Mario Kart Wii      Wii           2008.0        Racing   \n",
       "3          Wii Sports Resort      Wii           2009.0        Sports   \n",
       "4   Pokemon Red/Pokemon Blue       GB           1996.0  Role-Playing   \n",
       "5                     Tetris       GB           1989.0        Puzzle   \n",
       "6      New Super Mario Bros.       DS           2006.0      Platform   \n",
       "7                   Wii Play      Wii           2006.0          Misc   \n",
       "8  New Super Mario Bros. Wii      Wii           2009.0      Platform   \n",
       "9                  Duck Hunt      NES           1984.0       Shooter   \n",
       "\n",
       "   NA_sales  EU_sales  JP_sales  Other_sales  Critic_Score User_Score Rating  \n",
       "0     41.36     28.96      3.77         8.45          76.0          8      E  \n",
       "1     29.08      3.58      6.81         0.77           NaN        NaN    NaN  \n",
       "2     15.68     12.76      3.79         3.29          82.0        8.3      E  \n",
       "3     15.61     10.93      3.28         2.95          80.0          8      E  \n",
       "4     11.27      8.89     10.22         1.00           NaN        NaN    NaN  \n",
       "5     23.20      2.26      4.22         0.58           NaN        NaN    NaN  \n",
       "6     11.28      9.14      6.50         2.88          89.0        8.5      E  \n",
       "7     13.96      9.18      2.93         2.84          58.0        6.6      E  \n",
       "8     14.44      6.94      4.70         2.24          87.0        8.4      E  \n",
       "9     26.93      0.63      0.28         0.47           NaN        NaN    NaN  "
      ]
     },
     "execution_count": 3,
     "metadata": {},
     "output_type": "execute_result"
    }
   ],
   "source": [
    "data.head(10) \n",
    "#вывожу на экран первые 10 строк датафрейма"
   ]
  },
  {
   "cell_type": "code",
   "execution_count": 4,
   "metadata": {
    "scrolled": true
   },
   "outputs": [
    {
     "name": "stdout",
     "output_type": "stream",
     "text": [
      "<class 'pandas.core.frame.DataFrame'>\n",
      "RangeIndex: 16715 entries, 0 to 16714\n",
      "Data columns (total 11 columns):\n",
      " #   Column           Non-Null Count  Dtype  \n",
      "---  ------           --------------  -----  \n",
      " 0   Name             16713 non-null  object \n",
      " 1   Platform         16715 non-null  object \n",
      " 2   Year_of_Release  16446 non-null  float64\n",
      " 3   Genre            16713 non-null  object \n",
      " 4   NA_sales         16715 non-null  float64\n",
      " 5   EU_sales         16715 non-null  float64\n",
      " 6   JP_sales         16715 non-null  float64\n",
      " 7   Other_sales      16715 non-null  float64\n",
      " 8   Critic_Score     8137 non-null   float64\n",
      " 9   User_Score       10014 non-null  object \n",
      " 10  Rating           9949 non-null   object \n",
      "dtypes: float64(6), object(5)\n",
      "memory usage: 1.4+ MB\n"
     ]
    }
   ],
   "source": [
    "data.info() \n",
    "#общая информация о датафрейме"
   ]
  },
  {
   "cell_type": "markdown",
   "metadata": {},
   "source": [
    "В датафрейме 11 столбцов и 16715 строк. В 6 стобцах есть пропуски. "
   ]
  },
  {
   "cell_type": "markdown",
   "metadata": {},
   "source": [
    "# Подготовка данных"
   ]
  },
  {
   "cell_type": "code",
   "execution_count": 5,
   "metadata": {},
   "outputs": [],
   "source": [
    "data.columns = data.columns.str.lower()\n",
    "#привожу названия столбцов к нижнему регистру"
   ]
  },
  {
   "cell_type": "code",
   "execution_count": 6,
   "metadata": {
    "scrolled": true
   },
   "outputs": [
    {
     "data": {
      "text/html": [
       "<div>\n",
       "<style scoped>\n",
       "    .dataframe tbody tr th:only-of-type {\n",
       "        vertical-align: middle;\n",
       "    }\n",
       "\n",
       "    .dataframe tbody tr th {\n",
       "        vertical-align: top;\n",
       "    }\n",
       "\n",
       "    .dataframe thead th {\n",
       "        text-align: right;\n",
       "    }\n",
       "</style>\n",
       "<table border=\"1\" class=\"dataframe\">\n",
       "  <thead>\n",
       "    <tr style=\"text-align: right;\">\n",
       "      <th></th>\n",
       "      <th>name</th>\n",
       "      <th>platform</th>\n",
       "      <th>year_of_release</th>\n",
       "      <th>genre</th>\n",
       "      <th>na_sales</th>\n",
       "      <th>eu_sales</th>\n",
       "      <th>jp_sales</th>\n",
       "      <th>other_sales</th>\n",
       "      <th>critic_score</th>\n",
       "      <th>user_score</th>\n",
       "      <th>rating</th>\n",
       "    </tr>\n",
       "  </thead>\n",
       "  <tbody>\n",
       "    <tr>\n",
       "      <th>0</th>\n",
       "      <td>Wii Sports</td>\n",
       "      <td>Wii</td>\n",
       "      <td>2006.0</td>\n",
       "      <td>Sports</td>\n",
       "      <td>41.36</td>\n",
       "      <td>28.96</td>\n",
       "      <td>3.77</td>\n",
       "      <td>8.45</td>\n",
       "      <td>76.0</td>\n",
       "      <td>8</td>\n",
       "      <td>E</td>\n",
       "    </tr>\n",
       "    <tr>\n",
       "      <th>1</th>\n",
       "      <td>Super Mario Bros.</td>\n",
       "      <td>NES</td>\n",
       "      <td>1985.0</td>\n",
       "      <td>Platform</td>\n",
       "      <td>29.08</td>\n",
       "      <td>3.58</td>\n",
       "      <td>6.81</td>\n",
       "      <td>0.77</td>\n",
       "      <td>NaN</td>\n",
       "      <td>NaN</td>\n",
       "      <td>NaN</td>\n",
       "    </tr>\n",
       "    <tr>\n",
       "      <th>2</th>\n",
       "      <td>Mario Kart Wii</td>\n",
       "      <td>Wii</td>\n",
       "      <td>2008.0</td>\n",
       "      <td>Racing</td>\n",
       "      <td>15.68</td>\n",
       "      <td>12.76</td>\n",
       "      <td>3.79</td>\n",
       "      <td>3.29</td>\n",
       "      <td>82.0</td>\n",
       "      <td>8.3</td>\n",
       "      <td>E</td>\n",
       "    </tr>\n",
       "    <tr>\n",
       "      <th>3</th>\n",
       "      <td>Wii Sports Resort</td>\n",
       "      <td>Wii</td>\n",
       "      <td>2009.0</td>\n",
       "      <td>Sports</td>\n",
       "      <td>15.61</td>\n",
       "      <td>10.93</td>\n",
       "      <td>3.28</td>\n",
       "      <td>2.95</td>\n",
       "      <td>80.0</td>\n",
       "      <td>8</td>\n",
       "      <td>E</td>\n",
       "    </tr>\n",
       "    <tr>\n",
       "      <th>4</th>\n",
       "      <td>Pokemon Red/Pokemon Blue</td>\n",
       "      <td>GB</td>\n",
       "      <td>1996.0</td>\n",
       "      <td>Role-Playing</td>\n",
       "      <td>11.27</td>\n",
       "      <td>8.89</td>\n",
       "      <td>10.22</td>\n",
       "      <td>1.00</td>\n",
       "      <td>NaN</td>\n",
       "      <td>NaN</td>\n",
       "      <td>NaN</td>\n",
       "    </tr>\n",
       "    <tr>\n",
       "      <th>5</th>\n",
       "      <td>Tetris</td>\n",
       "      <td>GB</td>\n",
       "      <td>1989.0</td>\n",
       "      <td>Puzzle</td>\n",
       "      <td>23.20</td>\n",
       "      <td>2.26</td>\n",
       "      <td>4.22</td>\n",
       "      <td>0.58</td>\n",
       "      <td>NaN</td>\n",
       "      <td>NaN</td>\n",
       "      <td>NaN</td>\n",
       "    </tr>\n",
       "    <tr>\n",
       "      <th>6</th>\n",
       "      <td>New Super Mario Bros.</td>\n",
       "      <td>DS</td>\n",
       "      <td>2006.0</td>\n",
       "      <td>Platform</td>\n",
       "      <td>11.28</td>\n",
       "      <td>9.14</td>\n",
       "      <td>6.50</td>\n",
       "      <td>2.88</td>\n",
       "      <td>89.0</td>\n",
       "      <td>8.5</td>\n",
       "      <td>E</td>\n",
       "    </tr>\n",
       "    <tr>\n",
       "      <th>7</th>\n",
       "      <td>Wii Play</td>\n",
       "      <td>Wii</td>\n",
       "      <td>2006.0</td>\n",
       "      <td>Misc</td>\n",
       "      <td>13.96</td>\n",
       "      <td>9.18</td>\n",
       "      <td>2.93</td>\n",
       "      <td>2.84</td>\n",
       "      <td>58.0</td>\n",
       "      <td>6.6</td>\n",
       "      <td>E</td>\n",
       "    </tr>\n",
       "    <tr>\n",
       "      <th>8</th>\n",
       "      <td>New Super Mario Bros. Wii</td>\n",
       "      <td>Wii</td>\n",
       "      <td>2009.0</td>\n",
       "      <td>Platform</td>\n",
       "      <td>14.44</td>\n",
       "      <td>6.94</td>\n",
       "      <td>4.70</td>\n",
       "      <td>2.24</td>\n",
       "      <td>87.0</td>\n",
       "      <td>8.4</td>\n",
       "      <td>E</td>\n",
       "    </tr>\n",
       "    <tr>\n",
       "      <th>9</th>\n",
       "      <td>Duck Hunt</td>\n",
       "      <td>NES</td>\n",
       "      <td>1984.0</td>\n",
       "      <td>Shooter</td>\n",
       "      <td>26.93</td>\n",
       "      <td>0.63</td>\n",
       "      <td>0.28</td>\n",
       "      <td>0.47</td>\n",
       "      <td>NaN</td>\n",
       "      <td>NaN</td>\n",
       "      <td>NaN</td>\n",
       "    </tr>\n",
       "    <tr>\n",
       "      <th>10</th>\n",
       "      <td>Nintendogs</td>\n",
       "      <td>DS</td>\n",
       "      <td>2005.0</td>\n",
       "      <td>Simulation</td>\n",
       "      <td>9.05</td>\n",
       "      <td>10.95</td>\n",
       "      <td>1.93</td>\n",
       "      <td>2.74</td>\n",
       "      <td>NaN</td>\n",
       "      <td>NaN</td>\n",
       "      <td>NaN</td>\n",
       "    </tr>\n",
       "    <tr>\n",
       "      <th>11</th>\n",
       "      <td>Mario Kart DS</td>\n",
       "      <td>DS</td>\n",
       "      <td>2005.0</td>\n",
       "      <td>Racing</td>\n",
       "      <td>9.71</td>\n",
       "      <td>7.47</td>\n",
       "      <td>4.13</td>\n",
       "      <td>1.90</td>\n",
       "      <td>91.0</td>\n",
       "      <td>8.6</td>\n",
       "      <td>E</td>\n",
       "    </tr>\n",
       "    <tr>\n",
       "      <th>12</th>\n",
       "      <td>Pokemon Gold/Pokemon Silver</td>\n",
       "      <td>GB</td>\n",
       "      <td>1999.0</td>\n",
       "      <td>Role-Playing</td>\n",
       "      <td>9.00</td>\n",
       "      <td>6.18</td>\n",
       "      <td>7.20</td>\n",
       "      <td>0.71</td>\n",
       "      <td>NaN</td>\n",
       "      <td>NaN</td>\n",
       "      <td>NaN</td>\n",
       "    </tr>\n",
       "    <tr>\n",
       "      <th>13</th>\n",
       "      <td>Wii Fit</td>\n",
       "      <td>Wii</td>\n",
       "      <td>2007.0</td>\n",
       "      <td>Sports</td>\n",
       "      <td>8.92</td>\n",
       "      <td>8.03</td>\n",
       "      <td>3.60</td>\n",
       "      <td>2.15</td>\n",
       "      <td>80.0</td>\n",
       "      <td>7.7</td>\n",
       "      <td>E</td>\n",
       "    </tr>\n",
       "    <tr>\n",
       "      <th>14</th>\n",
       "      <td>Kinect Adventures!</td>\n",
       "      <td>X360</td>\n",
       "      <td>2010.0</td>\n",
       "      <td>Misc</td>\n",
       "      <td>15.00</td>\n",
       "      <td>4.89</td>\n",
       "      <td>0.24</td>\n",
       "      <td>1.69</td>\n",
       "      <td>61.0</td>\n",
       "      <td>6.3</td>\n",
       "      <td>E</td>\n",
       "    </tr>\n",
       "  </tbody>\n",
       "</table>\n",
       "</div>"
      ],
      "text/plain": [
       "                           name platform  year_of_release         genre  \\\n",
       "0                    Wii Sports      Wii           2006.0        Sports   \n",
       "1             Super Mario Bros.      NES           1985.0      Platform   \n",
       "2                Mario Kart Wii      Wii           2008.0        Racing   \n",
       "3             Wii Sports Resort      Wii           2009.0        Sports   \n",
       "4      Pokemon Red/Pokemon Blue       GB           1996.0  Role-Playing   \n",
       "5                        Tetris       GB           1989.0        Puzzle   \n",
       "6         New Super Mario Bros.       DS           2006.0      Platform   \n",
       "7                      Wii Play      Wii           2006.0          Misc   \n",
       "8     New Super Mario Bros. Wii      Wii           2009.0      Platform   \n",
       "9                     Duck Hunt      NES           1984.0       Shooter   \n",
       "10                   Nintendogs       DS           2005.0    Simulation   \n",
       "11                Mario Kart DS       DS           2005.0        Racing   \n",
       "12  Pokemon Gold/Pokemon Silver       GB           1999.0  Role-Playing   \n",
       "13                      Wii Fit      Wii           2007.0        Sports   \n",
       "14           Kinect Adventures!     X360           2010.0          Misc   \n",
       "\n",
       "    na_sales  eu_sales  jp_sales  other_sales  critic_score user_score rating  \n",
       "0      41.36     28.96      3.77         8.45          76.0          8      E  \n",
       "1      29.08      3.58      6.81         0.77           NaN        NaN    NaN  \n",
       "2      15.68     12.76      3.79         3.29          82.0        8.3      E  \n",
       "3      15.61     10.93      3.28         2.95          80.0          8      E  \n",
       "4      11.27      8.89     10.22         1.00           NaN        NaN    NaN  \n",
       "5      23.20      2.26      4.22         0.58           NaN        NaN    NaN  \n",
       "6      11.28      9.14      6.50         2.88          89.0        8.5      E  \n",
       "7      13.96      9.18      2.93         2.84          58.0        6.6      E  \n",
       "8      14.44      6.94      4.70         2.24          87.0        8.4      E  \n",
       "9      26.93      0.63      0.28         0.47           NaN        NaN    NaN  \n",
       "10      9.05     10.95      1.93         2.74           NaN        NaN    NaN  \n",
       "11      9.71      7.47      4.13         1.90          91.0        8.6      E  \n",
       "12      9.00      6.18      7.20         0.71           NaN        NaN    NaN  \n",
       "13      8.92      8.03      3.60         2.15          80.0        7.7      E  \n",
       "14     15.00      4.89      0.24         1.69          61.0        6.3      E  "
      ]
     },
     "execution_count": 6,
     "metadata": {},
     "output_type": "execute_result"
    }
   ],
   "source": [
    "data.head(15)"
   ]
  },
  {
   "cell_type": "code",
   "execution_count": 7,
   "metadata": {
    "scrolled": true
   },
   "outputs": [
    {
     "data": {
      "text/plain": [
       "name                  2\n",
       "platform              0\n",
       "year_of_release     269\n",
       "genre                 2\n",
       "na_sales              0\n",
       "eu_sales              0\n",
       "jp_sales              0\n",
       "other_sales           0\n",
       "critic_score       8578\n",
       "user_score         6701\n",
       "rating             6766\n",
       "dtype: int64"
      ]
     },
     "execution_count": 7,
     "metadata": {},
     "output_type": "execute_result"
    }
   ],
   "source": [
    "data.isnull().sum() #количество пропусков в стобцах"
   ]
  },
  {
   "cell_type": "code",
   "execution_count": 8,
   "metadata": {},
   "outputs": [],
   "source": [
    "data = data.dropna(axis='index', how='any', subset=['name', 'genre', 'year_of_release'])\n",
    "#удаляю строки с пропущенными значениями"
   ]
  },
  {
   "cell_type": "markdown",
   "metadata": {},
   "source": [
    "Имя, жанр и год выпуска не имеет смысла заменять случайными значениями. Пропущенныx значений в этих стобцах мало, поэтому можно просто отбросить строки с пропусками."
   ]
  },
  {
   "cell_type": "code",
   "execution_count": 9,
   "metadata": {},
   "outputs": [],
   "source": [
    "data['year_of_release'] = data['year_of_release'].astype(int)\n",
    "#тип данных меняю на int"
   ]
  },
  {
   "cell_type": "code",
   "execution_count": 10,
   "metadata": {},
   "outputs": [
    {
     "data": {
      "text/plain": [
       "array([76., nan, 82., 80., 89., 58., 87., 91., 61., 97., 95., 77., 88.,\n",
       "       83., 94., 93., 85., 86., 98., 96., 90., 84., 73., 74., 78., 92.,\n",
       "       71., 72., 68., 62., 49., 67., 81., 66., 56., 79., 70., 59., 64.,\n",
       "       75., 60., 63., 69., 50., 25., 42., 44., 55., 48., 57., 29., 47.,\n",
       "       65., 54., 20., 53., 37., 38., 33., 52., 30., 32., 43., 45., 51.,\n",
       "       40., 46., 39., 34., 41., 36., 31., 27., 35., 26., 19., 28., 23.,\n",
       "       24., 21., 17., 13.])"
      ]
     },
     "execution_count": 10,
     "metadata": {},
     "output_type": "execute_result"
    }
   ],
   "source": [
    "data['critic_score'].unique()"
   ]
  },
  {
   "cell_type": "code",
   "execution_count": 11,
   "metadata": {},
   "outputs": [],
   "source": [
    "data['critic_score']= data['critic_score'] / 10 \n",
    "#оценка максимум 10. Сдвигаю точку на один знак влево"
   ]
  },
  {
   "cell_type": "markdown",
   "metadata": {},
   "source": [
    "В описании данных указано, что данные за 2016 год могут быть не полными."
   ]
  },
  {
   "cell_type": "code",
   "execution_count": 12,
   "metadata": {
    "scrolled": true
   },
   "outputs": [
    {
     "data": {
      "text/plain": [
       "name                 0\n",
       "platform             0\n",
       "year_of_release      0\n",
       "genre                0\n",
       "na_sales             0\n",
       "eu_sales             0\n",
       "jp_sales             0\n",
       "other_sales          0\n",
       "critic_score       270\n",
       "user_score         206\n",
       "rating             222\n",
       "dtype: int64"
      ]
     },
     "execution_count": 12,
     "metadata": {},
     "output_type": "execute_result"
    }
   ],
   "source": [
    "data.loc[data['year_of_release'] == 2016].isna().sum()"
   ]
  },
  {
   "cell_type": "markdown",
   "metadata": {},
   "source": [
    "Пропуски есть, но это лишь малая часть от всех"
   ]
  },
  {
   "cell_type": "code",
   "execution_count": 13,
   "metadata": {
    "scrolled": true
   },
   "outputs": [
    {
     "data": {
      "text/html": [
       "<div>\n",
       "<style scoped>\n",
       "    .dataframe tbody tr th:only-of-type {\n",
       "        vertical-align: middle;\n",
       "    }\n",
       "\n",
       "    .dataframe tbody tr th {\n",
       "        vertical-align: top;\n",
       "    }\n",
       "\n",
       "    .dataframe thead th {\n",
       "        text-align: right;\n",
       "    }\n",
       "</style>\n",
       "<table border=\"1\" class=\"dataframe\">\n",
       "  <thead>\n",
       "    <tr style=\"text-align: right;\">\n",
       "      <th></th>\n",
       "      <th>critic_score</th>\n",
       "      <th>user_score</th>\n",
       "      <th>rating</th>\n",
       "    </tr>\n",
       "    <tr>\n",
       "      <th>platform</th>\n",
       "      <th></th>\n",
       "      <th></th>\n",
       "      <th></th>\n",
       "    </tr>\n",
       "  </thead>\n",
       "  <tbody>\n",
       "    <tr>\n",
       "      <th>2600</th>\n",
       "      <td>0</td>\n",
       "      <td>0</td>\n",
       "      <td>0</td>\n",
       "    </tr>\n",
       "    <tr>\n",
       "      <th>3DO</th>\n",
       "      <td>0</td>\n",
       "      <td>0</td>\n",
       "      <td>0</td>\n",
       "    </tr>\n",
       "    <tr>\n",
       "      <th>3DS</th>\n",
       "      <td>166</td>\n",
       "      <td>225</td>\n",
       "      <td>223</td>\n",
       "    </tr>\n",
       "    <tr>\n",
       "      <th>DC</th>\n",
       "      <td>14</td>\n",
       "      <td>14</td>\n",
       "      <td>14</td>\n",
       "    </tr>\n",
       "    <tr>\n",
       "      <th>DS</th>\n",
       "      <td>708</td>\n",
       "      <td>1256</td>\n",
       "      <td>1255</td>\n",
       "    </tr>\n",
       "    <tr>\n",
       "      <th>GB</th>\n",
       "      <td>0</td>\n",
       "      <td>0</td>\n",
       "      <td>0</td>\n",
       "    </tr>\n",
       "    <tr>\n",
       "      <th>GBA</th>\n",
       "      <td>430</td>\n",
       "      <td>509</td>\n",
       "      <td>514</td>\n",
       "    </tr>\n",
       "    <tr>\n",
       "      <th>GC</th>\n",
       "      <td>437</td>\n",
       "      <td>457</td>\n",
       "      <td>457</td>\n",
       "    </tr>\n",
       "    <tr>\n",
       "      <th>GEN</th>\n",
       "      <td>0</td>\n",
       "      <td>0</td>\n",
       "      <td>0</td>\n",
       "    </tr>\n",
       "    <tr>\n",
       "      <th>GG</th>\n",
       "      <td>0</td>\n",
       "      <td>0</td>\n",
       "      <td>0</td>\n",
       "    </tr>\n",
       "    <tr>\n",
       "      <th>N64</th>\n",
       "      <td>0</td>\n",
       "      <td>0</td>\n",
       "      <td>0</td>\n",
       "    </tr>\n",
       "    <tr>\n",
       "      <th>NES</th>\n",
       "      <td>0</td>\n",
       "      <td>0</td>\n",
       "      <td>0</td>\n",
       "    </tr>\n",
       "    <tr>\n",
       "      <th>NG</th>\n",
       "      <td>0</td>\n",
       "      <td>0</td>\n",
       "      <td>0</td>\n",
       "    </tr>\n",
       "    <tr>\n",
       "      <th>PC</th>\n",
       "      <td>699</td>\n",
       "      <td>804</td>\n",
       "      <td>757</td>\n",
       "    </tr>\n",
       "    <tr>\n",
       "      <th>PCFX</th>\n",
       "      <td>0</td>\n",
       "      <td>0</td>\n",
       "      <td>0</td>\n",
       "    </tr>\n",
       "    <tr>\n",
       "      <th>PS</th>\n",
       "      <td>196</td>\n",
       "      <td>203</td>\n",
       "      <td>204</td>\n",
       "    </tr>\n",
       "    <tr>\n",
       "      <th>PS2</th>\n",
       "      <td>1275</td>\n",
       "      <td>1456</td>\n",
       "      <td>1456</td>\n",
       "    </tr>\n",
       "    <tr>\n",
       "      <th>PS3</th>\n",
       "      <td>804</td>\n",
       "      <td>948</td>\n",
       "      <td>935</td>\n",
       "    </tr>\n",
       "    <tr>\n",
       "      <th>PS4</th>\n",
       "      <td>252</td>\n",
       "      <td>263</td>\n",
       "      <td>255</td>\n",
       "    </tr>\n",
       "    <tr>\n",
       "      <th>PSP</th>\n",
       "      <td>456</td>\n",
       "      <td>536</td>\n",
       "      <td>536</td>\n",
       "    </tr>\n",
       "    <tr>\n",
       "      <th>PSV</th>\n",
       "      <td>119</td>\n",
       "      <td>149</td>\n",
       "      <td>150</td>\n",
       "    </tr>\n",
       "    <tr>\n",
       "      <th>SAT</th>\n",
       "      <td>0</td>\n",
       "      <td>0</td>\n",
       "      <td>0</td>\n",
       "    </tr>\n",
       "    <tr>\n",
       "      <th>SCD</th>\n",
       "      <td>0</td>\n",
       "      <td>0</td>\n",
       "      <td>0</td>\n",
       "    </tr>\n",
       "    <tr>\n",
       "      <th>SNES</th>\n",
       "      <td>0</td>\n",
       "      <td>0</td>\n",
       "      <td>0</td>\n",
       "    </tr>\n",
       "    <tr>\n",
       "      <th>TG16</th>\n",
       "      <td>0</td>\n",
       "      <td>0</td>\n",
       "      <td>0</td>\n",
       "    </tr>\n",
       "    <tr>\n",
       "      <th>WS</th>\n",
       "      <td>0</td>\n",
       "      <td>0</td>\n",
       "      <td>0</td>\n",
       "    </tr>\n",
       "    <tr>\n",
       "      <th>Wii</th>\n",
       "      <td>568</td>\n",
       "      <td>976</td>\n",
       "      <td>977</td>\n",
       "    </tr>\n",
       "    <tr>\n",
       "      <th>WiiU</th>\n",
       "      <td>90</td>\n",
       "      <td>105</td>\n",
       "      <td>105</td>\n",
       "    </tr>\n",
       "    <tr>\n",
       "      <th>X360</th>\n",
       "      <td>894</td>\n",
       "      <td>1028</td>\n",
       "      <td>1030</td>\n",
       "    </tr>\n",
       "    <tr>\n",
       "      <th>XB</th>\n",
       "      <td>706</td>\n",
       "      <td>717</td>\n",
       "      <td>714</td>\n",
       "    </tr>\n",
       "    <tr>\n",
       "      <th>XOne</th>\n",
       "      <td>169</td>\n",
       "      <td>193</td>\n",
       "      <td>186</td>\n",
       "    </tr>\n",
       "  </tbody>\n",
       "</table>\n",
       "</div>"
      ],
      "text/plain": [
       "          critic_score  user_score  rating\n",
       "platform                                  \n",
       "2600                 0           0       0\n",
       "3DO                  0           0       0\n",
       "3DS                166         225     223\n",
       "DC                  14          14      14\n",
       "DS                 708        1256    1255\n",
       "GB                   0           0       0\n",
       "GBA                430         509     514\n",
       "GC                 437         457     457\n",
       "GEN                  0           0       0\n",
       "GG                   0           0       0\n",
       "N64                  0           0       0\n",
       "NES                  0           0       0\n",
       "NG                   0           0       0\n",
       "PC                 699         804     757\n",
       "PCFX                 0           0       0\n",
       "PS                 196         203     204\n",
       "PS2               1275        1456    1456\n",
       "PS3                804         948     935\n",
       "PS4                252         263     255\n",
       "PSP                456         536     536\n",
       "PSV                119         149     150\n",
       "SAT                  0           0       0\n",
       "SCD                  0           0       0\n",
       "SNES                 0           0       0\n",
       "TG16                 0           0       0\n",
       "WS                   0           0       0\n",
       "Wii                568         976     977\n",
       "WiiU                90         105     105\n",
       "X360               894        1028    1030\n",
       "XB                 706         717     714\n",
       "XOne               169         193     186"
      ]
     },
     "execution_count": 13,
     "metadata": {},
     "output_type": "execute_result"
    }
   ],
   "source": [
    "data.groupby(['platform'])[['critic_score','user_score','rating']].count()"
   ]
  },
  {
   "cell_type": "markdown",
   "metadata": {},
   "source": [
    "Для некоторых платформ отсутствует информация об оценке критиков, оценке пользователей и рейтинге сразу.\n",
    "\n",
    "Может был передан не полный датасет, а может некоторые платформы отказались предоставлять данные, а может быть некоторые платформы не имеют данных об оценке пользователей, потому что у них нет подключения к сети(игры покупают на сторонних носителях, а онлайн магазин отсутствует).\n",
    "\n",
    "В rating пропуски могут быть связаны с тем, что организация Entertainment Software Rating Board образовалась в 1994 году и игры, вышедшие до этого года не получили рейтинг от этой организации. \n",
    "\n",
    "\n",
    "Заполнять эти пропуски не буду и удалять тоже. "
   ]
  },
  {
   "cell_type": "code",
   "execution_count": 14,
   "metadata": {
    "scrolled": true
   },
   "outputs": [
    {
     "data": {
      "text/html": [
       "<div>\n",
       "<style scoped>\n",
       "    .dataframe tbody tr th:only-of-type {\n",
       "        vertical-align: middle;\n",
       "    }\n",
       "\n",
       "    .dataframe tbody tr th {\n",
       "        vertical-align: top;\n",
       "    }\n",
       "\n",
       "    .dataframe thead th {\n",
       "        text-align: right;\n",
       "    }\n",
       "</style>\n",
       "<table border=\"1\" class=\"dataframe\">\n",
       "  <thead>\n",
       "    <tr style=\"text-align: right;\">\n",
       "      <th></th>\n",
       "      <th>name</th>\n",
       "      <th>platform</th>\n",
       "      <th>year_of_release</th>\n",
       "      <th>genre</th>\n",
       "      <th>na_sales</th>\n",
       "      <th>eu_sales</th>\n",
       "      <th>jp_sales</th>\n",
       "      <th>other_sales</th>\n",
       "      <th>critic_score</th>\n",
       "      <th>user_score</th>\n",
       "      <th>rating</th>\n",
       "    </tr>\n",
       "  </thead>\n",
       "  <tbody>\n",
       "    <tr>\n",
       "      <th>119</th>\n",
       "      <td>Zumba Fitness</td>\n",
       "      <td>Wii</td>\n",
       "      <td>2010</td>\n",
       "      <td>Sports</td>\n",
       "      <td>3.45</td>\n",
       "      <td>2.59</td>\n",
       "      <td>0.0</td>\n",
       "      <td>0.66</td>\n",
       "      <td>NaN</td>\n",
       "      <td>tbd</td>\n",
       "      <td>E</td>\n",
       "    </tr>\n",
       "    <tr>\n",
       "      <th>301</th>\n",
       "      <td>Namco Museum: 50th Anniversary</td>\n",
       "      <td>PS2</td>\n",
       "      <td>2005</td>\n",
       "      <td>Misc</td>\n",
       "      <td>2.08</td>\n",
       "      <td>1.35</td>\n",
       "      <td>0.0</td>\n",
       "      <td>0.54</td>\n",
       "      <td>6.1</td>\n",
       "      <td>tbd</td>\n",
       "      <td>E10+</td>\n",
       "    </tr>\n",
       "    <tr>\n",
       "      <th>520</th>\n",
       "      <td>Zumba Fitness 2</td>\n",
       "      <td>Wii</td>\n",
       "      <td>2011</td>\n",
       "      <td>Sports</td>\n",
       "      <td>1.51</td>\n",
       "      <td>1.03</td>\n",
       "      <td>0.0</td>\n",
       "      <td>0.27</td>\n",
       "      <td>NaN</td>\n",
       "      <td>tbd</td>\n",
       "      <td>T</td>\n",
       "    </tr>\n",
       "    <tr>\n",
       "      <th>645</th>\n",
       "      <td>uDraw Studio</td>\n",
       "      <td>Wii</td>\n",
       "      <td>2010</td>\n",
       "      <td>Misc</td>\n",
       "      <td>1.65</td>\n",
       "      <td>0.57</td>\n",
       "      <td>0.0</td>\n",
       "      <td>0.20</td>\n",
       "      <td>7.1</td>\n",
       "      <td>tbd</td>\n",
       "      <td>E</td>\n",
       "    </tr>\n",
       "    <tr>\n",
       "      <th>718</th>\n",
       "      <td>Just Dance Kids</td>\n",
       "      <td>Wii</td>\n",
       "      <td>2010</td>\n",
       "      <td>Misc</td>\n",
       "      <td>1.52</td>\n",
       "      <td>0.54</td>\n",
       "      <td>0.0</td>\n",
       "      <td>0.18</td>\n",
       "      <td>NaN</td>\n",
       "      <td>tbd</td>\n",
       "      <td>E</td>\n",
       "    </tr>\n",
       "    <tr>\n",
       "      <th>...</th>\n",
       "      <td>...</td>\n",
       "      <td>...</td>\n",
       "      <td>...</td>\n",
       "      <td>...</td>\n",
       "      <td>...</td>\n",
       "      <td>...</td>\n",
       "      <td>...</td>\n",
       "      <td>...</td>\n",
       "      <td>...</td>\n",
       "      <td>...</td>\n",
       "      <td>...</td>\n",
       "    </tr>\n",
       "    <tr>\n",
       "      <th>16695</th>\n",
       "      <td>Planet Monsters</td>\n",
       "      <td>GBA</td>\n",
       "      <td>2001</td>\n",
       "      <td>Action</td>\n",
       "      <td>0.01</td>\n",
       "      <td>0.00</td>\n",
       "      <td>0.0</td>\n",
       "      <td>0.00</td>\n",
       "      <td>6.7</td>\n",
       "      <td>tbd</td>\n",
       "      <td>E</td>\n",
       "    </tr>\n",
       "    <tr>\n",
       "      <th>16697</th>\n",
       "      <td>Bust-A-Move 3000</td>\n",
       "      <td>GC</td>\n",
       "      <td>2003</td>\n",
       "      <td>Puzzle</td>\n",
       "      <td>0.01</td>\n",
       "      <td>0.00</td>\n",
       "      <td>0.0</td>\n",
       "      <td>0.00</td>\n",
       "      <td>5.3</td>\n",
       "      <td>tbd</td>\n",
       "      <td>E</td>\n",
       "    </tr>\n",
       "    <tr>\n",
       "      <th>16698</th>\n",
       "      <td>Mega Brain Boost</td>\n",
       "      <td>DS</td>\n",
       "      <td>2008</td>\n",
       "      <td>Puzzle</td>\n",
       "      <td>0.01</td>\n",
       "      <td>0.00</td>\n",
       "      <td>0.0</td>\n",
       "      <td>0.00</td>\n",
       "      <td>4.8</td>\n",
       "      <td>tbd</td>\n",
       "      <td>E</td>\n",
       "    </tr>\n",
       "    <tr>\n",
       "      <th>16704</th>\n",
       "      <td>Plushees</td>\n",
       "      <td>DS</td>\n",
       "      <td>2008</td>\n",
       "      <td>Simulation</td>\n",
       "      <td>0.01</td>\n",
       "      <td>0.00</td>\n",
       "      <td>0.0</td>\n",
       "      <td>0.00</td>\n",
       "      <td>NaN</td>\n",
       "      <td>tbd</td>\n",
       "      <td>E</td>\n",
       "    </tr>\n",
       "    <tr>\n",
       "      <th>16706</th>\n",
       "      <td>Men in Black II: Alien Escape</td>\n",
       "      <td>GC</td>\n",
       "      <td>2003</td>\n",
       "      <td>Shooter</td>\n",
       "      <td>0.01</td>\n",
       "      <td>0.00</td>\n",
       "      <td>0.0</td>\n",
       "      <td>0.00</td>\n",
       "      <td>NaN</td>\n",
       "      <td>tbd</td>\n",
       "      <td>T</td>\n",
       "    </tr>\n",
       "  </tbody>\n",
       "</table>\n",
       "<p>2376 rows × 11 columns</p>\n",
       "</div>"
      ],
      "text/plain": [
       "                                 name platform  year_of_release       genre  \\\n",
       "119                     Zumba Fitness      Wii             2010      Sports   \n",
       "301    Namco Museum: 50th Anniversary      PS2             2005        Misc   \n",
       "520                   Zumba Fitness 2      Wii             2011      Sports   \n",
       "645                      uDraw Studio      Wii             2010        Misc   \n",
       "718                   Just Dance Kids      Wii             2010        Misc   \n",
       "...                               ...      ...              ...         ...   \n",
       "16695                 Planet Monsters      GBA             2001      Action   \n",
       "16697                Bust-A-Move 3000       GC             2003      Puzzle   \n",
       "16698                Mega Brain Boost       DS             2008      Puzzle   \n",
       "16704                        Plushees       DS             2008  Simulation   \n",
       "16706   Men in Black II: Alien Escape       GC             2003     Shooter   \n",
       "\n",
       "       na_sales  eu_sales  jp_sales  other_sales  critic_score user_score  \\\n",
       "119        3.45      2.59       0.0         0.66           NaN        tbd   \n",
       "301        2.08      1.35       0.0         0.54           6.1        tbd   \n",
       "520        1.51      1.03       0.0         0.27           NaN        tbd   \n",
       "645        1.65      0.57       0.0         0.20           7.1        tbd   \n",
       "718        1.52      0.54       0.0         0.18           NaN        tbd   \n",
       "...         ...       ...       ...          ...           ...        ...   \n",
       "16695      0.01      0.00       0.0         0.00           6.7        tbd   \n",
       "16697      0.01      0.00       0.0         0.00           5.3        tbd   \n",
       "16698      0.01      0.00       0.0         0.00           4.8        tbd   \n",
       "16704      0.01      0.00       0.0         0.00           NaN        tbd   \n",
       "16706      0.01      0.00       0.0         0.00           NaN        tbd   \n",
       "\n",
       "      rating  \n",
       "119        E  \n",
       "301     E10+  \n",
       "520        T  \n",
       "645        E  \n",
       "718        E  \n",
       "...      ...  \n",
       "16695      E  \n",
       "16697      E  \n",
       "16698      E  \n",
       "16704      E  \n",
       "16706      T  \n",
       "\n",
       "[2376 rows x 11 columns]"
      ]
     },
     "execution_count": 14,
     "metadata": {},
     "output_type": "execute_result"
    }
   ],
   "source": [
    "data[data['user_score'] == 'tbd']"
   ]
  },
  {
   "cell_type": "markdown",
   "metadata": {},
   "source": [
    "tbd - to be determined (будет определено позднее). \n",
    "\n",
    "Судя по формулировке, можно предположить, что рейтинг пользователей отсутствует т.к. в некоторых регионах продажи еще не запущены или запущены недавно. "
   ]
  },
  {
   "cell_type": "code",
   "execution_count": 15,
   "metadata": {},
   "outputs": [],
   "source": [
    "data['user_score'] = pd.to_numeric(data['user_score'], errors='coerce')\n",
    "#заменяю tbd на пропуски и перевожу в float"
   ]
  },
  {
   "cell_type": "code",
   "execution_count": 16,
   "metadata": {},
   "outputs": [],
   "source": [
    "data['all_sales'] =  data[['na_sales','eu_sales','jp_sales', 'other_sales']].sum(axis = 1)\n",
    "#суммарные продажи во всех регионах "
   ]
  },
  {
   "cell_type": "code",
   "execution_count": 17,
   "metadata": {},
   "outputs": [
    {
     "name": "stdout",
     "output_type": "stream",
     "text": [
      "<class 'pandas.core.frame.DataFrame'>\n",
      "Int64Index: 16444 entries, 0 to 16714\n",
      "Data columns (total 12 columns):\n",
      " #   Column           Non-Null Count  Dtype  \n",
      "---  ------           --------------  -----  \n",
      " 0   name             16444 non-null  object \n",
      " 1   platform         16444 non-null  object \n",
      " 2   year_of_release  16444 non-null  int64  \n",
      " 3   genre            16444 non-null  object \n",
      " 4   na_sales         16444 non-null  float64\n",
      " 5   eu_sales         16444 non-null  float64\n",
      " 6   jp_sales         16444 non-null  float64\n",
      " 7   other_sales      16444 non-null  float64\n",
      " 8   critic_score     7983 non-null   float64\n",
      " 9   user_score       7463 non-null   float64\n",
      " 10  rating           9768 non-null   object \n",
      " 11  all_sales        16444 non-null  float64\n",
      "dtypes: float64(7), int64(1), object(4)\n",
      "memory usage: 1.6+ MB\n",
      "None\n",
      "-------------------------\n",
      "name [' Beyblade Burst' ' Fire Emblem Fates' \" Frozen: Olaf's Quest\" ...\n",
      " 'uDraw Studio' 'uDraw Studio: Instant Artist'\n",
      " '¡Shin Chan Flipa en colores!']\n",
      "name : кол-во NaN 0 , процент NaN 0.0 %\n",
      "-------------------------\n",
      "platform ['2600' '3DO' '3DS' 'DC' 'DS' 'GB' 'GBA' 'GC' 'GEN' 'GG' 'N64' 'NES' 'NG'\n",
      " 'PC' 'PCFX' 'PS' 'PS2' 'PS3' 'PS4' 'PSP' 'PSV' 'SAT' 'SCD' 'SNES' 'TG16'\n",
      " 'WS' 'Wii' 'WiiU' 'X360' 'XB' 'XOne']\n",
      "platform : кол-во NaN 0 , процент NaN 0.0 %\n",
      "-------------------------\n",
      "year_of_release [1980 1981 1982 1983 1984 1985 1986 1987 1988 1989 1990 1991 1992 1993\n",
      " 1994 1995 1996 1997 1998 1999 2000 2001 2002 2003 2004 2005 2006 2007\n",
      " 2008 2009 2010 2011 2012 2013 2014 2015 2016]\n",
      "year_of_release : кол-во NaN 0 , процент NaN 0.0 %\n",
      "-------------------------\n",
      "genre ['Action' 'Adventure' 'Fighting' 'Misc' 'Platform' 'Puzzle' 'Racing'\n",
      " 'Role-Playing' 'Shooter' 'Simulation' 'Sports' 'Strategy']\n",
      "genre : кол-во NaN 0 , процент NaN 0.0 %\n",
      "-------------------------\n",
      "critic_score [1.3 1.7 1.9 2.  2.1 2.3 2.4 2.5 2.6 2.7 2.8 2.9 3.  3.1 3.2 3.3 3.4 3.5\n",
      " 3.6 3.7 3.8 3.9 4.  4.1 4.2 4.3 4.4 4.5 4.6 4.7 4.8 4.9 5.  5.1 5.2 5.3\n",
      " 5.4 5.5 5.6 5.7 5.8 5.9 6.  6.1 6.2 6.3 6.4 6.5 6.6 6.7 6.8 6.9 7.  7.1\n",
      " 7.2 7.3 7.4 7.5 7.6 7.7 7.8 7.9 8.  8.1 8.2 8.3 8.4 8.5 8.6 8.7 8.8 8.9\n",
      " 9.  9.1 9.2 9.3 9.4 9.5 9.6 9.7 9.8 nan]\n",
      "critic_score : кол-во NaN 8461 , процент NaN 51.45 %\n",
      "-------------------------\n",
      "user_score [0.  0.2 0.3 0.5 0.6 0.7 0.9 1.  1.1 1.2 1.3 1.4 1.5 1.6 1.7 1.8 1.9 2.\n",
      " 2.1 2.2 2.3 2.4 2.5 2.6 2.7 2.8 2.9 3.  3.1 3.2 3.3 3.4 3.5 3.6 3.7 3.8\n",
      " 3.9 4.  4.1 4.2 4.3 4.4 4.5 4.6 4.7 4.8 4.9 5.  5.1 5.2 5.3 5.4 5.5 5.6\n",
      " 5.7 5.8 5.9 6.  6.1 6.2 6.3 6.4 6.5 6.6 6.7 6.8 6.9 7.  7.1 7.2 7.3 7.4\n",
      " 7.5 7.6 7.7 7.8 7.9 8.  8.1 8.2 8.3 8.4 8.5 8.6 8.7 8.8 8.9 9.  9.1 9.2\n",
      " 9.3 9.4 9.5 9.6 9.7 nan]\n",
      "user_score : кол-во NaN 8981 , процент NaN 54.62 %\n",
      "-------------------------\n",
      "rating ['AO' 'E' 'E10+' 'EC' 'K-A' 'M' 'RP' 'T' nan]\n",
      "rating : кол-во NaN 6676 , процент NaN 40.6 %\n"
     ]
    }
   ],
   "source": [
    "# Посмотрим, что у нас осталось\n",
    "temp = data.copy() \n",
    "list_c = ['name', 'platform', 'year_of_release', 'genre', 'critic_score', 'user_score', 'rating']\n",
    "print(temp.info())\n",
    "for col_l in list_c:\n",
    "  print('-'* 25)\n",
    "  print(col_l, temp[col_l].sort_values().unique())\n",
    "  print(col_l,': кол-во NaN',temp[col_l].isna().sum(),\n",
    "        ', процент NaN', round(temp[col_l].isna().sum()/len(temp)*100, 2),'%')"
   ]
  },
  {
   "cell_type": "code",
   "execution_count": 18,
   "metadata": {},
   "outputs": [],
   "source": [
    "#поставлю заглушку на nan в рейтинге буквой Q\n",
    "data['rating'] = data['rating'] .fillna('Q')"
   ]
  },
  {
   "cell_type": "markdown",
   "metadata": {},
   "source": [
    "# Исследовательский анализ данных"
   ]
  },
  {
   "cell_type": "code",
   "execution_count": 19,
   "metadata": {
    "scrolled": false
   },
   "outputs": [
    {
     "data": {
      "image/png": "[encoded data removed]",
      "text/plain": [
       "<Figure size 864x432 with 1 Axes>"
      ]
     },
     "metadata": {
      "needs_background": "light"
     },
     "output_type": "display_data"
    }
   ],
   "source": [
    "#сколько игр выпускалось в разные годы\n",
    "plt.figure(figsize=(12,6))\n",
    "pivot_count_games_years = data.pivot_table(index='year_of_release', values='name', aggfunc='count')\n",
    "sns.lineplot(data=pivot_count_games_years);"
   ]
  },
  {
   "cell_type": "markdown",
   "metadata": {},
   "source": [
    "Из линейной диаграммы видно что спрос на компьютерные игры начал расти в середине 90х(думаю что связано с распространением настольных компьютеров), пик спроса пришелся на 2008 год, а дальше наступила эра мобильных приложений и начался спад. \n",
    "\n",
    "Наибольшее количество данных находится в промежутке 1995- 2015. Но т.к. надо построить прогноз на 2017 год, думаю будет уместно опираться на данные с 2011 по 2016. "
   ]
  },
  {
   "cell_type": "code",
   "execution_count": 20,
   "metadata": {},
   "outputs": [
    {
     "data": {
      "image/png": "[encoded data removed]",
      "text/plain": [
       "<Figure size 864x432 with 1 Axes>"
      ]
     },
     "metadata": {
      "needs_background": "light"
     },
     "output_type": "display_data"
    }
   ],
   "source": [
    "#суммарное количество продаж по платформам\n",
    "pivot_platform_sales = data.pivot_table(index='platform', values='all_sales', aggfunc='sum').sort_values(by='all_sales', ascending=False)\n",
    "plt.figure(figsize=(12,6))\n",
    "sns.barplot(x=pivot_platform_sales.index, y=pivot_platform_sales['all_sales']);"
   ]
  },
  {
   "cell_type": "markdown",
   "metadata": {},
   "source": [
    "Судя по стобчатой гистограмме можно сделать вывод, что самыми популярными устройствами для игр с 1980 по 2016 были : PS2 и DS далее PS3, Wii, X360 , PSP."
   ]
  },
  {
   "cell_type": "code",
   "execution_count": 21,
   "metadata": {},
   "outputs": [
    {
     "data": {
      "text/html": [
       "<div>\n",
       "<style scoped>\n",
       "    .dataframe tbody tr th:only-of-type {\n",
       "        vertical-align: middle;\n",
       "    }\n",
       "\n",
       "    .dataframe tbody tr th {\n",
       "        vertical-align: top;\n",
       "    }\n",
       "\n",
       "    .dataframe thead th {\n",
       "        text-align: right;\n",
       "    }\n",
       "</style>\n",
       "<table border=\"1\" class=\"dataframe\">\n",
       "  <thead>\n",
       "    <tr style=\"text-align: right;\">\n",
       "      <th></th>\n",
       "      <th>platform</th>\n",
       "      <th>year_of_release</th>\n",
       "      <th>all_sales</th>\n",
       "    </tr>\n",
       "  </thead>\n",
       "  <tbody>\n",
       "    <tr>\n",
       "      <th>0</th>\n",
       "      <td>DS</td>\n",
       "      <td>1985</td>\n",
       "      <td>0.02</td>\n",
       "    </tr>\n",
       "    <tr>\n",
       "      <th>1</th>\n",
       "      <td>DS</td>\n",
       "      <td>2004</td>\n",
       "      <td>17.27</td>\n",
       "    </tr>\n",
       "    <tr>\n",
       "      <th>2</th>\n",
       "      <td>DS</td>\n",
       "      <td>2005</td>\n",
       "      <td>130.14</td>\n",
       "    </tr>\n",
       "    <tr>\n",
       "      <th>3</th>\n",
       "      <td>DS</td>\n",
       "      <td>2006</td>\n",
       "      <td>119.81</td>\n",
       "    </tr>\n",
       "    <tr>\n",
       "      <th>4</th>\n",
       "      <td>DS</td>\n",
       "      <td>2007</td>\n",
       "      <td>146.94</td>\n",
       "    </tr>\n",
       "    <tr>\n",
       "      <th>...</th>\n",
       "      <td>...</td>\n",
       "      <td>...</td>\n",
       "      <td>...</td>\n",
       "    </tr>\n",
       "    <tr>\n",
       "      <th>64</th>\n",
       "      <td>X360</td>\n",
       "      <td>2012</td>\n",
       "      <td>99.74</td>\n",
       "    </tr>\n",
       "    <tr>\n",
       "      <th>65</th>\n",
       "      <td>X360</td>\n",
       "      <td>2013</td>\n",
       "      <td>88.58</td>\n",
       "    </tr>\n",
       "    <tr>\n",
       "      <th>66</th>\n",
       "      <td>X360</td>\n",
       "      <td>2014</td>\n",
       "      <td>34.74</td>\n",
       "    </tr>\n",
       "    <tr>\n",
       "      <th>67</th>\n",
       "      <td>X360</td>\n",
       "      <td>2015</td>\n",
       "      <td>11.96</td>\n",
       "    </tr>\n",
       "    <tr>\n",
       "      <th>68</th>\n",
       "      <td>X360</td>\n",
       "      <td>2016</td>\n",
       "      <td>1.52</td>\n",
       "    </tr>\n",
       "  </tbody>\n",
       "</table>\n",
       "<p>69 rows × 3 columns</p>\n",
       "</div>"
      ],
      "text/plain": [
       "   platform  year_of_release  all_sales\n",
       "0        DS             1985       0.02\n",
       "1        DS             2004      17.27\n",
       "2        DS             2005     130.14\n",
       "3        DS             2006     119.81\n",
       "4        DS             2007     146.94\n",
       "..      ...              ...        ...\n",
       "64     X360             2012      99.74\n",
       "65     X360             2013      88.58\n",
       "66     X360             2014      34.74\n",
       "67     X360             2015      11.96\n",
       "68     X360             2016       1.52\n",
       "\n",
       "[69 rows x 3 columns]"
      ]
     },
     "execution_count": 21,
     "metadata": {},
     "output_type": "execute_result"
    }
   ],
   "source": [
    "#распределение продаж по платформам и по годам\n",
    "platform_on_years = pd.DataFrame(data.groupby(['platform','year_of_release'])['all_sales'].sum())\n",
    "platform_list = ['PS2', 'DS', 'PS3', 'Wii', 'X360', 'PSP']\n",
    "top_platforms = platform_on_years.query('platform in @platform_list').reset_index()\n",
    "top_platforms"
   ]
  },
  {
   "cell_type": "code",
   "execution_count": 22,
   "metadata": {
    "scrolled": false
   },
   "outputs": [
    {
     "data": {
      "image/png": "[encoded data removed]",
      "text/plain": [
       "<Figure size 864x432 with 1 Axes>"
      ]
     },
     "metadata": {
      "needs_background": "light"
     },
     "output_type": "display_data"
    }
   ],
   "source": [
    "#распределение продаж по годам\n",
    "plt.figure(figsize=(12,6))\n",
    "sns.lineplot(x='year_of_release', y='all_sales', hue='platform', data=top_platforms)\n",
    "plt.show()"
   ]
  },
  {
   "cell_type": "markdown",
   "metadata": {},
   "source": [
    "В среднем игровые платформы актуальны на протяжении 10 лет."
   ]
  },
  {
   "cell_type": "code",
   "execution_count": 23,
   "metadata": {},
   "outputs": [],
   "source": [
    "# таблица с данными только за актуальный период \n",
    "top_platforms = top_platforms[top_platforms['year_of_release'] > 2010]"
   ]
  },
  {
   "cell_type": "code",
   "execution_count": 24,
   "metadata": {
    "scrolled": true
   },
   "outputs": [
    {
     "data": {
      "image/png": "[encoded data removed]",
      "text/plain": [
       "<Figure size 864x432 with 1 Axes>"
      ]
     },
     "metadata": {
      "needs_background": "light"
     },
     "output_type": "display_data"
    }
   ],
   "source": [
    "plt.figure(figsize=(12,6))\n",
    "sns.lineplot(x='year_of_release', y='all_sales', hue='platform', data=top_platforms)\n",
    "plt.show()"
   ]
  },
  {
   "cell_type": "markdown",
   "metadata": {},
   "source": [
    "Cамые потенциально прибыльные платформы PS3 и X360."
   ]
  },
  {
   "cell_type": "code",
   "execution_count": 25,
   "metadata": {},
   "outputs": [
    {
     "data": {
      "text/html": [
       "<div>\n",
       "<style scoped>\n",
       "    .dataframe tbody tr th:only-of-type {\n",
       "        vertical-align: middle;\n",
       "    }\n",
       "\n",
       "    .dataframe tbody tr th {\n",
       "        vertical-align: top;\n",
       "    }\n",
       "\n",
       "    .dataframe thead th {\n",
       "        text-align: right;\n",
       "    }\n",
       "</style>\n",
       "<table border=\"1\" class=\"dataframe\">\n",
       "  <thead>\n",
       "    <tr style=\"text-align: right;\">\n",
       "      <th></th>\n",
       "      <th>index</th>\n",
       "      <th>name</th>\n",
       "      <th>platform</th>\n",
       "      <th>year_of_release</th>\n",
       "      <th>genre</th>\n",
       "      <th>na_sales</th>\n",
       "      <th>eu_sales</th>\n",
       "      <th>jp_sales</th>\n",
       "      <th>other_sales</th>\n",
       "      <th>critic_score</th>\n",
       "      <th>user_score</th>\n",
       "      <th>rating</th>\n",
       "      <th>all_sales</th>\n",
       "    </tr>\n",
       "  </thead>\n",
       "  <tbody>\n",
       "    <tr>\n",
       "      <th>0</th>\n",
       "      <td>16</td>\n",
       "      <td>Grand Theft Auto V</td>\n",
       "      <td>PS3</td>\n",
       "      <td>2013</td>\n",
       "      <td>Action</td>\n",
       "      <td>7.02</td>\n",
       "      <td>9.09</td>\n",
       "      <td>0.98</td>\n",
       "      <td>3.96</td>\n",
       "      <td>9.7</td>\n",
       "      <td>8.2</td>\n",
       "      <td>M</td>\n",
       "      <td>21.05</td>\n",
       "    </tr>\n",
       "    <tr>\n",
       "      <th>1</th>\n",
       "      <td>23</td>\n",
       "      <td>Grand Theft Auto V</td>\n",
       "      <td>X360</td>\n",
       "      <td>2013</td>\n",
       "      <td>Action</td>\n",
       "      <td>9.66</td>\n",
       "      <td>5.14</td>\n",
       "      <td>0.06</td>\n",
       "      <td>1.41</td>\n",
       "      <td>9.7</td>\n",
       "      <td>8.1</td>\n",
       "      <td>M</td>\n",
       "      <td>16.27</td>\n",
       "    </tr>\n",
       "    <tr>\n",
       "      <th>2</th>\n",
       "      <td>29</td>\n",
       "      <td>Call of Duty: Modern Warfare 3</td>\n",
       "      <td>X360</td>\n",
       "      <td>2011</td>\n",
       "      <td>Shooter</td>\n",
       "      <td>9.04</td>\n",
       "      <td>4.24</td>\n",
       "      <td>0.13</td>\n",
       "      <td>1.32</td>\n",
       "      <td>8.8</td>\n",
       "      <td>3.4</td>\n",
       "      <td>M</td>\n",
       "      <td>14.73</td>\n",
       "    </tr>\n",
       "    <tr>\n",
       "      <th>3</th>\n",
       "      <td>34</td>\n",
       "      <td>Call of Duty: Black Ops II</td>\n",
       "      <td>PS3</td>\n",
       "      <td>2012</td>\n",
       "      <td>Shooter</td>\n",
       "      <td>4.99</td>\n",
       "      <td>5.73</td>\n",
       "      <td>0.65</td>\n",
       "      <td>2.42</td>\n",
       "      <td>8.3</td>\n",
       "      <td>5.3</td>\n",
       "      <td>M</td>\n",
       "      <td>13.79</td>\n",
       "    </tr>\n",
       "    <tr>\n",
       "      <th>4</th>\n",
       "      <td>35</td>\n",
       "      <td>Call of Duty: Black Ops II</td>\n",
       "      <td>X360</td>\n",
       "      <td>2012</td>\n",
       "      <td>Shooter</td>\n",
       "      <td>8.25</td>\n",
       "      <td>4.24</td>\n",
       "      <td>0.07</td>\n",
       "      <td>1.12</td>\n",
       "      <td>8.3</td>\n",
       "      <td>4.8</td>\n",
       "      <td>M</td>\n",
       "      <td>13.68</td>\n",
       "    </tr>\n",
       "    <tr>\n",
       "      <th>...</th>\n",
       "      <td>...</td>\n",
       "      <td>...</td>\n",
       "      <td>...</td>\n",
       "      <td>...</td>\n",
       "      <td>...</td>\n",
       "      <td>...</td>\n",
       "      <td>...</td>\n",
       "      <td>...</td>\n",
       "      <td>...</td>\n",
       "      <td>...</td>\n",
       "      <td>...</td>\n",
       "      <td>...</td>\n",
       "      <td>...</td>\n",
       "    </tr>\n",
       "    <tr>\n",
       "      <th>1710</th>\n",
       "      <td>16659</td>\n",
       "      <td>Hyakki Yagyou Kaidan Romance</td>\n",
       "      <td>PSP</td>\n",
       "      <td>2012</td>\n",
       "      <td>Action</td>\n",
       "      <td>0.00</td>\n",
       "      <td>0.00</td>\n",
       "      <td>0.01</td>\n",
       "      <td>0.00</td>\n",
       "      <td>NaN</td>\n",
       "      <td>NaN</td>\n",
       "      <td>Q</td>\n",
       "      <td>0.01</td>\n",
       "    </tr>\n",
       "    <tr>\n",
       "      <th>1711</th>\n",
       "      <td>16674</td>\n",
       "      <td>Tsukigime Ranko's Longest Day</td>\n",
       "      <td>PS3</td>\n",
       "      <td>2014</td>\n",
       "      <td>Action</td>\n",
       "      <td>0.00</td>\n",
       "      <td>0.01</td>\n",
       "      <td>0.00</td>\n",
       "      <td>0.00</td>\n",
       "      <td>NaN</td>\n",
       "      <td>NaN</td>\n",
       "      <td>Q</td>\n",
       "      <td>0.01</td>\n",
       "    </tr>\n",
       "    <tr>\n",
       "      <th>1712</th>\n",
       "      <td>16682</td>\n",
       "      <td>Grisaia no Kajitsu: La Fruit de la Grisaia</td>\n",
       "      <td>PSP</td>\n",
       "      <td>2013</td>\n",
       "      <td>Adventure</td>\n",
       "      <td>0.00</td>\n",
       "      <td>0.00</td>\n",
       "      <td>0.01</td>\n",
       "      <td>0.00</td>\n",
       "      <td>NaN</td>\n",
       "      <td>NaN</td>\n",
       "      <td>Q</td>\n",
       "      <td>0.01</td>\n",
       "    </tr>\n",
       "    <tr>\n",
       "      <th>1713</th>\n",
       "      <td>16691</td>\n",
       "      <td>Dynasty Warriors: Eiketsuden</td>\n",
       "      <td>PS3</td>\n",
       "      <td>2016</td>\n",
       "      <td>Action</td>\n",
       "      <td>0.00</td>\n",
       "      <td>0.00</td>\n",
       "      <td>0.01</td>\n",
       "      <td>0.00</td>\n",
       "      <td>NaN</td>\n",
       "      <td>NaN</td>\n",
       "      <td>Q</td>\n",
       "      <td>0.01</td>\n",
       "    </tr>\n",
       "    <tr>\n",
       "      <th>1714</th>\n",
       "      <td>16710</td>\n",
       "      <td>Samurai Warriors: Sanada Maru</td>\n",
       "      <td>PS3</td>\n",
       "      <td>2016</td>\n",
       "      <td>Action</td>\n",
       "      <td>0.00</td>\n",
       "      <td>0.00</td>\n",
       "      <td>0.01</td>\n",
       "      <td>0.00</td>\n",
       "      <td>NaN</td>\n",
       "      <td>NaN</td>\n",
       "      <td>Q</td>\n",
       "      <td>0.01</td>\n",
       "    </tr>\n",
       "  </tbody>\n",
       "</table>\n",
       "<p>1715 rows × 13 columns</p>\n",
       "</div>"
      ],
      "text/plain": [
       "      index                                        name platform  \\\n",
       "0        16                          Grand Theft Auto V      PS3   \n",
       "1        23                          Grand Theft Auto V     X360   \n",
       "2        29              Call of Duty: Modern Warfare 3     X360   \n",
       "3        34                  Call of Duty: Black Ops II      PS3   \n",
       "4        35                  Call of Duty: Black Ops II     X360   \n",
       "...     ...                                         ...      ...   \n",
       "1710  16659                Hyakki Yagyou Kaidan Romance      PSP   \n",
       "1711  16674               Tsukigime Ranko's Longest Day      PS3   \n",
       "1712  16682  Grisaia no Kajitsu: La Fruit de la Grisaia      PSP   \n",
       "1713  16691                Dynasty Warriors: Eiketsuden      PS3   \n",
       "1714  16710               Samurai Warriors: Sanada Maru      PS3   \n",
       "\n",
       "      year_of_release      genre  na_sales  eu_sales  jp_sales  other_sales  \\\n",
       "0                2013     Action      7.02      9.09      0.98         3.96   \n",
       "1                2013     Action      9.66      5.14      0.06         1.41   \n",
       "2                2011    Shooter      9.04      4.24      0.13         1.32   \n",
       "3                2012    Shooter      4.99      5.73      0.65         2.42   \n",
       "4                2012    Shooter      8.25      4.24      0.07         1.12   \n",
       "...               ...        ...       ...       ...       ...          ...   \n",
       "1710             2012     Action      0.00      0.00      0.01         0.00   \n",
       "1711             2014     Action      0.00      0.01      0.00         0.00   \n",
       "1712             2013  Adventure      0.00      0.00      0.01         0.00   \n",
       "1713             2016     Action      0.00      0.00      0.01         0.00   \n",
       "1714             2016     Action      0.00      0.00      0.01         0.00   \n",
       "\n",
       "      critic_score  user_score rating  all_sales  \n",
       "0              9.7         8.2      M      21.05  \n",
       "1              9.7         8.1      M      16.27  \n",
       "2              8.8         3.4      M      14.73  \n",
       "3              8.3         5.3      M      13.79  \n",
       "4              8.3         4.8      M      13.68  \n",
       "...            ...         ...    ...        ...  \n",
       "1710           NaN         NaN      Q       0.01  \n",
       "1711           NaN         NaN      Q       0.01  \n",
       "1712           NaN         NaN      Q       0.01  \n",
       "1713           NaN         NaN      Q       0.01  \n",
       "1714           NaN         NaN      Q       0.01  \n",
       "\n",
       "[1715 rows x 13 columns]"
      ]
     },
     "execution_count": 25,
     "metadata": {},
     "output_type": "execute_result"
    }
   ],
   "source": [
    "#новая таблица с актуальными платформами и актуальным периодом\n",
    "data_new = data[data['year_of_release'] > 2010]\n",
    "platform_list_new = ['PS3', 'Wii', 'X360', 'PSP']\n",
    "top_platforms_aktual = data_new.query('platform in @platform_list_new').reset_index()\n",
    "top_platforms_aktual"
   ]
  },
  {
   "cell_type": "code",
   "execution_count": 26,
   "metadata": {
    "scrolled": true
   },
   "outputs": [
    {
     "data": {
      "image/png": "[encoded data removed]",
      "text/plain": [
       "<Figure size 864x432 with 1 Axes>"
      ]
     },
     "metadata": {
      "needs_background": "light"
     },
     "output_type": "display_data"
    }
   ],
   "source": [
    "#ящик с усами по глобальным продажам игр в разбивке по платформам\n",
    "plt.figure(figsize=(12,6))\n",
    "sns.boxplot(data=data_new, x='platform', y='all_sales');\n",
    "plt.show()"
   ]
  },
  {
   "cell_type": "code",
   "execution_count": 27,
   "metadata": {},
   "outputs": [
    {
     "data": {
      "image/png": "[encoded data removed]",
      "text/plain": [
       "<Figure size 864x432 with 1 Axes>"
      ]
     },
     "metadata": {
      "needs_background": "light"
     },
     "output_type": "display_data"
    }
   ],
   "source": [
    "plt.figure(figsize=(12,6))\n",
    "sns.boxplot(data=data_new, x='platform', y='all_sales');\n",
    "plt.ylim(0,2);"
   ]
  },
  {
   "cell_type": "code",
   "execution_count": 28,
   "metadata": {
    "scrolled": true
   },
   "outputs": [
    {
     "data": {
      "text/plain": [
       "0.014089348308019396"
      ]
     },
     "execution_count": 28,
     "metadata": {},
     "output_type": "execute_result"
    }
   ],
   "source": [
    "#влияние на продажи внутри PS3 отзывов пользователей и критиков\n",
    "ps3 = data_new[data_new['platform'] == 'PS3']\n",
    "ps3['user_score'].corr(ps3['all_sales'])"
   ]
  },
  {
   "cell_type": "code",
   "execution_count": 29,
   "metadata": {},
   "outputs": [
    {
     "data": {
      "image/png": "[encoded data removed]",
      "text/plain": [
       "<Figure size 864x432 with 1 Axes>"
      ]
     },
     "metadata": {
      "needs_background": "light"
     },
     "output_type": "display_data"
    }
   ],
   "source": [
    "plt.figure(figsize=(12,6))\n",
    "sns.scatterplot(x='user_score', y='all_sales', data=ps3);"
   ]
  },
  {
   "cell_type": "markdown",
   "metadata": {},
   "source": [
    "Оценка пользователей слабо влияет на количество продаж игр на PS3."
   ]
  },
  {
   "cell_type": "code",
   "execution_count": 30,
   "metadata": {},
   "outputs": [
    {
     "data": {
      "text/plain": [
       "0.38011114718290767"
      ]
     },
     "execution_count": 30,
     "metadata": {},
     "output_type": "execute_result"
    }
   ],
   "source": [
    "ps3['critic_score'].corr(ps3['all_sales'])"
   ]
  },
  {
   "cell_type": "code",
   "execution_count": 31,
   "metadata": {},
   "outputs": [
    {
     "data": {
      "image/png": "[encoded data removed]",
      "text/plain": [
       "<Figure size 864x432 with 1 Axes>"
      ]
     },
     "metadata": {
      "needs_background": "light"
     },
     "output_type": "display_data"
    }
   ],
   "source": [
    "plt.figure(figsize=(12,6))\n",
    "sns.scatterplot(x='critic_score', y='all_sales', data=ps3);"
   ]
  },
  {
   "cell_type": "markdown",
   "metadata": {},
   "source": [
    "Оценка критиков умеренно влияет на количество продаж игр на PS3."
   ]
  },
  {
   "cell_type": "code",
   "execution_count": 32,
   "metadata": {},
   "outputs": [],
   "source": [
    "#влияние на продажи отзывов пользователей и критиков\n",
    "def other_platform(name_of_platform):\n",
    "    platform = data_new[data_new['platform']==name_of_platform]\n",
    "    fig, ax = plt.subplots(1 ,2, figsize=(12,6))\n",
    "    sns.scatterplot(x='user_score', y='all_sales', data=platform, ax=ax[0])\n",
    "    sns.scatterplot(x='critic_score', y='all_sales', data=platform, ax=ax[1])\n",
    "    fig.suptitle(name_of_platform)\n",
    "    plt.show()\n",
    "    \n",
    "    correl = platform['user_score'].corr(platform['all_sales'])\n",
    "    critic_correl = platform['critic_score'].corr(platform['all_sales'])\n",
    "    \n",
    "    print('Корреляция между отзывами критиков и продажами', critic_correl)\n",
    "    print('Корреляция между отзывами пользователей и продажами', correl)"
   ]
  },
  {
   "cell_type": "code",
   "execution_count": 33,
   "metadata": {
    "scrolled": false
   },
   "outputs": [
    {
     "data": {
      "image/png": "[encoded data removed]",
      "text/plain": [
       "<Figure size 864x432 with 2 Axes>"
      ]
     },
     "metadata": {
      "needs_background": "light"
     },
     "output_type": "display_data"
    },
    {
     "name": "stdout",
     "output_type": "stream",
     "text": [
      "Корреляция между отзывами критиков и продажами nan\n",
      "Корреляция между отзывами пользователей и продажами -0.4881435810449095\n"
     ]
    },
    {
     "data": {
      "image/png": "[encoded data removed]",
      "text/plain": [
       "<Figure size 864x432 with 2 Axes>"
      ]
     },
     "metadata": {
      "needs_background": "light"
     },
     "output_type": "display_data"
    },
    {
     "name": "stdout",
     "output_type": "stream",
     "text": [
      "Корреляция между отзывами критиков и продажами 0.2611658597550141\n",
      "Корреляция между отзывами пользователей и продажами 0.2810294019560495\n"
     ]
    },
    {
     "data": {
      "image/png": "[encoded data removed]",
      "text/plain": [
       "<Figure size 864x432 with 2 Axes>"
      ]
     },
     "metadata": {
      "needs_background": "light"
     },
     "output_type": "display_data"
    },
    {
     "name": "stdout",
     "output_type": "stream",
     "text": [
      "Корреляция между отзывами критиков и продажами 0.38011114718290767\n",
      "Корреляция между отзывами пользователей и продажами 0.014089348308019396\n"
     ]
    },
    {
     "data": {
      "image/png": "[encoded data removed]",
      "text/plain": [
       "<Figure size 864x432 with 2 Axes>"
      ]
     },
     "metadata": {
      "needs_background": "light"
     },
     "output_type": "display_data"
    },
    {
     "name": "stdout",
     "output_type": "stream",
     "text": [
      "Корреляция между отзывами критиков и продажами 0.29226949542729336\n",
      "Корреляция между отзывами пользователей и продажами 0.14550376734945006\n"
     ]
    },
    {
     "data": {
      "image/png": "[encoded data removed]",
      "text/plain": [
       "<Figure size 864x432 with 2 Axes>"
      ]
     },
     "metadata": {
      "needs_background": "light"
     },
     "output_type": "display_data"
    },
    {
     "name": "stdout",
     "output_type": "stream",
     "text": [
      "Корреляция между отзывами критиков и продажами 0.39125332454845524\n",
      "Корреляция между отзывами пользователей и продажами 0.03891817072910255\n"
     ]
    },
    {
     "data": {
      "image/png": "[encoded data removed]",
      "text/plain": [
       "<Figure size 864x432 with 2 Axes>"
      ]
     },
     "metadata": {
      "needs_background": "light"
     },
     "output_type": "display_data"
    },
    {
     "name": "stdout",
     "output_type": "stream",
     "text": [
      "Корреляция между отзывами критиков и продажами 0.3581381002722691\n",
      "Корреляция между отзывами пользователей и продажами 0.010035480754033762\n"
     ]
    }
   ],
   "source": [
    "for platform in platform_list:\n",
    "    other_platform(platform)"
   ]
  },
  {
   "cell_type": "markdown",
   "metadata": {},
   "source": [
    "Мнение критиков всегда имеет большее влияние на продажи, чем отзывы пользователей. "
   ]
  },
  {
   "cell_type": "code",
   "execution_count": 34,
   "metadata": {
    "scrolled": true
   },
   "outputs": [
    {
     "data": {
      "text/html": [
       "<div>\n",
       "<style scoped>\n",
       "    .dataframe tbody tr th:only-of-type {\n",
       "        vertical-align: middle;\n",
       "    }\n",
       "\n",
       "    .dataframe tbody tr th {\n",
       "        vertical-align: top;\n",
       "    }\n",
       "\n",
       "    .dataframe thead th {\n",
       "        text-align: right;\n",
       "    }\n",
       "</style>\n",
       "<table border=\"1\" class=\"dataframe\">\n",
       "  <thead>\n",
       "    <tr style=\"text-align: right;\">\n",
       "      <th></th>\n",
       "      <th>all_sales</th>\n",
       "    </tr>\n",
       "    <tr>\n",
       "      <th>genre</th>\n",
       "      <th></th>\n",
       "    </tr>\n",
       "  </thead>\n",
       "  <tbody>\n",
       "    <tr>\n",
       "      <th>Shooter</th>\n",
       "      <td>0.410</td>\n",
       "    </tr>\n",
       "    <tr>\n",
       "      <th>Sports</th>\n",
       "      <td>0.200</td>\n",
       "    </tr>\n",
       "    <tr>\n",
       "      <th>Platform</th>\n",
       "      <td>0.185</td>\n",
       "    </tr>\n",
       "    <tr>\n",
       "      <th>Fighting</th>\n",
       "      <td>0.180</td>\n",
       "    </tr>\n",
       "    <tr>\n",
       "      <th>Racing</th>\n",
       "      <td>0.160</td>\n",
       "    </tr>\n",
       "    <tr>\n",
       "      <th>Role-Playing</th>\n",
       "      <td>0.150</td>\n",
       "    </tr>\n",
       "    <tr>\n",
       "      <th>Action</th>\n",
       "      <td>0.130</td>\n",
       "    </tr>\n",
       "    <tr>\n",
       "      <th>Misc</th>\n",
       "      <td>0.130</td>\n",
       "    </tr>\n",
       "    <tr>\n",
       "      <th>Simulation</th>\n",
       "      <td>0.110</td>\n",
       "    </tr>\n",
       "    <tr>\n",
       "      <th>Strategy</th>\n",
       "      <td>0.080</td>\n",
       "    </tr>\n",
       "    <tr>\n",
       "      <th>Puzzle</th>\n",
       "      <td>0.050</td>\n",
       "    </tr>\n",
       "    <tr>\n",
       "      <th>Adventure</th>\n",
       "      <td>0.030</td>\n",
       "    </tr>\n",
       "  </tbody>\n",
       "</table>\n",
       "</div>"
      ],
      "text/plain": [
       "              all_sales\n",
       "genre                  \n",
       "Shooter           0.410\n",
       "Sports            0.200\n",
       "Platform          0.185\n",
       "Fighting          0.180\n",
       "Racing            0.160\n",
       "Role-Playing      0.150\n",
       "Action            0.130\n",
       "Misc              0.130\n",
       "Simulation        0.110\n",
       "Strategy          0.080\n",
       "Puzzle            0.050\n",
       "Adventure         0.030"
      ]
     },
     "execution_count": 34,
     "metadata": {},
     "output_type": "execute_result"
    }
   ],
   "source": [
    "#общее распределение игр по жанрам\n",
    "genre_pivot = data_new.pivot_table(index='genre', values='all_sales', aggfunc='median').sort_values(by='all_sales', ascending=False)\n",
    "genre_pivot"
   ]
  },
  {
   "cell_type": "markdown",
   "metadata": {},
   "source": [
    "Самые прибыльные жарны:  Shooter, Sports, Platform, Fighting, Racing\t"
   ]
  },
  {
   "cell_type": "code",
   "execution_count": 35,
   "metadata": {
    "scrolled": false
   },
   "outputs": [
    {
     "data": {
      "image/png": "[encoded data removed]",
      "text/plain": [
       "<Figure size 864x432 with 1 Axes>"
      ]
     },
     "metadata": {
      "needs_background": "light"
     },
     "output_type": "display_data"
    }
   ],
   "source": [
    "plt.figure(figsize=(12,6))\n",
    "sns.boxplot(data = data_new, x='genre', y='all_sales');\n",
    "plt.show()"
   ]
  },
  {
   "cell_type": "code",
   "execution_count": 36,
   "metadata": {},
   "outputs": [
    {
     "data": {
      "image/png": "[encoded data removed]",
      "text/plain": [
       "<Figure size 864x432 with 1 Axes>"
      ]
     },
     "metadata": {
      "needs_background": "light"
     },
     "output_type": "display_data"
    }
   ],
   "source": [
    "plt.figure(figsize=(12,6))\n",
    "sns.boxplot(data = data_new, x='genre', y='all_sales');\n",
    "plt.ylim(0,4)\n",
    "plt.show()"
   ]
  },
  {
   "cell_type": "markdown",
   "metadata": {},
   "source": [
    "# Составление портрета пользователя каждого региона"
   ]
  },
  {
   "cell_type": "code",
   "execution_count": 37,
   "metadata": {
    "scrolled": false
   },
   "outputs": [
    {
     "data": {
      "image/png": "[encoded data removed]",
      "text/plain": [
       "<Figure size 864x432 with 1 Axes>"
      ]
     },
     "metadata": {
      "needs_background": "light"
     },
     "output_type": "display_data"
    }
   ],
   "source": [
    "#cамые популярные платформы NA\n",
    "na_top_platform = data_new.pivot_table(index='platform', values='na_sales',aggfunc='sum').sort_values('na_sales', ascending=False).reset_index().head(5)\n",
    "na_top_platform\n",
    "plt.figure(figsize=(12,6))\n",
    "sns.barplot(data=na_top_platform, x='platform', y='na_sales');"
   ]
  },
  {
   "cell_type": "code",
   "execution_count": 38,
   "metadata": {
    "scrolled": false
   },
   "outputs": [
    {
     "data": {
      "image/png": "[encoded data removed]",
      "text/plain": [
       "<Figure size 864x432 with 1 Axes>"
      ]
     },
     "metadata": {
      "needs_background": "light"
     },
     "output_type": "display_data"
    }
   ],
   "source": [
    "#cамые популярные жарны NA\n",
    "na_top_genre = data_new.pivot_table(index='genre', values='na_sales',aggfunc='sum').sort_values('na_sales', ascending=False).reset_index().head(5)\n",
    "na_top_genre\n",
    "plt.figure(figsize=(12,6))\n",
    "sns.barplot(data=na_top_genre, x='genre', y='na_sales');"
   ]
  },
  {
   "cell_type": "code",
   "execution_count": 39,
   "metadata": {
    "scrolled": false
   },
   "outputs": [
    {
     "data": {
      "image/png": "[encoded data removed]",
      "text/plain": [
       "<Figure size 864x432 with 1 Axes>"
      ]
     },
     "metadata": {
      "needs_background": "light"
     },
     "output_type": "display_data"
    }
   ],
   "source": [
    "#влияние рейтинга ESRB на продажи NA\n",
    "na_top_rating = data_new.pivot_table(index='rating', values='na_sales',aggfunc='sum').sort_values('na_sales', ascending=False).reset_index()\n",
    "na_top_rating\n",
    "plt.figure(figsize=(12,6))\n",
    "sns.barplot(data=na_top_rating, x='rating', y='na_sales');"
   ]
  },
  {
   "cell_type": "markdown",
   "metadata": {},
   "source": [
    "- Самая популярная платформа в Северной Америке в период 2011-2016 - Х360.\n",
    "- Топ 5 популярных жанров: Action ,Shooter, Sports, Role-Playing, Misc.\n",
    "- В Северной Америке наибольшей популярностью пользуются игры с рейтингом M (для взрослых 17+)"
   ]
  },
  {
   "cell_type": "code",
   "execution_count": 40,
   "metadata": {},
   "outputs": [
    {
     "data": {
      "image/png": "[encoded data removed]",
      "text/plain": [
       "<Figure size 864x432 with 1 Axes>"
      ]
     },
     "metadata": {
      "needs_background": "light"
     },
     "output_type": "display_data"
    }
   ],
   "source": [
    "#cамые популярные платформы EU\n",
    "eu_top_platform = data_new.pivot_table(index='platform', values='eu_sales',aggfunc='sum').sort_values('eu_sales', ascending=False).reset_index().head(5)\n",
    "eu_top_platform\n",
    "plt.figure(figsize=(12,6))\n",
    "sns.barplot(data=eu_top_platform, x='platform', y='eu_sales');"
   ]
  },
  {
   "cell_type": "code",
   "execution_count": 41,
   "metadata": {
    "scrolled": false
   },
   "outputs": [
    {
     "data": {
      "image/png": "[encoded data removed]",
      "text/plain": [
       "<Figure size 864x432 with 1 Axes>"
      ]
     },
     "metadata": {
      "needs_background": "light"
     },
     "output_type": "display_data"
    }
   ],
   "source": [
    "#cамые популярные жарны EU\n",
    "eu_top_genre = data_new.pivot_table(index='genre', values='eu_sales',aggfunc='sum').sort_values('eu_sales', ascending=False).reset_index().head(5)\n",
    "eu_top_genre\n",
    "plt.figure(figsize=(12,6))\n",
    "sns.barplot(data=eu_top_genre, x='genre', y='eu_sales');"
   ]
  },
  {
   "cell_type": "code",
   "execution_count": 42,
   "metadata": {
    "scrolled": false
   },
   "outputs": [
    {
     "data": {
      "image/png": "[encoded data removed]",
      "text/plain": [
       "<Figure size 864x432 with 1 Axes>"
      ]
     },
     "metadata": {
      "needs_background": "light"
     },
     "output_type": "display_data"
    }
   ],
   "source": [
    "#влияние рейтинга ESRB на продажи EU\n",
    "eu_top_rating = data_new.pivot_table(index='rating', values='eu_sales',aggfunc='sum').sort_values('eu_sales', ascending=False).reset_index()\n",
    "eu_top_rating\n",
    "plt.figure(figsize=(12,6))\n",
    "sns.barplot(data=eu_top_rating, x='rating', y='eu_sales');"
   ]
  },
  {
   "cell_type": "markdown",
   "metadata": {},
   "source": [
    "- Самая популярная платформа в Европе в период 2011-2016 - PS3. Далее идут PS4 и X360\n",
    "- Топ 5 популярных жанров: Action , Sports, Shooter, Role-Playing, Misc\n",
    "- В Европе наибольшей популярностью пользуются игры с рейтингом M (для взрослых 17+)"
   ]
  },
  {
   "cell_type": "code",
   "execution_count": 43,
   "metadata": {},
   "outputs": [
    {
     "data": {
      "image/png": "[encoded data removed]",
      "text/plain": [
       "<Figure size 864x432 with 1 Axes>"
      ]
     },
     "metadata": {
      "needs_background": "light"
     },
     "output_type": "display_data"
    }
   ],
   "source": [
    "#cамые популярные платформы JP\n",
    "jp_top_platform = data_new.pivot_table(index='platform', values='jp_sales',aggfunc='sum').sort_values('jp_sales', ascending=False).reset_index().head(5)\n",
    "jp_top_platform\n",
    "plt.figure(figsize=(12,6))\n",
    "sns.barplot(data=jp_top_platform, x='platform', y='jp_sales');"
   ]
  },
  {
   "cell_type": "code",
   "execution_count": 44,
   "metadata": {
    "scrolled": false
   },
   "outputs": [
    {
     "data": {
      "image/png": "[encoded data removed]",
      "text/plain": [
       "<Figure size 864x432 with 1 Axes>"
      ]
     },
     "metadata": {
      "needs_background": "light"
     },
     "output_type": "display_data"
    }
   ],
   "source": [
    "#cамые популярные жарны JP\n",
    "jp_top_genre = data_new.pivot_table(index='genre', values='jp_sales',aggfunc='sum').sort_values('jp_sales', ascending=False).reset_index().head(5)\n",
    "jp_top_genre\n",
    "plt.figure(figsize=(12,6))\n",
    "sns.barplot(data=jp_top_genre, x='genre', y='jp_sales');"
   ]
  },
  {
   "cell_type": "code",
   "execution_count": 45,
   "metadata": {},
   "outputs": [
    {
     "data": {
      "image/png": "[encoded data removed]",
      "text/plain": [
       "<Figure size 864x432 with 1 Axes>"
      ]
     },
     "metadata": {
      "needs_background": "light"
     },
     "output_type": "display_data"
    }
   ],
   "source": [
    "#влияние рейтинга ESRB на продажи JP\n",
    "jp_top_rating = data_new.pivot_table(index='rating', values='jp_sales',aggfunc='sum').sort_values('jp_sales', ascending=False).reset_index()\n",
    "jp_top_rating\n",
    "plt.figure(figsize=(12,6))\n",
    "sns.barplot(data=jp_top_rating, x='rating', y='jp_sales');"
   ]
  },
  {
   "cell_type": "code",
   "execution_count": 46,
   "metadata": {},
   "outputs": [
    {
     "name": "stdout",
     "output_type": "stream",
     "text": [
      "0 0.0\n"
     ]
    },
    {
     "data": {
      "text/plain": [
       "Q       1708\n",
       "M        622\n",
       "E        618\n",
       "T        616\n",
       "E10+     456\n",
       "EC         1\n",
       "RP         1\n",
       "Name: rating, dtype: int64"
      ]
     },
     "execution_count": 46,
     "metadata": {},
     "output_type": "execute_result"
    }
   ],
   "source": [
    "temp = data_new.copy()\n",
    "print(temp.rating.isna().sum(), temp.rating.isna().sum()/len(temp))\n",
    "temp.rating.value_counts()"
   ]
  },
  {
   "cell_type": "markdown",
   "metadata": {},
   "source": [
    "- Самая популярная платформа в Японии в период 2011-2016 - 3DS.\n",
    "- Топ 5 популярных жанров: Role-Playing, Action, Misc, Fighting, Platform\n",
    "- Возврастной рейтинг наиболее популярных для Японии игр определить не удалось, так как рейтинг ESRB не предназначен для маркировки игр в Японии. "
   ]
  },
  {
   "cell_type": "markdown",
   "metadata": {},
   "source": [
    "# Проверка гипотезы."
   ]
  },
  {
   "cell_type": "markdown",
   "metadata": {},
   "source": [
    "Нулевая гипотеза H₀: Средние пользовательские рейтинги платформ Xbox One и PC одинаковые.   \n",
    "Альтернативная гипотеза H₁: Средние пользовательские рейтинги платформ Xbox One и PC различаются."
   ]
  },
  {
   "cell_type": "code",
   "execution_count": 47,
   "metadata": {},
   "outputs": [
    {
     "data": {
      "text/plain": [
       "6.521428571428572"
      ]
     },
     "execution_count": 47,
     "metadata": {},
     "output_type": "execute_result"
    }
   ],
   "source": [
    "#cредний рейтинг пользователя XOne\n",
    "xone_user_score = data_new[data_new['platform'] == 'XOne']['user_score']\n",
    "xone_user_score.mean()"
   ]
  },
  {
   "cell_type": "code",
   "execution_count": 48,
   "metadata": {},
   "outputs": [
    {
     "data": {
      "text/plain": [
       "6.451791530944625"
      ]
     },
     "execution_count": 48,
     "metadata": {},
     "output_type": "execute_result"
    }
   ],
   "source": [
    "#cредний рейтинг пользователя PC\n",
    "pc_user_score = data_new[data_new['platform'] == 'PC']['user_score']\n",
    "pc_user_score.mean()"
   ]
  },
  {
   "cell_type": "code",
   "execution_count": 49,
   "metadata": {},
   "outputs": [
    {
     "name": "stdout",
     "output_type": "stream",
     "text": [
      "p-значение: 0.6130712247638477\n",
      "Не получилось отвергнуть нулевую гипотезу\n"
     ]
    }
   ],
   "source": [
    "alpha = .01\n",
    "\n",
    "results = st.ttest_ind(xone_user_score.dropna(), pc_user_score.dropna(), equal_var=False)\n",
    "\n",
    "print('p-значение:', results.pvalue)\n",
    "\n",
    "\n",
    "if (results.pvalue < alpha):\n",
    "    print(\"Отвергаем нулевую гипотезу\")\n",
    "else:\n",
    "    print(\"Не получилось отвергнуть нулевую гипотезу\")"
   ]
  },
  {
   "cell_type": "markdown",
   "metadata": {},
   "source": [
    "Нулевая гипотеза H₀: Средние пользовательские рейтинги жанров Action и Sports разные.  \n",
    "Альтернативная гипотеза H₁: Средние пользовательские рейтинги жанров Action и Sports одинаковые."
   ]
  },
  {
   "cell_type": "code",
   "execution_count": 50,
   "metadata": {},
   "outputs": [
    {
     "data": {
      "text/plain": [
       "6.775903614457831"
      ]
     },
     "execution_count": 50,
     "metadata": {},
     "output_type": "execute_result"
    }
   ],
   "source": [
    "#средний пользовательсксий рейтинг жанра Action\n",
    "action_user_score = data_new[data_new['genre'] == 'Action']['user_score']\n",
    "action_user_score.mean()"
   ]
  },
  {
   "cell_type": "code",
   "execution_count": 51,
   "metadata": {},
   "outputs": [
    {
     "data": {
      "text/plain": [
       "5.650813008130081"
      ]
     },
     "execution_count": 51,
     "metadata": {},
     "output_type": "execute_result"
    }
   ],
   "source": [
    "#средний пользовательсксий рейтинг жанра Sports\n",
    "sports_user_score = data_new[data_new['genre'] == 'Sports']['user_score']\n",
    "sports_user_score.mean()"
   ]
  },
  {
   "cell_type": "code",
   "execution_count": 52,
   "metadata": {},
   "outputs": [
    {
     "name": "stdout",
     "output_type": "stream",
     "text": [
      "p-значение: 8.285648549432565e-19\n",
      "Отвергаем нулевую гипотезу\n"
     ]
    }
   ],
   "source": [
    "alpha = .01\n",
    "\n",
    "results = st.ttest_ind(action_user_score.dropna(), sports_user_score.dropna(), equal_var=False)\n",
    "\n",
    "print('p-значение:', results.pvalue)\n",
    "\n",
    "\n",
    "if (results.pvalue < alpha):\n",
    "    print(\"Отвергаем нулевую гипотезу\")\n",
    "else:\n",
    "    print(\"Не получилось отвергнуть нулевую гипотезу\")"
   ]
  },
  {
   "cell_type": "markdown",
   "metadata": {},
   "source": [
    "# Общий вывод"
   ]
  },
  {
   "cell_type": "markdown",
   "metadata": {},
   "source": [
    "Изучен датасет с историческими данными о продажах игр, оценками пользователей и экспертов, жанрами и платформами.  \n",
    "Выявлены определяющие успешность игры закономерности для планирования рекламных кампаний. Отработан принцип работы с данными.  \n",
    "\n",
    "На этапе подготовки данных было селано сделующее:\n",
    "- Приведены стобцы к нижнему регистру;\n",
    "- Выявлены и удалены пропущенные значения в следующих стобцах: 'name', 'genre', 'year_of_release';\n",
    "- Изменен тип данных в стобцах 'year_of_release' и 'rating';\n",
    "- Отредактированы данные в стобце 'critic_score' (запятная сдвину на один зак влево);\n",
    "- Было выявлено что для некоторых платформ отсутствует информация об оценке критиков, оценке пользователей и рейтинге сразу.\n",
    " Может был передан не полный датасет, а может некоторые платформы отказались предоставлять данные, а может быть некоторые платформы не имеют данных об оценке пользователей, потому что у них нет подключения к сети(игры покупают на сторонних носителях, а онлайн магазин отсутствует). В rating пропуски могут быть связаны с тем, что организация Entertainment Software Rating Board образовалась в 1994 году и игры, вышедшие до этого года не получили рейтинг от этой организации;\n",
    "- Обработано значение tbd - to be determined (будет определено позднее). Судя по формулировке, можно предположить, что рейтинг пользователей отсутствует т.к. в некоторых регионах продажи еще не запущены или запущены недавно;\n",
    "- Добавлен стобец 'all_sales' с суммарными продажами во всех регионах.\n",
    "\n",
    "На этапе исследовательского анализа данных:\n",
    "- Выявлено что спрос на компьютерные игры начал расти в середине 90х(думаю что связано с распространением настольных компьютеров), пик спроса пришелся на 2008 год, а дальше наступила эра мобильных приложений и начался спад.\n",
    "- Сделан вывод, что самыми популярными устройствами для игр с 1980 по 2016 были : PS2 и DS далее PS3, Wii, X360 , PSP.\n",
    "- Выявлено что в среднем игровые платформы актуальны на протяжении 10 лет. \n",
    "- Выбран промежут для анализа данных 2011-2016 года\n",
    "- Cамыми потенциально прибыльными платформами признаны PS3 и X360.\n",
    "- Оценено влияние мнения критиков и пользователей на продажи. Мнение критиков всегда имеет большее влияние на продажи, чем отзывы пользователей. \n",
    "- Самыми прибыльными признаны жарны: Shooter, Sports, Platform, Fighting, Racingg\n",
    "\n",
    "Составлен портрет пользователя каждого региона:\n",
    "\n",
    "Северная Америка:\n",
    "- Самая популярная платформа в Северной Америке в период 2011-2016 - Х360.\n",
    "- Топ 5 популярных жанров: Action ,Shooter, Sports, Role-Playing, Misc.\n",
    "- В Северной Америке наибольшей популярностью пользуются игры с рейтингом M (для взрослых 17+)\n",
    "\n",
    "Европа:\n",
    "- Самая популярная платформа в Европе в период 2011-2016 - PS3. Далее идут PS4 и X360\n",
    "- Топ 5 популярных жанров: Action , Sports, Shooter, Role-Playing, Misc\n",
    "- В Европе наибольшей популярностью пользуются игры с рейтингом M (для взрослых 17+)\n",
    "\n",
    "Япония:\n",
    "- Самая популярная платформа в Японии в период 2011-2016 - 3DS.\n",
    "- Топ 5 популярных жанров: Role-Playing, Action, Misc, Fighting, Platform\n",
    "- Возврастной рейтинг наиболее популярных для Японии игр определить не удалось, так как рейтинг ESRB не предназначен для маркировки игр в Японии. \n",
    "Проверены следующие гипотезы: \n",
    "- Средние пользовательские рейтинги платформ Xbox One и PC одинаковые.(Не получилось отвергнуть гипотезу)\n",
    "- Средние пользовательские рейтинги жанров Action и Sports разные. (Гипотеза отвергнута)\n",
    "\n",
    "\n",
    "Исходя из данных выше можно сделать вывод, что в 2017 году наиболее прибыльно тратить рекламный бюджет на игры для PS4 и XBOX (так как их предудщие версии были признаны потенциально прибыльными) в жанрах Action/Sports/Role-Playing с возрастным ограничением 17+. Мнению критиков стоить уделить большее внимание, чем оценке пользователей. "
   ]
  }
 ],
 "metadata": {
  "ExecuteTimeLog": [
   {
    "duration": 376,
    "start_time": "2022-07-16T11:20:09.004Z"
   },
   {
    "duration": 94,
    "start_time": "2022-07-16T11:20:32.519Z"
   },
   {
    "duration": 22,
    "start_time": "2022-07-16T11:20:38.645Z"
   },
   {
    "duration": 19,
    "start_time": "2022-07-16T11:20:46.340Z"
   },
   {
    "duration": 14,
    "start_time": "2022-07-16T11:25:45.551Z"
   },
   {
    "duration": 13,
    "start_time": "2022-07-16T11:25:59.152Z"
   },
   {
    "duration": 3,
    "start_time": "2022-07-16T11:28:27.218Z"
   },
   {
    "duration": 16,
    "start_time": "2022-07-16T11:28:39.652Z"
   },
   {
    "duration": 3,
    "start_time": "2022-07-16T11:29:20.080Z"
   },
   {
    "duration": 14,
    "start_time": "2022-07-16T11:30:55.196Z"
   },
   {
    "duration": 16,
    "start_time": "2022-07-16T11:31:18.619Z"
   },
   {
    "duration": 66,
    "start_time": "2022-07-16T11:31:54.920Z"
   },
   {
    "duration": 11,
    "start_time": "2022-07-16T11:32:18.747Z"
   },
   {
    "duration": 8,
    "start_time": "2022-07-16T11:33:29.609Z"
   },
   {
    "duration": 9,
    "start_time": "2022-07-16T11:33:46.187Z"
   },
   {
    "duration": 9,
    "start_time": "2022-07-16T11:34:53.412Z"
   },
   {
    "duration": 4,
    "start_time": "2022-07-16T11:35:39.091Z"
   },
   {
    "duration": 5,
    "start_time": "2022-07-16T11:37:30.883Z"
   },
   {
    "duration": 7,
    "start_time": "2022-07-16T11:37:39.273Z"
   },
   {
    "duration": 6,
    "start_time": "2022-07-16T11:37:51.191Z"
   },
   {
    "duration": 5,
    "start_time": "2022-07-16T11:38:02.913Z"
   },
   {
    "duration": 7,
    "start_time": "2022-07-16T11:38:39.050Z"
   },
   {
    "duration": 6,
    "start_time": "2022-07-16T11:38:43.134Z"
   },
   {
    "duration": 8,
    "start_time": "2022-07-16T11:38:54.937Z"
   },
   {
    "duration": 8,
    "start_time": "2022-07-16T11:41:08.573Z"
   },
   {
    "duration": 6,
    "start_time": "2022-07-16T11:41:15.299Z"
   },
   {
    "duration": 11,
    "start_time": "2022-07-16T11:45:12.001Z"
   },
   {
    "duration": 8,
    "start_time": "2022-07-16T11:45:20.887Z"
   },
   {
    "duration": 12,
    "start_time": "2022-07-16T11:45:29.647Z"
   },
   {
    "duration": 9,
    "start_time": "2022-07-16T11:45:35.178Z"
   },
   {
    "duration": 9,
    "start_time": "2022-07-16T11:45:35.597Z"
   },
   {
    "duration": 8,
    "start_time": "2022-07-16T11:48:44.284Z"
   },
   {
    "duration": 9,
    "start_time": "2022-07-16T11:48:47.605Z"
   },
   {
    "duration": 9,
    "start_time": "2022-07-16T11:48:50.498Z"
   },
   {
    "duration": 21,
    "start_time": "2022-07-16T11:50:26.789Z"
   },
   {
    "duration": 22,
    "start_time": "2022-07-16T11:51:31.535Z"
   },
   {
    "duration": 5,
    "start_time": "2022-07-16T12:02:23.001Z"
   },
   {
    "duration": 8,
    "start_time": "2022-07-16T12:02:35.102Z"
   },
   {
    "duration": 26,
    "start_time": "2022-07-16T12:02:49.246Z"
   },
   {
    "duration": 7,
    "start_time": "2022-07-16T12:03:27.001Z"
   },
   {
    "duration": 15,
    "start_time": "2022-07-16T12:04:36.364Z"
   },
   {
    "duration": 8,
    "start_time": "2022-07-16T12:04:48.340Z"
   },
   {
    "duration": 10,
    "start_time": "2022-07-16T12:08:04.676Z"
   },
   {
    "duration": 21,
    "start_time": "2022-07-16T12:08:18.085Z"
   },
   {
    "duration": 11,
    "start_time": "2022-07-16T12:12:13.482Z"
   },
   {
    "duration": 8,
    "start_time": "2022-07-16T12:12:32.696Z"
   },
   {
    "duration": 10,
    "start_time": "2022-07-16T12:16:25.170Z"
   },
   {
    "duration": 9,
    "start_time": "2022-07-16T12:19:42.656Z"
   },
   {
    "duration": 12,
    "start_time": "2022-07-16T12:19:46.207Z"
   },
   {
    "duration": 14,
    "start_time": "2022-07-16T12:19:52.075Z"
   },
   {
    "duration": 48,
    "start_time": "2022-07-16T12:20:05.760Z"
   },
   {
    "duration": 61,
    "start_time": "2022-07-16T12:20:11.156Z"
   },
   {
    "duration": 13,
    "start_time": "2022-07-16T12:21:17.917Z"
   },
   {
    "duration": 15,
    "start_time": "2022-07-16T12:21:23.518Z"
   },
   {
    "duration": 13,
    "start_time": "2022-07-16T12:21:33.406Z"
   },
   {
    "duration": 77,
    "start_time": "2022-07-16T12:22:45.875Z"
   },
   {
    "duration": 14,
    "start_time": "2022-07-16T12:22:54.957Z"
   },
   {
    "duration": 12,
    "start_time": "2022-07-16T12:23:01.717Z"
   },
   {
    "duration": 13,
    "start_time": "2022-07-16T12:23:10.660Z"
   },
   {
    "duration": 12,
    "start_time": "2022-07-16T12:23:20.962Z"
   },
   {
    "duration": 38,
    "start_time": "2022-07-16T12:25:45.261Z"
   },
   {
    "duration": 15,
    "start_time": "2022-07-16T12:26:18.864Z"
   },
   {
    "duration": 29,
    "start_time": "2022-07-16T12:26:40.306Z"
   },
   {
    "duration": 54,
    "start_time": "2022-07-16T12:29:15.619Z"
   },
   {
    "duration": 10,
    "start_time": "2022-07-16T12:29:23.060Z"
   },
   {
    "duration": 14,
    "start_time": "2022-07-16T12:29:28.548Z"
   },
   {
    "duration": 84,
    "start_time": "2022-07-16T12:29:49.519Z"
   },
   {
    "duration": 3,
    "start_time": "2022-07-16T12:34:43.471Z"
   },
   {
    "duration": 56,
    "start_time": "2022-07-16T12:34:43.475Z"
   },
   {
    "duration": 15,
    "start_time": "2022-07-16T12:34:43.533Z"
   },
   {
    "duration": 14,
    "start_time": "2022-07-16T12:34:43.550Z"
   },
   {
    "duration": 4,
    "start_time": "2022-07-16T12:34:43.566Z"
   },
   {
    "duration": 19,
    "start_time": "2022-07-16T12:34:43.571Z"
   },
   {
    "duration": 15,
    "start_time": "2022-07-16T12:34:43.592Z"
   },
   {
    "duration": 0,
    "start_time": "2022-07-16T12:34:43.609Z"
   },
   {
    "duration": 0,
    "start_time": "2022-07-16T12:34:43.610Z"
   },
   {
    "duration": 0,
    "start_time": "2022-07-16T12:34:43.611Z"
   },
   {
    "duration": 0,
    "start_time": "2022-07-16T12:34:43.613Z"
   },
   {
    "duration": 0,
    "start_time": "2022-07-16T12:34:43.614Z"
   },
   {
    "duration": 10,
    "start_time": "2022-07-16T12:34:57.813Z"
   },
   {
    "duration": 3,
    "start_time": "2022-07-16T12:35:08.187Z"
   },
   {
    "duration": 68,
    "start_time": "2022-07-16T12:35:08.191Z"
   },
   {
    "duration": 15,
    "start_time": "2022-07-16T12:35:08.261Z"
   },
   {
    "duration": 30,
    "start_time": "2022-07-16T12:35:08.278Z"
   },
   {
    "duration": 13,
    "start_time": "2022-07-16T12:35:08.310Z"
   },
   {
    "duration": 47,
    "start_time": "2022-07-16T12:35:08.324Z"
   },
   {
    "duration": 33,
    "start_time": "2022-07-16T12:35:08.372Z"
   },
   {
    "duration": 21,
    "start_time": "2022-07-16T12:35:08.407Z"
   },
   {
    "duration": 24,
    "start_time": "2022-07-16T12:35:08.430Z"
   },
   {
    "duration": 29,
    "start_time": "2022-07-16T12:35:08.456Z"
   },
   {
    "duration": 29,
    "start_time": "2022-07-16T12:35:08.487Z"
   },
   {
    "duration": 102,
    "start_time": "2022-07-16T12:35:08.517Z"
   },
   {
    "duration": 54,
    "start_time": "2022-07-16T12:36:01.382Z"
   },
   {
    "duration": 49,
    "start_time": "2022-07-16T12:38:29.682Z"
   },
   {
    "duration": 22,
    "start_time": "2022-07-16T12:39:36.915Z"
   },
   {
    "duration": 14,
    "start_time": "2022-07-16T12:39:49.871Z"
   },
   {
    "duration": 23,
    "start_time": "2022-07-16T12:39:56.060Z"
   },
   {
    "duration": 23,
    "start_time": "2022-07-16T12:40:33.553Z"
   },
   {
    "duration": 19,
    "start_time": "2022-07-16T12:40:46.384Z"
   },
   {
    "duration": 21,
    "start_time": "2022-07-16T12:40:56.153Z"
   },
   {
    "duration": 23,
    "start_time": "2022-07-16T12:41:00.354Z"
   },
   {
    "duration": 55,
    "start_time": "2022-07-16T12:42:51.071Z"
   },
   {
    "duration": 48,
    "start_time": "2022-07-16T12:42:55.415Z"
   },
   {
    "duration": 17,
    "start_time": "2022-07-16T12:43:02.650Z"
   },
   {
    "duration": 22,
    "start_time": "2022-07-16T12:43:14.206Z"
   },
   {
    "duration": 3,
    "start_time": "2022-07-16T12:44:30.014Z"
   },
   {
    "duration": 6,
    "start_time": "2022-07-16T12:46:34.446Z"
   },
   {
    "duration": 5,
    "start_time": "2022-07-16T12:46:44.200Z"
   },
   {
    "duration": 17,
    "start_time": "2022-07-16T12:46:54.550Z"
   },
   {
    "duration": 9,
    "start_time": "2022-07-16T12:47:22.974Z"
   },
   {
    "duration": 10,
    "start_time": "2022-07-16T12:47:36.953Z"
   },
   {
    "duration": 6,
    "start_time": "2022-07-16T12:47:46.178Z"
   },
   {
    "duration": 14,
    "start_time": "2022-07-16T12:47:54.643Z"
   },
   {
    "duration": 16,
    "start_time": "2022-07-16T12:49:24.551Z"
   },
   {
    "duration": 12,
    "start_time": "2022-07-16T12:49:35.597Z"
   },
   {
    "duration": 12,
    "start_time": "2022-07-16T12:50:35.181Z"
   },
   {
    "duration": 12,
    "start_time": "2022-07-16T12:50:48.846Z"
   },
   {
    "duration": 13,
    "start_time": "2022-07-16T12:52:21.548Z"
   },
   {
    "duration": 12,
    "start_time": "2022-07-16T12:52:31.071Z"
   },
   {
    "duration": 8,
    "start_time": "2022-07-16T12:56:59.095Z"
   },
   {
    "duration": 14,
    "start_time": "2022-07-16T12:57:08.558Z"
   },
   {
    "duration": 5,
    "start_time": "2022-07-16T13:14:15.768Z"
   },
   {
    "duration": 6,
    "start_time": "2022-07-16T13:14:27.409Z"
   },
   {
    "duration": 14,
    "start_time": "2022-07-16T13:14:57.273Z"
   },
   {
    "duration": 7,
    "start_time": "2022-07-16T13:15:17.171Z"
   },
   {
    "duration": 7,
    "start_time": "2022-07-16T13:15:20.564Z"
   },
   {
    "duration": 5,
    "start_time": "2022-07-16T13:15:32.198Z"
   },
   {
    "duration": 6,
    "start_time": "2022-07-16T13:15:34.762Z"
   },
   {
    "duration": 9,
    "start_time": "2022-07-16T13:15:42.336Z"
   },
   {
    "duration": 5,
    "start_time": "2022-07-16T13:15:45.615Z"
   },
   {
    "duration": 5,
    "start_time": "2022-07-16T13:16:05.789Z"
   },
   {
    "duration": 9,
    "start_time": "2022-07-16T13:16:12.286Z"
   },
   {
    "duration": 2,
    "start_time": "2022-07-16T13:16:19.064Z"
   },
   {
    "duration": 68,
    "start_time": "2022-07-16T13:16:19.068Z"
   },
   {
    "duration": 16,
    "start_time": "2022-07-16T13:16:19.137Z"
   },
   {
    "duration": 19,
    "start_time": "2022-07-16T13:16:19.154Z"
   },
   {
    "duration": 10,
    "start_time": "2022-07-16T13:16:19.175Z"
   },
   {
    "duration": 31,
    "start_time": "2022-07-16T13:16:19.186Z"
   },
   {
    "duration": 20,
    "start_time": "2022-07-16T13:16:19.218Z"
   },
   {
    "duration": 22,
    "start_time": "2022-07-16T13:16:19.240Z"
   },
   {
    "duration": 16,
    "start_time": "2022-07-16T13:16:19.264Z"
   },
   {
    "duration": 24,
    "start_time": "2022-07-16T13:16:19.282Z"
   },
   {
    "duration": 21,
    "start_time": "2022-07-16T13:16:19.308Z"
   },
   {
    "duration": 10,
    "start_time": "2022-07-16T13:16:25.969Z"
   },
   {
    "duration": 7,
    "start_time": "2022-07-16T13:16:32.605Z"
   },
   {
    "duration": 4,
    "start_time": "2022-07-16T13:18:26.715Z"
   },
   {
    "duration": 9,
    "start_time": "2022-07-16T13:18:32.002Z"
   },
   {
    "duration": 8,
    "start_time": "2022-07-16T13:18:46.277Z"
   },
   {
    "duration": 5,
    "start_time": "2022-07-16T13:19:25.109Z"
   },
   {
    "duration": 6,
    "start_time": "2022-07-16T13:19:26.195Z"
   },
   {
    "duration": 6,
    "start_time": "2022-07-16T13:20:15.578Z"
   },
   {
    "duration": 6,
    "start_time": "2022-07-16T13:20:15.883Z"
   },
   {
    "duration": 5,
    "start_time": "2022-07-16T13:23:03.571Z"
   },
   {
    "duration": 7,
    "start_time": "2022-07-16T13:23:04.060Z"
   },
   {
    "duration": 2,
    "start_time": "2022-07-16T13:23:09.879Z"
   },
   {
    "duration": 64,
    "start_time": "2022-07-16T13:23:09.883Z"
   },
   {
    "duration": 17,
    "start_time": "2022-07-16T13:23:09.948Z"
   },
   {
    "duration": 31,
    "start_time": "2022-07-16T13:23:09.967Z"
   },
   {
    "duration": 4,
    "start_time": "2022-07-16T13:23:10.000Z"
   },
   {
    "duration": 26,
    "start_time": "2022-07-16T13:23:10.006Z"
   },
   {
    "duration": 21,
    "start_time": "2022-07-16T13:23:10.034Z"
   },
   {
    "duration": 12,
    "start_time": "2022-07-16T13:23:10.056Z"
   },
   {
    "duration": 17,
    "start_time": "2022-07-16T13:23:10.070Z"
   },
   {
    "duration": 21,
    "start_time": "2022-07-16T13:23:10.089Z"
   },
   {
    "duration": 10,
    "start_time": "2022-07-16T13:23:10.112Z"
   },
   {
    "duration": 14,
    "start_time": "2022-07-16T13:23:10.124Z"
   },
   {
    "duration": 18,
    "start_time": "2022-07-16T13:23:10.140Z"
   },
   {
    "duration": 3,
    "start_time": "2022-07-16T13:23:16.064Z"
   },
   {
    "duration": 7,
    "start_time": "2022-07-16T13:23:16.461Z"
   },
   {
    "duration": 2,
    "start_time": "2022-07-16T13:23:20.363Z"
   },
   {
    "duration": 61,
    "start_time": "2022-07-16T13:23:20.367Z"
   },
   {
    "duration": 15,
    "start_time": "2022-07-16T13:23:20.430Z"
   },
   {
    "duration": 21,
    "start_time": "2022-07-16T13:23:20.446Z"
   },
   {
    "duration": 4,
    "start_time": "2022-07-16T13:23:20.470Z"
   },
   {
    "duration": 21,
    "start_time": "2022-07-16T13:23:20.477Z"
   },
   {
    "duration": 15,
    "start_time": "2022-07-16T13:23:20.499Z"
   },
   {
    "duration": 8,
    "start_time": "2022-07-16T13:23:20.515Z"
   },
   {
    "duration": 6,
    "start_time": "2022-07-16T13:23:20.525Z"
   },
   {
    "duration": 8,
    "start_time": "2022-07-16T13:23:20.532Z"
   },
   {
    "duration": 21,
    "start_time": "2022-07-16T13:23:20.541Z"
   },
   {
    "duration": 12,
    "start_time": "2022-07-16T13:23:20.563Z"
   },
   {
    "duration": 11,
    "start_time": "2022-07-16T13:23:20.577Z"
   },
   {
    "duration": 3,
    "start_time": "2022-07-16T13:24:20.268Z"
   },
   {
    "duration": 6,
    "start_time": "2022-07-16T13:24:20.457Z"
   },
   {
    "duration": 3,
    "start_time": "2022-07-16T13:24:24.264Z"
   },
   {
    "duration": 6,
    "start_time": "2022-07-16T13:24:24.395Z"
   },
   {
    "duration": 8,
    "start_time": "2022-07-16T13:24:25.327Z"
   },
   {
    "duration": 3,
    "start_time": "2022-07-16T13:24:27.924Z"
   },
   {
    "duration": 66,
    "start_time": "2022-07-16T13:24:27.929Z"
   },
   {
    "duration": 14,
    "start_time": "2022-07-16T13:24:27.997Z"
   },
   {
    "duration": 21,
    "start_time": "2022-07-16T13:24:28.012Z"
   },
   {
    "duration": 5,
    "start_time": "2022-07-16T13:24:28.035Z"
   },
   {
    "duration": 27,
    "start_time": "2022-07-16T13:24:28.042Z"
   },
   {
    "duration": 10,
    "start_time": "2022-07-16T13:24:28.071Z"
   },
   {
    "duration": 11,
    "start_time": "2022-07-16T13:24:28.083Z"
   },
   {
    "duration": 9,
    "start_time": "2022-07-16T13:24:28.095Z"
   },
   {
    "duration": 5,
    "start_time": "2022-07-16T13:24:28.105Z"
   },
   {
    "duration": 8,
    "start_time": "2022-07-16T13:24:28.112Z"
   },
   {
    "duration": 9,
    "start_time": "2022-07-16T13:24:28.121Z"
   },
   {
    "duration": 31,
    "start_time": "2022-07-16T13:24:28.132Z"
   },
   {
    "duration": 52,
    "start_time": "2022-07-16T13:25:13.370Z"
   },
   {
    "duration": 6,
    "start_time": "2022-07-16T13:25:17.160Z"
   },
   {
    "duration": 2,
    "start_time": "2022-07-16T13:25:32.074Z"
   },
   {
    "duration": 61,
    "start_time": "2022-07-16T13:25:32.079Z"
   },
   {
    "duration": 16,
    "start_time": "2022-07-16T13:25:32.142Z"
   },
   {
    "duration": 46,
    "start_time": "2022-07-16T13:25:32.160Z"
   },
   {
    "duration": 5,
    "start_time": "2022-07-16T13:25:32.209Z"
   },
   {
    "duration": 23,
    "start_time": "2022-07-16T13:25:32.216Z"
   },
   {
    "duration": 25,
    "start_time": "2022-07-16T13:25:32.241Z"
   },
   {
    "duration": 9,
    "start_time": "2022-07-16T13:25:32.268Z"
   },
   {
    "duration": 14,
    "start_time": "2022-07-16T13:25:32.279Z"
   },
   {
    "duration": 18,
    "start_time": "2022-07-16T13:25:32.295Z"
   },
   {
    "duration": 13,
    "start_time": "2022-07-16T13:25:32.315Z"
   },
   {
    "duration": 19,
    "start_time": "2022-07-16T13:25:32.330Z"
   },
   {
    "duration": 24,
    "start_time": "2022-07-16T13:25:32.351Z"
   },
   {
    "duration": 16,
    "start_time": "2022-07-16T13:25:32.377Z"
   },
   {
    "duration": 3,
    "start_time": "2022-07-16T13:25:58.498Z"
   },
   {
    "duration": 67,
    "start_time": "2022-07-16T13:25:58.503Z"
   },
   {
    "duration": 15,
    "start_time": "2022-07-16T13:25:58.572Z"
   },
   {
    "duration": 45,
    "start_time": "2022-07-16T13:25:58.589Z"
   },
   {
    "duration": 17,
    "start_time": "2022-07-16T13:25:58.637Z"
   },
   {
    "duration": 31,
    "start_time": "2022-07-16T13:25:58.656Z"
   },
   {
    "duration": 41,
    "start_time": "2022-07-16T13:25:58.688Z"
   },
   {
    "duration": 18,
    "start_time": "2022-07-16T13:25:58.731Z"
   },
   {
    "duration": 18,
    "start_time": "2022-07-16T13:25:58.751Z"
   },
   {
    "duration": 20,
    "start_time": "2022-07-16T13:25:58.770Z"
   },
   {
    "duration": 19,
    "start_time": "2022-07-16T13:25:58.792Z"
   },
   {
    "duration": 18,
    "start_time": "2022-07-16T13:25:58.812Z"
   },
   {
    "duration": 18,
    "start_time": "2022-07-16T13:25:58.832Z"
   },
   {
    "duration": 15,
    "start_time": "2022-07-16T13:26:12.570Z"
   },
   {
    "duration": 4,
    "start_time": "2022-07-16T13:27:58.216Z"
   },
   {
    "duration": 26,
    "start_time": "2022-07-16T13:28:36.277Z"
   },
   {
    "duration": 15,
    "start_time": "2022-07-16T13:34:53.772Z"
   },
   {
    "duration": 9,
    "start_time": "2022-07-16T13:35:00.383Z"
   },
   {
    "duration": 19,
    "start_time": "2022-07-16T13:35:20.681Z"
   },
   {
    "duration": 419,
    "start_time": "2022-07-16T13:38:29.016Z"
   },
   {
    "duration": 3,
    "start_time": "2022-07-16T13:38:51.278Z"
   },
   {
    "duration": 14,
    "start_time": "2022-07-16T13:39:03.360Z"
   },
   {
    "duration": 4,
    "start_time": "2022-07-16T13:39:06.190Z"
   },
   {
    "duration": 12,
    "start_time": "2022-07-16T13:39:50.586Z"
   },
   {
    "duration": 3,
    "start_time": "2022-07-16T13:40:36.598Z"
   },
   {
    "duration": 13,
    "start_time": "2022-07-16T13:40:37.383Z"
   },
   {
    "duration": 15,
    "start_time": "2022-07-16T13:40:47.415Z"
   },
   {
    "duration": 11,
    "start_time": "2022-07-16T13:40:57.721Z"
   },
   {
    "duration": 2,
    "start_time": "2022-07-16T13:43:57.157Z"
   },
   {
    "duration": 57,
    "start_time": "2022-07-16T13:43:57.161Z"
   },
   {
    "duration": 14,
    "start_time": "2022-07-16T13:43:57.219Z"
   },
   {
    "duration": 17,
    "start_time": "2022-07-16T13:43:57.235Z"
   },
   {
    "duration": 2,
    "start_time": "2022-07-16T13:43:57.255Z"
   },
   {
    "duration": 23,
    "start_time": "2022-07-16T13:43:57.258Z"
   },
   {
    "duration": 18,
    "start_time": "2022-07-16T13:43:57.283Z"
   },
   {
    "duration": 18,
    "start_time": "2022-07-16T13:43:57.303Z"
   },
   {
    "duration": 6,
    "start_time": "2022-07-16T13:43:57.323Z"
   },
   {
    "duration": 9,
    "start_time": "2022-07-16T13:43:57.331Z"
   },
   {
    "duration": 6,
    "start_time": "2022-07-16T13:43:57.342Z"
   },
   {
    "duration": 15,
    "start_time": "2022-07-16T13:43:57.349Z"
   },
   {
    "duration": 12,
    "start_time": "2022-07-16T13:43:57.366Z"
   },
   {
    "duration": 21,
    "start_time": "2022-07-16T13:43:57.381Z"
   },
   {
    "duration": 7,
    "start_time": "2022-07-16T13:43:57.404Z"
   },
   {
    "duration": 3,
    "start_time": "2022-07-16T13:45:24.465Z"
   },
   {
    "duration": 3,
    "start_time": "2022-07-16T13:45:35.416Z"
   },
   {
    "duration": 4,
    "start_time": "2022-07-16T13:51:14.014Z"
   },
   {
    "duration": 6,
    "start_time": "2022-07-16T13:51:40.024Z"
   },
   {
    "duration": 5,
    "start_time": "2022-07-16T13:52:23.287Z"
   },
   {
    "duration": 6,
    "start_time": "2022-07-16T13:52:23.479Z"
   },
   {
    "duration": 6,
    "start_time": "2022-07-16T13:52:48.686Z"
   },
   {
    "duration": 566,
    "start_time": "2022-07-16T13:57:51.211Z"
   },
   {
    "duration": 6,
    "start_time": "2022-07-16T13:59:03.116Z"
   },
   {
    "duration": 135,
    "start_time": "2022-07-16T13:59:14.682Z"
   },
   {
    "duration": 18,
    "start_time": "2022-07-16T14:01:17.814Z"
   },
   {
    "duration": 16,
    "start_time": "2022-07-16T14:01:23.919Z"
   },
   {
    "duration": 9,
    "start_time": "2022-07-16T14:02:28.279Z"
   },
   {
    "duration": 139,
    "start_time": "2022-07-16T14:02:52.306Z"
   },
   {
    "duration": 10,
    "start_time": "2022-07-16T14:03:07.360Z"
   },
   {
    "duration": 9,
    "start_time": "2022-07-16T14:03:18.373Z"
   },
   {
    "duration": 14,
    "start_time": "2022-07-16T14:03:25.793Z"
   },
   {
    "duration": 14,
    "start_time": "2022-07-16T14:04:03.594Z"
   },
   {
    "duration": 537,
    "start_time": "2022-07-16T14:08:30.292Z"
   },
   {
    "duration": 186,
    "start_time": "2022-07-16T14:09:23.011Z"
   },
   {
    "duration": 189,
    "start_time": "2022-07-16T14:10:08.587Z"
   },
   {
    "duration": 186,
    "start_time": "2022-07-16T14:10:35.057Z"
   },
   {
    "duration": 45,
    "start_time": "2022-07-16T14:13:41.066Z"
   },
   {
    "duration": 170,
    "start_time": "2022-07-16T14:13:47.218Z"
   },
   {
    "duration": 18,
    "start_time": "2022-07-16T14:16:42.872Z"
   },
   {
    "duration": 15,
    "start_time": "2022-07-16T14:16:48.185Z"
   },
   {
    "duration": 2,
    "start_time": "2022-07-16T14:16:53.807Z"
   },
   {
    "duration": 59,
    "start_time": "2022-07-16T14:16:53.811Z"
   },
   {
    "duration": 21,
    "start_time": "2022-07-16T14:16:53.872Z"
   },
   {
    "duration": 16,
    "start_time": "2022-07-16T14:16:53.895Z"
   },
   {
    "duration": 3,
    "start_time": "2022-07-16T14:16:53.913Z"
   },
   {
    "duration": 23,
    "start_time": "2022-07-16T14:16:53.917Z"
   },
   {
    "duration": 98,
    "start_time": "2022-07-16T14:16:53.942Z"
   },
   {
    "duration": 12,
    "start_time": "2022-07-16T14:16:54.042Z"
   },
   {
    "duration": 18,
    "start_time": "2022-07-16T14:16:54.063Z"
   },
   {
    "duration": 7,
    "start_time": "2022-07-16T14:16:54.084Z"
   },
   {
    "duration": 7,
    "start_time": "2022-07-16T14:16:54.092Z"
   },
   {
    "duration": 13,
    "start_time": "2022-07-16T14:16:54.101Z"
   },
   {
    "duration": 14,
    "start_time": "2022-07-16T14:16:54.116Z"
   },
   {
    "duration": 39,
    "start_time": "2022-07-16T14:16:54.133Z"
   },
   {
    "duration": 14,
    "start_time": "2022-07-16T14:16:54.174Z"
   },
   {
    "duration": 8,
    "start_time": "2022-07-16T14:16:54.190Z"
   },
   {
    "duration": 226,
    "start_time": "2022-07-16T14:16:54.199Z"
   },
   {
    "duration": 238,
    "start_time": "2022-07-16T14:17:11.463Z"
   },
   {
    "duration": 207,
    "start_time": "2022-07-16T14:17:21.945Z"
   },
   {
    "duration": 21,
    "start_time": "2022-07-16T14:26:42.472Z"
   },
   {
    "duration": 22,
    "start_time": "2022-07-16T14:26:55.254Z"
   },
   {
    "duration": 18,
    "start_time": "2022-07-16T14:26:58.387Z"
   },
   {
    "duration": 15,
    "start_time": "2022-07-16T14:27:11.940Z"
   },
   {
    "duration": 13,
    "start_time": "2022-07-16T14:27:17.608Z"
   },
   {
    "duration": 17,
    "start_time": "2022-07-16T14:28:11.444Z"
   },
   {
    "duration": 16,
    "start_time": "2022-07-16T14:28:47.909Z"
   },
   {
    "duration": 13,
    "start_time": "2022-07-16T14:28:54.485Z"
   },
   {
    "duration": 13,
    "start_time": "2022-07-16T14:29:08.347Z"
   },
   {
    "duration": 14,
    "start_time": "2022-07-16T14:29:19.204Z"
   },
   {
    "duration": 16,
    "start_time": "2022-07-16T14:29:36.788Z"
   },
   {
    "duration": 2,
    "start_time": "2022-07-16T14:32:56.573Z"
   },
   {
    "duration": 817,
    "start_time": "2022-07-16T14:37:10.250Z"
   },
   {
    "duration": 314,
    "start_time": "2022-07-16T14:37:20.679Z"
   },
   {
    "duration": 13,
    "start_time": "2022-07-16T14:37:45.862Z"
   },
   {
    "duration": 315,
    "start_time": "2022-07-16T14:37:49.982Z"
   },
   {
    "duration": 375,
    "start_time": "2022-07-16T14:38:16.330Z"
   },
   {
    "duration": 294,
    "start_time": "2022-07-16T14:38:23.919Z"
   },
   {
    "duration": 375,
    "start_time": "2022-07-16T14:38:32.199Z"
   },
   {
    "duration": 299,
    "start_time": "2022-07-16T14:38:48.321Z"
   },
   {
    "duration": 323,
    "start_time": "2022-07-16T14:40:14.165Z"
   },
   {
    "duration": 318,
    "start_time": "2022-07-16T14:40:33.545Z"
   },
   {
    "duration": 4,
    "start_time": "2022-07-16T14:56:11.273Z"
   },
   {
    "duration": 7,
    "start_time": "2022-07-16T14:56:18.244Z"
   },
   {
    "duration": 3,
    "start_time": "2022-07-16T14:57:04.437Z"
   },
   {
    "duration": 981,
    "start_time": "2022-07-16T15:04:29.877Z"
   },
   {
    "duration": 830,
    "start_time": "2022-07-16T15:05:04.789Z"
   },
   {
    "duration": 853,
    "start_time": "2022-07-16T15:05:36.589Z"
   },
   {
    "duration": 6,
    "start_time": "2022-07-16T15:05:48.344Z"
   },
   {
    "duration": 948,
    "start_time": "2022-07-16T15:06:12.214Z"
   },
   {
    "duration": 3,
    "start_time": "2022-07-16T15:06:18.342Z"
   },
   {
    "duration": 74,
    "start_time": "2022-07-16T15:06:18.347Z"
   },
   {
    "duration": 15,
    "start_time": "2022-07-16T15:06:18.423Z"
   },
   {
    "duration": 17,
    "start_time": "2022-07-16T15:06:18.439Z"
   },
   {
    "duration": 4,
    "start_time": "2022-07-16T15:06:18.458Z"
   },
   {
    "duration": 30,
    "start_time": "2022-07-16T15:06:18.471Z"
   },
   {
    "duration": 28,
    "start_time": "2022-07-16T15:06:18.503Z"
   },
   {
    "duration": 20,
    "start_time": "2022-07-16T15:06:18.532Z"
   },
   {
    "duration": 28,
    "start_time": "2022-07-16T15:06:18.554Z"
   },
   {
    "duration": 23,
    "start_time": "2022-07-16T15:06:18.583Z"
   },
   {
    "duration": 12,
    "start_time": "2022-07-16T15:06:18.608Z"
   },
   {
    "duration": 37,
    "start_time": "2022-07-16T15:06:18.621Z"
   },
   {
    "duration": 48,
    "start_time": "2022-07-16T15:06:18.659Z"
   },
   {
    "duration": 33,
    "start_time": "2022-07-16T15:06:18.710Z"
   },
   {
    "duration": 23,
    "start_time": "2022-07-16T15:06:18.745Z"
   },
   {
    "duration": 14,
    "start_time": "2022-07-16T15:06:18.774Z"
   },
   {
    "duration": 195,
    "start_time": "2022-07-16T15:06:18.790Z"
   },
   {
    "duration": 337,
    "start_time": "2022-07-16T15:06:18.987Z"
   },
   {
    "duration": 867,
    "start_time": "2022-07-16T15:06:19.326Z"
   },
   {
    "duration": 0,
    "start_time": "2022-07-16T15:06:20.195Z"
   },
   {
    "duration": 0,
    "start_time": "2022-07-16T15:06:20.196Z"
   },
   {
    "duration": 830,
    "start_time": "2022-07-16T15:07:26.982Z"
   },
   {
    "duration": 941,
    "start_time": "2022-07-16T15:10:10.450Z"
   },
   {
    "duration": 840,
    "start_time": "2022-07-16T15:10:18.987Z"
   },
   {
    "duration": 2,
    "start_time": "2022-07-16T15:13:40.851Z"
   },
   {
    "duration": 52,
    "start_time": "2022-07-16T15:13:40.856Z"
   },
   {
    "duration": 14,
    "start_time": "2022-07-16T15:13:40.910Z"
   },
   {
    "duration": 15,
    "start_time": "2022-07-16T15:13:40.926Z"
   },
   {
    "duration": 2,
    "start_time": "2022-07-16T15:13:40.943Z"
   },
   {
    "duration": 18,
    "start_time": "2022-07-16T15:13:40.947Z"
   },
   {
    "duration": 10,
    "start_time": "2022-07-16T15:13:40.966Z"
   },
   {
    "duration": 118,
    "start_time": "2022-07-16T15:13:40.977Z"
   },
   {
    "duration": 6,
    "start_time": "2022-07-16T15:13:41.097Z"
   },
   {
    "duration": 9,
    "start_time": "2022-07-16T15:13:41.104Z"
   },
   {
    "duration": 5,
    "start_time": "2022-07-16T15:13:41.115Z"
   },
   {
    "duration": 13,
    "start_time": "2022-07-16T15:13:41.121Z"
   },
   {
    "duration": 30,
    "start_time": "2022-07-16T15:13:41.136Z"
   },
   {
    "duration": 22,
    "start_time": "2022-07-16T15:13:41.168Z"
   },
   {
    "duration": 8,
    "start_time": "2022-07-16T15:13:41.192Z"
   },
   {
    "duration": 7,
    "start_time": "2022-07-16T15:13:41.202Z"
   },
   {
    "duration": 183,
    "start_time": "2022-07-16T15:13:41.211Z"
   },
   {
    "duration": 9,
    "start_time": "2022-07-16T15:13:41.396Z"
   },
   {
    "duration": 0,
    "start_time": "2022-07-16T15:13:41.406Z"
   },
   {
    "duration": 0,
    "start_time": "2022-07-16T15:13:41.407Z"
   },
   {
    "duration": 12,
    "start_time": "2022-07-16T15:13:49.595Z"
   },
   {
    "duration": 3,
    "start_time": "2022-07-16T15:14:21.051Z"
   },
   {
    "duration": 53,
    "start_time": "2022-07-16T15:14:21.055Z"
   },
   {
    "duration": 17,
    "start_time": "2022-07-16T15:14:21.110Z"
   },
   {
    "duration": 16,
    "start_time": "2022-07-16T15:14:21.129Z"
   },
   {
    "duration": 2,
    "start_time": "2022-07-16T15:14:21.147Z"
   },
   {
    "duration": 19,
    "start_time": "2022-07-16T15:14:21.151Z"
   },
   {
    "duration": 17,
    "start_time": "2022-07-16T15:14:21.172Z"
   },
   {
    "duration": 13,
    "start_time": "2022-07-16T15:14:21.190Z"
   },
   {
    "duration": 9,
    "start_time": "2022-07-16T15:14:21.204Z"
   },
   {
    "duration": 9,
    "start_time": "2022-07-16T15:14:21.215Z"
   },
   {
    "duration": 6,
    "start_time": "2022-07-16T15:14:21.225Z"
   },
   {
    "duration": 12,
    "start_time": "2022-07-16T15:14:21.232Z"
   },
   {
    "duration": 15,
    "start_time": "2022-07-16T15:14:21.246Z"
   },
   {
    "duration": 18,
    "start_time": "2022-07-16T15:14:21.263Z"
   },
   {
    "duration": 7,
    "start_time": "2022-07-16T15:14:21.283Z"
   },
   {
    "duration": 9,
    "start_time": "2022-07-16T15:14:21.292Z"
   },
   {
    "duration": 171,
    "start_time": "2022-07-16T15:14:21.303Z"
   },
   {
    "duration": 10,
    "start_time": "2022-07-16T15:14:21.476Z"
   },
   {
    "duration": 0,
    "start_time": "2022-07-16T15:14:21.488Z"
   },
   {
    "duration": 0,
    "start_time": "2022-07-16T15:14:21.489Z"
   },
   {
    "duration": 299,
    "start_time": "2022-07-16T15:14:34.946Z"
   },
   {
    "duration": 844,
    "start_time": "2022-07-16T15:15:04.957Z"
   },
   {
    "duration": 51,
    "start_time": "2022-07-18T10:24:17.661Z"
   },
   {
    "duration": 1446,
    "start_time": "2022-07-18T10:24:24.408Z"
   },
   {
    "duration": 180,
    "start_time": "2022-07-18T10:24:25.857Z"
   },
   {
    "duration": 22,
    "start_time": "2022-07-18T10:24:26.039Z"
   },
   {
    "duration": 18,
    "start_time": "2022-07-18T10:24:26.063Z"
   },
   {
    "duration": 4,
    "start_time": "2022-07-18T10:24:26.084Z"
   },
   {
    "duration": 29,
    "start_time": "2022-07-18T10:24:26.090Z"
   },
   {
    "duration": 12,
    "start_time": "2022-07-18T10:24:26.121Z"
   },
   {
    "duration": 10,
    "start_time": "2022-07-18T10:24:26.134Z"
   },
   {
    "duration": 5,
    "start_time": "2022-07-18T10:24:26.146Z"
   },
   {
    "duration": 6,
    "start_time": "2022-07-18T10:24:26.152Z"
   },
   {
    "duration": 5,
    "start_time": "2022-07-18T10:24:26.160Z"
   },
   {
    "duration": 8,
    "start_time": "2022-07-18T10:24:26.167Z"
   },
   {
    "duration": 38,
    "start_time": "2022-07-18T10:24:26.177Z"
   },
   {
    "duration": 20,
    "start_time": "2022-07-18T10:24:26.217Z"
   },
   {
    "duration": 9,
    "start_time": "2022-07-18T10:24:26.239Z"
   },
   {
    "duration": 8,
    "start_time": "2022-07-18T10:24:26.249Z"
   },
   {
    "duration": 240,
    "start_time": "2022-07-18T10:24:26.259Z"
   },
   {
    "duration": 78,
    "start_time": "2022-07-18T10:24:26.510Z"
   },
   {
    "duration": 0,
    "start_time": "2022-07-18T10:24:26.590Z"
   },
   {
    "duration": 0,
    "start_time": "2022-07-18T10:24:26.591Z"
   },
   {
    "duration": 3,
    "start_time": "2022-07-18T10:24:42.450Z"
   },
   {
    "duration": 62,
    "start_time": "2022-07-18T10:24:42.455Z"
   },
   {
    "duration": 17,
    "start_time": "2022-07-18T10:24:42.519Z"
   },
   {
    "duration": 22,
    "start_time": "2022-07-18T10:24:42.538Z"
   },
   {
    "duration": 3,
    "start_time": "2022-07-18T10:24:42.562Z"
   },
   {
    "duration": 24,
    "start_time": "2022-07-18T10:24:42.567Z"
   },
   {
    "duration": 25,
    "start_time": "2022-07-18T10:24:42.593Z"
   },
   {
    "duration": 9,
    "start_time": "2022-07-18T10:24:42.620Z"
   },
   {
    "duration": 6,
    "start_time": "2022-07-18T10:24:42.631Z"
   },
   {
    "duration": 7,
    "start_time": "2022-07-18T10:24:42.638Z"
   },
   {
    "duration": 5,
    "start_time": "2022-07-18T10:24:42.647Z"
   },
   {
    "duration": 8,
    "start_time": "2022-07-18T10:24:42.654Z"
   },
   {
    "duration": 48,
    "start_time": "2022-07-18T10:24:42.663Z"
   },
   {
    "duration": 21,
    "start_time": "2022-07-18T10:24:42.714Z"
   },
   {
    "duration": 7,
    "start_time": "2022-07-18T10:24:42.737Z"
   },
   {
    "duration": 6,
    "start_time": "2022-07-18T10:24:42.746Z"
   },
   {
    "duration": 202,
    "start_time": "2022-07-18T10:24:42.754Z"
   },
   {
    "duration": 21,
    "start_time": "2022-07-18T10:24:42.958Z"
   },
   {
    "duration": 0,
    "start_time": "2022-07-18T10:24:42.981Z"
   },
   {
    "duration": 0,
    "start_time": "2022-07-18T10:24:42.982Z"
   },
   {
    "duration": 18,
    "start_time": "2022-07-18T10:24:57.452Z"
   },
   {
    "duration": 356,
    "start_time": "2022-07-18T10:24:59.963Z"
   },
   {
    "duration": 9,
    "start_time": "2022-07-18T10:25:03.402Z"
   },
   {
    "duration": 4,
    "start_time": "2022-07-18T10:25:11.152Z"
   },
   {
    "duration": 10,
    "start_time": "2022-07-18T10:25:15.694Z"
   },
   {
    "duration": 12,
    "start_time": "2022-07-18T10:39:26.556Z"
   },
   {
    "duration": 17,
    "start_time": "2022-07-18T10:39:40.184Z"
   },
   {
    "duration": 35,
    "start_time": "2022-07-18T10:41:42.555Z"
   },
   {
    "duration": 19,
    "start_time": "2022-07-18T10:42:55.647Z"
   },
   {
    "duration": 19,
    "start_time": "2022-07-18T10:43:44.332Z"
   },
   {
    "duration": 18,
    "start_time": "2022-07-18T10:44:26.574Z"
   },
   {
    "duration": 201,
    "start_time": "2022-07-18T10:45:49.885Z"
   },
   {
    "duration": 204,
    "start_time": "2022-07-18T10:49:31.388Z"
   },
   {
    "duration": 270,
    "start_time": "2022-07-18T10:49:36.414Z"
   },
   {
    "duration": 12,
    "start_time": "2022-07-18T10:50:56.464Z"
   },
   {
    "duration": 13,
    "start_time": "2022-07-18T10:51:06.875Z"
   },
   {
    "duration": 173,
    "start_time": "2022-07-18T10:54:14.141Z"
   },
   {
    "duration": 26,
    "start_time": "2022-07-18T10:56:56.925Z"
   },
   {
    "duration": 317,
    "start_time": "2022-07-18T10:57:12.195Z"
   },
   {
    "duration": 91,
    "start_time": "2022-07-18T10:57:25.118Z"
   },
   {
    "duration": 77,
    "start_time": "2022-07-18T10:57:37.020Z"
   },
   {
    "duration": 12,
    "start_time": "2022-07-18T10:57:40.037Z"
   },
   {
    "duration": 291,
    "start_time": "2022-07-18T10:58:10.091Z"
   },
   {
    "duration": 9399,
    "start_time": "2022-07-18T10:58:26.259Z"
   },
   {
    "duration": 7297,
    "start_time": "2022-07-18T11:00:40.672Z"
   },
   {
    "duration": 130,
    "start_time": "2022-07-18T11:02:01.233Z"
   },
   {
    "duration": 1068,
    "start_time": "2022-07-18T11:02:12.172Z"
   },
   {
    "duration": 10,
    "start_time": "2022-07-18T11:06:32.275Z"
   },
   {
    "duration": 228,
    "start_time": "2022-07-18T11:09:31.726Z"
   },
   {
    "duration": 26,
    "start_time": "2022-07-18T11:09:41.961Z"
   },
   {
    "duration": 143,
    "start_time": "2022-07-18T11:09:52.974Z"
   },
   {
    "duration": 17,
    "start_time": "2022-07-18T11:11:43.099Z"
   },
   {
    "duration": 88,
    "start_time": "2022-07-18T11:12:11.461Z"
   },
   {
    "duration": 147,
    "start_time": "2022-07-18T11:14:17.309Z"
   },
   {
    "duration": 71,
    "start_time": "2022-07-18T11:15:33.138Z"
   },
   {
    "duration": 17,
    "start_time": "2022-07-18T11:15:40.505Z"
   },
   {
    "duration": 76,
    "start_time": "2022-07-18T11:16:09.878Z"
   },
   {
    "duration": 74,
    "start_time": "2022-07-18T11:16:19.014Z"
   },
   {
    "duration": 17,
    "start_time": "2022-07-18T11:16:27.759Z"
   },
   {
    "duration": 294,
    "start_time": "2022-07-18T11:16:55.259Z"
   },
   {
    "duration": 75,
    "start_time": "2022-07-18T11:19:09.893Z"
   },
   {
    "duration": 263,
    "start_time": "2022-07-18T11:19:15.642Z"
   },
   {
    "duration": 18,
    "start_time": "2022-07-18T11:20:26.603Z"
   },
   {
    "duration": 287,
    "start_time": "2022-07-18T11:20:46.720Z"
   },
   {
    "duration": 184,
    "start_time": "2022-07-18T11:21:45.001Z"
   },
   {
    "duration": 282,
    "start_time": "2022-07-18T11:21:51.485Z"
   },
   {
    "duration": 285,
    "start_time": "2022-07-18T11:22:02.812Z"
   },
   {
    "duration": 283,
    "start_time": "2022-07-18T11:22:16.504Z"
   },
   {
    "duration": 296,
    "start_time": "2022-07-18T11:24:50.764Z"
   },
   {
    "duration": 271,
    "start_time": "2022-07-18T11:25:28.781Z"
   },
   {
    "duration": 277,
    "start_time": "2022-07-18T11:25:59.683Z"
   },
   {
    "duration": 662,
    "start_time": "2022-07-18T11:26:06.837Z"
   },
   {
    "duration": 275,
    "start_time": "2022-07-18T11:33:08.246Z"
   },
   {
    "duration": 5,
    "start_time": "2022-07-18T11:34:16.112Z"
   },
   {
    "duration": 251,
    "start_time": "2022-07-18T11:35:26.194Z"
   },
   {
    "duration": 4,
    "start_time": "2022-07-18T11:38:44.903Z"
   },
   {
    "duration": 14,
    "start_time": "2022-07-18T11:38:52.062Z"
   },
   {
    "duration": 13,
    "start_time": "2022-07-18T11:39:00.085Z"
   },
   {
    "duration": 13,
    "start_time": "2022-07-18T11:39:35.822Z"
   },
   {
    "duration": 15,
    "start_time": "2022-07-18T11:40:13.765Z"
   },
   {
    "duration": 5,
    "start_time": "2022-07-18T11:41:36.210Z"
   },
   {
    "duration": 5,
    "start_time": "2022-07-18T11:41:39.496Z"
   },
   {
    "duration": 5,
    "start_time": "2022-07-18T11:43:13.190Z"
   },
   {
    "duration": 255,
    "start_time": "2022-07-18T11:43:28.693Z"
   },
   {
    "duration": 12,
    "start_time": "2022-07-18T11:52:56.783Z"
   },
   {
    "duration": 11,
    "start_time": "2022-07-18T11:53:37.666Z"
   },
   {
    "duration": 6,
    "start_time": "2022-07-18T11:53:49.627Z"
   },
   {
    "duration": 9,
    "start_time": "2022-07-18T11:57:49.246Z"
   },
   {
    "duration": 16,
    "start_time": "2022-07-18T11:58:31.939Z"
   },
   {
    "duration": 6,
    "start_time": "2022-07-18T11:59:16.714Z"
   },
   {
    "duration": 246,
    "start_time": "2022-07-18T11:59:17.440Z"
   },
   {
    "duration": 201,
    "start_time": "2022-07-18T11:59:21.649Z"
   },
   {
    "duration": 177,
    "start_time": "2022-07-18T11:59:49.539Z"
   },
   {
    "duration": 4,
    "start_time": "2022-07-18T12:00:37.678Z"
   },
   {
    "duration": 259,
    "start_time": "2022-07-18T12:00:38.107Z"
   },
   {
    "duration": 220,
    "start_time": "2022-07-18T12:00:41.744Z"
   },
   {
    "duration": 195,
    "start_time": "2022-07-18T12:00:56.923Z"
   },
   {
    "duration": 200,
    "start_time": "2022-07-18T12:01:06.640Z"
   },
   {
    "duration": 402,
    "start_time": "2022-07-18T12:01:35.671Z"
   },
   {
    "duration": 340,
    "start_time": "2022-07-18T12:01:44.965Z"
   },
   {
    "duration": 310,
    "start_time": "2022-07-18T12:01:49.829Z"
   },
   {
    "duration": 244,
    "start_time": "2022-07-18T12:08:57.337Z"
   },
   {
    "duration": 185,
    "start_time": "2022-07-18T12:08:59.106Z"
   },
   {
    "duration": 5,
    "start_time": "2022-07-18T12:13:10.105Z"
   },
   {
    "duration": 17,
    "start_time": "2022-07-18T12:13:25.162Z"
   },
   {
    "duration": 3,
    "start_time": "2022-07-18T12:14:30.058Z"
   },
   {
    "duration": 261,
    "start_time": "2022-07-18T12:14:30.084Z"
   },
   {
    "duration": 226,
    "start_time": "2022-07-18T12:14:33.216Z"
   },
   {
    "duration": 1488,
    "start_time": "2022-07-18T12:38:59.447Z"
   },
   {
    "duration": 1533,
    "start_time": "2022-07-18T12:39:06.754Z"
   },
   {
    "duration": 7,
    "start_time": "2022-07-18T12:39:16.457Z"
   },
   {
    "duration": 8,
    "start_time": "2022-07-18T12:39:39.341Z"
   },
   {
    "duration": 6,
    "start_time": "2022-07-18T12:39:45.846Z"
   },
   {
    "duration": 5,
    "start_time": "2022-07-18T12:41:03.090Z"
   },
   {
    "duration": 24,
    "start_time": "2022-07-18T12:41:09.429Z"
   },
   {
    "duration": 10,
    "start_time": "2022-07-18T12:42:43.609Z"
   },
   {
    "duration": 111,
    "start_time": "2022-07-18T12:43:30.779Z"
   },
   {
    "duration": 8,
    "start_time": "2022-07-18T12:43:33.584Z"
   },
   {
    "duration": 8,
    "start_time": "2022-07-18T12:45:44.492Z"
   },
   {
    "duration": 6,
    "start_time": "2022-07-18T12:45:48.341Z"
   },
   {
    "duration": 251,
    "start_time": "2022-07-18T12:47:40.023Z"
   },
   {
    "duration": 144,
    "start_time": "2022-07-18T12:47:53.253Z"
   },
   {
    "duration": 146,
    "start_time": "2022-07-18T12:48:39.299Z"
   },
   {
    "duration": 5,
    "start_time": "2022-07-18T12:58:36.045Z"
   },
   {
    "duration": 18,
    "start_time": "2022-07-18T12:59:40.300Z"
   },
   {
    "duration": 9,
    "start_time": "2022-07-18T12:59:47.266Z"
   },
   {
    "duration": 12,
    "start_time": "2022-07-18T12:59:53.298Z"
   },
   {
    "duration": 5,
    "start_time": "2022-07-18T13:00:16.146Z"
   },
   {
    "duration": 206,
    "start_time": "2022-07-18T13:00:31.569Z"
   },
   {
    "duration": 5,
    "start_time": "2022-07-18T13:00:48.979Z"
   },
   {
    "duration": 1750,
    "start_time": "2022-07-18T13:00:49.489Z"
   },
   {
    "duration": 19,
    "start_time": "2022-07-18T13:01:33.669Z"
   },
   {
    "duration": 2,
    "start_time": "2022-07-18T13:01:36.471Z"
   },
   {
    "duration": 66,
    "start_time": "2022-07-18T13:01:36.475Z"
   },
   {
    "duration": 17,
    "start_time": "2022-07-18T13:01:36.543Z"
   },
   {
    "duration": 27,
    "start_time": "2022-07-18T13:01:36.562Z"
   },
   {
    "duration": 3,
    "start_time": "2022-07-18T13:01:36.592Z"
   },
   {
    "duration": 31,
    "start_time": "2022-07-18T13:01:36.597Z"
   },
   {
    "duration": 29,
    "start_time": "2022-07-18T13:01:36.630Z"
   },
   {
    "duration": 112,
    "start_time": "2022-07-18T13:01:36.661Z"
   },
   {
    "duration": 16,
    "start_time": "2022-07-18T13:01:36.775Z"
   },
   {
    "duration": 20,
    "start_time": "2022-07-18T13:01:36.793Z"
   },
   {
    "duration": 19,
    "start_time": "2022-07-18T13:01:36.815Z"
   },
   {
    "duration": 13,
    "start_time": "2022-07-18T13:01:36.836Z"
   },
   {
    "duration": 27,
    "start_time": "2022-07-18T13:01:36.851Z"
   },
   {
    "duration": 25,
    "start_time": "2022-07-18T13:01:36.881Z"
   },
   {
    "duration": 12,
    "start_time": "2022-07-18T13:01:36.908Z"
   },
   {
    "duration": 25,
    "start_time": "2022-07-18T13:01:36.921Z"
   },
   {
    "duration": 206,
    "start_time": "2022-07-18T13:01:36.948Z"
   },
   {
    "duration": 331,
    "start_time": "2022-07-18T13:01:37.155Z"
   },
   {
    "duration": 28,
    "start_time": "2022-07-18T13:01:37.488Z"
   },
   {
    "duration": 281,
    "start_time": "2022-07-18T13:01:37.518Z"
   },
   {
    "duration": 12,
    "start_time": "2022-07-18T13:01:37.801Z"
   },
   {
    "duration": 297,
    "start_time": "2022-07-18T13:01:37.815Z"
   },
   {
    "duration": 202,
    "start_time": "2022-07-18T13:01:38.113Z"
   },
   {
    "duration": 7,
    "start_time": "2022-07-18T13:01:38.317Z"
   },
   {
    "duration": 168,
    "start_time": "2022-07-18T13:01:38.326Z"
   },
   {
    "duration": 5,
    "start_time": "2022-07-18T13:01:38.496Z"
   },
   {
    "duration": 154,
    "start_time": "2022-07-18T13:01:38.510Z"
   },
   {
    "duration": 5,
    "start_time": "2022-07-18T13:01:38.666Z"
   },
   {
    "duration": 1753,
    "start_time": "2022-07-18T13:01:38.673Z"
   },
   {
    "duration": 19,
    "start_time": "2022-07-18T13:01:55.681Z"
   },
   {
    "duration": 265,
    "start_time": "2022-07-18T13:01:58.671Z"
   },
   {
    "duration": 4,
    "start_time": "2022-07-18T13:02:57.999Z"
   },
   {
    "duration": 1509,
    "start_time": "2022-07-18T13:02:58.433Z"
   },
   {
    "duration": 4,
    "start_time": "2022-07-18T13:03:11.002Z"
   },
   {
    "duration": 1814,
    "start_time": "2022-07-18T13:03:11.572Z"
   },
   {
    "duration": 5,
    "start_time": "2022-07-18T13:03:17.452Z"
   },
   {
    "duration": 1597,
    "start_time": "2022-07-18T13:03:18.566Z"
   },
   {
    "duration": 5,
    "start_time": "2022-07-18T13:05:03.087Z"
   },
   {
    "duration": 1754,
    "start_time": "2022-07-18T13:05:03.742Z"
   },
   {
    "duration": 4,
    "start_time": "2022-07-18T13:06:13.568Z"
   },
   {
    "duration": 1726,
    "start_time": "2022-07-18T13:06:13.896Z"
   },
   {
    "duration": 16,
    "start_time": "2022-07-18T13:11:10.333Z"
   },
   {
    "duration": 15,
    "start_time": "2022-07-18T13:11:38.153Z"
   },
   {
    "duration": 21,
    "start_time": "2022-07-18T13:11:55.633Z"
   },
   {
    "duration": 147,
    "start_time": "2022-07-18T13:16:23.876Z"
   },
   {
    "duration": 15,
    "start_time": "2022-07-18T13:19:00.920Z"
   },
   {
    "duration": 15,
    "start_time": "2022-07-18T13:19:26.794Z"
   },
   {
    "duration": 3,
    "start_time": "2022-07-18T13:20:02.676Z"
   },
   {
    "duration": 59,
    "start_time": "2022-07-18T13:20:02.680Z"
   },
   {
    "duration": 17,
    "start_time": "2022-07-18T13:20:02.740Z"
   },
   {
    "duration": 23,
    "start_time": "2022-07-18T13:20:02.759Z"
   },
   {
    "duration": 3,
    "start_time": "2022-07-18T13:20:02.785Z"
   },
   {
    "duration": 33,
    "start_time": "2022-07-18T13:20:02.790Z"
   },
   {
    "duration": 14,
    "start_time": "2022-07-18T13:20:02.825Z"
   },
   {
    "duration": 11,
    "start_time": "2022-07-18T13:20:02.841Z"
   },
   {
    "duration": 12,
    "start_time": "2022-07-18T13:20:02.854Z"
   },
   {
    "duration": 11,
    "start_time": "2022-07-18T13:20:02.868Z"
   },
   {
    "duration": 9,
    "start_time": "2022-07-18T13:20:02.880Z"
   },
   {
    "duration": 23,
    "start_time": "2022-07-18T13:20:02.890Z"
   },
   {
    "duration": 25,
    "start_time": "2022-07-18T13:20:02.915Z"
   },
   {
    "duration": 21,
    "start_time": "2022-07-18T13:20:02.943Z"
   },
   {
    "duration": 8,
    "start_time": "2022-07-18T13:20:02.966Z"
   },
   {
    "duration": 7,
    "start_time": "2022-07-18T13:20:02.975Z"
   },
   {
    "duration": 213,
    "start_time": "2022-07-18T13:20:02.984Z"
   },
   {
    "duration": 348,
    "start_time": "2022-07-18T13:20:03.199Z"
   },
   {
    "duration": 17,
    "start_time": "2022-07-18T13:20:03.549Z"
   },
   {
    "duration": 278,
    "start_time": "2022-07-18T13:20:03.568Z"
   },
   {
    "duration": 6,
    "start_time": "2022-07-18T13:20:03.848Z"
   },
   {
    "duration": 270,
    "start_time": "2022-07-18T13:20:03.856Z"
   },
   {
    "duration": 207,
    "start_time": "2022-07-18T13:20:04.128Z"
   },
   {
    "duration": 8,
    "start_time": "2022-07-18T13:20:04.336Z"
   },
   {
    "duration": 167,
    "start_time": "2022-07-18T13:20:04.345Z"
   },
   {
    "duration": 5,
    "start_time": "2022-07-18T13:20:04.514Z"
   },
   {
    "duration": 155,
    "start_time": "2022-07-18T13:20:04.521Z"
   },
   {
    "duration": 5,
    "start_time": "2022-07-18T13:20:04.677Z"
   },
   {
    "duration": 1666,
    "start_time": "2022-07-18T13:20:04.684Z"
   },
   {
    "duration": 16,
    "start_time": "2022-07-18T13:20:06.352Z"
   },
   {
    "duration": 26,
    "start_time": "2022-07-18T13:20:06.370Z"
   },
   {
    "duration": 124,
    "start_time": "2022-07-18T13:20:40.071Z"
   },
   {
    "duration": 3,
    "start_time": "2022-07-18T13:20:51.529Z"
   },
   {
    "duration": 59,
    "start_time": "2022-07-18T13:20:51.534Z"
   },
   {
    "duration": 19,
    "start_time": "2022-07-18T13:20:51.595Z"
   },
   {
    "duration": 17,
    "start_time": "2022-07-18T13:20:51.615Z"
   },
   {
    "duration": 3,
    "start_time": "2022-07-18T13:20:51.634Z"
   },
   {
    "duration": 21,
    "start_time": "2022-07-18T13:20:51.639Z"
   },
   {
    "duration": 11,
    "start_time": "2022-07-18T13:20:51.662Z"
   },
   {
    "duration": 8,
    "start_time": "2022-07-18T13:20:51.675Z"
   },
   {
    "duration": 28,
    "start_time": "2022-07-18T13:20:51.685Z"
   },
   {
    "duration": 6,
    "start_time": "2022-07-18T13:20:51.715Z"
   },
   {
    "duration": 5,
    "start_time": "2022-07-18T13:20:51.723Z"
   },
   {
    "duration": 11,
    "start_time": "2022-07-18T13:20:51.730Z"
   },
   {
    "duration": 13,
    "start_time": "2022-07-18T13:20:51.744Z"
   },
   {
    "duration": 24,
    "start_time": "2022-07-18T13:20:51.758Z"
   },
   {
    "duration": 11,
    "start_time": "2022-07-18T13:20:51.814Z"
   },
   {
    "duration": 15,
    "start_time": "2022-07-18T13:20:51.827Z"
   },
   {
    "duration": 278,
    "start_time": "2022-07-18T13:20:51.844Z"
   },
   {
    "duration": 330,
    "start_time": "2022-07-18T13:20:52.124Z"
   },
   {
    "duration": 18,
    "start_time": "2022-07-18T13:20:52.456Z"
   },
   {
    "duration": 376,
    "start_time": "2022-07-18T13:20:52.476Z"
   },
   {
    "duration": 7,
    "start_time": "2022-07-18T13:20:52.854Z"
   },
   {
    "duration": 269,
    "start_time": "2022-07-18T13:20:52.863Z"
   },
   {
    "duration": 195,
    "start_time": "2022-07-18T13:20:53.134Z"
   },
   {
    "duration": 7,
    "start_time": "2022-07-18T13:20:53.331Z"
   },
   {
    "duration": 158,
    "start_time": "2022-07-18T13:20:53.339Z"
   },
   {
    "duration": 13,
    "start_time": "2022-07-18T13:20:53.498Z"
   },
   {
    "duration": 150,
    "start_time": "2022-07-18T13:20:53.512Z"
   },
   {
    "duration": 5,
    "start_time": "2022-07-18T13:20:53.663Z"
   },
   {
    "duration": 1564,
    "start_time": "2022-07-18T13:20:53.670Z"
   },
   {
    "duration": 19,
    "start_time": "2022-07-18T13:20:55.236Z"
   },
   {
    "duration": 13,
    "start_time": "2022-07-18T13:21:12.533Z"
   },
   {
    "duration": 5,
    "start_time": "2022-07-18T13:23:47.537Z"
   },
   {
    "duration": 14,
    "start_time": "2022-07-18T13:23:48.774Z"
   },
   {
    "duration": 4,
    "start_time": "2022-07-18T13:24:00.969Z"
   },
   {
    "duration": 304,
    "start_time": "2022-07-18T13:24:01.908Z"
   },
   {
    "duration": 4,
    "start_time": "2022-07-18T13:24:15.688Z"
   },
   {
    "duration": 958,
    "start_time": "2022-07-18T13:24:16.083Z"
   },
   {
    "duration": 7,
    "start_time": "2022-07-18T13:25:17.789Z"
   },
   {
    "duration": 276,
    "start_time": "2022-07-18T13:25:18.138Z"
   },
   {
    "duration": 5,
    "start_time": "2022-07-18T13:25:40.082Z"
   },
   {
    "duration": 274,
    "start_time": "2022-07-18T13:25:40.403Z"
   },
   {
    "duration": 5,
    "start_time": "2022-07-18T13:25:59.473Z"
   },
   {
    "duration": 1688,
    "start_time": "2022-07-18T13:25:59.805Z"
   },
   {
    "duration": 3,
    "start_time": "2022-07-18T13:26:09.230Z"
   },
   {
    "duration": 59,
    "start_time": "2022-07-18T13:26:09.235Z"
   },
   {
    "duration": 17,
    "start_time": "2022-07-18T13:26:09.296Z"
   },
   {
    "duration": 18,
    "start_time": "2022-07-18T13:26:09.314Z"
   },
   {
    "duration": 3,
    "start_time": "2022-07-18T13:26:09.334Z"
   },
   {
    "duration": 27,
    "start_time": "2022-07-18T13:26:09.339Z"
   },
   {
    "duration": 16,
    "start_time": "2022-07-18T13:26:09.368Z"
   },
   {
    "duration": 14,
    "start_time": "2022-07-18T13:26:09.386Z"
   },
   {
    "duration": 19,
    "start_time": "2022-07-18T13:26:09.410Z"
   },
   {
    "duration": 9,
    "start_time": "2022-07-18T13:26:09.431Z"
   },
   {
    "duration": 12,
    "start_time": "2022-07-18T13:26:09.441Z"
   },
   {
    "duration": 12,
    "start_time": "2022-07-18T13:26:09.454Z"
   },
   {
    "duration": 20,
    "start_time": "2022-07-18T13:26:09.469Z"
   },
   {
    "duration": 21,
    "start_time": "2022-07-18T13:26:09.490Z"
   },
   {
    "duration": 7,
    "start_time": "2022-07-18T13:26:09.513Z"
   },
   {
    "duration": 7,
    "start_time": "2022-07-18T13:26:09.522Z"
   },
   {
    "duration": 207,
    "start_time": "2022-07-18T13:26:09.531Z"
   },
   {
    "duration": 324,
    "start_time": "2022-07-18T13:26:09.739Z"
   },
   {
    "duration": 19,
    "start_time": "2022-07-18T13:26:10.065Z"
   },
   {
    "duration": 290,
    "start_time": "2022-07-18T13:26:10.085Z"
   },
   {
    "duration": 6,
    "start_time": "2022-07-18T13:26:10.377Z"
   },
   {
    "duration": 280,
    "start_time": "2022-07-18T13:26:10.385Z"
   },
   {
    "duration": 188,
    "start_time": "2022-07-18T13:26:10.667Z"
   },
   {
    "duration": 8,
    "start_time": "2022-07-18T13:26:10.857Z"
   },
   {
    "duration": 159,
    "start_time": "2022-07-18T13:26:10.866Z"
   },
   {
    "duration": 6,
    "start_time": "2022-07-18T13:26:11.026Z"
   },
   {
    "duration": 278,
    "start_time": "2022-07-18T13:26:11.034Z"
   },
   {
    "duration": 6,
    "start_time": "2022-07-18T13:26:11.314Z"
   },
   {
    "duration": 1634,
    "start_time": "2022-07-18T13:26:11.322Z"
   },
   {
    "duration": 15,
    "start_time": "2022-07-18T13:26:12.959Z"
   },
   {
    "duration": 5,
    "start_time": "2022-07-18T13:27:49.607Z"
   },
   {
    "duration": 1692,
    "start_time": "2022-07-18T13:27:49.830Z"
   },
   {
    "duration": 10,
    "start_time": "2022-07-18T13:34:56.470Z"
   },
   {
    "duration": 10,
    "start_time": "2022-07-18T13:37:31.287Z"
   },
   {
    "duration": 12,
    "start_time": "2022-07-18T13:37:35.080Z"
   },
   {
    "duration": 17,
    "start_time": "2022-07-18T13:37:43.222Z"
   },
   {
    "duration": 16,
    "start_time": "2022-07-18T13:38:34.649Z"
   },
   {
    "duration": 17,
    "start_time": "2022-07-18T13:39:16.574Z"
   },
   {
    "duration": 16,
    "start_time": "2022-07-18T13:39:49.141Z"
   },
   {
    "duration": 15,
    "start_time": "2022-07-18T13:40:03.547Z"
   },
   {
    "duration": 17,
    "start_time": "2022-07-18T13:40:14.578Z"
   },
   {
    "duration": 15,
    "start_time": "2022-07-18T13:42:01.032Z"
   },
   {
    "duration": 23,
    "start_time": "2022-07-18T13:42:06.202Z"
   },
   {
    "duration": 22,
    "start_time": "2022-07-18T13:42:17.823Z"
   },
   {
    "duration": 16,
    "start_time": "2022-07-18T13:42:31.766Z"
   },
   {
    "duration": 15,
    "start_time": "2022-07-18T13:42:36.891Z"
   },
   {
    "duration": 27,
    "start_time": "2022-07-18T13:43:02.097Z"
   },
   {
    "duration": 26,
    "start_time": "2022-07-18T13:43:24.605Z"
   },
   {
    "duration": 17,
    "start_time": "2022-07-18T13:44:35.924Z"
   },
   {
    "duration": 18,
    "start_time": "2022-07-18T13:44:59.242Z"
   },
   {
    "duration": 16,
    "start_time": "2022-07-18T13:45:19.277Z"
   },
   {
    "duration": 27,
    "start_time": "2022-07-18T13:48:35.369Z"
   },
   {
    "duration": 24,
    "start_time": "2022-07-18T13:49:54.032Z"
   },
   {
    "duration": 169,
    "start_time": "2022-07-18T13:49:58.885Z"
   },
   {
    "duration": 167,
    "start_time": "2022-07-18T13:50:06.780Z"
   },
   {
    "duration": 18,
    "start_time": "2022-07-18T13:51:14.882Z"
   },
   {
    "duration": 20,
    "start_time": "2022-07-18T13:51:21.932Z"
   },
   {
    "duration": 15,
    "start_time": "2022-07-18T13:51:41.233Z"
   },
   {
    "duration": 15,
    "start_time": "2022-07-18T13:51:50.693Z"
   },
   {
    "duration": 17,
    "start_time": "2022-07-18T13:52:00.822Z"
   },
   {
    "duration": 20,
    "start_time": "2022-07-18T13:52:25.228Z"
   },
   {
    "duration": 2,
    "start_time": "2022-07-18T13:52:28.102Z"
   },
   {
    "duration": 70,
    "start_time": "2022-07-18T13:52:28.107Z"
   },
   {
    "duration": 16,
    "start_time": "2022-07-18T13:52:28.179Z"
   },
   {
    "duration": 25,
    "start_time": "2022-07-18T13:52:28.197Z"
   },
   {
    "duration": 3,
    "start_time": "2022-07-18T13:52:28.225Z"
   },
   {
    "duration": 21,
    "start_time": "2022-07-18T13:52:28.230Z"
   },
   {
    "duration": 17,
    "start_time": "2022-07-18T13:52:28.253Z"
   },
   {
    "duration": 10,
    "start_time": "2022-07-18T13:52:28.272Z"
   },
   {
    "duration": 16,
    "start_time": "2022-07-18T13:52:28.283Z"
   },
   {
    "duration": 21,
    "start_time": "2022-07-18T13:52:28.301Z"
   },
   {
    "duration": 10,
    "start_time": "2022-07-18T13:52:28.326Z"
   },
   {
    "duration": 10,
    "start_time": "2022-07-18T13:52:28.338Z"
   },
   {
    "duration": 17,
    "start_time": "2022-07-18T13:52:28.350Z"
   },
   {
    "duration": 26,
    "start_time": "2022-07-18T13:52:28.369Z"
   },
   {
    "duration": 28,
    "start_time": "2022-07-18T13:52:28.396Z"
   },
   {
    "duration": 14,
    "start_time": "2022-07-18T13:52:28.426Z"
   },
   {
    "duration": 242,
    "start_time": "2022-07-18T13:52:28.442Z"
   },
   {
    "duration": 407,
    "start_time": "2022-07-18T13:52:28.686Z"
   },
   {
    "duration": 29,
    "start_time": "2022-07-18T13:52:29.095Z"
   },
   {
    "duration": 339,
    "start_time": "2022-07-18T13:52:29.126Z"
   },
   {
    "duration": 6,
    "start_time": "2022-07-18T13:52:29.468Z"
   },
   {
    "duration": 291,
    "start_time": "2022-07-18T13:52:29.476Z"
   },
   {
    "duration": 317,
    "start_time": "2022-07-18T13:52:29.769Z"
   },
   {
    "duration": 8,
    "start_time": "2022-07-18T13:52:30.088Z"
   },
   {
    "duration": 210,
    "start_time": "2022-07-18T13:52:30.097Z"
   },
   {
    "duration": 10,
    "start_time": "2022-07-18T13:52:30.309Z"
   },
   {
    "duration": 185,
    "start_time": "2022-07-18T13:52:30.322Z"
   },
   {
    "duration": 21,
    "start_time": "2022-07-18T13:52:30.509Z"
   },
   {
    "duration": 1913,
    "start_time": "2022-07-18T13:52:30.533Z"
   },
   {
    "duration": 16,
    "start_time": "2022-07-18T13:52:32.447Z"
   },
   {
    "duration": 211,
    "start_time": "2022-07-18T13:52:32.466Z"
   },
   {
    "duration": 169,
    "start_time": "2022-07-18T13:52:32.678Z"
   },
   {
    "duration": 16,
    "start_time": "2022-07-18T13:52:32.849Z"
   },
   {
    "duration": 16,
    "start_time": "2022-07-18T13:52:32.867Z"
   },
   {
    "duration": 38,
    "start_time": "2022-07-18T13:52:32.885Z"
   },
   {
    "duration": 17,
    "start_time": "2022-07-18T13:52:32.925Z"
   },
   {
    "duration": 18,
    "start_time": "2022-07-18T13:52:32.944Z"
   },
   {
    "duration": 16,
    "start_time": "2022-07-18T13:52:32.963Z"
   },
   {
    "duration": 53,
    "start_time": "2022-07-18T13:52:32.981Z"
   },
   {
    "duration": 274,
    "start_time": "2022-07-18T13:52:58.783Z"
   },
   {
    "duration": 170,
    "start_time": "2022-07-18T13:53:33.522Z"
   },
   {
    "duration": 2,
    "start_time": "2022-07-18T13:54:37.152Z"
   },
   {
    "duration": 60,
    "start_time": "2022-07-18T13:54:37.165Z"
   },
   {
    "duration": 17,
    "start_time": "2022-07-18T13:54:37.228Z"
   },
   {
    "duration": 17,
    "start_time": "2022-07-18T13:54:37.247Z"
   },
   {
    "duration": 3,
    "start_time": "2022-07-18T13:54:37.266Z"
   },
   {
    "duration": 44,
    "start_time": "2022-07-18T13:54:37.272Z"
   },
   {
    "duration": 11,
    "start_time": "2022-07-18T13:54:37.322Z"
   },
   {
    "duration": 11,
    "start_time": "2022-07-18T13:54:37.335Z"
   },
   {
    "duration": 6,
    "start_time": "2022-07-18T13:54:37.348Z"
   },
   {
    "duration": 9,
    "start_time": "2022-07-18T13:54:37.356Z"
   },
   {
    "duration": 10,
    "start_time": "2022-07-18T13:54:37.366Z"
   },
   {
    "duration": 12,
    "start_time": "2022-07-18T13:54:37.378Z"
   },
   {
    "duration": 38,
    "start_time": "2022-07-18T13:54:37.393Z"
   },
   {
    "duration": 28,
    "start_time": "2022-07-18T13:54:37.434Z"
   },
   {
    "duration": 8,
    "start_time": "2022-07-18T13:54:37.464Z"
   },
   {
    "duration": 12,
    "start_time": "2022-07-18T13:54:37.475Z"
   },
   {
    "duration": 245,
    "start_time": "2022-07-18T13:54:37.489Z"
   },
   {
    "duration": 364,
    "start_time": "2022-07-18T13:54:37.736Z"
   },
   {
    "duration": 26,
    "start_time": "2022-07-18T13:54:38.102Z"
   },
   {
    "duration": 302,
    "start_time": "2022-07-18T13:54:38.131Z"
   },
   {
    "duration": 6,
    "start_time": "2022-07-18T13:54:38.435Z"
   },
   {
    "duration": 290,
    "start_time": "2022-07-18T13:54:38.444Z"
   },
   {
    "duration": 213,
    "start_time": "2022-07-18T13:54:38.736Z"
   },
   {
    "duration": 9,
    "start_time": "2022-07-18T13:54:38.950Z"
   },
   {
    "duration": 174,
    "start_time": "2022-07-18T13:54:38.960Z"
   },
   {
    "duration": 6,
    "start_time": "2022-07-18T13:54:39.136Z"
   },
   {
    "duration": 173,
    "start_time": "2022-07-18T13:54:39.143Z"
   },
   {
    "duration": 6,
    "start_time": "2022-07-18T13:54:39.322Z"
   },
   {
    "duration": 1848,
    "start_time": "2022-07-18T13:54:39.330Z"
   },
   {
    "duration": 14,
    "start_time": "2022-07-18T13:54:41.180Z"
   },
   {
    "duration": 182,
    "start_time": "2022-07-18T13:54:41.196Z"
   },
   {
    "duration": 176,
    "start_time": "2022-07-18T13:54:41.380Z"
   },
   {
    "duration": 178,
    "start_time": "2022-07-18T13:54:41.557Z"
   },
   {
    "duration": 189,
    "start_time": "2022-07-18T13:54:41.736Z"
   },
   {
    "duration": 20,
    "start_time": "2022-07-18T13:54:41.927Z"
   },
   {
    "duration": 25,
    "start_time": "2022-07-18T13:54:41.949Z"
   },
   {
    "duration": 18,
    "start_time": "2022-07-18T13:54:41.976Z"
   },
   {
    "duration": 41,
    "start_time": "2022-07-18T13:54:41.996Z"
   },
   {
    "duration": 20,
    "start_time": "2022-07-18T13:54:42.039Z"
   },
   {
    "duration": 163,
    "start_time": "2022-07-18T13:55:40.888Z"
   },
   {
    "duration": 176,
    "start_time": "2022-07-18T13:56:12.223Z"
   },
   {
    "duration": 275,
    "start_time": "2022-07-18T13:56:44.345Z"
   },
   {
    "duration": 161,
    "start_time": "2022-07-18T13:57:05.417Z"
   },
   {
    "duration": 157,
    "start_time": "2022-07-18T13:58:12.297Z"
   },
   {
    "duration": 152,
    "start_time": "2022-07-18T13:58:33.073Z"
   },
   {
    "duration": 5,
    "start_time": "2022-07-18T14:21:34.285Z"
   },
   {
    "duration": 7,
    "start_time": "2022-07-18T14:21:49.666Z"
   },
   {
    "duration": 6,
    "start_time": "2022-07-18T14:22:23.442Z"
   },
   {
    "duration": 7,
    "start_time": "2022-07-18T14:22:37.776Z"
   },
   {
    "duration": 8,
    "start_time": "2022-07-18T14:23:04.507Z"
   },
   {
    "duration": 10,
    "start_time": "2022-07-18T14:24:28.183Z"
   },
   {
    "duration": 3,
    "start_time": "2022-07-18T14:25:04.652Z"
   },
   {
    "duration": 2,
    "start_time": "2022-07-18T14:25:07.207Z"
   },
   {
    "duration": 55,
    "start_time": "2022-07-18T14:25:07.212Z"
   },
   {
    "duration": 17,
    "start_time": "2022-07-18T14:25:07.269Z"
   },
   {
    "duration": 30,
    "start_time": "2022-07-18T14:25:07.288Z"
   },
   {
    "duration": 3,
    "start_time": "2022-07-18T14:25:07.321Z"
   },
   {
    "duration": 22,
    "start_time": "2022-07-18T14:25:07.326Z"
   },
   {
    "duration": 17,
    "start_time": "2022-07-18T14:25:07.350Z"
   },
   {
    "duration": 9,
    "start_time": "2022-07-18T14:25:07.369Z"
   },
   {
    "duration": 30,
    "start_time": "2022-07-18T14:25:07.380Z"
   },
   {
    "duration": 6,
    "start_time": "2022-07-18T14:25:07.412Z"
   },
   {
    "duration": 11,
    "start_time": "2022-07-18T14:25:07.419Z"
   },
   {
    "duration": 9,
    "start_time": "2022-07-18T14:25:07.432Z"
   },
   {
    "duration": 13,
    "start_time": "2022-07-18T14:25:07.443Z"
   },
   {
    "duration": 22,
    "start_time": "2022-07-18T14:25:07.459Z"
   },
   {
    "duration": 34,
    "start_time": "2022-07-18T14:25:07.482Z"
   },
   {
    "duration": 8,
    "start_time": "2022-07-18T14:25:07.518Z"
   },
   {
    "duration": 212,
    "start_time": "2022-07-18T14:25:07.528Z"
   },
   {
    "duration": 348,
    "start_time": "2022-07-18T14:25:07.742Z"
   },
   {
    "duration": 23,
    "start_time": "2022-07-18T14:25:08.092Z"
   },
   {
    "duration": 277,
    "start_time": "2022-07-18T14:25:08.117Z"
   },
   {
    "duration": 16,
    "start_time": "2022-07-18T14:25:08.395Z"
   },
   {
    "duration": 267,
    "start_time": "2022-07-18T14:25:08.412Z"
   },
   {
    "duration": 206,
    "start_time": "2022-07-18T14:25:08.681Z"
   },
   {
    "duration": 9,
    "start_time": "2022-07-18T14:25:08.889Z"
   },
   {
    "duration": 165,
    "start_time": "2022-07-18T14:25:08.911Z"
   },
   {
    "duration": 5,
    "start_time": "2022-07-18T14:25:09.078Z"
   },
   {
    "duration": 264,
    "start_time": "2022-07-18T14:25:09.085Z"
   },
   {
    "duration": 5,
    "start_time": "2022-07-18T14:25:09.351Z"
   },
   {
    "duration": 1611,
    "start_time": "2022-07-18T14:25:09.357Z"
   },
   {
    "duration": 16,
    "start_time": "2022-07-18T14:25:10.970Z"
   },
   {
    "duration": 169,
    "start_time": "2022-07-18T14:25:10.987Z"
   },
   {
    "duration": 165,
    "start_time": "2022-07-18T14:25:11.158Z"
   },
   {
    "duration": 185,
    "start_time": "2022-07-18T14:25:11.325Z"
   },
   {
    "duration": 159,
    "start_time": "2022-07-18T14:25:11.512Z"
   },
   {
    "duration": 324,
    "start_time": "2022-07-18T14:25:11.672Z"
   },
   {
    "duration": 175,
    "start_time": "2022-07-18T14:25:11.999Z"
   },
   {
    "duration": 163,
    "start_time": "2022-07-18T14:25:12.176Z"
   },
   {
    "duration": 171,
    "start_time": "2022-07-18T14:25:12.341Z"
   },
   {
    "duration": 157,
    "start_time": "2022-07-18T14:25:12.514Z"
   },
   {
    "duration": 7,
    "start_time": "2022-07-18T14:25:12.673Z"
   },
   {
    "duration": 38,
    "start_time": "2022-07-18T14:25:12.683Z"
   },
   {
    "duration": 29,
    "start_time": "2022-07-18T14:25:12.723Z"
   },
   {
    "duration": 6,
    "start_time": "2022-07-18T14:25:19.067Z"
   },
   {
    "duration": 6,
    "start_time": "2022-07-18T14:25:22.862Z"
   },
   {
    "duration": 4,
    "start_time": "2022-07-18T14:25:34.076Z"
   },
   {
    "duration": 4,
    "start_time": "2022-07-18T14:25:37.171Z"
   },
   {
    "duration": 53,
    "start_time": "2022-07-18T14:25:37.177Z"
   },
   {
    "duration": 17,
    "start_time": "2022-07-18T14:25:37.232Z"
   },
   {
    "duration": 22,
    "start_time": "2022-07-18T14:25:37.251Z"
   },
   {
    "duration": 3,
    "start_time": "2022-07-18T14:25:37.275Z"
   },
   {
    "duration": 38,
    "start_time": "2022-07-18T14:25:37.280Z"
   },
   {
    "duration": 21,
    "start_time": "2022-07-18T14:25:37.320Z"
   },
   {
    "duration": 9,
    "start_time": "2022-07-18T14:25:37.343Z"
   },
   {
    "duration": 6,
    "start_time": "2022-07-18T14:25:37.354Z"
   },
   {
    "duration": 12,
    "start_time": "2022-07-18T14:25:37.362Z"
   },
   {
    "duration": 9,
    "start_time": "2022-07-18T14:25:37.376Z"
   },
   {
    "duration": 24,
    "start_time": "2022-07-18T14:25:37.387Z"
   },
   {
    "duration": 18,
    "start_time": "2022-07-18T14:25:37.415Z"
   },
   {
    "duration": 25,
    "start_time": "2022-07-18T14:25:37.435Z"
   },
   {
    "duration": 10,
    "start_time": "2022-07-18T14:25:37.462Z"
   },
   {
    "duration": 36,
    "start_time": "2022-07-18T14:25:37.474Z"
   },
   {
    "duration": 213,
    "start_time": "2022-07-18T14:25:37.512Z"
   },
   {
    "duration": 357,
    "start_time": "2022-07-18T14:25:37.727Z"
   },
   {
    "duration": 30,
    "start_time": "2022-07-18T14:25:38.086Z"
   },
   {
    "duration": 303,
    "start_time": "2022-07-18T14:25:38.118Z"
   },
   {
    "duration": 7,
    "start_time": "2022-07-18T14:25:38.423Z"
   },
   {
    "duration": 279,
    "start_time": "2022-07-18T14:25:38.432Z"
   },
   {
    "duration": 199,
    "start_time": "2022-07-18T14:25:38.713Z"
   },
   {
    "duration": 9,
    "start_time": "2022-07-18T14:25:38.914Z"
   },
   {
    "duration": 280,
    "start_time": "2022-07-18T14:25:38.926Z"
   },
   {
    "duration": 6,
    "start_time": "2022-07-18T14:25:39.209Z"
   },
   {
    "duration": 166,
    "start_time": "2022-07-18T14:25:39.217Z"
   },
   {
    "duration": 5,
    "start_time": "2022-07-18T14:25:39.384Z"
   },
   {
    "duration": 1611,
    "start_time": "2022-07-18T14:25:39.391Z"
   },
   {
    "duration": 15,
    "start_time": "2022-07-18T14:25:41.010Z"
   },
   {
    "duration": 155,
    "start_time": "2022-07-18T14:25:41.027Z"
   },
   {
    "duration": 154,
    "start_time": "2022-07-18T14:25:41.184Z"
   },
   {
    "duration": 171,
    "start_time": "2022-07-18T14:25:41.340Z"
   },
   {
    "duration": 257,
    "start_time": "2022-07-18T14:25:41.512Z"
   },
   {
    "duration": 204,
    "start_time": "2022-07-18T14:25:41.770Z"
   },
   {
    "duration": 187,
    "start_time": "2022-07-18T14:25:41.976Z"
   },
   {
    "duration": 162,
    "start_time": "2022-07-18T14:25:42.166Z"
   },
   {
    "duration": 180,
    "start_time": "2022-07-18T14:25:42.330Z"
   },
   {
    "duration": 159,
    "start_time": "2022-07-18T14:25:42.512Z"
   },
   {
    "duration": 7,
    "start_time": "2022-07-18T14:25:42.672Z"
   },
   {
    "duration": 12,
    "start_time": "2022-07-18T14:25:42.680Z"
   },
   {
    "duration": 16,
    "start_time": "2022-07-18T14:25:42.694Z"
   },
   {
    "duration": 5,
    "start_time": "2022-07-18T14:27:17.056Z"
   },
   {
    "duration": 7,
    "start_time": "2022-07-18T14:28:19.868Z"
   },
   {
    "duration": 8,
    "start_time": "2022-07-18T14:28:21.767Z"
   },
   {
    "duration": 6,
    "start_time": "2022-07-18T14:28:23.292Z"
   },
   {
    "duration": 5,
    "start_time": "2022-07-18T14:28:25.348Z"
   },
   {
    "duration": 6,
    "start_time": "2022-07-18T14:28:38.577Z"
   },
   {
    "duration": 8,
    "start_time": "2022-07-18T14:32:32.420Z"
   },
   {
    "duration": 8,
    "start_time": "2022-07-18T14:33:06.761Z"
   },
   {
    "duration": 6,
    "start_time": "2022-07-18T14:33:30.175Z"
   },
   {
    "duration": 7,
    "start_time": "2022-07-18T14:34:15.582Z"
   },
   {
    "duration": 7,
    "start_time": "2022-07-18T14:34:15.820Z"
   },
   {
    "duration": 7,
    "start_time": "2022-07-18T14:34:16.368Z"
   },
   {
    "duration": 7,
    "start_time": "2022-07-18T14:34:18.606Z"
   },
   {
    "duration": 7,
    "start_time": "2022-07-18T14:34:18.893Z"
   },
   {
    "duration": 6,
    "start_time": "2022-07-18T14:34:19.475Z"
   },
   {
    "duration": 91,
    "start_time": "2022-07-18T14:48:54.247Z"
   },
   {
    "duration": 1481,
    "start_time": "2022-07-18T17:53:42.422Z"
   },
   {
    "duration": 180,
    "start_time": "2022-07-18T17:53:43.905Z"
   },
   {
    "duration": 22,
    "start_time": "2022-07-18T17:53:44.087Z"
   },
   {
    "duration": 23,
    "start_time": "2022-07-18T17:53:44.111Z"
   },
   {
    "duration": 4,
    "start_time": "2022-07-18T17:53:44.137Z"
   },
   {
    "duration": 27,
    "start_time": "2022-07-18T17:53:44.143Z"
   },
   {
    "duration": 16,
    "start_time": "2022-07-18T17:53:44.172Z"
   },
   {
    "duration": 37,
    "start_time": "2022-07-18T17:53:44.190Z"
   },
   {
    "duration": 6,
    "start_time": "2022-07-18T17:53:44.230Z"
   },
   {
    "duration": 12,
    "start_time": "2022-07-18T17:53:44.238Z"
   },
   {
    "duration": 7,
    "start_time": "2022-07-18T17:53:44.253Z"
   },
   {
    "duration": 14,
    "start_time": "2022-07-18T17:53:44.262Z"
   },
   {
    "duration": 41,
    "start_time": "2022-07-18T17:53:44.278Z"
   },
   {
    "duration": 26,
    "start_time": "2022-07-18T17:53:44.322Z"
   },
   {
    "duration": 8,
    "start_time": "2022-07-18T17:53:44.350Z"
   },
   {
    "duration": 20,
    "start_time": "2022-07-18T17:53:44.361Z"
   },
   {
    "duration": 260,
    "start_time": "2022-07-18T17:53:44.383Z"
   },
   {
    "duration": 368,
    "start_time": "2022-07-18T17:53:44.644Z"
   },
   {
    "duration": 27,
    "start_time": "2022-07-18T17:53:45.015Z"
   },
   {
    "duration": 335,
    "start_time": "2022-07-18T17:53:45.044Z"
   },
   {
    "duration": 7,
    "start_time": "2022-07-18T17:53:45.382Z"
   },
   {
    "duration": 362,
    "start_time": "2022-07-18T17:53:45.392Z"
   },
   {
    "duration": 218,
    "start_time": "2022-07-18T17:53:45.756Z"
   },
   {
    "duration": 8,
    "start_time": "2022-07-18T17:53:45.975Z"
   },
   {
    "duration": 161,
    "start_time": "2022-07-18T17:53:45.984Z"
   },
   {
    "duration": 6,
    "start_time": "2022-07-18T17:53:46.147Z"
   },
   {
    "duration": 168,
    "start_time": "2022-07-18T17:53:46.155Z"
   },
   {
    "duration": 5,
    "start_time": "2022-07-18T17:53:46.325Z"
   },
   {
    "duration": 1898,
    "start_time": "2022-07-18T17:53:46.333Z"
   },
   {
    "duration": 17,
    "start_time": "2022-07-18T17:53:48.233Z"
   },
   {
    "duration": 175,
    "start_time": "2022-07-18T17:53:48.252Z"
   },
   {
    "duration": 170,
    "start_time": "2022-07-18T17:53:48.429Z"
   },
   {
    "duration": 187,
    "start_time": "2022-07-18T17:53:48.601Z"
   },
   {
    "duration": 160,
    "start_time": "2022-07-18T17:53:48.790Z"
   },
   {
    "duration": 173,
    "start_time": "2022-07-18T17:53:48.952Z"
   },
   {
    "duration": 161,
    "start_time": "2022-07-18T17:53:49.127Z"
   },
   {
    "duration": 259,
    "start_time": "2022-07-18T17:53:49.290Z"
   },
   {
    "duration": 174,
    "start_time": "2022-07-18T17:53:49.552Z"
   },
   {
    "duration": 181,
    "start_time": "2022-07-18T17:53:49.729Z"
   },
   {
    "duration": 9,
    "start_time": "2022-07-18T17:53:49.912Z"
   },
   {
    "duration": 12,
    "start_time": "2022-07-18T17:53:49.925Z"
   },
   {
    "duration": 14,
    "start_time": "2022-07-18T17:53:49.938Z"
   },
   {
    "duration": 11,
    "start_time": "2022-07-18T17:53:49.954Z"
   },
   {
    "duration": 13,
    "start_time": "2022-07-18T17:53:49.967Z"
   },
   {
    "duration": 38,
    "start_time": "2022-07-18T17:53:49.982Z"
   },
   {
    "duration": 91,
    "start_time": "2022-07-18T17:59:01.069Z"
   },
   {
    "duration": 12,
    "start_time": "2022-07-18T18:33:53.425Z"
   },
   {
    "duration": 47,
    "start_time": "2022-07-20T15:29:22.152Z"
   },
   {
    "duration": 1260,
    "start_time": "2022-07-20T15:29:29.026Z"
   },
   {
    "duration": 192,
    "start_time": "2022-07-20T15:29:30.288Z"
   },
   {
    "duration": 18,
    "start_time": "2022-07-20T15:29:30.482Z"
   },
   {
    "duration": 23,
    "start_time": "2022-07-20T15:29:30.502Z"
   },
   {
    "duration": 20,
    "start_time": "2022-07-20T15:29:30.527Z"
   },
   {
    "duration": 42,
    "start_time": "2022-07-20T15:29:30.549Z"
   },
   {
    "duration": 45,
    "start_time": "2022-07-20T15:29:30.592Z"
   },
   {
    "duration": 22,
    "start_time": "2022-07-20T15:29:30.639Z"
   },
   {
    "duration": 5,
    "start_time": "2022-07-20T15:29:30.662Z"
   },
   {
    "duration": 28,
    "start_time": "2022-07-20T15:29:30.668Z"
   },
   {
    "duration": 8,
    "start_time": "2022-07-20T15:29:30.697Z"
   },
   {
    "duration": 16,
    "start_time": "2022-07-20T15:29:30.706Z"
   },
   {
    "duration": 16,
    "start_time": "2022-07-20T15:29:30.723Z"
   },
   {
    "duration": 18,
    "start_time": "2022-07-20T15:29:30.742Z"
   },
   {
    "duration": 6,
    "start_time": "2022-07-20T15:29:30.761Z"
   },
   {
    "duration": 14,
    "start_time": "2022-07-20T15:29:30.769Z"
   },
   {
    "duration": 69,
    "start_time": "2022-07-20T15:29:30.785Z"
   },
   {
    "duration": 4,
    "start_time": "2022-07-20T15:29:30.855Z"
   },
   {
    "duration": 186,
    "start_time": "2022-07-20T15:29:30.861Z"
   },
   {
    "duration": 290,
    "start_time": "2022-07-20T15:29:31.049Z"
   },
   {
    "duration": 23,
    "start_time": "2022-07-20T15:29:31.340Z"
   },
   {
    "duration": 232,
    "start_time": "2022-07-20T15:29:31.365Z"
   },
   {
    "duration": 5,
    "start_time": "2022-07-20T15:29:31.599Z"
   },
   {
    "duration": 246,
    "start_time": "2022-07-20T15:29:31.605Z"
   },
   {
    "duration": 166,
    "start_time": "2022-07-20T15:29:31.853Z"
   },
   {
    "duration": 7,
    "start_time": "2022-07-20T15:29:32.020Z"
   },
   {
    "duration": 135,
    "start_time": "2022-07-20T15:29:32.029Z"
   },
   {
    "duration": 5,
    "start_time": "2022-07-20T15:29:32.165Z"
   },
   {
    "duration": 137,
    "start_time": "2022-07-20T15:29:32.171Z"
   },
   {
    "duration": 4,
    "start_time": "2022-07-20T15:29:32.310Z"
   },
   {
    "duration": 1389,
    "start_time": "2022-07-20T15:29:32.315Z"
   },
   {
    "duration": 13,
    "start_time": "2022-07-20T15:29:33.705Z"
   },
   {
    "duration": 133,
    "start_time": "2022-07-20T15:29:33.719Z"
   },
   {
    "duration": 125,
    "start_time": "2022-07-20T15:29:33.853Z"
   },
   {
    "duration": 145,
    "start_time": "2022-07-20T15:29:33.979Z"
   },
   {
    "duration": 137,
    "start_time": "2022-07-20T15:29:34.127Z"
   },
   {
    "duration": 135,
    "start_time": "2022-07-20T15:29:34.265Z"
   },
   {
    "duration": 137,
    "start_time": "2022-07-20T15:29:34.402Z"
   },
   {
    "duration": 224,
    "start_time": "2022-07-20T15:29:34.541Z"
   },
   {
    "duration": 144,
    "start_time": "2022-07-20T15:29:34.767Z"
   },
   {
    "duration": 140,
    "start_time": "2022-07-20T15:29:34.914Z"
   },
   {
    "duration": 9,
    "start_time": "2022-07-20T15:29:35.055Z"
   },
   {
    "duration": 6,
    "start_time": "2022-07-20T15:29:35.065Z"
   },
   {
    "duration": 9,
    "start_time": "2022-07-20T15:29:35.072Z"
   },
   {
    "duration": 15,
    "start_time": "2022-07-20T15:29:35.082Z"
   },
   {
    "duration": 15,
    "start_time": "2022-07-20T15:29:35.098Z"
   },
   {
    "duration": 8,
    "start_time": "2022-07-20T15:29:35.114Z"
   },
   {
    "duration": 9,
    "start_time": "2022-07-20T15:29:35.123Z"
   },
   {
    "duration": 4,
    "start_time": "2022-07-20T15:31:46.505Z"
   },
   {
    "duration": 5,
    "start_time": "2022-07-20T15:33:03.254Z"
   },
   {
    "duration": 239,
    "start_time": "2022-07-20T15:34:03.055Z"
   },
   {
    "duration": 175,
    "start_time": "2022-07-20T15:34:13.654Z"
   },
   {
    "duration": 279,
    "start_time": "2022-07-20T15:36:11.205Z"
   },
   {
    "duration": 16,
    "start_time": "2022-07-20T15:36:26.697Z"
   },
   {
    "duration": 236,
    "start_time": "2022-07-20T15:36:30.586Z"
   },
   {
    "duration": 6,
    "start_time": "2022-07-20T15:36:40.993Z"
   },
   {
    "duration": 227,
    "start_time": "2022-07-20T15:36:52.038Z"
   },
   {
    "duration": 4,
    "start_time": "2022-07-20T15:39:58.885Z"
   },
   {
    "duration": 8,
    "start_time": "2022-07-20T15:42:03.553Z"
   },
   {
    "duration": 9,
    "start_time": "2022-07-20T15:43:09.400Z"
   },
   {
    "duration": 171,
    "start_time": "2022-07-20T15:43:10.017Z"
   },
   {
    "duration": 9,
    "start_time": "2022-07-20T15:43:13.797Z"
   },
   {
    "duration": 26,
    "start_time": "2022-07-20T15:43:20.026Z"
   },
   {
    "duration": 25,
    "start_time": "2022-07-20T15:43:47.511Z"
   },
   {
    "duration": 174,
    "start_time": "2022-07-20T15:43:47.769Z"
   },
   {
    "duration": 330,
    "start_time": "2022-07-20T15:44:10.816Z"
   },
   {
    "duration": 268,
    "start_time": "2022-07-20T15:51:18.175Z"
   },
   {
    "duration": 185,
    "start_time": "2022-07-20T15:53:40.631Z"
   },
   {
    "duration": 219,
    "start_time": "2022-07-20T15:55:09.168Z"
   },
   {
    "duration": 218,
    "start_time": "2022-07-20T15:55:36.913Z"
   },
   {
    "duration": 214,
    "start_time": "2022-07-20T15:55:45.467Z"
   },
   {
    "duration": 229,
    "start_time": "2022-07-20T15:55:52.069Z"
   },
   {
    "duration": 223,
    "start_time": "2022-07-20T15:55:57.464Z"
   },
   {
    "duration": 243,
    "start_time": "2022-07-20T15:56:08.411Z"
   },
   {
    "duration": 298,
    "start_time": "2022-07-20T16:16:23.323Z"
   },
   {
    "duration": 258,
    "start_time": "2022-07-20T16:16:35.161Z"
   },
   {
    "duration": 19,
    "start_time": "2022-07-20T16:27:48.861Z"
   },
   {
    "duration": 13,
    "start_time": "2022-07-20T16:29:12.810Z"
   },
   {
    "duration": 23,
    "start_time": "2022-07-20T16:29:21.155Z"
   },
   {
    "duration": 16,
    "start_time": "2022-07-20T16:29:34.567Z"
   },
   {
    "duration": 3,
    "start_time": "2022-07-20T16:29:47.127Z"
   },
   {
    "duration": 55,
    "start_time": "2022-07-20T16:29:47.132Z"
   },
   {
    "duration": 14,
    "start_time": "2022-07-20T16:29:47.188Z"
   },
   {
    "duration": 20,
    "start_time": "2022-07-20T16:29:47.204Z"
   },
   {
    "duration": 3,
    "start_time": "2022-07-20T16:29:47.226Z"
   },
   {
    "duration": 35,
    "start_time": "2022-07-20T16:29:47.231Z"
   },
   {
    "duration": 9,
    "start_time": "2022-07-20T16:29:47.268Z"
   },
   {
    "duration": 8,
    "start_time": "2022-07-20T16:29:47.278Z"
   },
   {
    "duration": 5,
    "start_time": "2022-07-20T16:29:47.288Z"
   },
   {
    "duration": 6,
    "start_time": "2022-07-20T16:29:47.295Z"
   },
   {
    "duration": 3,
    "start_time": "2022-07-20T16:29:47.302Z"
   },
   {
    "duration": 10,
    "start_time": "2022-07-20T16:29:47.306Z"
   },
   {
    "duration": 49,
    "start_time": "2022-07-20T16:29:47.317Z"
   },
   {
    "duration": 19,
    "start_time": "2022-07-20T16:29:47.369Z"
   },
   {
    "duration": 10,
    "start_time": "2022-07-20T16:29:47.391Z"
   },
   {
    "duration": 7,
    "start_time": "2022-07-20T16:29:47.403Z"
   },
   {
    "duration": 89,
    "start_time": "2022-07-20T16:29:47.412Z"
   },
   {
    "duration": 4,
    "start_time": "2022-07-20T16:29:47.502Z"
   },
   {
    "duration": 214,
    "start_time": "2022-07-20T16:29:47.508Z"
   },
   {
    "duration": 321,
    "start_time": "2022-07-20T16:29:47.724Z"
   },
   {
    "duration": 28,
    "start_time": "2022-07-20T16:29:48.046Z"
   },
   {
    "duration": 265,
    "start_time": "2022-07-20T16:29:48.076Z"
   },
   {
    "duration": 9,
    "start_time": "2022-07-20T16:29:48.343Z"
   },
   {
    "duration": 253,
    "start_time": "2022-07-20T16:29:48.354Z"
   },
   {
    "duration": 55,
    "start_time": "2022-07-20T16:29:48.609Z"
   },
   {
    "duration": 257,
    "start_time": "2022-07-20T16:29:48.666Z"
   },
   {
    "duration": 397,
    "start_time": "2022-07-20T16:29:48.924Z"
   },
   {
    "duration": 6,
    "start_time": "2022-07-20T16:29:49.323Z"
   },
   {
    "duration": 183,
    "start_time": "2022-07-20T16:29:49.330Z"
   },
   {
    "duration": 5,
    "start_time": "2022-07-20T16:29:49.516Z"
   },
   {
    "duration": 173,
    "start_time": "2022-07-20T16:29:49.522Z"
   },
   {
    "duration": 6,
    "start_time": "2022-07-20T16:29:49.697Z"
   },
   {
    "duration": 3009,
    "start_time": "2022-07-20T16:29:49.704Z"
   },
   {
    "duration": 13,
    "start_time": "2022-07-20T16:29:52.715Z"
   },
   {
    "duration": 34,
    "start_time": "2022-07-20T16:29:52.730Z"
   },
   {
    "duration": 0,
    "start_time": "2022-07-20T16:29:52.767Z"
   },
   {
    "duration": 0,
    "start_time": "2022-07-20T16:29:52.768Z"
   },
   {
    "duration": 0,
    "start_time": "2022-07-20T16:29:52.772Z"
   },
   {
    "duration": 0,
    "start_time": "2022-07-20T16:29:52.774Z"
   },
   {
    "duration": 0,
    "start_time": "2022-07-20T16:29:52.776Z"
   },
   {
    "duration": 0,
    "start_time": "2022-07-20T16:29:52.777Z"
   },
   {
    "duration": 0,
    "start_time": "2022-07-20T16:29:52.778Z"
   },
   {
    "duration": 0,
    "start_time": "2022-07-20T16:29:52.779Z"
   },
   {
    "duration": 0,
    "start_time": "2022-07-20T16:29:52.780Z"
   },
   {
    "duration": 0,
    "start_time": "2022-07-20T16:29:52.781Z"
   },
   {
    "duration": 0,
    "start_time": "2022-07-20T16:29:52.782Z"
   },
   {
    "duration": 0,
    "start_time": "2022-07-20T16:29:52.783Z"
   },
   {
    "duration": 0,
    "start_time": "2022-07-20T16:29:52.784Z"
   },
   {
    "duration": 0,
    "start_time": "2022-07-20T16:29:52.785Z"
   },
   {
    "duration": 0,
    "start_time": "2022-07-20T16:29:52.786Z"
   },
   {
    "duration": 0,
    "start_time": "2022-07-20T16:29:52.787Z"
   },
   {
    "duration": 13,
    "start_time": "2022-07-20T16:31:38.082Z"
   },
   {
    "duration": 114,
    "start_time": "2022-07-20T16:31:47.323Z"
   },
   {
    "duration": 18,
    "start_time": "2022-07-20T16:32:06.254Z"
   },
   {
    "duration": 14,
    "start_time": "2022-07-20T16:34:01.580Z"
   },
   {
    "duration": 14,
    "start_time": "2022-07-20T16:34:13.776Z"
   },
   {
    "duration": 20,
    "start_time": "2022-07-20T16:34:56.215Z"
   },
   {
    "duration": 19,
    "start_time": "2022-07-20T16:35:04.309Z"
   },
   {
    "duration": 13,
    "start_time": "2022-07-20T16:36:12.079Z"
   },
   {
    "duration": 11,
    "start_time": "2022-07-20T16:36:43.470Z"
   },
   {
    "duration": 13,
    "start_time": "2022-07-20T16:36:47.284Z"
   },
   {
    "duration": 6,
    "start_time": "2022-07-20T16:37:51.424Z"
   },
   {
    "duration": 15,
    "start_time": "2022-07-20T16:37:53.151Z"
   },
   {
    "duration": 14,
    "start_time": "2022-07-20T16:38:01.675Z"
   },
   {
    "duration": 13,
    "start_time": "2022-07-20T16:38:09.224Z"
   },
   {
    "duration": 14,
    "start_time": "2022-07-20T16:39:44.826Z"
   },
   {
    "duration": 13,
    "start_time": "2022-07-20T16:40:13.290Z"
   },
   {
    "duration": 14,
    "start_time": "2022-07-20T16:40:23.508Z"
   },
   {
    "duration": 13,
    "start_time": "2022-07-20T16:40:53.720Z"
   },
   {
    "duration": 14,
    "start_time": "2022-07-20T16:41:49.706Z"
   },
   {
    "duration": 13,
    "start_time": "2022-07-20T16:42:11.588Z"
   },
   {
    "duration": 13,
    "start_time": "2022-07-20T16:42:34.958Z"
   },
   {
    "duration": 3,
    "start_time": "2022-07-20T16:42:44.407Z"
   },
   {
    "duration": 49,
    "start_time": "2022-07-20T16:42:44.412Z"
   },
   {
    "duration": 14,
    "start_time": "2022-07-20T16:42:44.463Z"
   },
   {
    "duration": 14,
    "start_time": "2022-07-20T16:42:44.478Z"
   },
   {
    "duration": 2,
    "start_time": "2022-07-20T16:42:44.494Z"
   },
   {
    "duration": 18,
    "start_time": "2022-07-20T16:42:44.497Z"
   },
   {
    "duration": 12,
    "start_time": "2022-07-20T16:42:44.516Z"
   },
   {
    "duration": 30,
    "start_time": "2022-07-20T16:42:44.529Z"
   },
   {
    "duration": 10,
    "start_time": "2022-07-20T16:42:44.561Z"
   },
   {
    "duration": 6,
    "start_time": "2022-07-20T16:42:44.573Z"
   },
   {
    "duration": 5,
    "start_time": "2022-07-20T16:42:44.581Z"
   },
   {
    "duration": 8,
    "start_time": "2022-07-20T16:42:44.588Z"
   },
   {
    "duration": 109,
    "start_time": "2022-07-20T16:42:44.598Z"
   },
   {
    "duration": 19,
    "start_time": "2022-07-20T16:42:44.710Z"
   },
   {
    "duration": 22,
    "start_time": "2022-07-20T16:42:44.731Z"
   },
   {
    "duration": 7,
    "start_time": "2022-07-20T16:42:44.754Z"
   },
   {
    "duration": 62,
    "start_time": "2022-07-20T16:42:44.763Z"
   },
   {
    "duration": 3,
    "start_time": "2022-07-20T16:42:44.827Z"
   },
   {
    "duration": 189,
    "start_time": "2022-07-20T16:42:44.832Z"
   },
   {
    "duration": 301,
    "start_time": "2022-07-20T16:42:45.023Z"
   },
   {
    "duration": 16,
    "start_time": "2022-07-20T16:42:45.325Z"
   },
   {
    "duration": 228,
    "start_time": "2022-07-20T16:42:45.343Z"
   },
   {
    "duration": 4,
    "start_time": "2022-07-20T16:42:45.573Z"
   },
   {
    "duration": 234,
    "start_time": "2022-07-20T16:42:45.578Z"
   },
   {
    "duration": 25,
    "start_time": "2022-07-20T16:42:45.813Z"
   },
   {
    "duration": 254,
    "start_time": "2022-07-20T16:42:45.839Z"
   },
   {
    "duration": 285,
    "start_time": "2022-07-20T16:42:46.094Z"
   },
   {
    "duration": 6,
    "start_time": "2022-07-20T16:42:46.381Z"
   },
   {
    "duration": 129,
    "start_time": "2022-07-20T16:42:46.389Z"
   },
   {
    "duration": 5,
    "start_time": "2022-07-20T16:42:46.520Z"
   },
   {
    "duration": 128,
    "start_time": "2022-07-20T16:42:46.526Z"
   },
   {
    "duration": 4,
    "start_time": "2022-07-20T16:42:46.655Z"
   },
   {
    "duration": 1446,
    "start_time": "2022-07-20T16:42:46.660Z"
   },
   {
    "duration": 15,
    "start_time": "2022-07-20T16:42:48.108Z"
   },
   {
    "duration": 36,
    "start_time": "2022-07-20T16:42:48.124Z"
   },
   {
    "duration": 0,
    "start_time": "2022-07-20T16:42:48.163Z"
   },
   {
    "duration": 0,
    "start_time": "2022-07-20T16:42:48.164Z"
   },
   {
    "duration": 0,
    "start_time": "2022-07-20T16:42:48.166Z"
   },
   {
    "duration": 0,
    "start_time": "2022-07-20T16:42:48.168Z"
   },
   {
    "duration": 0,
    "start_time": "2022-07-20T16:42:48.169Z"
   },
   {
    "duration": 0,
    "start_time": "2022-07-20T16:42:48.170Z"
   },
   {
    "duration": 0,
    "start_time": "2022-07-20T16:42:48.172Z"
   },
   {
    "duration": 0,
    "start_time": "2022-07-20T16:42:48.173Z"
   },
   {
    "duration": 0,
    "start_time": "2022-07-20T16:42:48.174Z"
   },
   {
    "duration": 0,
    "start_time": "2022-07-20T16:42:48.176Z"
   },
   {
    "duration": 0,
    "start_time": "2022-07-20T16:42:48.177Z"
   },
   {
    "duration": 0,
    "start_time": "2022-07-20T16:42:48.178Z"
   },
   {
    "duration": 0,
    "start_time": "2022-07-20T16:42:48.179Z"
   },
   {
    "duration": 0,
    "start_time": "2022-07-20T16:42:48.180Z"
   },
   {
    "duration": 0,
    "start_time": "2022-07-20T16:42:48.181Z"
   },
   {
    "duration": 0,
    "start_time": "2022-07-20T16:42:48.182Z"
   },
   {
    "duration": 3,
    "start_time": "2022-07-20T16:43:05.776Z"
   },
   {
    "duration": 52,
    "start_time": "2022-07-20T16:43:05.781Z"
   },
   {
    "duration": 15,
    "start_time": "2022-07-20T16:43:05.835Z"
   },
   {
    "duration": 16,
    "start_time": "2022-07-20T16:43:05.852Z"
   },
   {
    "duration": 4,
    "start_time": "2022-07-20T16:43:05.870Z"
   },
   {
    "duration": 35,
    "start_time": "2022-07-20T16:43:05.875Z"
   },
   {
    "duration": 10,
    "start_time": "2022-07-20T16:43:05.911Z"
   },
   {
    "duration": 8,
    "start_time": "2022-07-20T16:43:05.922Z"
   },
   {
    "duration": 7,
    "start_time": "2022-07-20T16:43:05.931Z"
   },
   {
    "duration": 8,
    "start_time": "2022-07-20T16:43:05.939Z"
   },
   {
    "duration": 4,
    "start_time": "2022-07-20T16:43:05.951Z"
   },
   {
    "duration": 9,
    "start_time": "2022-07-20T16:43:05.956Z"
   },
   {
    "duration": 12,
    "start_time": "2022-07-20T16:43:05.966Z"
   },
   {
    "duration": 19,
    "start_time": "2022-07-20T16:43:05.980Z"
   },
   {
    "duration": 8,
    "start_time": "2022-07-20T16:43:06.001Z"
   },
   {
    "duration": 13,
    "start_time": "2022-07-20T16:43:06.011Z"
   },
   {
    "duration": 105,
    "start_time": "2022-07-20T16:43:06.025Z"
   },
   {
    "duration": 21,
    "start_time": "2022-07-20T16:43:06.132Z"
   },
   {
    "duration": 194,
    "start_time": "2022-07-20T16:43:06.155Z"
   },
   {
    "duration": 277,
    "start_time": "2022-07-20T16:43:06.350Z"
   },
   {
    "duration": 24,
    "start_time": "2022-07-20T16:43:06.629Z"
   },
   {
    "duration": 236,
    "start_time": "2022-07-20T16:43:06.654Z"
   },
   {
    "duration": 4,
    "start_time": "2022-07-20T16:43:06.891Z"
   },
   {
    "duration": 316,
    "start_time": "2022-07-20T16:43:06.896Z"
   },
   {
    "duration": 25,
    "start_time": "2022-07-20T16:43:07.214Z"
   },
   {
    "duration": 228,
    "start_time": "2022-07-20T16:43:07.251Z"
   },
   {
    "duration": 243,
    "start_time": "2022-07-20T16:43:07.481Z"
   },
   {
    "duration": 7,
    "start_time": "2022-07-20T16:43:07.725Z"
   },
   {
    "duration": 135,
    "start_time": "2022-07-20T16:43:07.733Z"
   },
   {
    "duration": 5,
    "start_time": "2022-07-20T16:43:07.870Z"
   },
   {
    "duration": 135,
    "start_time": "2022-07-20T16:43:07.877Z"
   },
   {
    "duration": 4,
    "start_time": "2022-07-20T16:43:08.014Z"
   },
   {
    "duration": 1474,
    "start_time": "2022-07-20T16:43:08.020Z"
   },
   {
    "duration": 13,
    "start_time": "2022-07-20T16:43:09.495Z"
   },
   {
    "duration": 16,
    "start_time": "2022-07-20T16:43:09.509Z"
   },
   {
    "duration": 0,
    "start_time": "2022-07-20T16:43:09.526Z"
   },
   {
    "duration": 0,
    "start_time": "2022-07-20T16:43:09.527Z"
   },
   {
    "duration": 0,
    "start_time": "2022-07-20T16:43:09.529Z"
   },
   {
    "duration": 0,
    "start_time": "2022-07-20T16:43:09.530Z"
   },
   {
    "duration": 0,
    "start_time": "2022-07-20T16:43:09.552Z"
   },
   {
    "duration": 0,
    "start_time": "2022-07-20T16:43:09.554Z"
   },
   {
    "duration": 0,
    "start_time": "2022-07-20T16:43:09.555Z"
   },
   {
    "duration": 0,
    "start_time": "2022-07-20T16:43:09.556Z"
   },
   {
    "duration": 0,
    "start_time": "2022-07-20T16:43:09.557Z"
   },
   {
    "duration": 0,
    "start_time": "2022-07-20T16:43:09.558Z"
   },
   {
    "duration": 0,
    "start_time": "2022-07-20T16:43:09.559Z"
   },
   {
    "duration": 0,
    "start_time": "2022-07-20T16:43:09.560Z"
   },
   {
    "duration": 0,
    "start_time": "2022-07-20T16:43:09.561Z"
   },
   {
    "duration": 0,
    "start_time": "2022-07-20T16:43:09.562Z"
   },
   {
    "duration": 0,
    "start_time": "2022-07-20T16:43:09.563Z"
   },
   {
    "duration": 0,
    "start_time": "2022-07-20T16:43:09.563Z"
   },
   {
    "duration": 129,
    "start_time": "2022-07-20T16:43:14.988Z"
   },
   {
    "duration": 134,
    "start_time": "2022-07-20T16:43:22.046Z"
   },
   {
    "duration": 3,
    "start_time": "2022-07-20T18:27:10.135Z"
   },
   {
    "duration": 74,
    "start_time": "2022-07-20T18:27:10.140Z"
   },
   {
    "duration": 15,
    "start_time": "2022-07-20T18:27:10.216Z"
   },
   {
    "duration": 25,
    "start_time": "2022-07-20T18:27:10.232Z"
   },
   {
    "duration": 34,
    "start_time": "2022-07-20T18:27:10.261Z"
   },
   {
    "duration": 20,
    "start_time": "2022-07-20T18:27:10.296Z"
   },
   {
    "duration": 22,
    "start_time": "2022-07-20T18:27:10.317Z"
   },
   {
    "duration": 17,
    "start_time": "2022-07-20T18:27:10.340Z"
   },
   {
    "duration": 30,
    "start_time": "2022-07-20T18:27:10.359Z"
   },
   {
    "duration": 9,
    "start_time": "2022-07-20T18:27:10.391Z"
   },
   {
    "duration": 30,
    "start_time": "2022-07-20T18:27:10.402Z"
   },
   {
    "duration": 14,
    "start_time": "2022-07-20T18:27:10.434Z"
   },
   {
    "duration": 56,
    "start_time": "2022-07-20T18:27:10.450Z"
   },
   {
    "duration": 24,
    "start_time": "2022-07-20T18:27:10.509Z"
   },
   {
    "duration": 12,
    "start_time": "2022-07-20T18:27:10.535Z"
   },
   {
    "duration": 76,
    "start_time": "2022-07-20T18:27:10.549Z"
   },
   {
    "duration": 89,
    "start_time": "2022-07-20T18:27:10.627Z"
   },
   {
    "duration": 5,
    "start_time": "2022-07-20T18:27:10.717Z"
   },
   {
    "duration": 224,
    "start_time": "2022-07-20T18:27:10.723Z"
   },
   {
    "duration": 353,
    "start_time": "2022-07-20T18:27:10.948Z"
   },
   {
    "duration": 18,
    "start_time": "2022-07-20T18:27:11.303Z"
   },
   {
    "duration": 286,
    "start_time": "2022-07-20T18:27:11.323Z"
   },
   {
    "duration": 4,
    "start_time": "2022-07-20T18:27:11.610Z"
   },
   {
    "duration": 296,
    "start_time": "2022-07-20T18:27:11.615Z"
   },
   {
    "duration": 24,
    "start_time": "2022-07-20T18:27:11.913Z"
   },
   {
    "duration": 388,
    "start_time": "2022-07-20T18:27:11.938Z"
   },
   {
    "duration": 305,
    "start_time": "2022-07-20T18:27:12.328Z"
   },
   {
    "duration": 7,
    "start_time": "2022-07-20T18:27:12.635Z"
   },
   {
    "duration": 184,
    "start_time": "2022-07-20T18:27:12.662Z"
   },
   {
    "duration": 18,
    "start_time": "2022-07-20T18:27:12.847Z"
   },
   {
    "duration": 163,
    "start_time": "2022-07-20T18:27:12.885Z"
   },
   {
    "duration": 16,
    "start_time": "2022-07-20T18:27:13.050Z"
   },
   {
    "duration": 1708,
    "start_time": "2022-07-20T18:27:13.068Z"
   },
   {
    "duration": 21,
    "start_time": "2022-07-20T18:27:14.778Z"
   },
   {
    "duration": 19,
    "start_time": "2022-07-20T18:27:14.801Z"
   },
   {
    "duration": 0,
    "start_time": "2022-07-20T18:27:14.822Z"
   },
   {
    "duration": 0,
    "start_time": "2022-07-20T18:27:14.823Z"
   },
   {
    "duration": 0,
    "start_time": "2022-07-20T18:27:14.830Z"
   },
   {
    "duration": 0,
    "start_time": "2022-07-20T18:27:14.831Z"
   },
   {
    "duration": 0,
    "start_time": "2022-07-20T18:27:14.832Z"
   },
   {
    "duration": 0,
    "start_time": "2022-07-20T18:27:14.852Z"
   },
   {
    "duration": 0,
    "start_time": "2022-07-20T18:27:14.853Z"
   },
   {
    "duration": 0,
    "start_time": "2022-07-20T18:27:14.854Z"
   },
   {
    "duration": 0,
    "start_time": "2022-07-20T18:27:14.855Z"
   },
   {
    "duration": 0,
    "start_time": "2022-07-20T18:27:14.855Z"
   },
   {
    "duration": 0,
    "start_time": "2022-07-20T18:27:14.856Z"
   },
   {
    "duration": 0,
    "start_time": "2022-07-20T18:27:14.858Z"
   },
   {
    "duration": 0,
    "start_time": "2022-07-20T18:27:14.859Z"
   },
   {
    "duration": 0,
    "start_time": "2022-07-20T18:27:14.860Z"
   },
   {
    "duration": 0,
    "start_time": "2022-07-20T18:27:14.861Z"
   },
   {
    "duration": 0,
    "start_time": "2022-07-20T18:27:14.873Z"
   },
   {
    "duration": 253,
    "start_time": "2022-07-20T18:29:23.870Z"
   },
   {
    "duration": 140,
    "start_time": "2022-07-20T18:29:27.343Z"
   },
   {
    "duration": 136,
    "start_time": "2022-07-20T18:29:36.604Z"
   },
   {
    "duration": 151,
    "start_time": "2022-07-20T18:31:14.188Z"
   },
   {
    "duration": 154,
    "start_time": "2022-07-20T18:31:16.437Z"
   },
   {
    "duration": 164,
    "start_time": "2022-07-20T18:31:18.805Z"
   },
   {
    "duration": 164,
    "start_time": "2022-07-20T18:32:02.148Z"
   },
   {
    "duration": 200,
    "start_time": "2022-07-20T18:32:05.971Z"
   },
   {
    "duration": 180,
    "start_time": "2022-07-20T18:32:08.975Z"
   },
   {
    "duration": 156,
    "start_time": "2022-07-20T18:32:52.094Z"
   },
   {
    "duration": 171,
    "start_time": "2022-07-20T18:32:54.698Z"
   },
   {
    "duration": 236,
    "start_time": "2022-07-20T18:33:05.383Z"
   },
   {
    "duration": 9,
    "start_time": "2022-07-20T18:33:14.596Z"
   },
   {
    "duration": 165,
    "start_time": "2022-07-20T18:40:34.485Z"
   },
   {
    "duration": 124,
    "start_time": "2022-07-20T18:42:20.800Z"
   },
   {
    "duration": 107,
    "start_time": "2022-07-20T18:42:33.871Z"
   },
   {
    "duration": 126,
    "start_time": "2022-07-20T18:42:39.199Z"
   },
   {
    "duration": 3,
    "start_time": "2022-07-20T18:42:53.243Z"
   },
   {
    "duration": 72,
    "start_time": "2022-07-20T18:42:53.248Z"
   },
   {
    "duration": 16,
    "start_time": "2022-07-20T18:42:53.322Z"
   },
   {
    "duration": 23,
    "start_time": "2022-07-20T18:42:53.340Z"
   },
   {
    "duration": 23,
    "start_time": "2022-07-20T18:42:53.366Z"
   },
   {
    "duration": 26,
    "start_time": "2022-07-20T18:42:53.391Z"
   },
   {
    "duration": 11,
    "start_time": "2022-07-20T18:42:53.419Z"
   },
   {
    "duration": 9,
    "start_time": "2022-07-20T18:42:53.432Z"
   },
   {
    "duration": 4,
    "start_time": "2022-07-20T18:42:53.442Z"
   },
   {
    "duration": 10,
    "start_time": "2022-07-20T18:42:53.447Z"
   },
   {
    "duration": 31,
    "start_time": "2022-07-20T18:42:53.460Z"
   },
   {
    "duration": 15,
    "start_time": "2022-07-20T18:42:53.493Z"
   },
   {
    "duration": 16,
    "start_time": "2022-07-20T18:42:53.510Z"
   },
   {
    "duration": 23,
    "start_time": "2022-07-20T18:42:53.530Z"
   },
   {
    "duration": 35,
    "start_time": "2022-07-20T18:42:53.555Z"
   },
   {
    "duration": 7,
    "start_time": "2022-07-20T18:42:53.592Z"
   },
   {
    "duration": 92,
    "start_time": "2022-07-20T18:42:53.601Z"
   },
   {
    "duration": 5,
    "start_time": "2022-07-20T18:42:53.694Z"
   },
   {
    "duration": 216,
    "start_time": "2022-07-20T18:42:53.700Z"
   },
   {
    "duration": 381,
    "start_time": "2022-07-20T18:42:53.918Z"
   },
   {
    "duration": 20,
    "start_time": "2022-07-20T18:42:54.300Z"
   },
   {
    "duration": 294,
    "start_time": "2022-07-20T18:42:54.321Z"
   },
   {
    "duration": 4,
    "start_time": "2022-07-20T18:42:54.617Z"
   },
   {
    "duration": 332,
    "start_time": "2022-07-20T18:42:54.623Z"
   },
   {
    "duration": 38,
    "start_time": "2022-07-20T18:42:54.958Z"
   },
   {
    "duration": 427,
    "start_time": "2022-07-20T18:42:54.998Z"
   },
   {
    "duration": 313,
    "start_time": "2022-07-20T18:42:55.428Z"
   },
   {
    "duration": 7,
    "start_time": "2022-07-20T18:42:55.742Z"
   },
   {
    "duration": 172,
    "start_time": "2022-07-20T18:42:55.752Z"
   },
   {
    "duration": 6,
    "start_time": "2022-07-20T18:42:55.926Z"
   },
   {
    "duration": 203,
    "start_time": "2022-07-20T18:42:55.933Z"
   },
   {
    "duration": 8,
    "start_time": "2022-07-20T18:42:56.138Z"
   },
   {
    "duration": 1636,
    "start_time": "2022-07-20T18:42:56.153Z"
   },
   {
    "duration": 14,
    "start_time": "2022-07-20T18:42:57.790Z"
   },
   {
    "duration": 14,
    "start_time": "2022-07-20T18:42:57.805Z"
   },
   {
    "duration": 0,
    "start_time": "2022-07-20T18:42:57.820Z"
   },
   {
    "duration": 0,
    "start_time": "2022-07-20T18:42:57.821Z"
   },
   {
    "duration": 0,
    "start_time": "2022-07-20T18:42:57.822Z"
   },
   {
    "duration": 0,
    "start_time": "2022-07-20T18:42:57.823Z"
   },
   {
    "duration": 0,
    "start_time": "2022-07-20T18:42:57.824Z"
   },
   {
    "duration": 0,
    "start_time": "2022-07-20T18:42:57.852Z"
   },
   {
    "duration": 0,
    "start_time": "2022-07-20T18:42:57.854Z"
   },
   {
    "duration": 0,
    "start_time": "2022-07-20T18:42:57.855Z"
   },
   {
    "duration": 0,
    "start_time": "2022-07-20T18:42:57.856Z"
   },
   {
    "duration": 0,
    "start_time": "2022-07-20T18:42:57.857Z"
   },
   {
    "duration": 0,
    "start_time": "2022-07-20T18:42:57.858Z"
   },
   {
    "duration": 0,
    "start_time": "2022-07-20T18:42:57.859Z"
   },
   {
    "duration": 0,
    "start_time": "2022-07-20T18:42:57.860Z"
   },
   {
    "duration": 0,
    "start_time": "2022-07-20T18:42:57.860Z"
   },
   {
    "duration": 0,
    "start_time": "2022-07-20T18:42:57.861Z"
   },
   {
    "duration": 0,
    "start_time": "2022-07-20T18:42:57.863Z"
   },
   {
    "duration": 1152,
    "start_time": "2022-07-21T00:24:32.956Z"
   },
   {
    "duration": 54,
    "start_time": "2022-07-21T00:24:34.110Z"
   },
   {
    "duration": 21,
    "start_time": "2022-07-21T00:24:34.165Z"
   },
   {
    "duration": 14,
    "start_time": "2022-07-21T00:24:34.188Z"
   },
   {
    "duration": 3,
    "start_time": "2022-07-21T00:24:34.203Z"
   },
   {
    "duration": 39,
    "start_time": "2022-07-21T00:24:34.208Z"
   },
   {
    "duration": 10,
    "start_time": "2022-07-21T00:24:34.249Z"
   },
   {
    "duration": 12,
    "start_time": "2022-07-21T00:24:34.261Z"
   },
   {
    "duration": 5,
    "start_time": "2022-07-21T00:24:34.274Z"
   },
   {
    "duration": 7,
    "start_time": "2022-07-21T00:24:34.281Z"
   },
   {
    "duration": 5,
    "start_time": "2022-07-21T00:24:34.289Z"
   },
   {
    "duration": 10,
    "start_time": "2022-07-21T00:24:34.296Z"
   },
   {
    "duration": 40,
    "start_time": "2022-07-21T00:24:34.308Z"
   },
   {
    "duration": 38,
    "start_time": "2022-07-21T00:24:34.349Z"
   },
   {
    "duration": 8,
    "start_time": "2022-07-21T00:24:34.388Z"
   },
   {
    "duration": 6,
    "start_time": "2022-07-21T00:24:34.398Z"
   },
   {
    "duration": 86,
    "start_time": "2022-07-21T00:24:34.405Z"
   },
   {
    "duration": 4,
    "start_time": "2022-07-21T00:24:34.493Z"
   },
   {
    "duration": 226,
    "start_time": "2022-07-21T00:24:34.499Z"
   },
   {
    "duration": 374,
    "start_time": "2022-07-21T00:24:34.727Z"
   },
   {
    "duration": 23,
    "start_time": "2022-07-21T00:24:35.102Z"
   },
   {
    "duration": 273,
    "start_time": "2022-07-21T00:24:35.140Z"
   },
   {
    "duration": 4,
    "start_time": "2022-07-21T00:24:35.415Z"
   },
   {
    "duration": 281,
    "start_time": "2022-07-21T00:24:35.421Z"
   },
   {
    "duration": 38,
    "start_time": "2022-07-21T00:24:35.703Z"
   },
   {
    "duration": 278,
    "start_time": "2022-07-21T00:24:35.743Z"
   },
   {
    "duration": 295,
    "start_time": "2022-07-21T00:24:36.022Z"
   },
   {
    "duration": 7,
    "start_time": "2022-07-21T00:24:36.321Z"
   },
   {
    "duration": 240,
    "start_time": "2022-07-21T00:24:36.340Z"
   },
   {
    "duration": 5,
    "start_time": "2022-07-21T00:24:36.582Z"
   },
   {
    "duration": 163,
    "start_time": "2022-07-21T00:24:36.588Z"
   },
   {
    "duration": 6,
    "start_time": "2022-07-21T00:24:36.752Z"
   },
   {
    "duration": 1603,
    "start_time": "2022-07-21T00:24:36.760Z"
   },
   {
    "duration": 14,
    "start_time": "2022-07-21T00:24:38.365Z"
   },
   {
    "duration": 117,
    "start_time": "2022-07-21T00:24:38.381Z"
   },
   {
    "duration": 0,
    "start_time": "2022-07-21T00:24:38.499Z"
   },
   {
    "duration": 0,
    "start_time": "2022-07-21T00:24:38.500Z"
   },
   {
    "duration": 0,
    "start_time": "2022-07-21T00:24:38.501Z"
   },
   {
    "duration": 0,
    "start_time": "2022-07-21T00:24:38.502Z"
   },
   {
    "duration": 0,
    "start_time": "2022-07-21T00:24:38.503Z"
   },
   {
    "duration": 0,
    "start_time": "2022-07-21T00:24:38.504Z"
   },
   {
    "duration": 0,
    "start_time": "2022-07-21T00:24:38.505Z"
   },
   {
    "duration": 0,
    "start_time": "2022-07-21T00:24:38.506Z"
   },
   {
    "duration": 0,
    "start_time": "2022-07-21T00:24:38.507Z"
   },
   {
    "duration": 0,
    "start_time": "2022-07-21T00:24:38.507Z"
   },
   {
    "duration": 0,
    "start_time": "2022-07-21T00:24:38.509Z"
   },
   {
    "duration": 0,
    "start_time": "2022-07-21T00:24:38.509Z"
   },
   {
    "duration": 0,
    "start_time": "2022-07-21T00:24:38.511Z"
   },
   {
    "duration": 0,
    "start_time": "2022-07-21T00:24:38.512Z"
   },
   {
    "duration": 0,
    "start_time": "2022-07-21T00:24:38.513Z"
   },
   {
    "duration": 0,
    "start_time": "2022-07-21T00:24:38.513Z"
   },
   {
    "duration": 61,
    "start_time": "2022-07-21T08:03:52.002Z"
   },
   {
    "duration": 1372,
    "start_time": "2022-07-21T08:03:55.859Z"
   },
   {
    "duration": 200,
    "start_time": "2022-07-21T08:03:57.234Z"
   },
   {
    "duration": 21,
    "start_time": "2022-07-21T08:03:57.436Z"
   },
   {
    "duration": 15,
    "start_time": "2022-07-21T08:03:57.458Z"
   },
   {
    "duration": 3,
    "start_time": "2022-07-21T08:03:57.476Z"
   },
   {
    "duration": 24,
    "start_time": "2022-07-21T08:03:57.480Z"
   },
   {
    "duration": 15,
    "start_time": "2022-07-21T08:03:57.506Z"
   },
   {
    "duration": 10,
    "start_time": "2022-07-21T08:03:57.523Z"
   },
   {
    "duration": 4,
    "start_time": "2022-07-21T08:03:57.535Z"
   },
   {
    "duration": 7,
    "start_time": "2022-07-21T08:03:57.540Z"
   },
   {
    "duration": 4,
    "start_time": "2022-07-21T08:03:57.549Z"
   },
   {
    "duration": 9,
    "start_time": "2022-07-21T08:03:57.555Z"
   },
   {
    "duration": 14,
    "start_time": "2022-07-21T08:03:57.565Z"
   },
   {
    "duration": 23,
    "start_time": "2022-07-21T08:03:57.609Z"
   },
   {
    "duration": 7,
    "start_time": "2022-07-21T08:03:57.634Z"
   },
   {
    "duration": 8,
    "start_time": "2022-07-21T08:03:57.642Z"
   },
   {
    "duration": 108,
    "start_time": "2022-07-21T08:03:57.652Z"
   },
   {
    "duration": 6,
    "start_time": "2022-07-21T08:03:57.761Z"
   },
   {
    "duration": 229,
    "start_time": "2022-07-21T08:03:57.769Z"
   },
   {
    "duration": 325,
    "start_time": "2022-07-21T08:03:58.000Z"
   },
   {
    "duration": 18,
    "start_time": "2022-07-21T08:03:58.326Z"
   },
   {
    "duration": 279,
    "start_time": "2022-07-21T08:03:58.346Z"
   },
   {
    "duration": 4,
    "start_time": "2022-07-21T08:03:58.626Z"
   },
   {
    "duration": 290,
    "start_time": "2022-07-21T08:03:58.632Z"
   },
   {
    "duration": 27,
    "start_time": "2022-07-21T08:03:58.924Z"
   },
   {
    "duration": 288,
    "start_time": "2022-07-21T08:03:58.952Z"
   },
   {
    "duration": 300,
    "start_time": "2022-07-21T08:03:59.242Z"
   },
   {
    "duration": 6,
    "start_time": "2022-07-21T08:03:59.544Z"
   },
   {
    "duration": 238,
    "start_time": "2022-07-21T08:03:59.552Z"
   },
   {
    "duration": 5,
    "start_time": "2022-07-21T08:03:59.791Z"
   },
   {
    "duration": 157,
    "start_time": "2022-07-21T08:03:59.797Z"
   },
   {
    "duration": 4,
    "start_time": "2022-07-21T08:03:59.956Z"
   },
   {
    "duration": 1601,
    "start_time": "2022-07-21T08:03:59.962Z"
   },
   {
    "duration": 15,
    "start_time": "2022-07-21T08:04:01.565Z"
   },
   {
    "duration": 310,
    "start_time": "2022-07-21T08:04:01.582Z"
   },
   {
    "duration": 198,
    "start_time": "2022-07-21T08:04:01.895Z"
   },
   {
    "duration": 231,
    "start_time": "2022-07-21T08:04:02.095Z"
   },
   {
    "duration": 170,
    "start_time": "2022-07-21T08:04:02.327Z"
   },
   {
    "duration": 157,
    "start_time": "2022-07-21T08:04:02.499Z"
   },
   {
    "duration": 174,
    "start_time": "2022-07-21T08:04:02.659Z"
   },
   {
    "duration": 176,
    "start_time": "2022-07-21T08:04:02.838Z"
   },
   {
    "duration": 161,
    "start_time": "2022-07-21T08:04:03.016Z"
   },
   {
    "duration": 165,
    "start_time": "2022-07-21T08:04:03.179Z"
   },
   {
    "duration": 171,
    "start_time": "2022-07-21T08:04:03.346Z"
   },
   {
    "duration": 9,
    "start_time": "2022-07-21T08:04:03.519Z"
   },
   {
    "duration": 9,
    "start_time": "2022-07-21T08:04:03.530Z"
   },
   {
    "duration": 8,
    "start_time": "2022-07-21T08:04:03.541Z"
   },
   {
    "duration": 10,
    "start_time": "2022-07-21T08:04:03.551Z"
   },
   {
    "duration": 14,
    "start_time": "2022-07-21T08:04:03.563Z"
   },
   {
    "duration": 7,
    "start_time": "2022-07-21T08:04:03.579Z"
   },
   {
    "duration": 6,
    "start_time": "2022-07-21T08:04:03.611Z"
   },
   {
    "duration": 291,
    "start_time": "2022-07-21T08:05:15.671Z"
   },
   {
    "duration": 408,
    "start_time": "2022-07-21T08:05:25.181Z"
   },
   {
    "duration": 330,
    "start_time": "2022-07-21T08:05:31.568Z"
   },
   {
    "duration": 1336,
    "start_time": "2022-07-21T12:42:15.295Z"
   },
   {
    "duration": 70,
    "start_time": "2022-07-21T12:42:16.634Z"
   },
   {
    "duration": 29,
    "start_time": "2022-07-21T12:42:16.706Z"
   },
   {
    "duration": 20,
    "start_time": "2022-07-21T12:42:16.738Z"
   },
   {
    "duration": 2,
    "start_time": "2022-07-21T12:42:16.760Z"
   },
   {
    "duration": 23,
    "start_time": "2022-07-21T12:42:16.764Z"
   },
   {
    "duration": 34,
    "start_time": "2022-07-21T12:42:16.789Z"
   },
   {
    "duration": 14,
    "start_time": "2022-07-21T12:42:16.827Z"
   },
   {
    "duration": 6,
    "start_time": "2022-07-21T12:42:16.843Z"
   },
   {
    "duration": 6,
    "start_time": "2022-07-21T12:42:16.851Z"
   },
   {
    "duration": 9,
    "start_time": "2022-07-21T12:42:16.859Z"
   },
   {
    "duration": 11,
    "start_time": "2022-07-21T12:42:16.870Z"
   },
   {
    "duration": 36,
    "start_time": "2022-07-21T12:42:16.883Z"
   },
   {
    "duration": 23,
    "start_time": "2022-07-21T12:42:16.924Z"
   },
   {
    "duration": 8,
    "start_time": "2022-07-21T12:42:16.949Z"
   },
   {
    "duration": 7,
    "start_time": "2022-07-21T12:42:16.959Z"
   },
   {
    "duration": 117,
    "start_time": "2022-07-21T12:42:16.968Z"
   },
   {
    "duration": 7,
    "start_time": "2022-07-21T12:42:17.086Z"
   },
   {
    "duration": 256,
    "start_time": "2022-07-21T12:42:17.095Z"
   },
   {
    "duration": 376,
    "start_time": "2022-07-21T12:42:17.353Z"
   },
   {
    "duration": 18,
    "start_time": "2022-07-21T12:42:17.731Z"
   },
   {
    "duration": 348,
    "start_time": "2022-07-21T12:42:17.750Z"
   },
   {
    "duration": 14,
    "start_time": "2022-07-21T12:42:18.100Z"
   },
   {
    "duration": 304,
    "start_time": "2022-07-21T12:42:18.116Z"
   },
   {
    "duration": 32,
    "start_time": "2022-07-21T12:42:18.422Z"
   },
   {
    "duration": 319,
    "start_time": "2022-07-21T12:42:18.456Z"
   },
   {
    "duration": 330,
    "start_time": "2022-07-21T12:42:18.777Z"
   },
   {
    "duration": 12,
    "start_time": "2022-07-21T12:42:19.113Z"
   },
   {
    "duration": 256,
    "start_time": "2022-07-21T12:42:19.127Z"
   },
   {
    "duration": 6,
    "start_time": "2022-07-21T12:42:19.385Z"
   },
   {
    "duration": 185,
    "start_time": "2022-07-21T12:42:19.392Z"
   },
   {
    "duration": 5,
    "start_time": "2022-07-21T12:42:19.578Z"
   },
   {
    "duration": 1815,
    "start_time": "2022-07-21T12:42:19.585Z"
   },
   {
    "duration": 21,
    "start_time": "2022-07-21T12:42:21.409Z"
   },
   {
    "duration": 324,
    "start_time": "2022-07-21T12:42:21.431Z"
   },
   {
    "duration": 483,
    "start_time": "2022-07-21T12:42:21.757Z"
   },
   {
    "duration": 162,
    "start_time": "2022-07-21T12:42:22.242Z"
   },
   {
    "duration": 168,
    "start_time": "2022-07-21T12:42:22.406Z"
   },
   {
    "duration": 185,
    "start_time": "2022-07-21T12:42:22.575Z"
   },
   {
    "duration": 186,
    "start_time": "2022-07-21T12:42:22.761Z"
   },
   {
    "duration": 191,
    "start_time": "2022-07-21T12:42:22.949Z"
   },
   {
    "duration": 185,
    "start_time": "2022-07-21T12:42:23.142Z"
   },
   {
    "duration": 163,
    "start_time": "2022-07-21T12:42:23.329Z"
   },
   {
    "duration": 182,
    "start_time": "2022-07-21T12:42:23.494Z"
   },
   {
    "duration": 210,
    "start_time": "2022-07-21T12:42:23.678Z"
   },
   {
    "duration": 9,
    "start_time": "2022-07-21T12:42:23.890Z"
   },
   {
    "duration": 13,
    "start_time": "2022-07-21T12:42:23.901Z"
   },
   {
    "duration": 18,
    "start_time": "2022-07-21T12:42:23.916Z"
   },
   {
    "duration": 11,
    "start_time": "2022-07-21T12:42:23.936Z"
   },
   {
    "duration": 11,
    "start_time": "2022-07-21T12:42:23.949Z"
   },
   {
    "duration": 9,
    "start_time": "2022-07-21T12:42:23.962Z"
   },
   {
    "duration": 10,
    "start_time": "2022-07-21T12:42:23.973Z"
   }
  ],
  "kernelspec": {
   "display_name": "Python 3 (ipykernel)",
   "language": "python",
   "name": "python3"
  },
  "language_info": {
   "codemirror_mode": {
    "name": "ipython",
    "version": 3
   },
   "file_extension": ".py",
   "mimetype": "text/x-python",
   "name": "python",
   "nbconvert_exporter": "python",
   "pygments_lexer": "ipython3",
   "version": "3.9.12"
  },
  "toc": {
   "base_numbering": 1,
   "nav_menu": {},
   "number_sections": true,
   "sideBar": true,
   "skip_h1_title": true,
   "title_cell": "Table of Contents",
   "title_sidebar": "Contents",
   "toc_cell": false,
   "toc_position": {},
   "toc_section_display": true,
   "toc_window_display": false
  }
 },
 "nbformat": 4,
 "nbformat_minor": 2
}
